{
  "nbformat": 4,
  "nbformat_minor": 0,
  "metadata": {
    "kernelspec": {
      "display_name": "Python 3",
      "language": "python",
      "name": "python3"
    },
    "language_info": {
      "codemirror_mode": {
        "name": "ipython",
        "version": 3
      },
      "file_extension": ".py",
      "mimetype": "text/x-python",
      "name": "python",
      "nbconvert_exporter": "python",
      "pygments_lexer": "ipython3",
      "version": "3.6.6"
    },
    "colab": {
      "name": "Play Store App Review Analysis - Capstone Project.ipynb",
      "provenance": [],
      "collapsed_sections": [
        "BwLqsp2mAaoQ",
        "_CJaz5dcwW94",
        "15fwvMhh3-S3",
        "KU9dwi23ydl5",
        "vJopAdQzzpva",
        "UQZ6ZE3nyoQ_",
        "NMLOIdZyvJlL",
        "YHJxNtn-wXra",
        "NVT23L7or_Ro",
        "AdrdCLaGPnBb",
        "7mf9T1pHBuBB",
        "_mlL-K4i8tr1",
        "tq73Qc3oNU1-",
        "83Cx42HlXMtS",
        "zPn44CkKdhtA",
        "48ro-e2xkFKc",
        "-q9K_FB9jHcE",
        "Yw1hDHYF4FKR",
        "LYSEqAc44H7L",
        "jCGGqOyw4Kwr",
        "CUh1Q_Gc4OQ_"
      ],
      "toc_visible": true,
      "include_colab_link": true
    }
  },
  "cells": [
    {
      "cell_type": "markdown",
      "metadata": {
        "id": "view-in-github",
        "colab_type": "text"
      },
      "source": [
        "<a href=\"https://colab.research.google.com/github/lokeshtokas/EDA-Play-Store/blob/main/Play_Store_App_Review_Analysis_Capstone_Project.ipynb\" target=\"_parent\"><img src=\"https://colab.research.google.com/assets/colab-badge.svg\" alt=\"Open In Colab\"/></a>"
      ]
    },
    {
      "cell_type": "markdown",
      "metadata": {
        "id": "Y06xIdG26kRF"
      },
      "source": [
        "## <b> The Play Store apps data has enormous potential to drive app-making businesses to success. Actionable insights can be drawn for developers to work on and capture the Android market. </b>\n",
        "\n",
        "## <b> Each app (row) has values for catergory, rating, size, and more. Another dataset contains customer reviews of the android apps.</b>\n",
        "\n",
        "## <b> Explore and analyze the data to discover key factors responsible for app engagement and success. </b>"
      ]
    },
    {
      "cell_type": "markdown",
      "source": [
        "#Importing lib/Modules, reading data Files into DataFrame"
      ],
      "metadata": {
        "id": "BwLqsp2mAaoQ"
      }
    },
    {
      "cell_type": "code",
      "source": [
        "import pandas as pd\n",
        "import numpy as np\n",
        "\n",
        "import plotly.express as px\n",
        "import plotly.graph_objects as go\n",
        "from plotly.subplots import make_subplots\n",
        "\n",
        "import matplotlib.pyplot as plt\n",
        "import seaborn as sns\n",
        "\n",
        "from ast import literal_eval as le"
      ],
      "metadata": {
        "id": "GAqeDOEG9_J-"
      },
      "execution_count": null,
      "outputs": []
    },
    {
      "cell_type": "code",
      "source": [
        "from google.colab import drive\n",
        "drive.mount('/content/drive')"
      ],
      "metadata": {
        "colab": {
          "base_uri": "https://localhost:8080/"
        },
        "id": "WWmCr6bu8_TK",
        "outputId": "7a2cefb0-d6e6-45a3-9196-3f7fdcb9566a"
      },
      "execution_count": null,
      "outputs": [
        {
          "output_type": "stream",
          "name": "stdout",
          "text": [
            "Mounted at /content/drive\n"
          ]
        }
      ]
    },
    {
      "cell_type": "code",
      "source": [
        "working_directory = '/content/drive/MyDrive/Colab Notebooks/Play Store App Review Analysis/'\n",
        "data = pd.read_csv(working_directory + 'Play Store Data.csv')\n",
        "reviews = pd.read_csv(working_directory + 'User Reviews.csv')"
      ],
      "metadata": {
        "id": "Lnqf9r-a9HEF"
      },
      "execution_count": null,
      "outputs": []
    },
    {
      "cell_type": "markdown",
      "source": [
        "# Play Store Data Analysis and Cleaning/Manipulation"
      ],
      "metadata": {
        "id": "2UyPG2hGyKq9"
      }
    },
    {
      "cell_type": "code",
      "source": [
        "data.shape"
      ],
      "metadata": {
        "colab": {
          "base_uri": "https://localhost:8080/"
        },
        "id": "1kGxhZLQ13v2",
        "outputId": "f7f8f505-e48b-478d-af31-e371d65ccba7"
      },
      "execution_count": null,
      "outputs": [
        {
          "output_type": "execute_result",
          "data": {
            "text/plain": [
              "(10841, 13)"
            ]
          },
          "metadata": {},
          "execution_count": 4
        }
      ]
    },
    {
      "cell_type": "code",
      "source": [
        "data.info()"
      ],
      "metadata": {
        "colab": {
          "base_uri": "https://localhost:8080/"
        },
        "id": "VN6NeAmV92AN",
        "outputId": "42d5c365-dcb6-4a7d-ff9c-a2c82b7ab0e5"
      },
      "execution_count": null,
      "outputs": [
        {
          "output_type": "stream",
          "name": "stdout",
          "text": [
            "<class 'pandas.core.frame.DataFrame'>\n",
            "RangeIndex: 10841 entries, 0 to 10840\n",
            "Data columns (total 13 columns):\n",
            " #   Column          Non-Null Count  Dtype  \n",
            "---  ------          --------------  -----  \n",
            " 0   App             10841 non-null  object \n",
            " 1   Category        10841 non-null  object \n",
            " 2   Rating          9367 non-null   float64\n",
            " 3   Reviews         10841 non-null  object \n",
            " 4   Size            10841 non-null  object \n",
            " 5   Installs        10841 non-null  object \n",
            " 6   Type            10840 non-null  object \n",
            " 7   Price           10841 non-null  object \n",
            " 8   Content Rating  10840 non-null  object \n",
            " 9   Genres          10841 non-null  object \n",
            " 10  Last Updated    10841 non-null  object \n",
            " 11  Current Ver     10833 non-null  object \n",
            " 12  Android Ver     10838 non-null  object \n",
            "dtypes: float64(1), object(12)\n",
            "memory usage: 1.1+ MB\n"
          ]
        }
      ]
    },
    {
      "cell_type": "code",
      "source": [
        "data.rename(columns={'Content Rating' : 'Content_Rating','Last Updated' : 'Last_Updated','Current Ver' : 'Current_Ver','Android Ver' : 'Android_Ver'},inplace=True)"
      ],
      "metadata": {
        "id": "o8Ck9gdXpLL9"
      },
      "execution_count": null,
      "outputs": []
    },
    {
      "cell_type": "code",
      "source": [
        "data.columns"
      ],
      "metadata": {
        "colab": {
          "base_uri": "https://localhost:8080/"
        },
        "id": "UDutHtwypnBd",
        "outputId": "fffa8904-4b02-46cc-da1f-a181fba5eb1c"
      },
      "execution_count": null,
      "outputs": [
        {
          "output_type": "execute_result",
          "data": {
            "text/plain": [
              "Index(['App', 'Category', 'Rating', 'Reviews', 'Size', 'Installs', 'Type',\n",
              "       'Price', 'Content_Rating', 'Genres', 'Last_Updated', 'Current_Ver',\n",
              "       'Android_Ver'],\n",
              "      dtype='object')"
            ]
          },
          "metadata": {},
          "execution_count": 7
        }
      ]
    },
    {
      "cell_type": "code",
      "source": [
        "data.boxplot()"
      ],
      "metadata": {
        "colab": {
          "base_uri": "https://localhost:8080/",
          "height": 282
        },
        "id": "ZEjH33Mg0pC_",
        "outputId": "d70fd4b2-27b8-4390-9b1d-3ca5d6d17b18"
      },
      "execution_count": null,
      "outputs": [
        {
          "output_type": "execute_result",
          "data": {
            "text/plain": [
              "<matplotlib.axes._subplots.AxesSubplot at 0x7f7f21656310>"
            ]
          },
          "metadata": {},
          "execution_count": 8
        },
        {
          "output_type": "display_data",
          "data": {
            "text/plain": [
              "<Figure size 432x288 with 1 Axes>"
            ],
            "image/png": "[encoded data removed]"
          },
          "metadata": {
            "needs_background": "light"
          }
        }
      ]
    },
    {
      "cell_type": "markdown",
      "source": [
        "## Fixing 'Rating'"
      ],
      "metadata": {
        "id": "_CJaz5dcwW94"
      }
    },
    {
      "cell_type": "code",
      "source": [
        "data[data.Rating>5.0]"
      ],
      "metadata": {
        "colab": {
          "base_uri": "https://localhost:8080/",
          "height": 197
        },
        "id": "s2fvlDRowjtc",
        "outputId": "2eccabb9-58a8-4233-dda9-42defaa1443e"
      },
      "execution_count": null,
      "outputs": [
        {
          "output_type": "execute_result",
          "data": {
            "text/plain": [
              "                                           App Category  Rating Reviews  \\\n",
              "10472  Life Made WI-Fi Touchscreen Photo Frame      1.9    19.0    3.0M   \n",
              "\n",
              "         Size Installs Type     Price Content_Rating             Genres  \\\n",
              "10472  1,000+     Free    0  Everyone            NaN  February 11, 2018   \n",
              "\n",
              "      Last_Updated Current_Ver Android_Ver  \n",
              "10472       1.0.19  4.0 and up         NaN  "
            ],
            "text/html": [
              "\n",
              "  <div id=\"df-1668e982-187a-41ab-a9ba-b11fd8b2ea4f\">\n",
              "    <div class=\"colab-df-container\">\n",
              "      <div>\n",
              "<style scoped>\n",
              "    .dataframe tbody tr th:only-of-type {\n",
              "        vertical-align: middle;\n",
              "    }\n",
              "\n",
              "    .dataframe tbody tr th {\n",
              "        vertical-align: top;\n",
              "    }\n",
              "\n",
              "    .dataframe thead th {\n",
              "        text-align: right;\n",
              "    }\n",
              "</style>\n",
              "<table border=\"1\" class=\"dataframe\">\n",
              "  <thead>\n",
              "    <tr style=\"text-align: right;\">\n",
              "      <th></th>\n",
              "      <th>App</th>\n",
              "      <th>Category</th>\n",
              "      <th>Rating</th>\n",
              "      <th>Reviews</th>\n",
              "      <th>Size</th>\n",
              "      <th>Installs</th>\n",
              "      <th>Type</th>\n",
              "      <th>Price</th>\n",
              "      <th>Content_Rating</th>\n",
              "      <th>Genres</th>\n",
              "      <th>Last_Updated</th>\n",
              "      <th>Current_Ver</th>\n",
              "      <th>Android_Ver</th>\n",
              "    </tr>\n",
              "  </thead>\n",
              "  <tbody>\n",
              "    <tr>\n",
              "      <th>10472</th>\n",
              "      <td>Life Made WI-Fi Touchscreen Photo Frame</td>\n",
              "      <td>1.9</td>\n",
              "      <td>19.0</td>\n",
              "      <td>3.0M</td>\n",
              "      <td>1,000+</td>\n",
              "      <td>Free</td>\n",
              "      <td>0</td>\n",
              "      <td>Everyone</td>\n",
              "      <td>NaN</td>\n",
              "      <td>February 11, 2018</td>\n",
              "      <td>1.0.19</td>\n",
              "      <td>4.0 and up</td>\n",
              "      <td>NaN</td>\n",
              "    </tr>\n",
              "  </tbody>\n",
              "</table>\n",
              "</div>\n",
              "      <button class=\"colab-df-convert\" onclick=\"convertToInteractive('df-1668e982-187a-41ab-a9ba-b11fd8b2ea4f')\"\n",
              "              title=\"Convert this dataframe to an interactive table.\"\n",
              "              style=\"display:none;\">\n",
              "        \n",
              "  <svg xmlns=\"http://www.w3.org/2000/svg\" height=\"24px\"viewBox=\"0 0 24 24\"\n",
              "       width=\"24px\">\n",
              "    <path d=\"M0 0h24v24H0V0z\" fill=\"none\"/>\n",
              "    <path d=\"M18.56 5.44l.94 2.06.94-2.06 2.06-.94-2.06-.94-.94-2.06-.94 2.06-2.06.94zm-11 1L8.5 8.5l.94-2.06 2.06-.94-2.06-.94L8.5 2.5l-.94 2.06-2.06.94zm10 10l.94 2.06.94-2.06 2.06-.94-2.06-.94-.94-2.06-.94 2.06-2.06.94z\"/><path d=\"M17.41 7.96l-1.37-1.37c-.4-.4-.92-.59-1.43-.59-.52 0-1.04.2-1.43.59L10.3 9.45l-7.72 7.72c-.78.78-.78 2.05 0 2.83L4 21.41c.39.39.9.59 1.41.59.51 0 1.02-.2 1.41-.59l7.78-7.78 2.81-2.81c.8-.78.8-2.07 0-2.86zM5.41 20L4 18.59l7.72-7.72 1.47 1.35L5.41 20z\"/>\n",
              "  </svg>\n",
              "      </button>\n",
              "      \n",
              "  <style>\n",
              "    .colab-df-container {\n",
              "      display:flex;\n",
              "      flex-wrap:wrap;\n",
              "      gap: 12px;\n",
              "    }\n",
              "\n",
              "    .colab-df-convert {\n",
              "      background-color: #E8F0FE;\n",
              "      border: none;\n",
              "      border-radius: 50%;\n",
              "      cursor: pointer;\n",
              "      display: none;\n",
              "      fill: #1967D2;\n",
              "      height: 32px;\n",
              "      padding: 0 0 0 0;\n",
              "      width: 32px;\n",
              "    }\n",
              "\n",
              "    .colab-df-convert:hover {\n",
              "      background-color: #E2EBFA;\n",
              "      box-shadow: 0px 1px 2px rgba(60, 64, 67, 0.3), 0px 1px 3px 1px rgba(60, 64, 67, 0.15);\n",
              "      fill: #174EA6;\n",
              "    }\n",
              "\n",
              "    [theme=dark] .colab-df-convert {\n",
              "      background-color: #3B4455;\n",
              "      fill: #D2E3FC;\n",
              "    }\n",
              "\n",
              "    [theme=dark] .colab-df-convert:hover {\n",
              "      background-color: #434B5C;\n",
              "      box-shadow: 0px 1px 3px 1px rgba(0, 0, 0, 0.15);\n",
              "      filter: drop-shadow(0px 1px 2px rgba(0, 0, 0, 0.3));\n",
              "      fill: #FFFFFF;\n",
              "    }\n",
              "  </style>\n",
              "\n",
              "      <script>\n",
              "        const buttonEl =\n",
              "          document.querySelector('#df-1668e982-187a-41ab-a9ba-b11fd8b2ea4f button.colab-df-convert');\n",
              "        buttonEl.style.display =\n",
              "          google.colab.kernel.accessAllowed ? 'block' : 'none';\n",
              "\n",
              "        async function convertToInteractive(key) {\n",
              "          const element = document.querySelector('#df-1668e982-187a-41ab-a9ba-b11fd8b2ea4f');\n",
              "          const dataTable =\n",
              "            await google.colab.kernel.invokeFunction('convertToInteractive',\n",
              "                                                     [key], {});\n",
              "          if (!dataTable) return;\n",
              "\n",
              "          const docLinkHtml = 'Like what you see? Visit the ' +\n",
              "            '<a target=\"_blank\" href=https://colab.research.google.com/notebooks/data_table.ipynb>data table notebook</a>'\n",
              "            + ' to learn more about interactive tables.';\n",
              "          element.innerHTML = '';\n",
              "          dataTable['output_type'] = 'display_data';\n",
              "          await google.colab.output.renderOutput(dataTable, element);\n",
              "          const docLink = document.createElement('div');\n",
              "          docLink.innerHTML = docLinkHtml;\n",
              "          element.appendChild(docLink);\n",
              "        }\n",
              "      </script>\n",
              "    </div>\n",
              "  </div>\n",
              "  "
            ]
          },
          "metadata": {},
          "execution_count": 9
        }
      ]
    },
    {
      "cell_type": "code",
      "source": [
        "data.drop([10472],inplace=True)\n",
        "data[10471:10473]"
      ],
      "metadata": {
        "colab": {
          "base_uri": "https://localhost:8080/",
          "height": 263
        },
        "id": "Lb4YxDGywrfm",
        "outputId": "4ec14881-0566-46f0-8add-2d257e4bec9a"
      },
      "execution_count": null,
      "outputs": [
        {
          "output_type": "execute_result",
          "data": {
            "text/plain": [
              "                           App         Category  Rating Reviews  Size  \\\n",
              "10471         Xposed Wi-Fi-Pwd  PERSONALIZATION     3.5    1042  404k   \n",
              "10473  osmino Wi-Fi: free WiFi            TOOLS     4.2  134203  4.1M   \n",
              "\n",
              "          Installs  Type Price Content_Rating           Genres  \\\n",
              "10471     100,000+  Free     0       Everyone  Personalization   \n",
              "10473  10,000,000+  Free     0       Everyone            Tools   \n",
              "\n",
              "         Last_Updated Current_Ver   Android_Ver  \n",
              "10471  August 5, 2014       3.0.0  4.0.3 and up  \n",
              "10473  August 7, 2018     6.06.14    4.4 and up  "
            ],
            "text/html": [
              "\n",
              "  <div id=\"df-2c1f6fd4-4d56-452c-b74d-870b5fda5245\">\n",
              "    <div class=\"colab-df-container\">\n",
              "      <div>\n",
              "<style scoped>\n",
              "    .dataframe tbody tr th:only-of-type {\n",
              "        vertical-align: middle;\n",
              "    }\n",
              "\n",
              "    .dataframe tbody tr th {\n",
              "        vertical-align: top;\n",
              "    }\n",
              "\n",
              "    .dataframe thead th {\n",
              "        text-align: right;\n",
              "    }\n",
              "</style>\n",
              "<table border=\"1\" class=\"dataframe\">\n",
              "  <thead>\n",
              "    <tr style=\"text-align: right;\">\n",
              "      <th></th>\n",
              "      <th>App</th>\n",
              "      <th>Category</th>\n",
              "      <th>Rating</th>\n",
              "      <th>Reviews</th>\n",
              "      <th>Size</th>\n",
              "      <th>Installs</th>\n",
              "      <th>Type</th>\n",
              "      <th>Price</th>\n",
              "      <th>Content_Rating</th>\n",
              "      <th>Genres</th>\n",
              "      <th>Last_Updated</th>\n",
              "      <th>Current_Ver</th>\n",
              "      <th>Android_Ver</th>\n",
              "    </tr>\n",
              "  </thead>\n",
              "  <tbody>\n",
              "    <tr>\n",
              "      <th>10471</th>\n",
              "      <td>Xposed Wi-Fi-Pwd</td>\n",
              "      <td>PERSONALIZATION</td>\n",
              "      <td>3.5</td>\n",
              "      <td>1042</td>\n",
              "      <td>404k</td>\n",
              "      <td>100,000+</td>\n",
              "      <td>Free</td>\n",
              "      <td>0</td>\n",
              "      <td>Everyone</td>\n",
              "      <td>Personalization</td>\n",
              "      <td>August 5, 2014</td>\n",
              "      <td>3.0.0</td>\n",
              "      <td>4.0.3 and up</td>\n",
              "    </tr>\n",
              "    <tr>\n",
              "      <th>10473</th>\n",
              "      <td>osmino Wi-Fi: free WiFi</td>\n",
              "      <td>TOOLS</td>\n",
              "      <td>4.2</td>\n",
              "      <td>134203</td>\n",
              "      <td>4.1M</td>\n",
              "      <td>10,000,000+</td>\n",
              "      <td>Free</td>\n",
              "      <td>0</td>\n",
              "      <td>Everyone</td>\n",
              "      <td>Tools</td>\n",
              "      <td>August 7, 2018</td>\n",
              "      <td>6.06.14</td>\n",
              "      <td>4.4 and up</td>\n",
              "    </tr>\n",
              "  </tbody>\n",
              "</table>\n",
              "</div>\n",
              "      <button class=\"colab-df-convert\" onclick=\"convertToInteractive('df-2c1f6fd4-4d56-452c-b74d-870b5fda5245')\"\n",
              "              title=\"Convert this dataframe to an interactive table.\"\n",
              "              style=\"display:none;\">\n",
              "        \n",
              "  <svg xmlns=\"http://www.w3.org/2000/svg\" height=\"24px\"viewBox=\"0 0 24 24\"\n",
              "       width=\"24px\">\n",
              "    <path d=\"M0 0h24v24H0V0z\" fill=\"none\"/>\n",
              "    <path d=\"M18.56 5.44l.94 2.06.94-2.06 2.06-.94-2.06-.94-.94-2.06-.94 2.06-2.06.94zm-11 1L8.5 8.5l.94-2.06 2.06-.94-2.06-.94L8.5 2.5l-.94 2.06-2.06.94zm10 10l.94 2.06.94-2.06 2.06-.94-2.06-.94-.94-2.06-.94 2.06-2.06.94z\"/><path d=\"M17.41 7.96l-1.37-1.37c-.4-.4-.92-.59-1.43-.59-.52 0-1.04.2-1.43.59L10.3 9.45l-7.72 7.72c-.78.78-.78 2.05 0 2.83L4 21.41c.39.39.9.59 1.41.59.51 0 1.02-.2 1.41-.59l7.78-7.78 2.81-2.81c.8-.78.8-2.07 0-2.86zM5.41 20L4 18.59l7.72-7.72 1.47 1.35L5.41 20z\"/>\n",
              "  </svg>\n",
              "      </button>\n",
              "      \n",
              "  <style>\n",
              "    .colab-df-container {\n",
              "      display:flex;\n",
              "      flex-wrap:wrap;\n",
              "      gap: 12px;\n",
              "    }\n",
              "\n",
              "    .colab-df-convert {\n",
              "      background-color: #E8F0FE;\n",
              "      border: none;\n",
              "      border-radius: 50%;\n",
              "      cursor: pointer;\n",
              "      display: none;\n",
              "      fill: #1967D2;\n",
              "      height: 32px;\n",
              "      padding: 0 0 0 0;\n",
              "      width: 32px;\n",
              "    }\n",
              "\n",
              "    .colab-df-convert:hover {\n",
              "      background-color: #E2EBFA;\n",
              "      box-shadow: 0px 1px 2px rgba(60, 64, 67, 0.3), 0px 1px 3px 1px rgba(60, 64, 67, 0.15);\n",
              "      fill: #174EA6;\n",
              "    }\n",
              "\n",
              "    [theme=dark] .colab-df-convert {\n",
              "      background-color: #3B4455;\n",
              "      fill: #D2E3FC;\n",
              "    }\n",
              "\n",
              "    [theme=dark] .colab-df-convert:hover {\n",
              "      background-color: #434B5C;\n",
              "      box-shadow: 0px 1px 3px 1px rgba(0, 0, 0, 0.15);\n",
              "      filter: drop-shadow(0px 1px 2px rgba(0, 0, 0, 0.3));\n",
              "      fill: #FFFFFF;\n",
              "    }\n",
              "  </style>\n",
              "\n",
              "      <script>\n",
              "        const buttonEl =\n",
              "          document.querySelector('#df-2c1f6fd4-4d56-452c-b74d-870b5fda5245 button.colab-df-convert');\n",
              "        buttonEl.style.display =\n",
              "          google.colab.kernel.accessAllowed ? 'block' : 'none';\n",
              "\n",
              "        async function convertToInteractive(key) {\n",
              "          const element = document.querySelector('#df-2c1f6fd4-4d56-452c-b74d-870b5fda5245');\n",
              "          const dataTable =\n",
              "            await google.colab.kernel.invokeFunction('convertToInteractive',\n",
              "                                                     [key], {});\n",
              "          if (!dataTable) return;\n",
              "\n",
              "          const docLinkHtml = 'Like what you see? Visit the ' +\n",
              "            '<a target=\"_blank\" href=https://colab.research.google.com/notebooks/data_table.ipynb>data table notebook</a>'\n",
              "            + ' to learn more about interactive tables.';\n",
              "          element.innerHTML = '';\n",
              "          dataTable['output_type'] = 'display_data';\n",
              "          await google.colab.output.renderOutput(dataTable, element);\n",
              "          const docLink = document.createElement('div');\n",
              "          docLink.innerHTML = docLinkHtml;\n",
              "          element.appendChild(docLink);\n",
              "        }\n",
              "      </script>\n",
              "    </div>\n",
              "  </div>\n",
              "  "
            ]
          },
          "metadata": {},
          "execution_count": 10
        }
      ]
    },
    {
      "cell_type": "code",
      "source": [
        "px.box(data,y=\"Rating\")"
      ],
      "metadata": {
        "colab": {
          "base_uri": "https://localhost:8080/",
          "height": 542
        },
        "id": "dGeZ8Z3wxfR9",
        "outputId": "7deebd41-d5d7-4b3b-d9f7-6e6c9cbe7253"
      },
      "execution_count": null,
      "outputs": [
        {
          "output_type": "display_data",
          "data": {
            "text/html": [
              "<html>\n",
              "<head><meta charset=\"utf-8\" /></head>\n",
              "<body>\n",
              "    <div>            <script src=\"https://cdnjs.cloudflare.com/ajax/libs/mathjax/2.7.5/MathJax.js?config=TeX-AMS-MML_SVG\"></script><script type=\"text/javascript\">if (window.MathJax) {MathJax.Hub.Config({SVG: {font: \"STIX-Web\"}});}</script>                <script type=\"text/javascript\">window.PlotlyConfig = {MathJaxConfig: 'local'};</script>\n",
              "        <script src=\"https://cdn.plot.ly/plotly-2.8.3.min.js\"></script>                <div id=\"9d105a68-201f-4209-b2b7-5aefb0115187\" class=\"plotly-graph-div\" style=\"height:525px; width:100%;\"></div>            <script type=\"text/javascript\">                                    window.PLOTLYENV=window.PLOTLYENV || {};                                    if (document.getElementById(\"9d105a68-201f-4209-b2b7-5aefb0115187\")) {                    Plotly.newPlot(                        \"9d105a68-201f-4209-b2b7-5aefb0115187\",                        [{\"alignmentgroup\":\"True\",\"hovertemplate\":\"Rating=%{y}<extra></extra>\",\"legendgroup\":\"\",\"marker\":{\"color\":\"#636efa\"},\"name\":\"\",\"notched\":false,\"offsetgroup\":\"\",\"orientation\":\"v\",\"showlegend\":false,\"x0\":\" \",\"xaxis\":\"x\",\"y\":[4.1,3.9,4.7,4.5,4.3,4.4,3.8,4.1,4.4,4.7,4.4,4.4,4.2,4.6,4.4,3.2,4.7,4.5,4.3,4.6,4.0,4.1,4.7,null,4.7,4.8,4.7,4.1,3.9,4.1,4.2,4.1,4.5,4.2,4.7,3.8,4.7,4.1,4.7,4.0,4.2,4.5,4.4,3.8,4.2,4.7,4.6,4.2,4.3,4.2,4.0,3.8,4.6,3.9,4.3,4.9,4.4,4.2,4.0,3.9,4.6,4.9,4.3,4.6,4.9,3.9,4.0,4.3,3.9,4.2,4.8,3.6,4.2,4.8,4.8,4.6,4.5,4.3,4.5,4.9,3.9,4.4,4.0,4.3,3.7,4.4,4.3,3.2,4.6,4.6,4.5,3.7,4.6,4.6,4.6,4.0,4.4,4.0,4.7,4.9,4.7,3.9,3.9,4.2,4.6,4.3,4.7,4.7,4.8,4.2,4.3,4.5,4.1,null,4.2,4.5,4.4,4.0,4.1,4.1,4.4,4.6,4.5,null,3.9,4.4,null,4.6,3.8,null,null,4.0,4.3,4.5,null,4.1,3.7,4.7,4.2,4.6,4.5,4.6,4.4,4.2,4.5,4.5,4.5,4.5,4.4,4.5,4.6,4.8,3.9,4.6,4.2,4.1,4.7,4.2,4.3,3.3,4.6,4.8,4.7,null,4.1,4.6,4.1,4.6,4.7,4.5,3.9,4.4,4.3,4.2,4.5,4.4,3.4,4.9,4.6,4.4,null,4.4,4.4,4.4,3.5,null,4.4,4.1,4.3,4.4,4.3,4.3,4.1,4.4,4.3,3.9,4.8,4.5,4.4,4.0,4.3,4.0,4.2,4.5,4.2,4.2,4.6,4.1,4.6,3.1,3.9,4.3,4.1,4.4,4.1,4.1,4.5,4.4,4.4,4.3,4.4,4.6,4.2,4.4,4.7,3.8,3.9,null,4.3,4.2,4.4,4.7,4.5,4.2,4.7,4.8,4.2,4.2,4.3,4.4,4.4,4.1,3.8,4.3,3.8,3.5,4.1,4.6,4.3,4.5,4.1,4.5,4.6,4.0,4.2,4.4,4.4,4.0,4.2,4.2,4.1,4.0,3.8,3.9,3.9,4.2,4.2,4.3,4.4,4.4,4.1,3.8,4.3,3.8,3.5,4.1,4.6,4.3,4.5,4.1,4.5,4.6,4.0,4.2,4.3,4.2,4.4,4.7,4.5,4.2,4.7,4.8,4.1,4.3,4.4,4.5,4.3,4.5,4.6,4.7,4.7,4.8,3.9,4.1,4.4,4.6,4.5,4.7,4.4,4.5,3.9,3.2,3.2,4.1,4.5,4.2,4.2,3.7,4.5,4.6,4.5,null,4.7,4.4,3.5,3.3,4.5,4.4,4.2,5.0,4.4,4.7,4.4,4.4,4.6,4.0,4.4,4.3,4.3,4.4,4.3,4.0,4.3,4.3,4.4,4.3,4.3,4.3,4.3,4.3,4.0,4.5,4.3,3.7,4.5,3.9,4.4,3.6,4.4,4.2,4.4,4.1,4.4,4.3,4.2,4.2,4.4,4.4,3.9,4.2,4.4,4.6,4.3,4.3,4.4,3.7,4.3,3.9,4.5,3.7,4.3,4.4,4.0,4.3,4.0,4.3,4.0,4.1,4.2,4.2,4.2,4.1,4.4,4.3,4.2,4.4,4.2,4.1,4.3,4.3,4.5,4.3,4.2,4.2,4.5,4.3,4.3,4.3,4.4,4.2,4.3,4.3,4.4,4.6,4.3,4.4,4.2,4.5,4.5,4.4,4.5,4.1,4.2,4.1,4.3,4.1,4.2,4.0,4.2,4.2,4.2,4.3,4.3,4.4,4.2,4.4,4.1,4.2,4.8,4.4,4.4,4.4,4.0,4.5,4.4,4.1,4.2,4.5,4.3,4.5,4.0,4.3,4.3,4.2,4.5,4.6,4.1,4.0,4.2,4.6,4.1,4.3,4.2,4.3,4.0,4.3,4.2,4.3,4.1,4.2,4.1,4.6,4.3,4.2,4.2,4.3,4.2,2.6,null,null,null,3.5,4.0,4.1,3.7,4.1,4.2,4.5,4.4,4.2,4.0,4.1,3.1,4.4,4.2,4.1,3.9,4.3,4.4,3.5,4.0,3.3,4.5,4.4,4.1,3.9,3.9,3.6,4.0,3.6,3.4,4.2,4.1,3.4,3.0,4.6,4.1,3.9,1.9,3.5,2.5,3.9,3.4,3.5,4.4,3.8,4.2,2.5,2.8,4.1,4.2,3.5,4.3,3.3,4.1,4.2,3.5,4.2,4.4,4.1,4.2,4.3,4.1,4.0,4.1,4.2,3.0,4.4,4.5,2.5,4.1,4.2,4.0,4.1,1.9,3.3,4.4,4.1,3.8,4.1,4.2,4.0,4.5,3.7,3.9,3.5,3.9,4.0,4.6,4.0,4.1,4.2,3.3,4.4,4.3,4.2,3.9,4.3,3.4,4.2,4.1,4.0,3.6,4.2,3.5,4.0,4.1,4.1,2.8,4.4,4.4,4.2,4.1,4.2,3.9,4.1,4.2,3.9,4.0,4.2,4.5,3.9,3.6,4.4,3.5,4.4,4.8,4.6,4.7,4.8,null,2.7,5.0,null,4.8,5.0,4.8,null,4.9,3.0,null,null,4.7,null,null,1.0,null,null,null,null,null,null,null,5.0,4.7,null,5.0,null,null,null,5.0,null,null,null,null,3.0,4.1,null,null,null,null,null,null,null,5.0,3.7,4.5,4.2,null,null,null,4.3,4.1,1.9,4.1,4.4,null,3.9,3.9,null,4.0,4.4,4.7,3.8,4.4,4.4,3.6,4.4,2.7,4.3,4.6,2.8,3.5,null,3.4,4.8,4.7,4.8,4.8,4.7,4.1,3.5,4.7,3.8,2.9,4.5,3.3,4.1,null,4.7,4.6,4.7,4.6,4.7,null,4.5,4.7,4.8,4.6,4.6,4.6,4.2,4.9,3.8,4.2,4.4,4.4,4.3,4.5,4.4,4.6,3.9,4.4,4.3,4.4,4.2,4.4,4.0,4.2,3.8,4.5,4.7,4.5,4.3,4.2,4.3,4.7,4.7,4.6,4.6,4.6,4.5,4.4,4.6,4.5,4.5,4.2,4.4,4.4,4.2,4.5,4.1,4.0,4.1,4.3,4.3,4.3,4.5,4.6,4.1,4.6,4.7,4.7,4.3,4.7,4.6,4.6,4.6,4.3,4.2,4.0,4.5,4.2,4.1,4.4,4.0,4.5,4.4,4.0,4.2,4.3,4.2,4.6,4.6,4.7,4.6,4.4,4.5,4.3,4.6,4.5,4.2,4.2,4.7,4.5,4.6,4.3,4.2,4.7,4.7,4.4,4.5,4.4,4.0,4.6,4.4,4.7,4.7,4.3,4.1,4.2,4.3,4.3,4.3,4.0,4.2,4.0,4.0,3.8,4.6,4.1,3.9,4.1,4.5,4.2,4.4,4.7,4.0,4.4,4.4,4.0,4.5,4.7,4.3,4.5,4.3,4.1,4.3,4.5,4.2,4.6,3.5,4.2,4.4,4.4,4.6,4.3,4.5,4.8,4.4,4.1,4.9,4.7,4.7,4.7,4.4,4.0,4.2,4.3,4.5,3.5,4.2,3.1,4.6,4.2,4.3,4.3,4.1,3.8,3.4,4.3,4.4,4.4,4.0,3.7,3.9,4.5,4.4,4.3,4.2,4.2,4.5,4.7,4.5,4.5,3.4,4.2,4.3,4.2,4.6,4.1,4.2,4.2,4.3,4.4,3.9,4.1,4.3,4.5,4.6,3.6,4.3,4.3,4.2,4.4,4.1,4.1,4.2,3.9,4.2,3.7,4.5,3.7,3.8,4.3,3.0,4.1,4.2,4.1,3.9,4.0,4.4,4.2,4.0,3.9,4.0,4.2,4.0,4.3,3.9,4.2,4.4,4.3,3.7,4.3,3.7,3.8,4.2,4.0,3.9,4.4,4.5,4.1,4.1,3.9,4.5,4.0,4.1,3.6,3.8,4.0,4.2,3.7,3.8,3.7,4.1,3.7,3.9,4.4,4.3,3.9,3.7,3.7,4.2,4.3,4.0,4.1,3.9,4.5,3.9,4.1,4.3,4.4,4.1,4.0,3.9,3.9,4.0,4.1,4.2,3.8,4.0,3.9,4.2,3.7,3.9,4.2,4.3,4.3,4.6,4.3,4.6,4.2,4.6,4.5,4.6,3.9,4.2,4.4,4.2,4.3,4.6,4.3,4.5,4.0,4.0,4.5,4.5,4.0,4.0,4.2,4.4,4.6,null,4.6,4.1,4.6,4.4,4.6,4.9,4.5,4.6,4.7,4.3,null,null,4.2,4.3,5.0,4.4,5.0,4.5,null,null,null,4.5,4.8,4.4,5.0,null,3.7,null,4.1,null,4.8,null,null,4.6,4.4,4.4,3.6,3.7,3.8,4.2,4.2,4.2,3.3,3.4,4.3,4.2,4.7,4.1,4.7,4.0,3.6,4.0,3.6,4.3,4.2,4.2,4.1,4.0,4.1,4.4,4.7,4.5,4.3,4.6,4.3,4.0,4.5,4.5,3.6,4.2,4.1,3.5,4.4,4.0,4.5,4.2,4.6,4.2,4.8,4.5,4.2,4.3,4.2,4.4,4.4,4.6,4.2,4.6,4.6,4.4,4.3,4.2,4.2,3.8,4.5,4.6,4.6,4.7,4.6,4.6,4.7,3.8,4.3,4.3,4.5,4.6,4.6,4.7,4.5,4.4,3.9,4.5,4.6,4.1,4.5,4.4,4.5,4.6,4.2,4.4,4.1,3.9,4.6,4.5,3.7,4.1,4.4,4.6,4.5,4.3,4.3,4.3,4.4,4.3,4.4,4.3,4.4,4.1,4.4,4.2,4.3,4.4,4.3,4.3,3.9,4.1,4.1,4.2,4.5,4.2,4.7,4.4,4.6,4.6,4.4,4.6,4.3,4.0,4.4,4.6,4.2,4.1,3.6,null,4.1,4.6,null,4.7,4.7,4.7,4.7,4.1,3.4,3.8,3.7,4.2,3.1,3.5,4.7,4.5,4.2,4.3,4.0,4.5,4.6,4.7,4.1,4.3,3.8,4.4,4.3,4.2,4.3,3.8,4.3,3.7,4.5,3.6,4.8,3.3,4.7,4.6,4.6,3.4,4.6,4.0,4.1,4.5,4.4,4.5,4.0,4.1,4.5,4.6,4.1,4.5,4.6,4.5,4.3,3.6,4.4,4.6,4.1,4.3,3.9,4.5,4.1,3.6,4.7,4.3,4.7,4.6,4.4,4.2,4.5,4.3,4.2,4.5,4.5,4.3,4.0,4.3,4.8,4.0,4.9,4.8,4.9,4.8,4.4,3.3,4.7,4.6,4.8,4.8,4.8,4.5,4.4,4.5,4.5,4.5,4.8,3.9,4.6,4.5,4.5,4.7,4.7,4.4,4.2,3.9,4.2,4.4,4.6,4.6,4.2,4.5,4.7,4.5,4.5,3.7,4.5,4.6,4.6,4.7,4.5,4.5,4.6,4.0,4.3,4.4,4.5,4.2,4.6,4.9,4.5,4.5,4.6,4.5,4.6,4.6,4.5,4.5,4.4,3.9,4.5,4.4,4.6,4.4,4.5,4.5,4.6,4.5,4.4,4.4,4.4,4.2,4.5,4.5,4.4,4.3,4.6,4.6,4.9,4.4,4.3,4.1,4.6,4.8,4.5,4.7,4.6,4.3,4.4,4.4,4.6,4.3,4.6,4.6,4.5,4.6,4.6,4.5,4.1,4.5,4.6,4.5,4.8,4.8,4.6,4.5,4.1,4.4,4.2,4.5,4.3,4.6,4.0,4.6,4.5,4.4,4.5,4.6,4.4,4.7,4.4,4.2,4.5,4.2,4.4,4.5,4.6,4.6,4.6,4.5,4.5,4.4,4.4,4.5,4.5,4.0,4.6,4.1,4.0,4.4,4.4,4.1,3.5,4.3,4.5,4.2,4.6,4.4,4.5,4.0,4.5,4.6,4.4,4.4,4.1,4.0,4.1,4.1,4.2,4.5,3.5,4.3,4.2,4.6,4.4,4.5,4.4,3.7,4.3,4.5,4.6,4.7,4.6,4.6,4.0,4.4,4.4,4.8,4.6,4.2,4.6,4.1,4.4,4.5,4.3,4.7,4.6,4.4,4.5,4.8,4.2,4.5,4.1,4.1,4.0,4.3,4.5,null,4.6,3.7,3.7,4.2,4.5,4.3,3.9,4.6,4.3,4.4,4.6,4.5,3.8,null,4.4,4.7,3.4,4.3,4.3,4.0,4.0,3.8,null,4.3,3.6,3.8,4.5,4.6,null,4.5,4.7,4.3,3.7,null,4.2,3.4,3.9,4.0,4.0,4.0,4.6,4.0,4.1,3.9,4.4,4.4,4.3,4.6,4.5,4.5,4.5,4.5,4.3,4.2,4.4,4.3,4.6,4.1,3.9,4.4,4.6,null,4.1,null,null,3.8,4.6,3.5,4.7,4.3,4.5,4.4,3.4,4.3,null,4.3,4.6,4.6,null,4.2,null,null,4.6,null,null,4.4,3.9,4.5,3.8,4.3,3.7,5.0,3.2,4.5,4.7,4.0,null,4.1,3.8,4.7,4.5,null,4.2,null,4.1,3.1,4.1,4.1,4.3,4.0,4.6,4.4,4.4,4.3,4.6,3.2,4.5,4.6,4.6,4.3,3.0,4.4,4.4,4.3,3.5,4.3,4.5,3.7,4.5,4.2,4.3,4.6,4.5,3.9,4.3,3.3,4.7,4.2,3.2,4.4,3.5,3.7,3.8,3.8,3.7,4.6,4.0,3.6,3.8,4.1,4.7,3.9,4.1,4.6,4.2,3.6,4.6,4.2,4.4,4.6,4.7,4.1,3.9,4.0,4.1,4.6,4.1,4.1,4.1,4.4,3.8,4.3,4.1,4.1,4.1,4.4,3.8,4.3,4.4,4.2,4.4,4.3,4.1,4.0,4.2,4.1,3.9,4.4,4.6,4.5,4.5,4.8,4.4,4.5,4.5,4.6,4.5,4.5,4.5,4.4,4.7,4.5,4.2,4.4,4.6,4.3,4.3,4.2,4.6,4.4,4.4,4.5,4.4,4.3,4.6,4.3,4.2,4.2,4.5,4.5,4.5,4.7,4.7,4.5,4.4,4.3,3.8,4.6,4.6,4.4,4.3,4.1,4.3,4.4,4.6,4.3,4.4,4.7,4.5,4.4,4.6,4.5,4.4,4.6,4.5,4.5,4.3,4.5,4.6,4.4,4.4,4.5,4.7,4.6,4.5,4.5,4.7,4.5,4.8,4.7,4.4,4.6,4.5,4.6,4.7,4.6,4.5,4.6,4.5,4.6,4.4,4.7,4.3,4.3,4.4,4.3,4.5,4.4,4.5,4.4,4.5,4.6,4.7,4.6,4.4,4.4,4.5,4.6,4.3,4.5,4.5,4.4,4.5,4.2,4.5,4.4,4.7,4.2,4.5,4.5,4.6,4.4,4.5,4.3,4.3,4.5,4.7,4.7,4.1,4.8,4.4,4.2,4.4,4.7,4.3,4.7,4.2,4.3,4.4,4.1,4.1,4.2,4.5,4.7,4.6,4.5,3.1,4.1,3.4,4.4,4.3,4.6,4.4,4.3,4.6,4.2,4.2,4.5,4.4,4.2,4.5,4.8,4.4,4.6,4.5,4.3,4.6,4.4,4.4,4.5,4.6,4.6,4.6,4.1,4.5,4.6,4.4,4.7,4.6,4.3,4.5,4.6,4.2,4.5,4.8,4.1,4.3,4.4,4.0,4.2,4.0,4.2,4.5,4.7,4.2,4.4,4.6,4.9,4.4,4.5,4.6,4.2,4.5,4.6,4.6,4.5,4.4,4.6,4.5,4.6,4.4,4.4,4.3,4.3,4.6,4.3,4.3,4.6,4.5,4.5,4.2,4.7,4.3,4.0,4.4,4.3,4.6,4.7,4.4,4.7,4.4,4.3,4.2,4.4,4.5,4.5,4.5,4.4,4.3,4.5,4.7,4.7,4.6,4.6,4.4,4.4,4.7,4.6,4.5,4.3,4.3,4.3,4.6,4.8,4.5,4.4,4.5,4.5,4.6,4.6,4.6,4.6,4.7,4.5,4.5,4.5,4.6,4.5,4.4,4.4,4.6,4.7,4.5,4.4,4.6,4.7,4.6,4.5,4.4,4.5,4.3,4.5,4.2,4.5,4.3,4.4,4.7,4.6,4.7,4.6,4.4,4.6,4.5,4.3,4.5,4.5,4.6,4.6,4.3,4.6,4.5,4.7,4.5,4.7,4.7,4.6,4.4,4.3,4.5,4.3,4.4,4.2,4.3,4.5,4.4,4.7,4.2,4.1,4.5,4.5,4.5,4.1,4.3,4.5,4.4,4.5,4.6,4.0,4.3,4.5,4.4,4.4,4.6,4.2,4.5,4.6,4.5,4.7,4.5,4.5,4.5,4.4,4.6,4.3,4.4,4.3,4.7,4.7,4.4,4.3,4.4,4.5,4.5,4.4,4.4,4.6,4.6,4.4,4.6,4.2,4.4,4.6,4.6,4.7,4.5,4.2,4.6,4.7,4.6,4.3,4.6,4.4,4.4,4.5,4.2,4.4,4.3,4.7,4.5,4.4,4.5,4.4,4.4,4.5,4.6,4.5,4.3,4.7,4.4,4.5,4.2,4.5,4.5,4.7,4.4,4.3,4.6,3.9,4.2,4.5,4.3,4.5,4.4,4.4,4.8,4.4,4.4,4.3,4.6,4.1,4.5,4.5,4.5,4.0,4.5,4.6,4.5,4.5,4.5,4.4,4.7,4.5,4.5,4.2,4.3,4.5,4.2,4.3,4.4,4.6,4.6,4.5,4.2,4.5,4.6,4.6,4.1,4.5,4.6,4.6,4.5,4.3,3.8,4.5,4.1,4.8,3.9,4.5,4.4,4.3,4.2,3.0,4.5,4.4,4.5,4.7,4.1,4.5,4.5,4.5,4.6,4.3,4.3,4.5,4.2,4.2,4.4,4.5,4.1,4.2,4.1,4.7,4.3,4.4,4.4,null,4.3,4.4,4.3,4.3,4.2,4.2,4.3,4.3,4.1,4.2,4.5,4.3,4.3,4.5,4.1,4.5,4.2,4.4,4.0,4.1,4.3,4.3,4.4,4.3,4.1,4.0,4.3,4.6,4.3,4.7,4.3,4.4,4.2,4.7,3.9,4.1,4.1,4.1,4.2,4.7,4.4,4.3,4.5,4.3,4.3,4.1,4.1,4.1,4.6,4.1,4.4,4.4,4.3,4.0,4.8,3.8,4.7,4.5,4.8,4.4,4.8,4.2,4.2,4.0,4.7,4.7,3.9,4.5,4.1,4.4,3.9,4.4,4.4,3.6,4.4,4.1,3.6,4.6,4.3,4.5,4.4,4.1,4.4,3.9,4.4,4.4,3.6,4.4,4.1,3.6,4.6,4.3,4.5,4.4,4.5,4.1,4.5,4.1,3.9,4.2,4.1,3.9,4.1,4.2,4.7,3.8,4.3,4.3,4.3,3.9,4.3,4.0,4.0,4.3,4.2,4.1,4.0,4.4,4.3,4.3,4.4,4.2,4.1,4.3,4.2,4.6,4.1,4.5,4.4,4.5,4.3,4.2,4.4,4.6,4.5,4.8,4.5,3.2,4.6,4.5,4.1,4.6,4.5,4.4,4.4,4.4,3.8,4.6,2.5,4.0,5.0,4.3,3.4,null,3.4,4.3,4.4,4.4,4.2,5.0,4.1,3.9,4.6,4.2,4.4,4.2,3.6,4.5,null,4.7,4.6,4.5,4.2,4.2,4.3,4.4,4.1,4.4,4.6,4.4,4.2,4.5,null,2.6,4.6,4.8,4.2,4.7,3.0,3.5,4.6,4.8,4.2,4.6,4.4,4.8,4.0,3.7,4.2,4.8,4.7,3.5,3.9,4.2,4.8,2.7,4.2,4.7,4.6,4.5,4.7,4.7,4.5,4.7,4.0,3.4,3.5,3.0,4.7,4.6,4.2,4.8,4.5,4.2,3.8,3.0,4.4,4.5,4.0,3.6,4.4,4.7,4.9,3.6,4.5,4.1,4.6,4.7,4.7,2.8,4.3,4.6,4.3,3.4,null,4.0,4.8,4.2,3.0,4.5,3.7,4.5,4.5,4.6,4.2,4.6,3.6,4.4,4.4,4.5,4.5,4.1,4.6,4.3,4.3,4.7,4.5,4.5,4.5,4.2,4.4,3.9,4.2,4.4,4.1,3.4,4.1,4.0,null,4.1,3.5,4.2,4.0,4.5,4.3,4.3,4.8,4.6,4.1,4.6,3.5,2.3,4.5,4.3,4.2,4.2,3.1,4.4,4.4,2.9,3.1,3.7,4.0,3.8,4.6,4.4,3.8,null,4.8,4.3,null,null,null,null,3.7,5.0,3.0,3.7,null,null,null,null,null,null,null,null,null,null,null,null,null,null,3.7,5.0,null,null,5.0,null,5.0,null,5.0,null,5.0,5.0,null,5.0,5.0,5.0,null,null,null,4.3,4.9,null,null,null,null,null,null,null,5.0,null,null,4.9,4.6,5.0,null,null,null,null,4.0,null,5.0,null,4.0,2.6,4.7,4.8,4.3,4.7,2.5,4.6,4.5,4.1,4.5,4.3,null,3.8,4.4,null,null,null,4.5,4.5,3.8,4.5,4.0,4.5,3.7,4.3,3.7,null,4.4,3.8,null,2.7,5.0,4.3,3.8,3.0,5.0,3.6,4.0,4.3,4.7,5.0,4.7,null,4.6,3.1,4.4,5.0,3.6,2.8,4.4,4.2,4.6,4.2,null,3.8,3.5,4.7,4.1,4.5,4.3,4.4,4.4,4.2,4.0,4.3,4.6,4.4,4.2,4.4,4.4,4.3,4.6,4.4,4.5,4.6,4.6,4.6,4.4,4.5,4.5,4.3,4.4,4.6,4.3,4.8,4.2,4.6,4.0,4.6,4.3,3.6,4.0,4.5,4.4,4.5,4.2,4.5,4.3,4.2,4.2,4.4,4.3,4.3,4.1,4.5,4.3,4.2,4.1,4.3,4.2,4.1,4.1,4.4,3.7,3.9,3.7,4.0,4.5,3.6,4.1,4.1,4.0,4.1,4.0,4.5,4.6,4.3,4.3,4.2,4.5,4.2,4.3,4.1,3.8,4.2,4.4,4.3,4.2,4.1,4.0,4.3,4.3,4.2,4.2,4.0,4.4,4.0,4.2,4.2,4.4,4.1,4.1,4.3,4.0,4.2,4.2,4.2,4.1,4.0,4.3,4.3,4.4,4.4,4.2,4.2,4.0,4.2,4.0,4.5,4.6,4.3,4.2,4.3,4.6,4.4,4.4,4.5,4.3,4.2,4.2,4.4,4.6,4.2,3.6,4.5,4.4,3.8,4.7,3.6,4.2,3.6,4.3,4.4,4.5,4.1,4.3,4.3,4.7,4.3,4.2,4.2,4.3,4.2,4.3,4.6,4.4,4.3,3.8,4.6,4.5,4.1,4.4,4.3,3.8,4.0,3.3,4.1,4.1,4.2,4.1,4.4,4.1,4.2,4.5,4.3,4.5,4.1,4.5,4.4,4.6,4.5,4.6,4.7,4.3,4.4,4.4,4.2,4.1,4.1,4.5,4.7,4.1,4.2,4.5,4.4,4.6,4.2,4.6,4.3,4.1,4.1,4.4,4.1,4.6,4.2,4.2,4.1,4.2,4.3,4.2,4.5,4.7,4.5,4.3,4.0,4.4,4.4,4.0,4.5,4.6,4.1,4.5,3.9,4.5,4.2,4.3,4.3,4.4,4.5,4.6,4.4,4.3,4.3,4.1,4.7,4.4,4.2,4.4,4.2,4.2,4.1,4.0,4.1,4.5,4.6,4.3,4.6,4.4,4.0,4.5,4.1,4.4,4.0,4.6,4.5,4.4,4.5,4.1,4.3,4.5,4.2,3.8,4.5,4.7,4.1,4.6,4.8,4.0,4.7,4.7,4.1,4.5,3.6,4.5,4.7,4.7,4.5,4.2,4.5,4.4,4.5,4.5,4.4,3.7,4.3,4.5,4.4,3.3,4.3,4.4,4.5,4.4,4.2,4.5,4.7,4.5,4.6,4.6,4.4,4.3,4.3,4.6,4.4,4.5,4.5,4.2,4.0,4.4,4.7,4.3,4.6,4.4,4.5,4.3,4.3,4.4,4.5,4.4,4.6,4.3,4.6,4.3,4.4,4.2,4.3,4.4,3.9,4.3,4.4,4.2,4.5,4.3,4.3,4.3,4.1,4.4,4.3,4.0,4.0,4.0,4.4,4.3,4.1,4.2,3.9,4.4,4.4,4.5,4.4,4.6,4.3,4.6,4.1,4.0,4.3,4.2,4.0,4.1,4.1,4.0,4.3,4.3,4.2,4.5,4.0,4.4,4.1,4.4,4.3,4.3,4.2,4.3,4.4,4.4,4.3,4.4,3.8,4.4,4.4,4.3,4.6,4.0,4.1,4.2,4.3,4.6,4.6,4.3,4.2,4.1,4.2,4.6,4.6,4.4,4.7,4.4,4.1,4.3,4.4,4.2,4.4,4.5,4.2,3.8,4.3,4.4,4.6,4.4,4.5,4.2,4.5,4.5,4.3,4.4,4.2,4.1,4.3,4.0,4.6,4.3,4.4,4.5,4.2,4.3,4.4,4.2,4.1,4.4,4.7,4.6,4.2,4.3,4.3,4.5,4.6,4.5,4.4,4.7,4.2,4.3,4.2,3.9,3.9,4.2,4.3,4.6,4.3,4.0,4.0,4.0,4.6,4.3,4.2,4.3,4.4,4.0,4.6,4.7,4.3,4.0,4.5,4.7,4.4,4.8,3.3,4.3,3.9,4.4,3.9,4.4,4.3,4.4,4.2,4.2,4.1,4.4,4.0,4.4,4.3,4.1,4.0,4.2,4.2,4.3,3.1,4.1,2.9,4.0,4.5,4.3,4.1,4.3,4.5,4.6,4.4,4.2,4.3,3.4,4.6,4.2,4.4,4.0,4.1,4.0,4.6,4.2,4.5,4.4,4.0,3.5,4.0,4.2,4.0,4.4,4.8,4.1,4.6,4.3,4.4,4.3,4.6,4.5,4.3,4.2,4.4,4.2,4.4,4.3,4.5,4.5,4.1,4.0,4.7,4.6,4.2,4.2,4.1,4.1,3.5,4.5,3.9,4.6,4.0,4.4,4.2,4.2,4.6,4.5,4.4,4.5,4.4,4.3,4.2,4.3,4.5,4.0,4.2,4.1,3.9,4.2,4.0,3.5,4.0,4.0,4.5,4.1,4.2,4.4,4.4,4.1,4.3,4.5,4.5,4.4,4.5,4.7,4.4,4.1,4.4,4.4,4.3,4.2,4.0,4.7,4.3,4.6,3.9,3.6,4.0,4.1,4.2,3.9,4.1,4.3,3.1,3.7,3.4,4.4,3.6,4.4,3.3,3.7,3.0,3.6,4.8,3.9,3.8,4.3,4.5,3.4,3.7,4.5,4.4,4.1,4.5,4.0,3.9,4.4,4.8,4.7,4.3,3.7,4.2,3.5,4.3,4.7,4.3,4.1,3.1,4.3,4.1,4.2,4.3,4.4,4.3,4.3,4.4,3.5,4.1,4.6,4.4,4.2,3.9,4.2,4.4,4.4,4.4,4.4,3.7,4.4,4.5,3.7,4.4,3.7,4.4,4.5,3.6,4.4,4.0,4.1,4.4,4.4,4.3,4.4,4.2,4.2,4.1,4.3,4.5,4.4,4.5,4.3,4.2,4.5,4.7,4.4,4.4,4.4,4.4,4.1,4.6,4.4,4.1,4.5,4.5,4.4,4.3,4.5,4.2,4.2,4.2,4.5,4.7,4.0,4.2,4.2,4.1,4.4,4.4,4.2,4.2,4.1,4.5,4.6,4.1,4.3,4.2,4.1,4.0,4.6,3.1,4.6,4.5,3.2,4.3,null,4.6,4.4,4.6,4.5,4.6,null,4.4,4.2,4.4,3.1,3.6,4.1,4.2,3.5,3.9,3.0,3.9,4.5,3.4,4.4,3.4,4.3,3.7,3.5,3.8,3.6,3.1,3.8,4.2,4.0,4.3,4.3,4.5,4.5,4.5,4.4,4.4,4.3,4.2,4.7,4.4,4.3,4.4,4.3,4.5,4.7,4.5,4.6,4.7,4.6,4.8,3.9,4.5,4.6,4.5,4.4,4.5,4.0,4.3,4.0,4.4,4.1,4.3,4.1,4.3,4.2,4.2,4.2,4.2,4.3,4.5,4.4,4.5,4.2,4.1,4.4,4.5,4.3,4.4,4.1,4.4,4.2,4.1,4.6,4.5,4.3,4.1,4.1,4.2,4.1,4.6,4.5,4.0,3.5,4.4,4.4,4.4,4.1,4.2,4.6,4.4,4.6,4.6,4.5,4.7,4.4,4.5,4.6,4.6,4.0,4.6,4.5,4.7,4.7,4.4,4.3,4.7,4.1,4.7,4.4,4.6,4.5,4.4,4.4,4.3,4.3,4.6,4.7,4.3,4.5,4.6,4.4,4.5,4.7,4.3,3.7,4.7,4.5,4.4,4.3,4.8,4.6,4.1,4.7,4.1,4.6,4.2,4.3,4.2,4.0,4.2,3.9,4.3,4.1,4.2,4.4,4.3,4.3,4.4,4.3,4.1,4.2,4.1,4.1,4.2,4.1,4.4,4.1,4.3,4.6,4.1,4.6,4.6,4.2,4.1,4.2,4.5,4.3,4.2,4.0,4.2,4.2,4.6,4.3,4.4,4.4,4.4,4.3,4.3,4.6,4.5,4.1,4.3,4.4,4.2,4.2,4.1,4.5,4.7,4.3,4.4,4.4,3.8,4.4,4.3,4.2,4.5,3.2,4.5,4.2,4.4,4.7,4.4,4.0,4.4,4.0,4.6,4.5,4.2,4.0,4.4,4.5,3.9,4.2,4.3,4.2,4.2,4.4,4.7,4.6,3.1,4.4,4.1,4.5,4.6,4.3,3.9,4.5,4.3,3.7,4.5,4.4,4.0,4.0,4.4,4.7,4.6,4.2,4.5,4.6,4.0,4.5,4.4,4.3,4.4,4.5,4.5,4.6,4.4,4.6,4.3,4.6,4.5,4.3,4.1,4.2,4.2,4.6,4.2,4.5,4.4,4.3,4.2,4.3,4.5,4.3,4.3,4.5,4.5,4.4,4.2,4.2,4.6,4.4,4.3,4.6,4.2,4.2,4.2,4.0,4.3,4.6,4.4,4.6,4.6,4.5,4.5,4.4,4.3,4.0,4.2,4.2,4.5,4.0,4.2,4.4,4.6,4.3,4.6,4.2,4.4,4.6,4.4,4.6,4.4,4.1,4.4,4.4,4.1,4.3,4.1,4.1,4.5,3.9,null,3.8,null,null,4.6,4.7,null,4.0,null,4.7,4.1,3.7,null,4.1,3.7,4.6,4.4,4.6,4.1,4.4,4.7,4.4,null,4.8,4.0,4.9,null,4.8,4.4,4.7,4.2,4.6,4.6,4.5,4.6,4.1,3.8,4.8,4.8,null,4.5,4.0,4.4,4.7,null,3.9,4.4,4.4,4.5,4.4,4.8,4.4,4.8,4.5,4.7,4.5,3.5,4.4,4.3,4.4,4.2,4.6,4.4,4.4,3.9,4.3,4.5,4.2,3.7,4.2,3.9,3.6,4.5,4.3,4.3,4.2,4.6,4.5,4.5,4.2,3.9,4.8,3.8,4.5,4.5,4.2,4.0,4.2,4.3,4.3,4.2,4.3,3.6,3.9,4.8,3.9,3.7,4.6,4.4,4.4,4.2,4.1,3.8,4.4,4.5,4.6,4.7,4.3,4.5,4.3,3.7,3.9,3.6,4.5,4.4,3.8,4.6,4.2,4.3,3.8,4.4,3.1,4.6,4.1,4.5,4.0,4.5,4.3,null,3.7,3.9,3.5,3.3,4.3,4.5,4.1,4.4,4.4,4.5,4.4,4.3,4.5,4.3,4.6,4.1,4.2,3.5,4.0,3.8,4.3,4.3,4.1,4.3,4.5,4.4,4.0,4.1,4.6,4.3,3.9,4.5,4.7,4.3,4.5,3.1,4.7,3.8,4.0,4.2,4.0,4.2,3.4,4.6,4.5,4.0,4.4,4.2,4.1,4.4,4.0,3.7,4.6,4.5,4.6,4.5,3.9,4.3,4.4,3.9,4.3,4.4,4.4,3.6,4.5,3.6,4.1,4.4,4.1,4.2,4.7,3.9,3.9,4.4,4.3,4.6,4.0,4.3,4.2,4.5,4.3,4.0,4.1,4.6,4.1,4.5,4.0,4.2,4.3,4.2,4.3,4.2,4.0,4.2,4.3,4.0,4.5,4.3,4.3,3.9,4.0,4.1,4.1,4.1,4.0,4.0,4.5,4.1,3.9,4.2,3.9,4.5,4.3,4.4,4.6,4.2,4.1,4.4,4.4,4.2,4.5,4.2,4.4,4.4,4.0,4.3,4.4,4.2,4.3,4.1,4.4,4.3,4.4,4.2,4.7,4.3,4.5,3.7,4.3,4.2,4.1,4.5,4.8,4.3,4.7,4.3,4.2,3.7,4.6,4.5,4.3,4.5,4.2,4.2,4.3,4.3,4.4,3.7,4.4,4.4,4.2,3.5,4.2,4.2,4.0,4.5,4.2,3.9,4.3,3.7,4.3,4.3,4.6,4.3,4.2,4.6,3.9,4.4,4.6,4.1,4.8,4.3,4.5,4.4,4.4,3.3,4.2,3.8,4.5,4.3,4.5,3.7,4.5,4.1,4.4,3.7,4.1,4.8,4.4,4.3,4.1,4.4,4.1,4.5,4.5,4.5,4.5,4.2,4.4,4.5,4.3,3.8,4.5,3.7,4.5,4.5,4.3,4.6,4.3,4.4,4.3,4.3,4.3,4.3,4.3,4.4,4.2,4.9,4.5,4.6,4.6,4.6,3.4,3.8,4.4,4.7,4.6,4.1,3.8,4.4,4.4,3.9,4.1,4.5,3.7,4.4,4.5,4.5,3.8,3.1,4.5,5.0,4.4,null,4.3,2.9,3.1,3.3,4.1,4.6,4.4,4.5,4.3,4.3,4.5,4.5,2.2,4.5,4.2,4.5,4.6,3.9,4.1,3.3,4.5,4.1,4.8,4.1,4.5,null,4.6,4.6,4.3,4.1,4.5,4.3,4.4,4.7,4.4,4.4,4.3,4.2,4.2,4.6,4.5,4.6,4.7,4.8,4.7,4.7,1.7,4.5,4.0,3.6,2.0,4.7,4.1,4.3,4.3,4.5,4.4,4.4,4.6,3.7,4.5,4.0,4.8,4.0,4.7,4.8,4.6,4.3,4.2,4.8,4.2,4.6,4.2,4.5,4.6,4.5,4.5,4.3,4.8,4.6,4.5,4.3,4.2,4.4,4.5,4.2,4.6,4.6,4.4,4.5,4.5,4.6,4.5,4.4,4.1,4.4,4.6,4.6,4.5,4.5,4.3,4.3,3.3,3.7,4.5,4.4,3.1,4.0,4.4,4.2,3.9,4.4,4.6,4.8,4.4,3.9,4.5,3.6,3.4,4.7,4.4,4.4,4.5,4.2,4.6,4.3,4.3,4.3,4.6,4.4,4.5,4.5,4.0,4.3,4.5,4.1,4.3,4.0,4.3,4.6,4.2,4.4,4.5,4.3,4.0,4.3,4.4,4.6,4.4,4.3,4.2,4.3,4.3,4.6,3.6,4.3,4.2,4.2,4.4,4.3,4.9,4.5,4.2,4.3,4.2,3.8,4.2,1.0,4.4,4.0,null,4.4,4.4,4.5,null,3.4,3.8,null,3.7,null,4.1,4.6,4.4,4.2,4.2,4.4,4.5,4.2,4.5,4.3,4.4,4.2,3.6,4.0,4.4,4.6,4.5,4.4,4.2,4.3,4.6,1.8,3.8,4.4,3.0,3.4,4.6,3.7,3.0,4.6,4.4,3.1,4.3,4.3,3.8,4.5,3.6,null,4.2,4.5,4.2,3.3,4.2,4.3,4.2,3.7,3.8,2.9,4.5,4.3,4.9,4.4,4.4,4.4,2.9,4.2,4.0,4.3,4.3,3.9,4.3,null,4.0,4.6,3.7,4.0,4.6,4.4,4.5,3.0,3.1,4.3,4.5,4.5,4.5,4.1,4.6,4.2,null,3.9,3.9,3.9,4.3,4.2,4.2,3.7,2.8,4.4,4.1,4.4,2.7,4.7,4.2,4.2,4.1,4.5,4.4,4.0,4.2,4.1,4.0,4.4,4.7,4.3,4.7,4.4,4.0,4.3,4.2,4.4,4.6,3.3,4.5,2.3,4.2,4.1,null,4.4,3.2,3.5,4.6,4.3,4.1,4.1,4.1,null,4.7,3.5,3.9,null,null,4.1,4.7,null,4.6,4.5,4.7,4.9,null,4.3,4.1,4.4,4.2,4.1,4.6,4.3,4.4,4.4,4.5,4.6,4.8,4.3,4.8,4.8,3.7,4.1,3.7,4.2,4.5,4.6,4.5,4.7,4.3,null,4.9,4.4,4.6,null,null,4.0,4.8,4.3,4.4,4.2,4.6,null,4.8,4.0,4.3,4.7,4.5,4.6,4.5,4.3,4.0,4.2,4.0,4.5,4.0,4.1,4.6,3.1,4.9,4.5,4.0,4.0,3.6,4.5,4.2,4.3,3.9,4.3,4.3,4.4,4.3,4.4,4.3,4.5,4.4,3.5,4.4,4.4,4.5,4.4,4.4,4.0,3.9,3.9,4.3,4.9,3.7,3.3,3.8,3.5,4.2,4.5,3.5,3.6,4.6,3.9,4.2,4.2,4.0,3.2,4.6,2.4,4.5,4.1,4.2,3.7,4.3,4.2,4.1,3.9,3.8,4.4,3.4,4.0,4.4,3.3,4.8,4.5,3.4,4.3,4.3,4.1,4.0,4.4,3.8,4.4,3.8,4.2,3.8,4.8,4.7,4.3,3.5,3.9,4.2,4.6,4.7,4.5,3.8,4.5,3.7,3.5,4.1,3.9,4.1,4.6,4.4,4.5,4.4,4.6,4.0,4.4,4.4,4.4,4.0,3.8,3.9,null,3.7,4.2,4.1,4.3,4.3,4.1,4.4,3.8,4.3,4.4,3.8,4.5,3.8,3.9,4.0,4.3,4.5,4.4,4.6,null,5.0,4.4,4.4,4.2,4.0,null,4.2,null,4.6,4.1,null,3.9,4.6,null,4.4,3.9,4.6,4.5,3.0,null,3.6,4.4,4.6,null,4.3,5.0,4.5,4.1,4.1,4.5,null,4.8,4.5,null,4.0,4.8,3.7,null,4.5,4.7,2.7,2.9,4.2,4.4,4.2,3.4,2.6,4.1,4.3,4.5,4.2,4.4,null,4.0,4.4,4.1,4.8,2.2,3.8,3.1,3.1,3.8,3.8,4.3,3.6,4.0,4.4,4.6,null,4.5,1.8,4.7,3.9,4.4,3.6,4.5,4.4,3.9,3.9,3.8,null,4.2,4.1,4.4,4.4,null,null,5.0,4.1,4.5,4.3,null,3.9,3.5,null,3.2,null,null,null,null,3.3,4.8,4.5,3.7,4.8,4.7,4.3,3.8,4.1,4.7,null,4.2,null,null,4.6,4.2,4.6,4.6,4.2,4.1,3.5,4.1,4.4,4.5,4.1,4.5,4.3,4.4,4.3,4.3,3.8,3.9,4.1,4.8,4.4,4.0,4.7,4.6,4.3,4.0,4.4,3.7,3.7,3.3,4.1,3.0,4.1,3.0,3.8,4.0,4.5,4.6,4.1,3.6,4.7,3.5,3.1,3.9,3.7,4.2,4.4,4.4,3.3,4.8,4.2,4.5,3.8,4.1,4.2,4.2,4.0,4.2,3.8,4.5,3.7,4.3,4.5,4.1,4.2,4.5,4.0,4.4,4.2,4.3,4.7,4.1,3.2,3.9,4.1,3.4,3.0,4.6,4.6,4.1,3.1,3.4,4.2,4.2,3.0,2.4,4.1,2.9,4.0,4.0,3.8,2.4,4.4,3.7,4.3,4.6,4.2,4.8,3.6,3.2,4.0,3.5,4.4,2.5,3.9,4.4,4.2,4.2,4.3,4.1,4.3,4.2,4.2,3.9,3.9,4.4,3.8,4.5,4.2,3.7,4.3,4.3,4.6,3.3,3.6,4.1,3.8,3.3,4.5,4.8,4.6,null,4.3,4.5,4.2,3.8,4.7,4.2,4.3,4.7,4.7,3.6,4.2,4.0,4.3,4.7,4.2,4.6,4.8,4.6,3.8,4.6,4.3,4.2,4.5,3.2,4.3,4.3,4.5,4.4,1.9,4.4,2.5,4.2,4.3,4.0,4.5,4.8,4.2,4.7,4.4,4.4,4.4,4.6,4.6,4.2,4.5,4.0,4.4,4.2,4.5,4.6,4.4,4.7,4.2,4.4,3.2,4.1,4.0,4.7,4.6,4.6,4.7,4.8,4.6,4.2,4.3,3.3,4.7,4.5,4.0,4.5,4.2,4.6,4.2,4.7,4.7,4.2,4.3,4.3,null,4.5,4.4,4.5,4.6,4.3,3.8,4.5,4.5,3.9,4.0,2.7,4.5,4.0,2.9,4.6,4.4,4.5,4.6,4.4,4.3,4.4,4.2,4.8,4.3,4.3,4.6,4.6,4.2,4.2,4.1,4.4,4.5,4.4,4.4,4.2,4.5,4.6,4.5,4.6,4.0,4.5,4.2,3.9,4.7,4.4,4.5,4.3,4.4,4.2,3.9,4.1,2.2,4.2,4.2,2.8,3.9,4.3,4.8,4.3,4.1,4.2,4.4,4.1,4.6,4.3,4.3,3.8,4.8,null,3.8,3.9,null,4.3,4.3,4.3,4.1,4.2,4.9,4.5,4.6,3.8,4.7,4.5,4.7,4.5,4.8,4.6,4.6,4.3,4.8,3.4,4.6,4.4,4.5,4.4,4.4,4.6,4.2,4.3,4.3,3.8,3.9,4.3,4.8,4.2,4.5,4.8,null,4.6,4.2,4.2,4.0,null,4.3,4.8,4.1,4.7,null,4.8,4.0,3.5,3.8,3.5,3.3,3.7,3.3,3.4,1.8,1.6,1.9,3.6,3.4,3.2,2.5,4.7,2.6,2.8,3.9,4.2,3.9,4.0,3.5,3.1,3.7,3.6,3.4,4.0,3.7,1.7,2.4,4.3,4.2,3.3,4.1,4.1,3.4,3.0,3.0,2.2,3.7,3.7,4.8,3.7,3.6,3.7,4.4,3.8,3.7,3.7,4.8,4.2,4.1,4.6,4.1,4.3,3.9,3.8,4.0,4.5,4.6,4.1,4.4,3.7,3.9,3.9,4.5,4.5,4.4,4.3,4.5,4.7,4.7,4.1,3.3,4.2,4.1,3.4,4.3,4.9,4.5,4.1,4.4,4.3,4.4,3.4,4.1,4.1,3.5,3.8,4.6,4.6,5.0,4.6,4.2,4.0,3.9,3.7,4.3,1.9,4.2,4.2,4.0,4.4,4.2,4.5,4.3,4.4,4.0,4.2,4.3,4.0,4.3,3.9,4.0,3.7,4.1,3.9,4.2,4.4,4.5,3.9,3.9,4.2,4.5,4.1,4.7,null,4.4,4.7,4.7,4.0,3.9,null,3.8,3.9,4.4,4.5,null,3.8,3.5,4.2,4.7,2.0,4.3,2.8,4.0,3.9,4.2,3.4,4.5,4.7,2.0,4.4,null,null,null,4.7,3.3,4.1,null,4.2,4.4,null,3.7,null,4.3,3.9,5.0,4.1,4.8,4.0,null,4.1,3.8,4.6,null,4.3,4.1,4.6,4.1,4.4,4.2,4.1,4.3,4.3,4.0,4.5,4.1,3.8,null,4.5,null,4.1,null,3.9,3.7,null,4.5,4.4,null,3.4,null,null,null,null,2.3,4.7,3.4,4.7,null,null,5.0,null,null,null,null,null,null,null,null,3.6,5.0,null,null,4.3,null,null,null,5.0,null,null,4.1,4.1,4.5,null,null,3.4,null,null,null,2.9,4.6,5.0,null,null,null,3.9,3.9,5.0,4.1,null,5.0,3.0,4.0,1.0,null,4.0,null,null,4.0,null,3.8,null,null,null,null,null,null,null,null,3.5,null,null,null,null,null,2.6,null,3.4,null,null,4.5,3.4,3.8,3.0,4.4,4.0,3.9,4.6,3.8,3.8,4.0,4.6,3.6,4.4,3.1,4.2,4.6,4.0,5.0,3.3,4.1,3.6,3.2,4.4,4.0,4.4,4.5,4.3,4.7,4.4,null,4.4,4.4,3.7,3.3,null,3.7,3.0,2.6,null,null,3.5,3.9,4.6,3.8,4.6,4.4,4.5,4.5,4.7,4.4,null,5.0,null,null,2.8,null,4.6,2.8,5.0,5.0,2.8,null,3.8,4.1,null,4.8,5.0,5.0,null,4.4,null,null,5.0,4.1,null,4.8,null,null,4.8,4.0,null,5.0,4.6,null,5.0,null,null,null,4.5,5.0,null,null,null,4.4,4.0,null,3.9,4.1,4.8,4.3,3.9,4.5,null,3.7,4.3,4.2,3.7,3.8,4.6,null,null,null,3.3,3.0,3.9,4.2,3.9,null,4.1,null,4.6,null,null,null,null,4.4,3.8,4.4,null,4.9,3.6,4.3,3.6,4.1,3.4,4.5,4.7,4.5,4.4,4.3,4.6,4.2,4.8,4.6,4.8,4.6,4.6,4.6,4.1,4.7,4.7,4.8,3.6,4.7,4.6,4.5,4.7,4.5,4.3,4.5,4.8,4.7,4.7,4.7,4.7,4.7,4.7,4.7,4.6,4.7,4.7,4.6,3.8,3.9,4.0,4.0,3.8,4.1,2.9,3.8,3.5,4.2,4.6,4.4,4.4,4.1,3.9,3.6,4.0,3.8,4.3,4.6,3.6,3.9,4.0,4.2,4.2,4.2,4.5,4.7,3.5,4.5,4.0,4.6,4.2,4.3,4.1,4.5,4.2,4.5,4.4,3.7,4.4,4.3,4.3,4.3,4.5,4.5,3.8,4.5,4.5,4.4,4.7,3.5,4.9,4.0,4.1,4.2,null,4.4,4.1,4.6,4.6,4.7,4.5,null,4.6,4.4,4.4,4.2,4.4,4.0,4.2,4.2,4.2,4.8,3.7,3.4,4.3,4.3,4.6,4.2,4.6,4.1,4.4,4.6,4.3,4.4,4.7,4.2,3.8,4.3,3.7,4.3,2.9,4.3,4.3,4.0,3.3,4.5,4.1,5.0,3.9,4.6,4.0,3.6,4.0,4.5,null,2.9,4.2,4.5,null,4.6,4.7,4.2,4.7,4.7,3.9,4.7,3.7,4.8,4.0,4.6,4.4,4.3,4.7,3.6,4.4,4.6,2.9,null,4.5,5.0,3.7,null,3.7,null,4.2,3.0,5.0,4.4,4.7,4.3,3.9,null,4.4,4.3,null,null,null,null,4.6,4.5,3.9,4.7,4.3,5.0,5.0,null,5.0,null,null,4.4,null,2.7,4.6,4.4,4.4,4.1,3.8,4.4,4.6,4.1,4.5,4.2,4.7,4.3,4.3,4.2,3.8,4.0,4.3,4.6,4.3,4.3,4.3,4.7,4.6,4.4,3.8,4.6,4.6,4.5,4.5,3.9,4.4,3.8,4.3,4.3,3.7,3.2,4.0,3.8,4.4,3.8,3.4,2.9,4.5,3.7,3.8,4.1,4.1,3.7,3.6,null,3.0,4.1,3.8,4.2,4.4,4.5,3.6,3.6,3.7,3.9,null,4.2,4.1,4.5,2.8,2.6,4.3,4.4,4.1,4.0,4.3,3.9,3.5,3.7,4.3,4.3,4.1,4.2,4.3,4.2,4.6,4.3,4.1,4.4,4.4,4.1,4.2,4.4,4.3,2.4,4.5,4.3,4.5,4.5,4.3,4.4,4.3,4.4,4.6,3.4,3.9,4.3,4.4,4.5,4.4,4.2,4.0,4.3,4.4,4.2,4.0,4.4,4.6,4.0,4.4,3.5,4.6,4.0,4.0,4.1,4.1,3.3,3.9,4.1,4.2,4.0,4.5,3.8,3.5,4.3,4.6,4.7,3.8,4.7,4.8,3.2,4.5,3.9,3.6,3.7,4.4,4.1,4.0,3.1,4.0,2.8,3.7,2.7,3.9,3.8,3.6,4.5,3.5,4.0,null,3.8,3.6,4.2,4.4,4.0,4.7,null,null,4.1,4.0,null,4.7,null,null,3.8,5.0,4.4,null,null,4.0,null,3.8,4.1,4.3,null,4.5,4.4,3.4,4.1,4.1,3.8,4.3,4.4,4.4,4.8,3.3,3.3,4.4,3.7,3.4,2.3,3.3,2.7,null,4.6,3.5,3.4,4.3,4.1,4.7,4.4,3.8,3.0,4.4,4.2,4.5,3.5,4.5,4.3,4.5,null,4.5,4.0,4.8,null,4.3,1.7,4.3,4.2,null,4.2,4.3,null,4.0,4.2,4.6,4.1,4.6,4.1,4.0,null,3.3,4.1,null,null,4.0,null,null,4.4,4.2,3.8,3.1,null,5.0,4.2,4.7,4.4,4.6,4.4,2.9,2.7,null,4.6,4.0,3.8,4.8,5.0,3.9,4.2,4.1,4.7,4.2,4.2,3.7,4.1,4.1,3.8,4.6,null,4.4,4.2,4.4,null,null,4.6,5.0,null,4.5,null,3.5,null,3.9,4.4,3.0,null,3.1,4.4,null,3.0,null,null,3.7,null,3.7,3.9,4.8,null,null,4.6,4.6,4.5,4.3,5.0,4.3,null,4.7,4.0,3.8,5.0,4.8,4.5,4.3,null,null,null,null,3.7,null,null,null,null,null,4.3,null,3.8,null,null,4.5,4.6,4.1,4.2,null,5.0,null,null,null,4.3,null,3.3,3.6,4.0,4.0,4.0,4.3,4.2,4.3,4.2,4.5,4.3,4.6,4.4,4.2,4.2,4.2,3.4,3.2,4.0,4.6,3.2,4.4,4.0,4.7,null,3.7,3.9,4.2,4.1,3.5,4.8,4.3,3.9,null,3.5,4.3,4.4,4.8,3.9,3.8,4.2,4.0,4.0,4.4,4.7,4.5,4.3,3.3,4.3,4.1,2.1,3.7,4.2,4.4,4.2,2.1,2.4,4.1,3.1,5.0,null,3.5,4.2,null,4.7,null,null,null,4.8,null,4.5,4.6,4.6,4.9,4.8,4.0,3.9,4.1,4.1,4.5,4.2,4.0,4.4,1.9,null,null,3.7,null,4.2,4.0,4.3,2.5,4.4,null,3.7,4.7,4.6,4.4,4.3,4.4,2.6,3.6,3.8,4.4,4.4,3.0,4.2,3.7,5.0,null,4.2,4.8,4.4,4.1,4.7,4.7,3.3,4.0,null,null,1.0,4.4,4.2,4.4,4.6,4.3,4.4,null,3.7,2.9,4.0,4.4,3.3,null,null,4.2,4.5,2.3,5.0,3.6,null,3.9,4.4,4.2,4.8,4.3,4.2,4.4,4.3,4.0,1.4,3.3,4.3,null,4.6,4.7,4.2,3.9,3.4,4.3,4.8,4.8,4.5,3.3,4.2,4.9,4.2,4.6,4.1,4.6,4.0,4.2,5.0,4.1,3.7,4.1,3.8,4.7,3.5,4.0,4.2,3.3,3.7,3.4,3.7,5.0,4.4,5.0,4.8,4.4,4.9,4.0,4.4,4.5,4.9,4.4,4.4,5.0,4.8,4.6,4.3,3.8,4.3,4.3,4.1,4.5,4.2,3.8,4.3,4.4,4.2,4.2,3.8,4.2,4.0,4.2,4.3,4.3,4.4,4.7,4.1,4.5,4.2,4.3,4.4,4.5,4.3,null,4.2,4.0,3.4,4.4,3.8,3.0,4.1,4.4,4.1,4.1,4.1,4.5,4.1,2.2,3.9,4.0,4.3,3.9,4.0,4.2,4.2,3.6,4.3,null,null,4.4,2.6,4.1,null,3.5,4.2,null,null,3.7,4.5,2.4,null,2.9,4.2,4.2,4.0,2.6,4.4,4.8,4.7,4.4,4.6,2.7,3.8,1.7,4.6,3.3,null,null,4.6,2.3,4.5,null,4.8,null,5.0,null,4.1,null,null,null,null,null,null,4.9,3.0,null,null,4.8,4.5,3.4,null,null,null,null,4.0,3.7,2.2,4.8,null,5.0,null,null,null,4.5,null,4.3,3.8,null,4.5,4.5,null,4.8,4.5,4.4,null,3.9,4.3,4.3,null,4.0,null,4.1,4.6,3.7,3.4,4.5,4.4,null,4.4,2.4,4.1,4.6,4.6,4.3,4.3,4.7,null,4.2,4.3,4.3,3.9,4.7,4.2,4.1,4.6,4.7,4.3,4.5,4.6,2.9,4.0,3.0,3.9,null,4.8,3.9,4.0,null,null,null,5.0,null,null,null,4.0,null,5.0,null,null,4.5,4.8,null,4.6,4.2,null,3.4,2.6,2.4,null,4.5,4.6,3.3,4.1,4.6,3.9,null,null,null,null,null,4.0,3.4,4.5,4.0,5.0,3.6,3.5,4.6,4.9,3.7,5.0,4.0,3.9,5.0,4.0,null,null,4.9,4.4,3.6,4.7,4.3,3.9,4.5,4.2,4.6,4.1,4.3,4.6,null,null,4.2,4.6,4.5,4.4,4.2,4.5,4.0,4.2,4.7,4.1,4.4,4.3,4.6,4.2,4.0,2.3,4.5,3.6,4.4,3.9,3.9,4.8,4.2,3.7,4.0,null,1.0,null,4.4,4.2,4.7,3.6,null,4.1,3.3,null,null,5.0,4.3,4.7,null,null,null,null,null,4.0,null,4.4,4.6,5.0,4.3,4.3,null,3.8,4.1,4.6,4.0,4.7,3.6,4.5,4.0,4.1,4.0,3.8,null,4.5,2.8,null,4.2,4.8,5.0,5.0,null,null,null,4.3,4.3,4.5,4.5,5.0,3.8,4.4,5.0,4.7,null,4.7,2.2,4.6,4.6,4.7,4.6,4.4,3.8,3.6,4.9,4.8,null,4.4,5.0,4.8,null,null,4.6,5.0,4.6,5.0,null,4.0,4.3,4.5,4.0,3.2,4.6,4.2,4.8,3.0,4.3,3.9,3.2,3.9,4.8,3.5,4.4,4.1,4.2,4.7,4.0,4.4,4.2,5.0,3.5,3.8,null,4.5,4.1,null,4.3,null,4.3,4.4,null,null,null,null,null,4.0,4.3,4.0,4.9,4.7,null,null,null,4.3,4.2,4.1,4.3,4.7,3.2,3.9,4.2,4.1,4.9,null,3.7,3.5,4.9,null,3.3,4.9,3.4,null,4.5,4.3,5.0,3.5,null,null,4.4,3.7,null,4.8,null,4.3,4.9,null,null,null,null,null,null,5.0,4.3,4.3,null,null,4.4,1.0,4.5,null,4.0,5.0,4.9,4.7,4.5,3.9,null,3.2,3.5,null,3.7,3.0,4.2,4.0,4.1,null,4.7,4.0,3.1,4.4,3.2,3.9,4.2,4.7,4.0,null,null,4.0,3.7,4.1,4.4,4.0,3.9,3.6,null,null,4.6,null,4.4,1.9,4.3,4.5,4.1,3.8,4.1,4.6,3.7,3.9,4.4,null,4.5,null,null,4.3,4.4,3.5,4.3,4.5,4.5,4.4,4.2,4.3,null,3.6,4.0,3.8,null,null,4.4,3.8,3.9,4.1,4.3,3.5,null,4.3,null,4.7,4.5,3.8,4.5,4.2,4.3,4.1,4.6,4.6,4.5,4.5,3.0,2.6,3.4,4.4,4.2,4.0,4.7,3.4,3.7,3.7,4.5,3.9,5.0,4.3,4.2,null,4.0,null,4.5,4.0,4.4,1.8,4.3,5.0,5.0,null,3.2,4.2,4.6,3.8,3.9,4.2,null,4.0,3.8,4.1,3.9,4.4,2.1,1.8,4.2,2.0,null,null,3.4,4.3,3.6,3.7,4.7,4.5,4.6,3.6,null,null,4.4,4.6,null,null,null,2.3,null,null,3.8,null,3.0,5.0,4.5,4.4,4.5,4.8,4.3,3.8,null,4.3,3.7,4.5,null,4.3,null,4.4,3.4,4.5,1.6,null,null,4.5,null,null,null,null,null,null,4.4,3.8,4.3,4.3,3.0,4.0,4.2,4.8,4.0,4.5,null,4.7,1.9,4.9,4.4,4.7,null,4.9,4.8,null,null,4.5,null,null,4.6,4.5,null,5.0,null,3.9,null,null,4.3,null,4.8,4.3,4.6,null,null,4.1,4.5,4.3,3.8,2.4,4.3,2.8,4.5,4.6,4.1,4.2,4.6,4.3,4.6,5.0,5.0,3.9,4.2,3.9,4.2,null,null,null,3.5,null,4.0,null,3.7,3.8,4.3,null,null,4.5,4.6,null,4.5,4.3,4.4,null,null,4.6,null,3.9,null,3.9,3.1,3.9,4.4,4.4,4.4,4.6,3.9,4.6,2.5,4.6,2.8,4.0,3.4,3.8,4.5,4.8,3.3,3.9,3.5,4.5,4.0,null,3.6,null,4.7,3.9,5.0,4.6,3.9,4.9,3.6,3.7,3.9,2.7,3.8,2.8,3.5,4.1,null,4.7,4.3,4.5,4.1,null,null,4.8,null,null,null,3.4,5.0,null,null,4.3,4.4,1.8,4.2,3.3,null,5.0,null,null,null,4.8,null,4.5,5.0,4.5,4.7,null,4.6,null,null,4.5,null,null,3.5,null,null,3.5,2.9,null,null,5.0,null,null,null,null,4.3,null,4.8,4.7,4.3,4.1,5.0,5.0,null,null,null,4.0,null,4.3,null,4.1,5.0,null,5.0,null,null,null,4.0,null,null,3.5,null,null,null,4.1,null,null,4.6,null,null,null,4.1,4.2,4.2,2.2,4.3,4.7,3.8,null,4.1,null,3.1,4.2,null,3.0,4.8,3.7,3.1,4.6,2.9,4.2,4.7,4.5,2.8,null,4.4,4.4,4.1,4.6,3.0,4.1,4.2,null,4.4,3.9,null,null,null,null,4.3,4.5,4.5,3.6,2.0,4.0,4.5,4.0,4.3,null,4.5,4.8,4.5,null,null,4.2,4.5,4.6,null,null,3.9,null,null,4.3,3.9,4.3,3.7,4.7,4.3,1.7,4.5,null,4.7,null,5.0,null,null,null,4.6,2.9,null,4.8,2.3,null,3.8,4.2,null,4.4,null,4.0,4.1,3.4,4.3,4.0,4.2,4.1,4.7,4.2,3.9,3.8,4.1,4.2,3.8,4.7,3.7,4.3,4.0,4.2,4.6,4.7,4.7,4.3,4.2,3.5,4.7,4.7,4.5,4.5,4.7,4.6,4.6,4.9,4.2,4.3,4.4,4.4,4.5,4.3,4.4,4.4,3.0,4.8,4.7,4.6,4.0,3.7,3.5,2.7,4.7,4.1,4.5,4.6,4.5,4.4,4.3,4.4,4.5,4.6,4.7,4.6,3.1,3.9,4.7,4.6,4.7,null,5.0,4.4,4.8,null,4.1,null,4.3,4.4,4.7,4.0,3.4,4.6,null,2.8,null,3.1,null,3.9,null,4.2,4.5,null,4.1,null,4.2,null,null,3.3,4.4,null,4.4,4.6,4.4,4.5,4.1,2.2,4.2,4.8,null,null,3.2,4.3,4.0,4.6,4.4,4.5,null,3.4,null,null,3.3,4.2,null,2.4,3.2,3.1,3.8,null,4.8,3.7,4.2,3.7,3.0,3.9,4.0,5.0,null,4.0,2.7,3.1,4.1,4.5,4.0,3.8,3.8,4.3,3.5,4.5,3.9,null,4.5,null,null,3.3,4.1,null,null,5.0,null,3.7,4.8,1.5,5.0,4.6,null,null,5.0,4.7,null,4.7,null,5.0,4.5,null,5.0,null,null,5.0,4.2,1.0,4.5,4.2,5.0,4.2,4.4,3.9,4.6,3.8,null,null,4.0,null,null,null,4.6,null,null,3.4,null,5.0,4.6,null,null,null,null,5.0,null,null,null,null,3.0,null,3.8,4.2,4.3,null,null,null,null,null,null,4.4,3.2,null,null,null,3.5,4.4,4.5,3.7,5.0,4.5,4.5,4.1,null,3.4,4.1,null,null,5.0,4.2,4.1,4.1,null,4.2,4.3,null,5.0,4.4,null,4.3,4.5,null,4.8,4.4,null,null,null,4.4,null,null,null,null,null,4.7,null,null,null,null,null,4.3,4.4,4.6,2.8,5.0,4.4,4.4,2.0,5.0,4.4,5.0,null,3.4,4.4,null,3.4,null,null,3.3,1.5,null,null,null,5.0,null,4.3,4.3,null,null,null,null,2.2,4.6,null,null,5.0,null,null,4.7,null,null,null,null,null,null,4.7,3.5,4.3,3.6,4.3,3.6,2.6,4.7,4.5,4.0,4.6,5.0,4.2,null,null,4.2,null,4.7,4.5,3.6,3.8,4.2,3.8,3.5,4.1,null,null,5.0,null,4.2,4.1,null,null,3.6,4.3,4.1,4.4,null,null,4.0,5.0,5.0,null,3.8,4.3,4.7,4.5,4.4,4.7,4.4,3.7,4.3,null,4.0,3.9,null,4.9,3.5,3.5,null,4.4,4.2,null,null,null,4.3,null,4.7,4.5,4.4,4.2,4.4,3.3,4.4,4.9,4.5,4.7,4.7,3.9,4.7,4.7,null,4.4,4.8,4.8,4.0,3.7,5.0,3.0,3.9,null,null,4.6,4.6,4.3,4.2,null,5.0,null,4.5,null,4.2,null,1.0,null,4.6,null,null,null,null,null,null,4.1,4.7,null,null,null,4.4,4.8,4.2,null,null,5.0,4.6,4.5,5.0,2.9,null,4.4,null,null,3.0,4.5,2.4,4.3,3.9,1.9,4.4,5.0,4.0,4.7,3.9,5.0,4.2,4.2,2.8,4.2,1.0,3.9,4.1,4.1,3.2,null,5.0,null,5.0,4.3,4.1,3.8,4.0,null,4.2,5.0,4.1,5.0,null,3.7,null,null,4.1,3.5,3.9,4.2,3.8,3.7,4.7,2.8,4.7,4.3,4.1,null,4.7,4.2,4.0,3.2,4.6,5.0,4.4,4.5,4.0,4.6,4.7,null,4.1,4.5,4.3,null,5.0,5.0,4.2,4.0,null,5.0,2.7,4.1,null,null,4.4,null,4.3,4.1,4.7,4.4,null,null,3.6,4.0,4.1,4.0,4.1,4.0,4.6,null,null,null,null,5.0,3.6,4.1,4.3,4.1,2.6,2.7,3.8,5.0,4.2,null,5.0,2.6,4.4,4.3,null,null,4.7,2.8,4.1,null,3.6,null,null,4.0,null,null,5.0,5.0,4.7,4.7,4.6,4.7,4.6,4.6,4.6,4.6,4.6,4.4,3.8,4.1,3.4,4.5,4.5,4.5,4.0,4.7,4.4,4.4,4.7,4.7,4.2,4.2,4.0,3.6,4.7,4.4,4.3,4.4,4.4,4.4,4.3,3.3,3.6,4.5,4.5,4.6,4.3,3.6,4.3,4.4,4.1,4.2,4.8,4.2,null,4.0,3.7,4.5,4.1,4.6,4.5,4.7,4.3,4.3,4.6,4.1,4.2,4.3,4.2,4.3,3.6,4.2,4.2,4.0,4.6,4.3,4.4,4.5,4.3,3.7,4.2,4.7,4.6,4.5,4.1,4.5,4.3,3.4,4.2,3.9,4.4,4.1,4.3,3.9,4.0,null,5.0,4.2,4.3,4.5,4.5,3.9,null,4.5,3.5,3.6,1.9,4.3,3.2,1.6,4.2,4.9,4.4,3.6,3.4,null,4.7,2.9,4.3,4.4,4.3,4.6,4.6,4.2,3.5,null,2.9,4.4,4.7,4.5,4.4,2.0,4.7,4.4,4.4,4.4,null,4.5,3.5,4.2,3.7,4.4,3.4,4.3,3.6,4.6,4.6,4.2,4.3,3.8,1.4,4.4,null,4.0,null,4.6,3.9,3.8,4.7,4.2,4.3,4.1,4.3,4.2,null,3.6,4.6,null,4.3,5.0,5.0,5.0,4.5,3.8,3.9,null,null,4.8,4.1,4.0,4.8,4.8,4.4,null,4.1,null,null,null,4.4,4.3,3.7,4.3,null,null,4.3,2.7,4.4,null,4.5,null,4.2,null,3.7,null,5.0,null,4.2,3.9,null,4.5,null,3.5,4.7,4.2,4.4,4.7,4.6,4.0,null,2.5,null,null,3.8,4.7,4.5,4.6,4.6,5.0,3.9,5.0,null,2.3,null,3.6,4.0,3.7,4.2,4.1,4.4,4.6,4.2,4.4,4.3,4.0,4.5,3.9,3.7,4.6,null,3.8,4.7,null,3.4,4.5,4.1,4.3,4.6,4.3,4.3,4.0,null,3.5,2.3,null,3.9,4.1,4.5,4.6,4.4,3.1,4.3,3.3,5.0,null,4.2,3.8,3.3,null,5.0,1.0,4.5,4.6,4.3,4.4,4.1,4.5,4.2,3.7,4.1,3.9,4.5,3.6,3.2,3.5,3.7,4.6,4.8,4.1,4.4,4.3,null,4.0,3.1,4.2,4.1,null,3.5,4.3,3.8,4.3,4.8,2.3,4.3,4.4,3.6,5.0,null,4.3,4.2,4.3,4.7,3.9,4.4,4.4,4.3,2.6,4.3,null,3.8,4.2,4.2,4.1,4.0,4.4,4.7,null,2.6,4.3,5.0,3.7,4.3,4.1,4.3,3.8,4.5,5.0,null,null,3.9,3.8,4.6,null,4.6,4.7,5.0,null,4.5,null,4.3,3.5,3.3,null,4.8,3.9,null,4.5,null,3.4,5.0,5.0,null,null,4.8,3.6,null,4.3,4.0,4.5,4.6,4.7,3.8,3.4,4.7,4.0,4.6,2.0,4.3,2.0,3.6,4.7,3.5,4.0,3.5,4.3,4.1,4.6,3.8,4.3,3.8,1.0,3.8,3.3,4.8,3.0,4.0,3.6,3.8,4.3,3.9,4.2,4.6,4.0,4.5,4.6,4.6,4.5,3.7,4.4,4.6,3.9,4.4,4.5,4.5,4.3,3.7,3.9,3.9,4.3,4.1,4.1,4.4,4.4,4.2,4.5,4.6,4.4,4.4,4.4,3.8,2.6,4.2,4.4,4.2,4.0,4.2,4.0,4.4,4.5,3.2,4.3,3.4,2.3,4.4,4.3,null,4.3,3.6,4.6,4.2,4.0,4.4,4.5,3.2,1.7,2.2,3.8,4.8,null,4.4,4.5,4.8,4.6,3.7,4.4,3.5,3.8,3.8,4.3,null,4.6,null,4.5,null,3.7,null,4.8,4.3,5.0,3.9,3.0,null,5.0,null,4.4,4.6,3.9,3.3,4.1,3.0,4.2,4.2,4.2,4.0,4.0,3.2,4.6,3.2,4.1,3.3,4.4,4.0,4.2,4.1,4.3,3.3,4.7,4.4,3.1,3.1,3.3,3.9,3.4,3.9,4.4,3.9,3.7,4.5,4.7,null,4.6,null,5.0,3.0,null,3.9,null,5.0,3.9,null,null,null,null,null,null,3.8,null,3.6,3.9,3.8,null,4.8,null,null,null,null,4.4,4.5,4.0,4.7,4.8,4.7,4.7,4.5,4.0,null,3.2,null,null,4.7,4.5,null,4.5,4.9,4.2,5.0,5.0,null,5.0,null,null,4.2,4.7,null,null,4.5,null,null,null,4.5,4.5,3.8,4.5,null,4.3,3.9,3.9,4.2,4.5,4.1,4.4,4.1,4.6,3.3,4.5,2.2,4.4,3.9,4.5,2.8,3.3,null,4.5,null,null,3.1,3.2,4.4,4.1,null,5.0,null,null,3.8,null,null,4.3,4.6,null,null,3.7,4.9,4.3,5.0,null,null,2.9,4.4,4.4,null,4.6,4.5,4.0,null,3.5,4.8,4.8,3.5,4.7,4.6,4.4,4.3,4.7,4.4,4.0,3.5,4.6,3.9,3.5,4.6,4.2,4.4,4.6,4.0,4.2,3.8,4.1,4.3,4.4,4.5,4.1,4.2,4.0,3.6,3.3,4.7,4.6,4.5,3.9,4.3,null,3.9,4.3,null,null,3.1,4.4,3.7,4.6,4.6,2.7,null,null,4.1,4.2,1.9,4.6,null,4.2,null,4.4,4.2,3.9,2.4,5.0,3.9,null,3.7,5.0,4.0,3.0,4.1,4.8,4.5,3.5,null,null,null,4.5,4.5,4.2,4.3,4.4,4.4,4.3,4.2,4.5,4.3,4.3,4.2,4.9,4.1,1.4,4.0,5.0,4.3,null,4.2,4.3,3.8,4.1,4.2,4.3,4.1,4.3,3.6,4.3,4.6,4.4,5.0,4.4,4.5,null,4.7,null,5.0,null,null,3.4,3.1,4.5,5.0,4.3,4.4,4.3,4.2,4.0,4.5,4.0,4.1,3.8,4.3,4.6,4.1,4.3,4.3,4.2,4.3,4.4,4.4,3.9,4.3,4.5,4.3,3.5,4.2,4.1,4.1,4.7,4.5,3.3,4.2,null,null,4.2,4.6,null,4.3,4.3,4.0,4.7,5.0,null,null,null,null,null,null,null,5.0,4.9,null,null,null,null,null,null,4.3,null,null,null,4.0,null,null,4.5,null,4.1,4.3,null,null,null,4.5,null,null,3.9,3.7,4.2,3.6,3.6,2.1,4.7,3.2,3.0,4.3,3.0,4.3,3.9,3.3,4.3,4.0,3.7,2.8,4.4,5.0,3.9,4.2,4.8,4.0,null,3.0,4.5,2.6,5.0,null,null,5.0,4.1,null,4.5,5.0,4.7,4.5,4.4,4.4,4.3,4.2,3.0,4.1,4.2,4.2,4.0,4.3,4.1,3.6,4.3,5.0,4.2,3.9,null,4.1,3.8,5.0,3.7,4.3,4.2,4.3,2.5,4.3,4.4,null,4.3,4.2,4.6,4.0,2.9,null,4.5,4.7,3.8,null,4.7,3.9,4.5,4.7,4.5,4.2,4.3,4.4,4.8,4.2,4.1,4.5,4.5,4.6,4.4,4.1,4.3,4.7,4.4,4.2,4.3,4.5,4.3,4.8,4.5,4.6,4.7,4.4,4.1,4.3,4.2,4.2,3.6,2.8,3.9,3.8,4.4,3.7,2.7,3.8,3.2,3.9,2.3,4.1,4.3,3.1,4.6,4.1,4.4,3.2,4.5,3.7,null,null,null,4.4,4.5,5.0,4.8,null,4.6,4.0,4.1,null,4.1,null,null,4.8,null,null,null,4.3,2.8,null,null,4.7,4.5,4.2,4.3,3.8,3.8,4.2,3.8,4.0,4.0,4.6,4.0,4.3,4.3,3.9,5.0,4.0,4.1,3.9,4.2,4.3,4.5,4.4,4.1,4.2,4.5,4.6,4.1,3.9,4.7,3.9,4.3,2.9,4.4,3.7,4.4,4.1,null,2.8,4.9,3.4,2.8,2.5,4.7,3.1,null,3.2,4.3,3.9,3.6,3.2,null,3.5,3.3,null,null,null,null,2.4,4.4,2.8,5.0,null,4.4,null,null,null,null,null,null,null,5.0,null,3.3,2.9,4.1,4.6,null,2.2,4.3,5.0,2.5,null,3.0,3.7,5.0,null,null,null,null,5.0,null,null,4.1,null,null,null,4.1,2.6,4.6,4.5,null,4.5,null,3.3,null,4.4,4.7,4.7,4.0,4.5,4.3,4.6,4.7,4.4,4.0,4.2,4.3,4.1,4.5,4.3,4.3,4.7,4.1,4.3,4.4,3.1,4.0,4.5,4.5,4.4,4.2,4.6,4.4,4.6,4.0,4.6,4.3,4.3,3.9,4.5,4.7,4.3,4.6,4.6,4.2,4.3,4.6,4.2,4.1,4.6,4.4,3.7,4.4,3.9,4.3,4.3,4.3,4.5,4.5,4.5,4.5,4.7,4.3,4.4,4.5,4.3,4.3,4.2,4.2,4.3,4.2,4.7,4.1,4.3,4.1,3.8,4.5,4.1,null,4.3,4.5,4.1,4.4,4.3,4.4,4.3,null,4.1,4.6,4.7,4.2,3.7,4.7,4.4,4.7,4.2,4.6,4.5,4.8,3.7,4.3,4.2,3.6,4.1,2.3,4.3,4.6,4.5,4.0,4.2,4.6,4.2,4.5,4.3,4.4,3.6,4.0,null,2.8,3.8,4.1,3.8,3.4,4.5,4.3,3.1,4.6,3.3,3.9,4.2,4.9,3.9,3.4,3.7,4.2,3.8,4.6,4.4,4.0,4.2,null,4.2,4.5,4.6,4.4,4.6,4.5,3.7,4.1,4.2,4.0,4.5,4.6,4.5,4.4,3.3,4.2,4.2,4.0,4.0,4.0,3.5,4.5,3.9,3.9,4.1,4.4,4.2,4.4,4.3,4.1,4.0,4.3,4.4,4.5,4.6,3.7,3.8,3.4,4.3,3.8,4.7,4.4,4.4,4.1,4.4,4.0,3.9,4.3,4.2,3.3,4.0,4.6,4.1,4.1,3.4,3.4,4.1,4.0,3.4,3.2,3.8,3.8,3.9,3.6,3.8,3.9,3.2,1.0,4.6,null,3.6,4.9,null,2.6,3.9,null,3.5,3.2,null,3.3,null,null,3.8,3.9,4.6,1.8,null,4.3,3.9,null,4.8,3.7,4.0,4.1,4.6,4.0,null,4.8,null,4.0,3.5,null,3.0,4.6,1.6,3.8,1.7,4.6,5.0,4.6,4.4,4.5,3.8,4.0,4.1,null,5.0,null,null,null,null,5.0,1.0,null,null,4.4,4.7,4.6,2.4,null,4.5,null,null,4.4,4.3,5.0,4.1,3.8,3.9,3.1,4.7,4.5,3.5,4.5,4.6,4.5,4.5,4.4,4.3,4.4,4.2,4.6,4.5,3.8,4.3,4.6,4.3,3.6,4.2,4.7,4.3,4.7,4.8,3.1,4.5,4.4,4.5,4.5,null,4.7,4.1,4.4,4.3,4.6,3.4,null,4.7,3.6,3.7,2.1,2.0,3.5,4.3,2.4,4.5,2.8,null,4.5,null,2.8,3.9,3.2,3.1,2.4,4.6,2.9,4.0,3.7,2.3,2.9,4.6,4.3,5.0,4.2,4.6,4.5,4.2,4.8,3.5,4.6,3.5,3.6,null,5.0,3.0,null,null,2.9,3.7,4.6,null,4.2,3.2,2.5,4.4,4.3,2.7,4.0,4.5,3.4,4.3,4.3,null,4.3,null,null,4.0,4.9,3.4,4.9,4.3,4.7,4.8,4.3,4.3,4.0,null,3.5,null,5.0,4.7,null,4.2,4.4,4.2,5.0,null,5.0,2.0,null,3.7,null,null,null,3.9,4.5,null,null,null,3.1,4.5,4.7,null,4.4,3.8,4.2,4.5,null,4.5,4.6,4.2,4.5,4.2,4.2,4.1,4.3,5.0,4.6,4.0,4.4,null,4.5,3.6,4.6,null,4.0,4.6,4.5,4.5,null,null,null,4.8,5.0,4.4,null,4.0,3.5,5.0,4.0,4.2,4.0,3.9,4.5,3.6,4.2,3.0,3.0,4.0,3.4,4.9,null,null,null,null,4.0,4.4,4.1,4.4,4.0,null,4.5,4.2,3.9,null,3.6,5.0,4.4,3.6,4.7,4.2,4.5,4.7,null,null,4.3,4.2,4.4,null,4.7,4.4,null,4.1,4.5,4.1,4.0,null,null,4.3,4.2,null,4.2,null,4.1,4.2,null,5.0,4.0,4.0,4.5,null,4.1,null,4.7,4.4,4.9,3.6,4.2,null,4.4,null,4.5,4.2,null,null,4.2,null,4.5,4.4,4.4,4.5,4.5,3.9,4.3,4.4,null,4.5,4.0,4.5,4.0,4.4,4.3,2.5,4.4,3.8,4.4,4.2,4.1,4.2,3.9,4.5,4.1,4.4,4.3,4.5,3.4,3.4,4.4,4.2,4.4,3.5,4.1,4.6,1.7,3.3,5.0,4.8,null,4.6,3.3,null,4.2,null,3.5,3.7,5.0,null,null,4.6,4.1,3.5,5.0,null,3.7,4.0,null,null,4.2,null,4.5,3.8,2.5,4.0,null,4.0,4.1,null,null,3.4,3.6,3.4,3.9,4.6,4.3,4.7,5.0,3.9,3.9,4.2,4.3,3.5,null,4.1,4.2,4.4,4.5,3.8,3.4,null,3.9,4.5,null,null,3.0,null,4.1,4.6,null,3.9,4.7,4.5,3.4,5.0,5.0,5.0,4.0,null,null,4.0,null,4.9,5.0,null,4.6,null,4.8,4.1,4.1,null,null,4.7,null,5.0,4.4,3.3,4.0,3.5,2.8,null,3.6,3.2,3.6,3.7,3.3,3.1,4.1,3.1,3.5,3.6,5.0,2.3,null,3.1,2.9,3.0,2.9,3.9,5.0,null,3.4,5.0,null,4.8,null,4.2,null,null,null,5.0,null,4.3,4.6,4.7,null,4.4,4.8,null,null,4.1,null,4.6,4.3,4.6,4.0,2.9,4.1,null,null,null,null,4.2,null,4.3,4.4,2.4,4.2,null,null,null,3.1,null,3.0,4.7,3.4,null,4.7,4.7,4.2,5.0,4.5,4.3,3.3,4.4,null,4.2,4.2,4.7,4.3,4.8,4.2,4.0,4.2,4.1,4.6,4.6,3.8,4.5,4.4,4.1,4.0,3.9,3.5,5.0,4.6,null,3.6,4.2,null,null,3.8,null,3.4,3.8,4.2,4.2,3.7,4.0,4.4,4.5,3.7,4.2,3.9,4.0,3.7,4.2,4.0,3.9,4.1,4.3,4.5,4.5,3.3,4.4,4.2,4.2,4.1,4.1,4.4,4.1,3.9,3.9,4.4,3.8,3.0,3.4,4.3,null,null,5.0,null,4.1,null,2.4,3.9,null,null,null,4.0,null,3.0,null,4.4,3.4,2.9,5.0,4.5,3.7,3.0,null,4.0,3.2,3.6,3.2,3.7,4.7,4.4,3.9,4.4,4.3,4.9,2.6,5.0,4.1,4.0,4.1,null,3.3,4.2,4.0,4.3,null,4.4,5.0,4.3,4.4,null,null,null,3.9,4.3,4.0,3.8,4.5,null,3.8,4.4,4.3,4.7,3.9,4.2,3.8,4.3,3.8,4.2,4.5,4.2,3.6,4.0,null,3.5,4.4,3.5,4.1,4.8,4.4,4.3,4.0,4.2,4.4,3.5,4.3,4.4,4.7,5.0,3.8,5.0,4.8,4.9,4.3,null,5.0,null,4.9,4.9,4.9,4.5,null,4.5,5.0,5.0,3.0,null,null,4.9,5.0,5.0,null,4.1,null,4.1,4.3,4.3,4.1,4.7,null,4.9,4.0,5.0,5.0,null,4.6,4.2,3.7,5.0,4.3,4.0,4.3,4.0,4.0,3.1,3.4,4.2,4.2,4.1,3.4,null,4.0,null,3.9,4.8,4.1,4.3,4.3,4.4,null,4.4,4.5,4.5,4.8,4.4,4.5,4.6,4.6,4.5,null,4.2,4.4,4.2,4.7,4.5,4.2,4.5,4.2,4.7,4.1,4.1,4.6,4.4,4.5,3.8,3.9,3.5,3.8,4.2,4.6,3.7,4.4,3.6,3.4,4.0,4.3,4.3,4.5,4.4,4.5,4.1,4.4,4.3,4.5,4.5,4.2,4.5,4.3,4.1,4.6,4.3,4.0,4.4,4.4,null,4.6,4.6,4.3,4.3,4.2,4.5,4.0,4.6,4.5,3.8,4.3,4.3,4.9,4.0,4.5,4.1,4.5,4.2,4.4,4.4,4.0,4.3,4.3,4.4,4.4,4.0,4.7,4.2,4.5,4.1,4.4,4.1,4.3,3.5,4.7,null,2.6,4.2,null,null,null,null,null,null,null,null,5.0,null,4.3,null,null,null,null,null,4.4,4.3,null,null,4.1,null,4.3,4.5,null,4.6,4.6,4.7,null,4.3,4.2,4.5,4.3,4.5,3.5,4.3,4.6,4.5,4.3,4.4,null,null,null,3.4,4.3,3.8,4.5,null,null,null,5.0,4.9,null,null,5.0,null,null,4.2,4.3,4.4,2.3,4.7,null,null,null,4.4,4.3,4.4,null,4.0,3.6,null,4.1,4.6,3.9,4.4,null,3.7,3.9,null,4.3,4.1,3.6,3.5,3.9,3.9,3.8,4.0,null,4.5,3.6,3.9,4.3,4.0,4.2,3.7,3.9,4.2,3.5,4.0,3.8,4.1,4.2,4.1,4.4,3.7,null,4.7,3.8,4.0,4.2,3.8,3.9,4.0,3.1,5.0,3.5,4.1,4.5,4.7,4.1,null,3.9,4.0,4.3,3.1,null,4.2,4.1,4.4,3.2,null,3.3,4.3,4.7,4.3,4.2,4.7,4.3,4.2,4.2,4.2,4.1,4.2,4.3,4.4,4.3,3.5,4.3,1.8,4.2,4.2,4.6,4.0,4.3,5.0,3.8,4.3,3.0,5.0,4.7,4.6,4.4,4.7,5.0,4.8,3.0,4.6,4.6,null,4.1,4.6,4.5,4.3,4.2,3.9,4.7,4.9,4.3,4.4,3.6,4.6,4.5,null,3.9,4.3,4.8,3.7,4.4,4.2,4.3,4.6,4.5,3.9,4.3,4.4,4.0,4.7,4.3,4.5,4.2,4.2,4.8,4.6,4.5,4.0,4.2,4.1,4.7,4.2,4.6,4.5,3.9,3.6,4.6,null,3.4,4.2,3.4,3.6,4.2,3.5,4.3,null,3.9,4.3,3.6,null,3.9,4.3,3.7,null,3.8,null,4.1,4.1,4.7,4.1,null,1.9,3.6,3.8,null,4.5,2.7,null,4.5,null,5.0,4.0,4.2,null,null,4.4,null,4.0,null,3.1,null,null,5.0,null,null,null,null,null,null,null,null,null,4.7,3.7,3.9,null,null,3.0,null,null,null,null,null,4.2,3.0,null,null,4.2,null,null,4.2,3.7,4.6,4.5,4.6,4.7,4.3,2.3,2.8,2.8,3.6,3.0,3.2,3.5,3.8,3.5,4.2,null,4.5,3.4,3.0,4.4,4.0,null,4.3,null,4.1,3.6,3.7,4.2,3.7,4.3,null,null,3.3,4.4,4.8,3.5,4.0,4.9,4.0,null,4.6,4.3,3.6,3.9,3.9,4.0,4.2,4.4,null,null,4.3,null,null,null,null,3.7,null,4.3,null,null,3.4,null,3.5,null,4.2,4.2,null,3.6,null,3.9,3.8,3.8,4.0,4.5,3.8,4.9,3.8,4.1,3.5,3.0,4.5,4.7,3.8,3.3,4.0,4.1,3.7,3.9,3.5,4.4,4.0,4.0,4.6,4.4,4.5,4.3,4.4,4.3,4.1,4.2,2.7,4.2,2.3,3.9,4.1,2.9,3.3,4.2,4.3,2.9,3.5,2.8,null,4.3,3.5,4.6,4.2,4.2,3.7,4.7,3.9,4.3,4.4,4.0,4.4,3.7,4.3,3.5,null,4.3,4.0,4.5,4.2,4.3,4.1,2.5,2.7,null,null,null,null,1.2,null,null,null,4.7,4.9,4.7,null,null,4.4,4.7,4.0,null,4.7,4.3,null,4.7,null,4.4,null,null,null,null,null,null,4.6,null,null,null,4.4,4.4,4.4,4.6,3.1,4.3,3.7,4.6,null,4.1,4.2,4.4,4.1,3.6,4.4,3.8,4.0,3.2,2.8,3.1,2.9,4.1,3.3,3.5,4.2,2.8,2.1,4.4,4.4,4.2,4.1,3.3,3.5,4.7,3.1,4.3,4.1,4.2,2.5,3.9,3.0,3.2,4.3,4.3,4.2,4.3,2.2,3.9,2.8,4.4,4.6,4.4,3.9,2.9,4.1,5.0,4.6,3.7,null,4.4,4.2,4.4,3.9,3.6,3.4,null,4.3,4.3,4.4,null,4.3,4.3,null,null,null,4.4,null,4.0,4.5,4.6,4.3,4.1,4.4,3.5,4.1,3.8,4.2,4.3,4.5,4.0,4.0,4.3,4.1,3.4,4.0,4.3,4.7,4.5,4.3,4.1,4.1,4.4,4.6,null,3.8,3.9,4.2,4.2,3.7,4.3,4.2,3.6,4.3,4.3,4.3,4.5,4.3,4.7,3.8,4.0,4.1,null,3.9,4.3,3.4,null,4.2,4.5,4.4,4.2,4.7,4.6,4.4,4.4,4.8,4.6,4.3,4.4,4.4,3.3,4.5,4.6,4.3,4.9,4.3,null,4.5,4.9,3.7,4.5,4.6,4.5,4.1,4.8,null,5.0,3.4,4.5,4.8,4.5,4.5,4.5,4.5,4.5,4.1,4.1,3.6,4.7,4.6,4.9,4.6,4.1,4.5,3.9,3.9,4.6,3.8,4.7,3.9,4.1,3.9,4.0,4.3,4.0,4.4,4.1,5.0,4.8,null,4.6,5.0,4.2,4.7,4.0,4.4,4.9,3.5,4.1,4.2,4.4,null,4.5,3.1,null,4.5,4.6,4.3,4.4,4.6,4.3,4.8,2.8,4.1,1.0,3.0,5.0,4.5,null,null,null,null,null,null,null,5.0,4.1,null,null,null,4.4,3.0,null,3.8,null,3.9,null,null,null,5.0,null,null,null,4.5,null,null,null,5.0,null,null,3.3,null,4.5,4.9,null,null,null,null,null,null,4.3,4.5,4.1,4.8,3.8,4.1,3.9,null,4.2,4.2,4.8,4.1,4.1,4.0,3.9,4.1,4.1,4.2,3.7,3.9,3.9,3.6,3.7,3.6,4.3,3.9,4.5,2.6,4.4,null,1.0,null,null,null,null,4.2,4.8,5.0,4.3,4.4,4.5,null,4.9,null,null,null,5.0,null,null,4.2,4.2,null,null,4.0,2.1,null,4.2,null,2.5,4.4,4.4,4.6,null,null,4.4,4.2,4.5,3.3,3.9,null,4.5,4.1,4.8,4.6,4.4,3.8,3.7,4.2,3.7,4.3,4.5,3.5,4.0,4.5,2.9,3.9,3.6,4.6,2.1,4.7,4.5,4.1,4.5,3.7,2.9,4.0,4.2,3.7,3.6,3.9,3.4,3.5,4.2,3.4,3.9,3.0,3.6,3.2,4.1,4.1,4.2,4.2,null,4.7,null,4.6,4.5,null,4.3,4.5,4.5,4.4,4.3,null,null,null,null,4.2,null,3.7,null,4.1,4.3,4.0,3.5,4.2,4.4,4.2,4.4,null,3.8,3.9,4.0,3.8,3.6,4.2,null,3.8,null,3.7,4.0,4.2,4.4,null,null,4.4,4.9,null,5.0,null,4.8,null,null,null,null,null,null,null,null,4.0,null,null,null,null,null,null,null,null,4.0,null,null,4.9,null,3.8,null,4.9,null,null,null,null,null,1.5,null,5.0,null,4.8,null,3.9,3.7,4.6,4.7,4.6,4.3,4.2,4.6,4.7,4.6,2.0,3.6,3.2,3.8,4.0,3.8,3.8,4.4,4.4,4.4,3.8,4.3,4.6,1.0,3.2,4.7,4.3,4.5,4.1,4.9,4.1,4.2,3.5,4.2,5.0,3.8,4.7,null,null,4.5,null,5.0,3.3,5.0,null,4.0,4.5,3.2,4.5,4.2,null,3.7,3.8,5.0,null,4.1,2.9,null,null,null,4.7,5.0,3.2,null,3.8,3.8,4.6,4.6,4.4,4.8,4.2,3.3,3.9,4.5,3.9,4.3,4.4,3.9,4.6,3.9,3.4,4.6,null,null,4.2,null,null,4.8,5.0,null,null,5.0,null,null,null,3.8,null,2.9,4.6,3.8,null,null,null,4.1,null,4.5,null,4.2,null,2.5,3.5,4.6,4.4,4.6,4.3,4.2,4.2,4.1,4.2,4.3,4.5,4.4,5.0,4.6,null,null,null,null,null,5.0,null,null,null,null,null,3.4,null,null,4.6,4.5,null,null,3.8,4.1,4.4,4.4,4.4,3.0,4.2,4.2,3.9,4.2,4.4,5.0,4.0,4.3,4.6,3.6,4.4,4.1,4.2,4.3,4.5,3.9,4.3,3.5,null,null,null,4.0,3.8,3.6,4.3,4.2,5.0,3.4,null,null,null,3.5,null,3.7,4.2,null,3.6,4.5,4.2,4.3,4.4,2.7,4.1,null,4.4,null,null,4.5,null,3.4,2.9,4.8,3.8,null,4.0,3.9,null,null,null,null,5.0,3.9,4.0,3.6,4.1,4.3,3.8,4.2,4.3,4.2,4.2,4.1,null,4.0,4.1,4.0,4.2,4.4,null,4.2,4.7,4.6,null,4.7,4.1,4.9,4.0,4.3,4.2,4.3,null,null,null,4.7,4.8,null,4.1,null,4.0,4.2,null,4.0,null,3.3,5.0,null,null,null,null,null,4.0,4.2,3.4,4.6,3.8,null,3.8,4.8,4.0,null,4.5,5.0,null,4.5,4.5],\"y0\":\" \",\"yaxis\":\"y\",\"type\":\"box\"}],                        {\"template\":{\"data\":{\"bar\":[{\"error_x\":{\"color\":\"#2a3f5f\"},\"error_y\":{\"color\":\"#2a3f5f\"},\"marker\":{\"line\":{\"color\":\"#E5ECF6\",\"width\":0.5},\"pattern\":{\"fillmode\":\"overlay\",\"size\":10,\"solidity\":0.2}},\"type\":\"bar\"}],\"barpolar\":[{\"marker\":{\"line\":{\"color\":\"#E5ECF6\",\"width\":0.5},\"pattern\":{\"fillmode\":\"overlay\",\"size\":10,\"solidity\":0.2}},\"type\":\"barpolar\"}],\"carpet\":[{\"aaxis\":{\"endlinecolor\":\"#2a3f5f\",\"gridcolor\":\"white\",\"linecolor\":\"white\",\"minorgridcolor\":\"white\",\"startlinecolor\":\"#2a3f5f\"},\"baxis\":{\"endlinecolor\":\"#2a3f5f\",\"gridcolor\":\"white\",\"linecolor\":\"white\",\"minorgridcolor\":\"white\",\"startlinecolor\":\"#2a3f5f\"},\"type\":\"carpet\"}],\"choropleth\":[{\"colorbar\":{\"outlinewidth\":0,\"ticks\":\"\"},\"type\":\"choropleth\"}],\"contour\":[{\"colorbar\":{\"outlinewidth\":0,\"ticks\":\"\"},\"colorscale\":[[0.0,\"#0d0887\"],[0.1111111111111111,\"#46039f\"],[0.2222222222222222,\"#7201a8\"],[0.3333333333333333,\"#9c179e\"],[0.4444444444444444,\"#bd3786\"],[0.5555555555555556,\"#d8576b\"],[0.6666666666666666,\"#ed7953\"],[0.7777777777777778,\"#fb9f3a\"],[0.8888888888888888,\"#fdca26\"],[1.0,\"#f0f921\"]],\"type\":\"contour\"}],\"contourcarpet\":[{\"colorbar\":{\"outlinewidth\":0,\"ticks\":\"\"},\"type\":\"contourcarpet\"}],\"heatmap\":[{\"colorbar\":{\"outlinewidth\":0,\"ticks\":\"\"},\"colorscale\":[[0.0,\"#0d0887\"],[0.1111111111111111,\"#46039f\"],[0.2222222222222222,\"#7201a8\"],[0.3333333333333333,\"#9c179e\"],[0.4444444444444444,\"#bd3786\"],[0.5555555555555556,\"#d8576b\"],[0.6666666666666666,\"#ed7953\"],[0.7777777777777778,\"#fb9f3a\"],[0.8888888888888888,\"#fdca26\"],[1.0,\"#f0f921\"]],\"type\":\"heatmap\"}],\"heatmapgl\":[{\"colorbar\":{\"outlinewidth\":0,\"ticks\":\"\"},\"colorscale\":[[0.0,\"#0d0887\"],[0.1111111111111111,\"#46039f\"],[0.2222222222222222,\"#7201a8\"],[0.3333333333333333,\"#9c179e\"],[0.4444444444444444,\"#bd3786\"],[0.5555555555555556,\"#d8576b\"],[0.6666666666666666,\"#ed7953\"],[0.7777777777777778,\"#fb9f3a\"],[0.8888888888888888,\"#fdca26\"],[1.0,\"#f0f921\"]],\"type\":\"heatmapgl\"}],\"histogram\":[{\"marker\":{\"pattern\":{\"fillmode\":\"overlay\",\"size\":10,\"solidity\":0.2}},\"type\":\"histogram\"}],\"histogram2d\":[{\"colorbar\":{\"outlinewidth\":0,\"ticks\":\"\"},\"colorscale\":[[0.0,\"#0d0887\"],[0.1111111111111111,\"#46039f\"],[0.2222222222222222,\"#7201a8\"],[0.3333333333333333,\"#9c179e\"],[0.4444444444444444,\"#bd3786\"],[0.5555555555555556,\"#d8576b\"],[0.6666666666666666,\"#ed7953\"],[0.7777777777777778,\"#fb9f3a\"],[0.8888888888888888,\"#fdca26\"],[1.0,\"#f0f921\"]],\"type\":\"histogram2d\"}],\"histogram2dcontour\":[{\"colorbar\":{\"outlinewidth\":0,\"ticks\":\"\"},\"colorscale\":[[0.0,\"#0d0887\"],[0.1111111111111111,\"#46039f\"],[0.2222222222222222,\"#7201a8\"],[0.3333333333333333,\"#9c179e\"],[0.4444444444444444,\"#bd3786\"],[0.5555555555555556,\"#d8576b\"],[0.6666666666666666,\"#ed7953\"],[0.7777777777777778,\"#fb9f3a\"],[0.8888888888888888,\"#fdca26\"],[1.0,\"#f0f921\"]],\"type\":\"histogram2dcontour\"}],\"mesh3d\":[{\"colorbar\":{\"outlinewidth\":0,\"ticks\":\"\"},\"type\":\"mesh3d\"}],\"parcoords\":[{\"line\":{\"colorbar\":{\"outlinewidth\":0,\"ticks\":\"\"}},\"type\":\"parcoords\"}],\"pie\":[{\"automargin\":true,\"type\":\"pie\"}],\"scatter\":[{\"marker\":{\"colorbar\":{\"outlinewidth\":0,\"ticks\":\"\"}},\"type\":\"scatter\"}],\"scatter3d\":[{\"line\":{\"colorbar\":{\"outlinewidth\":0,\"ticks\":\"\"}},\"marker\":{\"colorbar\":{\"outlinewidth\":0,\"ticks\":\"\"}},\"type\":\"scatter3d\"}],\"scattercarpet\":[{\"marker\":{\"colorbar\":{\"outlinewidth\":0,\"ticks\":\"\"}},\"type\":\"scattercarpet\"}],\"scattergeo\":[{\"marker\":{\"colorbar\":{\"outlinewidth\":0,\"ticks\":\"\"}},\"type\":\"scattergeo\"}],\"scattergl\":[{\"marker\":{\"colorbar\":{\"outlinewidth\":0,\"ticks\":\"\"}},\"type\":\"scattergl\"}],\"scattermapbox\":[{\"marker\":{\"colorbar\":{\"outlinewidth\":0,\"ticks\":\"\"}},\"type\":\"scattermapbox\"}],\"scatterpolar\":[{\"marker\":{\"colorbar\":{\"outlinewidth\":0,\"ticks\":\"\"}},\"type\":\"scatterpolar\"}],\"scatterpolargl\":[{\"marker\":{\"colorbar\":{\"outlinewidth\":0,\"ticks\":\"\"}},\"type\":\"scatterpolargl\"}],\"scatterternary\":[{\"marker\":{\"colorbar\":{\"outlinewidth\":0,\"ticks\":\"\"}},\"type\":\"scatterternary\"}],\"surface\":[{\"colorbar\":{\"outlinewidth\":0,\"ticks\":\"\"},\"colorscale\":[[0.0,\"#0d0887\"],[0.1111111111111111,\"#46039f\"],[0.2222222222222222,\"#7201a8\"],[0.3333333333333333,\"#9c179e\"],[0.4444444444444444,\"#bd3786\"],[0.5555555555555556,\"#d8576b\"],[0.6666666666666666,\"#ed7953\"],[0.7777777777777778,\"#fb9f3a\"],[0.8888888888888888,\"#fdca26\"],[1.0,\"#f0f921\"]],\"type\":\"surface\"}],\"table\":[{\"cells\":{\"fill\":{\"color\":\"#EBF0F8\"},\"line\":{\"color\":\"white\"}},\"header\":{\"fill\":{\"color\":\"#C8D4E3\"},\"line\":{\"color\":\"white\"}},\"type\":\"table\"}]},\"layout\":{\"annotationdefaults\":{\"arrowcolor\":\"#2a3f5f\",\"arrowhead\":0,\"arrowwidth\":1},\"autotypenumbers\":\"strict\",\"coloraxis\":{\"colorbar\":{\"outlinewidth\":0,\"ticks\":\"\"}},\"colorscale\":{\"diverging\":[[0,\"#8e0152\"],[0.1,\"#c51b7d\"],[0.2,\"#de77ae\"],[0.3,\"#f1b6da\"],[0.4,\"#fde0ef\"],[0.5,\"#f7f7f7\"],[0.6,\"#e6f5d0\"],[0.7,\"#b8e186\"],[0.8,\"#7fbc41\"],[0.9,\"#4d9221\"],[1,\"#276419\"]],\"sequential\":[[0.0,\"#0d0887\"],[0.1111111111111111,\"#46039f\"],[0.2222222222222222,\"#7201a8\"],[0.3333333333333333,\"#9c179e\"],[0.4444444444444444,\"#bd3786\"],[0.5555555555555556,\"#d8576b\"],[0.6666666666666666,\"#ed7953\"],[0.7777777777777778,\"#fb9f3a\"],[0.8888888888888888,\"#fdca26\"],[1.0,\"#f0f921\"]],\"sequentialminus\":[[0.0,\"#0d0887\"],[0.1111111111111111,\"#46039f\"],[0.2222222222222222,\"#7201a8\"],[0.3333333333333333,\"#9c179e\"],[0.4444444444444444,\"#bd3786\"],[0.5555555555555556,\"#d8576b\"],[0.6666666666666666,\"#ed7953\"],[0.7777777777777778,\"#fb9f3a\"],[0.8888888888888888,\"#fdca26\"],[1.0,\"#f0f921\"]]},\"colorway\":[\"#636efa\",\"#EF553B\",\"#00cc96\",\"#ab63fa\",\"#FFA15A\",\"#19d3f3\",\"#FF6692\",\"#B6E880\",\"#FF97FF\",\"#FECB52\"],\"font\":{\"color\":\"#2a3f5f\"},\"geo\":{\"bgcolor\":\"white\",\"lakecolor\":\"white\",\"landcolor\":\"#E5ECF6\",\"showlakes\":true,\"showland\":true,\"subunitcolor\":\"white\"},\"hoverlabel\":{\"align\":\"left\"},\"hovermode\":\"closest\",\"mapbox\":{\"style\":\"light\"},\"paper_bgcolor\":\"white\",\"plot_bgcolor\":\"#E5ECF6\",\"polar\":{\"angularaxis\":{\"gridcolor\":\"white\",\"linecolor\":\"white\",\"ticks\":\"\"},\"bgcolor\":\"#E5ECF6\",\"radialaxis\":{\"gridcolor\":\"white\",\"linecolor\":\"white\",\"ticks\":\"\"}},\"scene\":{\"xaxis\":{\"backgroundcolor\":\"#E5ECF6\",\"gridcolor\":\"white\",\"gridwidth\":2,\"linecolor\":\"white\",\"showbackground\":true,\"ticks\":\"\",\"zerolinecolor\":\"white\"},\"yaxis\":{\"backgroundcolor\":\"#E5ECF6\",\"gridcolor\":\"white\",\"gridwidth\":2,\"linecolor\":\"white\",\"showbackground\":true,\"ticks\":\"\",\"zerolinecolor\":\"white\"},\"zaxis\":{\"backgroundcolor\":\"#E5ECF6\",\"gridcolor\":\"white\",\"gridwidth\":2,\"linecolor\":\"white\",\"showbackground\":true,\"ticks\":\"\",\"zerolinecolor\":\"white\"}},\"shapedefaults\":{\"line\":{\"color\":\"#2a3f5f\"}},\"ternary\":{\"aaxis\":{\"gridcolor\":\"white\",\"linecolor\":\"white\",\"ticks\":\"\"},\"baxis\":{\"gridcolor\":\"white\",\"linecolor\":\"white\",\"ticks\":\"\"},\"bgcolor\":\"#E5ECF6\",\"caxis\":{\"gridcolor\":\"white\",\"linecolor\":\"white\",\"ticks\":\"\"}},\"title\":{\"x\":0.05},\"xaxis\":{\"automargin\":true,\"gridcolor\":\"white\",\"linecolor\":\"white\",\"ticks\":\"\",\"title\":{\"standoff\":15},\"zerolinecolor\":\"white\",\"zerolinewidth\":2},\"yaxis\":{\"automargin\":true,\"gridcolor\":\"white\",\"linecolor\":\"white\",\"ticks\":\"\",\"title\":{\"standoff\":15},\"zerolinecolor\":\"white\",\"zerolinewidth\":2}}},\"xaxis\":{\"anchor\":\"y\",\"domain\":[0.0,1.0]},\"yaxis\":{\"anchor\":\"x\",\"domain\":[0.0,1.0],\"title\":{\"text\":\"Rating\"}},\"legend\":{\"tracegroupgap\":0},\"margin\":{\"t\":60},\"boxmode\":\"group\"},                        {\"responsive\": true}                    ).then(function(){\n",
              "                            \n",
              "var gd = document.getElementById('9d105a68-201f-4209-b2b7-5aefb0115187');\n",
              "var x = new MutationObserver(function (mutations, observer) {{\n",
              "        var display = window.getComputedStyle(gd).display;\n",
              "        if (!display || display === 'none') {{\n",
              "            console.log([gd, 'removed!']);\n",
              "            Plotly.purge(gd);\n",
              "            observer.disconnect();\n",
              "        }}\n",
              "}});\n",
              "\n",
              "// Listen for the removal of the full notebook cells\n",
              "var notebookContainer = gd.closest('#notebook-container');\n",
              "if (notebookContainer) {{\n",
              "    x.observe(notebookContainer, {childList: true});\n",
              "}}\n",
              "\n",
              "// Listen for the clearing of the current output cell\n",
              "var outputEl = gd.closest('.output');\n",
              "if (outputEl) {{\n",
              "    x.observe(outputEl, {childList: true});\n",
              "}}\n",
              "\n",
              "                        })                };                            </script>        </div>\n",
              "</body>\n",
              "</html>"
            ]
          },
          "metadata": {}
        }
      ]
    },
    {
      "cell_type": "code",
      "source": [
        "px.histogram(data, x = 'Rating', y = 'Rating' )"
      ],
      "metadata": {
        "colab": {
          "base_uri": "https://localhost:8080/",
          "height": 542
        },
        "id": "CidnlT4QyiIW",
        "outputId": "c9d48848-f173-4bf6-e793-81d11efe704b"
      },
      "execution_count": null,
      "outputs": [
        {
          "output_type": "display_data",
          "data": {
            "text/html": [
              "<html>\n",
              "<head><meta charset=\"utf-8\" /></head>\n",
              "<body>\n",
              "    <div>            <script src=\"https://cdnjs.cloudflare.com/ajax/libs/mathjax/2.7.5/MathJax.js?config=TeX-AMS-MML_SVG\"></script><script type=\"text/javascript\">if (window.MathJax) {MathJax.Hub.Config({SVG: {font: \"STIX-Web\"}});}</script>                <script type=\"text/javascript\">window.PlotlyConfig = {MathJaxConfig: 'local'};</script>\n",
              "        <script src=\"https://cdn.plot.ly/plotly-2.8.3.min.js\"></script>                <div id=\"a0a9b981-872c-42af-8416-3545b873f119\" class=\"plotly-graph-div\" style=\"height:525px; width:100%;\"></div>            <script type=\"text/javascript\">                                    window.PLOTLYENV=window.PLOTLYENV || {};                                    if (document.getElementById(\"a0a9b981-872c-42af-8416-3545b873f119\")) {                    Plotly.newPlot(                        \"a0a9b981-872c-42af-8416-3545b873f119\",                        [{\"alignmentgroup\":\"True\",\"bingroup\":\"x\",\"histfunc\":\"sum\",\"hovertemplate\":\"Rating=%{x}<br>sum of Rating=%{y}<extra></extra>\",\"legendgroup\":\"\",\"marker\":{\"color\":\"#636efa\",\"pattern\":{\"shape\":\"\"}},\"name\":\"\",\"offsetgroup\":\"\",\"orientation\":\"v\",\"showlegend\":false,\"x\":[4.1,3.9,4.7,4.5,4.3,4.4,3.8,4.1,4.4,4.7,4.4,4.4,4.2,4.6,4.4,3.2,4.7,4.5,4.3,4.6,4.0,4.1,4.7,null,4.7,4.8,4.7,4.1,3.9,4.1,4.2,4.1,4.5,4.2,4.7,3.8,4.7,4.1,4.7,4.0,4.2,4.5,4.4,3.8,4.2,4.7,4.6,4.2,4.3,4.2,4.0,3.8,4.6,3.9,4.3,4.9,4.4,4.2,4.0,3.9,4.6,4.9,4.3,4.6,4.9,3.9,4.0,4.3,3.9,4.2,4.8,3.6,4.2,4.8,4.8,4.6,4.5,4.3,4.5,4.9,3.9,4.4,4.0,4.3,3.7,4.4,4.3,3.2,4.6,4.6,4.5,3.7,4.6,4.6,4.6,4.0,4.4,4.0,4.7,4.9,4.7,3.9,3.9,4.2,4.6,4.3,4.7,4.7,4.8,4.2,4.3,4.5,4.1,null,4.2,4.5,4.4,4.0,4.1,4.1,4.4,4.6,4.5,null,3.9,4.4,null,4.6,3.8,null,null,4.0,4.3,4.5,null,4.1,3.7,4.7,4.2,4.6,4.5,4.6,4.4,4.2,4.5,4.5,4.5,4.5,4.4,4.5,4.6,4.8,3.9,4.6,4.2,4.1,4.7,4.2,4.3,3.3,4.6,4.8,4.7,null,4.1,4.6,4.1,4.6,4.7,4.5,3.9,4.4,4.3,4.2,4.5,4.4,3.4,4.9,4.6,4.4,null,4.4,4.4,4.4,3.5,null,4.4,4.1,4.3,4.4,4.3,4.3,4.1,4.4,4.3,3.9,4.8,4.5,4.4,4.0,4.3,4.0,4.2,4.5,4.2,4.2,4.6,4.1,4.6,3.1,3.9,4.3,4.1,4.4,4.1,4.1,4.5,4.4,4.4,4.3,4.4,4.6,4.2,4.4,4.7,3.8,3.9,null,4.3,4.2,4.4,4.7,4.5,4.2,4.7,4.8,4.2,4.2,4.3,4.4,4.4,4.1,3.8,4.3,3.8,3.5,4.1,4.6,4.3,4.5,4.1,4.5,4.6,4.0,4.2,4.4,4.4,4.0,4.2,4.2,4.1,4.0,3.8,3.9,3.9,4.2,4.2,4.3,4.4,4.4,4.1,3.8,4.3,3.8,3.5,4.1,4.6,4.3,4.5,4.1,4.5,4.6,4.0,4.2,4.3,4.2,4.4,4.7,4.5,4.2,4.7,4.8,4.1,4.3,4.4,4.5,4.3,4.5,4.6,4.7,4.7,4.8,3.9,4.1,4.4,4.6,4.5,4.7,4.4,4.5,3.9,3.2,3.2,4.1,4.5,4.2,4.2,3.7,4.5,4.6,4.5,null,4.7,4.4,3.5,3.3,4.5,4.4,4.2,5.0,4.4,4.7,4.4,4.4,4.6,4.0,4.4,4.3,4.3,4.4,4.3,4.0,4.3,4.3,4.4,4.3,4.3,4.3,4.3,4.3,4.0,4.5,4.3,3.7,4.5,3.9,4.4,3.6,4.4,4.2,4.4,4.1,4.4,4.3,4.2,4.2,4.4,4.4,3.9,4.2,4.4,4.6,4.3,4.3,4.4,3.7,4.3,3.9,4.5,3.7,4.3,4.4,4.0,4.3,4.0,4.3,4.0,4.1,4.2,4.2,4.2,4.1,4.4,4.3,4.2,4.4,4.2,4.1,4.3,4.3,4.5,4.3,4.2,4.2,4.5,4.3,4.3,4.3,4.4,4.2,4.3,4.3,4.4,4.6,4.3,4.4,4.2,4.5,4.5,4.4,4.5,4.1,4.2,4.1,4.3,4.1,4.2,4.0,4.2,4.2,4.2,4.3,4.3,4.4,4.2,4.4,4.1,4.2,4.8,4.4,4.4,4.4,4.0,4.5,4.4,4.1,4.2,4.5,4.3,4.5,4.0,4.3,4.3,4.2,4.5,4.6,4.1,4.0,4.2,4.6,4.1,4.3,4.2,4.3,4.0,4.3,4.2,4.3,4.1,4.2,4.1,4.6,4.3,4.2,4.2,4.3,4.2,2.6,null,null,null,3.5,4.0,4.1,3.7,4.1,4.2,4.5,4.4,4.2,4.0,4.1,3.1,4.4,4.2,4.1,3.9,4.3,4.4,3.5,4.0,3.3,4.5,4.4,4.1,3.9,3.9,3.6,4.0,3.6,3.4,4.2,4.1,3.4,3.0,4.6,4.1,3.9,1.9,3.5,2.5,3.9,3.4,3.5,4.4,3.8,4.2,2.5,2.8,4.1,4.2,3.5,4.3,3.3,4.1,4.2,3.5,4.2,4.4,4.1,4.2,4.3,4.1,4.0,4.1,4.2,3.0,4.4,4.5,2.5,4.1,4.2,4.0,4.1,1.9,3.3,4.4,4.1,3.8,4.1,4.2,4.0,4.5,3.7,3.9,3.5,3.9,4.0,4.6,4.0,4.1,4.2,3.3,4.4,4.3,4.2,3.9,4.3,3.4,4.2,4.1,4.0,3.6,4.2,3.5,4.0,4.1,4.1,2.8,4.4,4.4,4.2,4.1,4.2,3.9,4.1,4.2,3.9,4.0,4.2,4.5,3.9,3.6,4.4,3.5,4.4,4.8,4.6,4.7,4.8,null,2.7,5.0,null,4.8,5.0,4.8,null,4.9,3.0,null,null,4.7,null,null,1.0,null,null,null,null,null,null,null,5.0,4.7,null,5.0,null,null,null,5.0,null,null,null,null,3.0,4.1,null,null,null,null,null,null,null,5.0,3.7,4.5,4.2,null,null,null,4.3,4.1,1.9,4.1,4.4,null,3.9,3.9,null,4.0,4.4,4.7,3.8,4.4,4.4,3.6,4.4,2.7,4.3,4.6,2.8,3.5,null,3.4,4.8,4.7,4.8,4.8,4.7,4.1,3.5,4.7,3.8,2.9,4.5,3.3,4.1,null,4.7,4.6,4.7,4.6,4.7,null,4.5,4.7,4.8,4.6,4.6,4.6,4.2,4.9,3.8,4.2,4.4,4.4,4.3,4.5,4.4,4.6,3.9,4.4,4.3,4.4,4.2,4.4,4.0,4.2,3.8,4.5,4.7,4.5,4.3,4.2,4.3,4.7,4.7,4.6,4.6,4.6,4.5,4.4,4.6,4.5,4.5,4.2,4.4,4.4,4.2,4.5,4.1,4.0,4.1,4.3,4.3,4.3,4.5,4.6,4.1,4.6,4.7,4.7,4.3,4.7,4.6,4.6,4.6,4.3,4.2,4.0,4.5,4.2,4.1,4.4,4.0,4.5,4.4,4.0,4.2,4.3,4.2,4.6,4.6,4.7,4.6,4.4,4.5,4.3,4.6,4.5,4.2,4.2,4.7,4.5,4.6,4.3,4.2,4.7,4.7,4.4,4.5,4.4,4.0,4.6,4.4,4.7,4.7,4.3,4.1,4.2,4.3,4.3,4.3,4.0,4.2,4.0,4.0,3.8,4.6,4.1,3.9,4.1,4.5,4.2,4.4,4.7,4.0,4.4,4.4,4.0,4.5,4.7,4.3,4.5,4.3,4.1,4.3,4.5,4.2,4.6,3.5,4.2,4.4,4.4,4.6,4.3,4.5,4.8,4.4,4.1,4.9,4.7,4.7,4.7,4.4,4.0,4.2,4.3,4.5,3.5,4.2,3.1,4.6,4.2,4.3,4.3,4.1,3.8,3.4,4.3,4.4,4.4,4.0,3.7,3.9,4.5,4.4,4.3,4.2,4.2,4.5,4.7,4.5,4.5,3.4,4.2,4.3,4.2,4.6,4.1,4.2,4.2,4.3,4.4,3.9,4.1,4.3,4.5,4.6,3.6,4.3,4.3,4.2,4.4,4.1,4.1,4.2,3.9,4.2,3.7,4.5,3.7,3.8,4.3,3.0,4.1,4.2,4.1,3.9,4.0,4.4,4.2,4.0,3.9,4.0,4.2,4.0,4.3,3.9,4.2,4.4,4.3,3.7,4.3,3.7,3.8,4.2,4.0,3.9,4.4,4.5,4.1,4.1,3.9,4.5,4.0,4.1,3.6,3.8,4.0,4.2,3.7,3.8,3.7,4.1,3.7,3.9,4.4,4.3,3.9,3.7,3.7,4.2,4.3,4.0,4.1,3.9,4.5,3.9,4.1,4.3,4.4,4.1,4.0,3.9,3.9,4.0,4.1,4.2,3.8,4.0,3.9,4.2,3.7,3.9,4.2,4.3,4.3,4.6,4.3,4.6,4.2,4.6,4.5,4.6,3.9,4.2,4.4,4.2,4.3,4.6,4.3,4.5,4.0,4.0,4.5,4.5,4.0,4.0,4.2,4.4,4.6,null,4.6,4.1,4.6,4.4,4.6,4.9,4.5,4.6,4.7,4.3,null,null,4.2,4.3,5.0,4.4,5.0,4.5,null,null,null,4.5,4.8,4.4,5.0,null,3.7,null,4.1,null,4.8,null,null,4.6,4.4,4.4,3.6,3.7,3.8,4.2,4.2,4.2,3.3,3.4,4.3,4.2,4.7,4.1,4.7,4.0,3.6,4.0,3.6,4.3,4.2,4.2,4.1,4.0,4.1,4.4,4.7,4.5,4.3,4.6,4.3,4.0,4.5,4.5,3.6,4.2,4.1,3.5,4.4,4.0,4.5,4.2,4.6,4.2,4.8,4.5,4.2,4.3,4.2,4.4,4.4,4.6,4.2,4.6,4.6,4.4,4.3,4.2,4.2,3.8,4.5,4.6,4.6,4.7,4.6,4.6,4.7,3.8,4.3,4.3,4.5,4.6,4.6,4.7,4.5,4.4,3.9,4.5,4.6,4.1,4.5,4.4,4.5,4.6,4.2,4.4,4.1,3.9,4.6,4.5,3.7,4.1,4.4,4.6,4.5,4.3,4.3,4.3,4.4,4.3,4.4,4.3,4.4,4.1,4.4,4.2,4.3,4.4,4.3,4.3,3.9,4.1,4.1,4.2,4.5,4.2,4.7,4.4,4.6,4.6,4.4,4.6,4.3,4.0,4.4,4.6,4.2,4.1,3.6,null,4.1,4.6,null,4.7,4.7,4.7,4.7,4.1,3.4,3.8,3.7,4.2,3.1,3.5,4.7,4.5,4.2,4.3,4.0,4.5,4.6,4.7,4.1,4.3,3.8,4.4,4.3,4.2,4.3,3.8,4.3,3.7,4.5,3.6,4.8,3.3,4.7,4.6,4.6,3.4,4.6,4.0,4.1,4.5,4.4,4.5,4.0,4.1,4.5,4.6,4.1,4.5,4.6,4.5,4.3,3.6,4.4,4.6,4.1,4.3,3.9,4.5,4.1,3.6,4.7,4.3,4.7,4.6,4.4,4.2,4.5,4.3,4.2,4.5,4.5,4.3,4.0,4.3,4.8,4.0,4.9,4.8,4.9,4.8,4.4,3.3,4.7,4.6,4.8,4.8,4.8,4.5,4.4,4.5,4.5,4.5,4.8,3.9,4.6,4.5,4.5,4.7,4.7,4.4,4.2,3.9,4.2,4.4,4.6,4.6,4.2,4.5,4.7,4.5,4.5,3.7,4.5,4.6,4.6,4.7,4.5,4.5,4.6,4.0,4.3,4.4,4.5,4.2,4.6,4.9,4.5,4.5,4.6,4.5,4.6,4.6,4.5,4.5,4.4,3.9,4.5,4.4,4.6,4.4,4.5,4.5,4.6,4.5,4.4,4.4,4.4,4.2,4.5,4.5,4.4,4.3,4.6,4.6,4.9,4.4,4.3,4.1,4.6,4.8,4.5,4.7,4.6,4.3,4.4,4.4,4.6,4.3,4.6,4.6,4.5,4.6,4.6,4.5,4.1,4.5,4.6,4.5,4.8,4.8,4.6,4.5,4.1,4.4,4.2,4.5,4.3,4.6,4.0,4.6,4.5,4.4,4.5,4.6,4.4,4.7,4.4,4.2,4.5,4.2,4.4,4.5,4.6,4.6,4.6,4.5,4.5,4.4,4.4,4.5,4.5,4.0,4.6,4.1,4.0,4.4,4.4,4.1,3.5,4.3,4.5,4.2,4.6,4.4,4.5,4.0,4.5,4.6,4.4,4.4,4.1,4.0,4.1,4.1,4.2,4.5,3.5,4.3,4.2,4.6,4.4,4.5,4.4,3.7,4.3,4.5,4.6,4.7,4.6,4.6,4.0,4.4,4.4,4.8,4.6,4.2,4.6,4.1,4.4,4.5,4.3,4.7,4.6,4.4,4.5,4.8,4.2,4.5,4.1,4.1,4.0,4.3,4.5,null,4.6,3.7,3.7,4.2,4.5,4.3,3.9,4.6,4.3,4.4,4.6,4.5,3.8,null,4.4,4.7,3.4,4.3,4.3,4.0,4.0,3.8,null,4.3,3.6,3.8,4.5,4.6,null,4.5,4.7,4.3,3.7,null,4.2,3.4,3.9,4.0,4.0,4.0,4.6,4.0,4.1,3.9,4.4,4.4,4.3,4.6,4.5,4.5,4.5,4.5,4.3,4.2,4.4,4.3,4.6,4.1,3.9,4.4,4.6,null,4.1,null,null,3.8,4.6,3.5,4.7,4.3,4.5,4.4,3.4,4.3,null,4.3,4.6,4.6,null,4.2,null,null,4.6,null,null,4.4,3.9,4.5,3.8,4.3,3.7,5.0,3.2,4.5,4.7,4.0,null,4.1,3.8,4.7,4.5,null,4.2,null,4.1,3.1,4.1,4.1,4.3,4.0,4.6,4.4,4.4,4.3,4.6,3.2,4.5,4.6,4.6,4.3,3.0,4.4,4.4,4.3,3.5,4.3,4.5,3.7,4.5,4.2,4.3,4.6,4.5,3.9,4.3,3.3,4.7,4.2,3.2,4.4,3.5,3.7,3.8,3.8,3.7,4.6,4.0,3.6,3.8,4.1,4.7,3.9,4.1,4.6,4.2,3.6,4.6,4.2,4.4,4.6,4.7,4.1,3.9,4.0,4.1,4.6,4.1,4.1,4.1,4.4,3.8,4.3,4.1,4.1,4.1,4.4,3.8,4.3,4.4,4.2,4.4,4.3,4.1,4.0,4.2,4.1,3.9,4.4,4.6,4.5,4.5,4.8,4.4,4.5,4.5,4.6,4.5,4.5,4.5,4.4,4.7,4.5,4.2,4.4,4.6,4.3,4.3,4.2,4.6,4.4,4.4,4.5,4.4,4.3,4.6,4.3,4.2,4.2,4.5,4.5,4.5,4.7,4.7,4.5,4.4,4.3,3.8,4.6,4.6,4.4,4.3,4.1,4.3,4.4,4.6,4.3,4.4,4.7,4.5,4.4,4.6,4.5,4.4,4.6,4.5,4.5,4.3,4.5,4.6,4.4,4.4,4.5,4.7,4.6,4.5,4.5,4.7,4.5,4.8,4.7,4.4,4.6,4.5,4.6,4.7,4.6,4.5,4.6,4.5,4.6,4.4,4.7,4.3,4.3,4.4,4.3,4.5,4.4,4.5,4.4,4.5,4.6,4.7,4.6,4.4,4.4,4.5,4.6,4.3,4.5,4.5,4.4,4.5,4.2,4.5,4.4,4.7,4.2,4.5,4.5,4.6,4.4,4.5,4.3,4.3,4.5,4.7,4.7,4.1,4.8,4.4,4.2,4.4,4.7,4.3,4.7,4.2,4.3,4.4,4.1,4.1,4.2,4.5,4.7,4.6,4.5,3.1,4.1,3.4,4.4,4.3,4.6,4.4,4.3,4.6,4.2,4.2,4.5,4.4,4.2,4.5,4.8,4.4,4.6,4.5,4.3,4.6,4.4,4.4,4.5,4.6,4.6,4.6,4.1,4.5,4.6,4.4,4.7,4.6,4.3,4.5,4.6,4.2,4.5,4.8,4.1,4.3,4.4,4.0,4.2,4.0,4.2,4.5,4.7,4.2,4.4,4.6,4.9,4.4,4.5,4.6,4.2,4.5,4.6,4.6,4.5,4.4,4.6,4.5,4.6,4.4,4.4,4.3,4.3,4.6,4.3,4.3,4.6,4.5,4.5,4.2,4.7,4.3,4.0,4.4,4.3,4.6,4.7,4.4,4.7,4.4,4.3,4.2,4.4,4.5,4.5,4.5,4.4,4.3,4.5,4.7,4.7,4.6,4.6,4.4,4.4,4.7,4.6,4.5,4.3,4.3,4.3,4.6,4.8,4.5,4.4,4.5,4.5,4.6,4.6,4.6,4.6,4.7,4.5,4.5,4.5,4.6,4.5,4.4,4.4,4.6,4.7,4.5,4.4,4.6,4.7,4.6,4.5,4.4,4.5,4.3,4.5,4.2,4.5,4.3,4.4,4.7,4.6,4.7,4.6,4.4,4.6,4.5,4.3,4.5,4.5,4.6,4.6,4.3,4.6,4.5,4.7,4.5,4.7,4.7,4.6,4.4,4.3,4.5,4.3,4.4,4.2,4.3,4.5,4.4,4.7,4.2,4.1,4.5,4.5,4.5,4.1,4.3,4.5,4.4,4.5,4.6,4.0,4.3,4.5,4.4,4.4,4.6,4.2,4.5,4.6,4.5,4.7,4.5,4.5,4.5,4.4,4.6,4.3,4.4,4.3,4.7,4.7,4.4,4.3,4.4,4.5,4.5,4.4,4.4,4.6,4.6,4.4,4.6,4.2,4.4,4.6,4.6,4.7,4.5,4.2,4.6,4.7,4.6,4.3,4.6,4.4,4.4,4.5,4.2,4.4,4.3,4.7,4.5,4.4,4.5,4.4,4.4,4.5,4.6,4.5,4.3,4.7,4.4,4.5,4.2,4.5,4.5,4.7,4.4,4.3,4.6,3.9,4.2,4.5,4.3,4.5,4.4,4.4,4.8,4.4,4.4,4.3,4.6,4.1,4.5,4.5,4.5,4.0,4.5,4.6,4.5,4.5,4.5,4.4,4.7,4.5,4.5,4.2,4.3,4.5,4.2,4.3,4.4,4.6,4.6,4.5,4.2,4.5,4.6,4.6,4.1,4.5,4.6,4.6,4.5,4.3,3.8,4.5,4.1,4.8,3.9,4.5,4.4,4.3,4.2,3.0,4.5,4.4,4.5,4.7,4.1,4.5,4.5,4.5,4.6,4.3,4.3,4.5,4.2,4.2,4.4,4.5,4.1,4.2,4.1,4.7,4.3,4.4,4.4,null,4.3,4.4,4.3,4.3,4.2,4.2,4.3,4.3,4.1,4.2,4.5,4.3,4.3,4.5,4.1,4.5,4.2,4.4,4.0,4.1,4.3,4.3,4.4,4.3,4.1,4.0,4.3,4.6,4.3,4.7,4.3,4.4,4.2,4.7,3.9,4.1,4.1,4.1,4.2,4.7,4.4,4.3,4.5,4.3,4.3,4.1,4.1,4.1,4.6,4.1,4.4,4.4,4.3,4.0,4.8,3.8,4.7,4.5,4.8,4.4,4.8,4.2,4.2,4.0,4.7,4.7,3.9,4.5,4.1,4.4,3.9,4.4,4.4,3.6,4.4,4.1,3.6,4.6,4.3,4.5,4.4,4.1,4.4,3.9,4.4,4.4,3.6,4.4,4.1,3.6,4.6,4.3,4.5,4.4,4.5,4.1,4.5,4.1,3.9,4.2,4.1,3.9,4.1,4.2,4.7,3.8,4.3,4.3,4.3,3.9,4.3,4.0,4.0,4.3,4.2,4.1,4.0,4.4,4.3,4.3,4.4,4.2,4.1,4.3,4.2,4.6,4.1,4.5,4.4,4.5,4.3,4.2,4.4,4.6,4.5,4.8,4.5,3.2,4.6,4.5,4.1,4.6,4.5,4.4,4.4,4.4,3.8,4.6,2.5,4.0,5.0,4.3,3.4,null,3.4,4.3,4.4,4.4,4.2,5.0,4.1,3.9,4.6,4.2,4.4,4.2,3.6,4.5,null,4.7,4.6,4.5,4.2,4.2,4.3,4.4,4.1,4.4,4.6,4.4,4.2,4.5,null,2.6,4.6,4.8,4.2,4.7,3.0,3.5,4.6,4.8,4.2,4.6,4.4,4.8,4.0,3.7,4.2,4.8,4.7,3.5,3.9,4.2,4.8,2.7,4.2,4.7,4.6,4.5,4.7,4.7,4.5,4.7,4.0,3.4,3.5,3.0,4.7,4.6,4.2,4.8,4.5,4.2,3.8,3.0,4.4,4.5,4.0,3.6,4.4,4.7,4.9,3.6,4.5,4.1,4.6,4.7,4.7,2.8,4.3,4.6,4.3,3.4,null,4.0,4.8,4.2,3.0,4.5,3.7,4.5,4.5,4.6,4.2,4.6,3.6,4.4,4.4,4.5,4.5,4.1,4.6,4.3,4.3,4.7,4.5,4.5,4.5,4.2,4.4,3.9,4.2,4.4,4.1,3.4,4.1,4.0,null,4.1,3.5,4.2,4.0,4.5,4.3,4.3,4.8,4.6,4.1,4.6,3.5,2.3,4.5,4.3,4.2,4.2,3.1,4.4,4.4,2.9,3.1,3.7,4.0,3.8,4.6,4.4,3.8,null,4.8,4.3,null,null,null,null,3.7,5.0,3.0,3.7,null,null,null,null,null,null,null,null,null,null,null,null,null,null,3.7,5.0,null,null,5.0,null,5.0,null,5.0,null,5.0,5.0,null,5.0,5.0,5.0,null,null,null,4.3,4.9,null,null,null,null,null,null,null,5.0,null,null,4.9,4.6,5.0,null,null,null,null,4.0,null,5.0,null,4.0,2.6,4.7,4.8,4.3,4.7,2.5,4.6,4.5,4.1,4.5,4.3,null,3.8,4.4,null,null,null,4.5,4.5,3.8,4.5,4.0,4.5,3.7,4.3,3.7,null,4.4,3.8,null,2.7,5.0,4.3,3.8,3.0,5.0,3.6,4.0,4.3,4.7,5.0,4.7,null,4.6,3.1,4.4,5.0,3.6,2.8,4.4,4.2,4.6,4.2,null,3.8,3.5,4.7,4.1,4.5,4.3,4.4,4.4,4.2,4.0,4.3,4.6,4.4,4.2,4.4,4.4,4.3,4.6,4.4,4.5,4.6,4.6,4.6,4.4,4.5,4.5,4.3,4.4,4.6,4.3,4.8,4.2,4.6,4.0,4.6,4.3,3.6,4.0,4.5,4.4,4.5,4.2,4.5,4.3,4.2,4.2,4.4,4.3,4.3,4.1,4.5,4.3,4.2,4.1,4.3,4.2,4.1,4.1,4.4,3.7,3.9,3.7,4.0,4.5,3.6,4.1,4.1,4.0,4.1,4.0,4.5,4.6,4.3,4.3,4.2,4.5,4.2,4.3,4.1,3.8,4.2,4.4,4.3,4.2,4.1,4.0,4.3,4.3,4.2,4.2,4.0,4.4,4.0,4.2,4.2,4.4,4.1,4.1,4.3,4.0,4.2,4.2,4.2,4.1,4.0,4.3,4.3,4.4,4.4,4.2,4.2,4.0,4.2,4.0,4.5,4.6,4.3,4.2,4.3,4.6,4.4,4.4,4.5,4.3,4.2,4.2,4.4,4.6,4.2,3.6,4.5,4.4,3.8,4.7,3.6,4.2,3.6,4.3,4.4,4.5,4.1,4.3,4.3,4.7,4.3,4.2,4.2,4.3,4.2,4.3,4.6,4.4,4.3,3.8,4.6,4.5,4.1,4.4,4.3,3.8,4.0,3.3,4.1,4.1,4.2,4.1,4.4,4.1,4.2,4.5,4.3,4.5,4.1,4.5,4.4,4.6,4.5,4.6,4.7,4.3,4.4,4.4,4.2,4.1,4.1,4.5,4.7,4.1,4.2,4.5,4.4,4.6,4.2,4.6,4.3,4.1,4.1,4.4,4.1,4.6,4.2,4.2,4.1,4.2,4.3,4.2,4.5,4.7,4.5,4.3,4.0,4.4,4.4,4.0,4.5,4.6,4.1,4.5,3.9,4.5,4.2,4.3,4.3,4.4,4.5,4.6,4.4,4.3,4.3,4.1,4.7,4.4,4.2,4.4,4.2,4.2,4.1,4.0,4.1,4.5,4.6,4.3,4.6,4.4,4.0,4.5,4.1,4.4,4.0,4.6,4.5,4.4,4.5,4.1,4.3,4.5,4.2,3.8,4.5,4.7,4.1,4.6,4.8,4.0,4.7,4.7,4.1,4.5,3.6,4.5,4.7,4.7,4.5,4.2,4.5,4.4,4.5,4.5,4.4,3.7,4.3,4.5,4.4,3.3,4.3,4.4,4.5,4.4,4.2,4.5,4.7,4.5,4.6,4.6,4.4,4.3,4.3,4.6,4.4,4.5,4.5,4.2,4.0,4.4,4.7,4.3,4.6,4.4,4.5,4.3,4.3,4.4,4.5,4.4,4.6,4.3,4.6,4.3,4.4,4.2,4.3,4.4,3.9,4.3,4.4,4.2,4.5,4.3,4.3,4.3,4.1,4.4,4.3,4.0,4.0,4.0,4.4,4.3,4.1,4.2,3.9,4.4,4.4,4.5,4.4,4.6,4.3,4.6,4.1,4.0,4.3,4.2,4.0,4.1,4.1,4.0,4.3,4.3,4.2,4.5,4.0,4.4,4.1,4.4,4.3,4.3,4.2,4.3,4.4,4.4,4.3,4.4,3.8,4.4,4.4,4.3,4.6,4.0,4.1,4.2,4.3,4.6,4.6,4.3,4.2,4.1,4.2,4.6,4.6,4.4,4.7,4.4,4.1,4.3,4.4,4.2,4.4,4.5,4.2,3.8,4.3,4.4,4.6,4.4,4.5,4.2,4.5,4.5,4.3,4.4,4.2,4.1,4.3,4.0,4.6,4.3,4.4,4.5,4.2,4.3,4.4,4.2,4.1,4.4,4.7,4.6,4.2,4.3,4.3,4.5,4.6,4.5,4.4,4.7,4.2,4.3,4.2,3.9,3.9,4.2,4.3,4.6,4.3,4.0,4.0,4.0,4.6,4.3,4.2,4.3,4.4,4.0,4.6,4.7,4.3,4.0,4.5,4.7,4.4,4.8,3.3,4.3,3.9,4.4,3.9,4.4,4.3,4.4,4.2,4.2,4.1,4.4,4.0,4.4,4.3,4.1,4.0,4.2,4.2,4.3,3.1,4.1,2.9,4.0,4.5,4.3,4.1,4.3,4.5,4.6,4.4,4.2,4.3,3.4,4.6,4.2,4.4,4.0,4.1,4.0,4.6,4.2,4.5,4.4,4.0,3.5,4.0,4.2,4.0,4.4,4.8,4.1,4.6,4.3,4.4,4.3,4.6,4.5,4.3,4.2,4.4,4.2,4.4,4.3,4.5,4.5,4.1,4.0,4.7,4.6,4.2,4.2,4.1,4.1,3.5,4.5,3.9,4.6,4.0,4.4,4.2,4.2,4.6,4.5,4.4,4.5,4.4,4.3,4.2,4.3,4.5,4.0,4.2,4.1,3.9,4.2,4.0,3.5,4.0,4.0,4.5,4.1,4.2,4.4,4.4,4.1,4.3,4.5,4.5,4.4,4.5,4.7,4.4,4.1,4.4,4.4,4.3,4.2,4.0,4.7,4.3,4.6,3.9,3.6,4.0,4.1,4.2,3.9,4.1,4.3,3.1,3.7,3.4,4.4,3.6,4.4,3.3,3.7,3.0,3.6,4.8,3.9,3.8,4.3,4.5,3.4,3.7,4.5,4.4,4.1,4.5,4.0,3.9,4.4,4.8,4.7,4.3,3.7,4.2,3.5,4.3,4.7,4.3,4.1,3.1,4.3,4.1,4.2,4.3,4.4,4.3,4.3,4.4,3.5,4.1,4.6,4.4,4.2,3.9,4.2,4.4,4.4,4.4,4.4,3.7,4.4,4.5,3.7,4.4,3.7,4.4,4.5,3.6,4.4,4.0,4.1,4.4,4.4,4.3,4.4,4.2,4.2,4.1,4.3,4.5,4.4,4.5,4.3,4.2,4.5,4.7,4.4,4.4,4.4,4.4,4.1,4.6,4.4,4.1,4.5,4.5,4.4,4.3,4.5,4.2,4.2,4.2,4.5,4.7,4.0,4.2,4.2,4.1,4.4,4.4,4.2,4.2,4.1,4.5,4.6,4.1,4.3,4.2,4.1,4.0,4.6,3.1,4.6,4.5,3.2,4.3,null,4.6,4.4,4.6,4.5,4.6,null,4.4,4.2,4.4,3.1,3.6,4.1,4.2,3.5,3.9,3.0,3.9,4.5,3.4,4.4,3.4,4.3,3.7,3.5,3.8,3.6,3.1,3.8,4.2,4.0,4.3,4.3,4.5,4.5,4.5,4.4,4.4,4.3,4.2,4.7,4.4,4.3,4.4,4.3,4.5,4.7,4.5,4.6,4.7,4.6,4.8,3.9,4.5,4.6,4.5,4.4,4.5,4.0,4.3,4.0,4.4,4.1,4.3,4.1,4.3,4.2,4.2,4.2,4.2,4.3,4.5,4.4,4.5,4.2,4.1,4.4,4.5,4.3,4.4,4.1,4.4,4.2,4.1,4.6,4.5,4.3,4.1,4.1,4.2,4.1,4.6,4.5,4.0,3.5,4.4,4.4,4.4,4.1,4.2,4.6,4.4,4.6,4.6,4.5,4.7,4.4,4.5,4.6,4.6,4.0,4.6,4.5,4.7,4.7,4.4,4.3,4.7,4.1,4.7,4.4,4.6,4.5,4.4,4.4,4.3,4.3,4.6,4.7,4.3,4.5,4.6,4.4,4.5,4.7,4.3,3.7,4.7,4.5,4.4,4.3,4.8,4.6,4.1,4.7,4.1,4.6,4.2,4.3,4.2,4.0,4.2,3.9,4.3,4.1,4.2,4.4,4.3,4.3,4.4,4.3,4.1,4.2,4.1,4.1,4.2,4.1,4.4,4.1,4.3,4.6,4.1,4.6,4.6,4.2,4.1,4.2,4.5,4.3,4.2,4.0,4.2,4.2,4.6,4.3,4.4,4.4,4.4,4.3,4.3,4.6,4.5,4.1,4.3,4.4,4.2,4.2,4.1,4.5,4.7,4.3,4.4,4.4,3.8,4.4,4.3,4.2,4.5,3.2,4.5,4.2,4.4,4.7,4.4,4.0,4.4,4.0,4.6,4.5,4.2,4.0,4.4,4.5,3.9,4.2,4.3,4.2,4.2,4.4,4.7,4.6,3.1,4.4,4.1,4.5,4.6,4.3,3.9,4.5,4.3,3.7,4.5,4.4,4.0,4.0,4.4,4.7,4.6,4.2,4.5,4.6,4.0,4.5,4.4,4.3,4.4,4.5,4.5,4.6,4.4,4.6,4.3,4.6,4.5,4.3,4.1,4.2,4.2,4.6,4.2,4.5,4.4,4.3,4.2,4.3,4.5,4.3,4.3,4.5,4.5,4.4,4.2,4.2,4.6,4.4,4.3,4.6,4.2,4.2,4.2,4.0,4.3,4.6,4.4,4.6,4.6,4.5,4.5,4.4,4.3,4.0,4.2,4.2,4.5,4.0,4.2,4.4,4.6,4.3,4.6,4.2,4.4,4.6,4.4,4.6,4.4,4.1,4.4,4.4,4.1,4.3,4.1,4.1,4.5,3.9,null,3.8,null,null,4.6,4.7,null,4.0,null,4.7,4.1,3.7,null,4.1,3.7,4.6,4.4,4.6,4.1,4.4,4.7,4.4,null,4.8,4.0,4.9,null,4.8,4.4,4.7,4.2,4.6,4.6,4.5,4.6,4.1,3.8,4.8,4.8,null,4.5,4.0,4.4,4.7,null,3.9,4.4,4.4,4.5,4.4,4.8,4.4,4.8,4.5,4.7,4.5,3.5,4.4,4.3,4.4,4.2,4.6,4.4,4.4,3.9,4.3,4.5,4.2,3.7,4.2,3.9,3.6,4.5,4.3,4.3,4.2,4.6,4.5,4.5,4.2,3.9,4.8,3.8,4.5,4.5,4.2,4.0,4.2,4.3,4.3,4.2,4.3,3.6,3.9,4.8,3.9,3.7,4.6,4.4,4.4,4.2,4.1,3.8,4.4,4.5,4.6,4.7,4.3,4.5,4.3,3.7,3.9,3.6,4.5,4.4,3.8,4.6,4.2,4.3,3.8,4.4,3.1,4.6,4.1,4.5,4.0,4.5,4.3,null,3.7,3.9,3.5,3.3,4.3,4.5,4.1,4.4,4.4,4.5,4.4,4.3,4.5,4.3,4.6,4.1,4.2,3.5,4.0,3.8,4.3,4.3,4.1,4.3,4.5,4.4,4.0,4.1,4.6,4.3,3.9,4.5,4.7,4.3,4.5,3.1,4.7,3.8,4.0,4.2,4.0,4.2,3.4,4.6,4.5,4.0,4.4,4.2,4.1,4.4,4.0,3.7,4.6,4.5,4.6,4.5,3.9,4.3,4.4,3.9,4.3,4.4,4.4,3.6,4.5,3.6,4.1,4.4,4.1,4.2,4.7,3.9,3.9,4.4,4.3,4.6,4.0,4.3,4.2,4.5,4.3,4.0,4.1,4.6,4.1,4.5,4.0,4.2,4.3,4.2,4.3,4.2,4.0,4.2,4.3,4.0,4.5,4.3,4.3,3.9,4.0,4.1,4.1,4.1,4.0,4.0,4.5,4.1,3.9,4.2,3.9,4.5,4.3,4.4,4.6,4.2,4.1,4.4,4.4,4.2,4.5,4.2,4.4,4.4,4.0,4.3,4.4,4.2,4.3,4.1,4.4,4.3,4.4,4.2,4.7,4.3,4.5,3.7,4.3,4.2,4.1,4.5,4.8,4.3,4.7,4.3,4.2,3.7,4.6,4.5,4.3,4.5,4.2,4.2,4.3,4.3,4.4,3.7,4.4,4.4,4.2,3.5,4.2,4.2,4.0,4.5,4.2,3.9,4.3,3.7,4.3,4.3,4.6,4.3,4.2,4.6,3.9,4.4,4.6,4.1,4.8,4.3,4.5,4.4,4.4,3.3,4.2,3.8,4.5,4.3,4.5,3.7,4.5,4.1,4.4,3.7,4.1,4.8,4.4,4.3,4.1,4.4,4.1,4.5,4.5,4.5,4.5,4.2,4.4,4.5,4.3,3.8,4.5,3.7,4.5,4.5,4.3,4.6,4.3,4.4,4.3,4.3,4.3,4.3,4.3,4.4,4.2,4.9,4.5,4.6,4.6,4.6,3.4,3.8,4.4,4.7,4.6,4.1,3.8,4.4,4.4,3.9,4.1,4.5,3.7,4.4,4.5,4.5,3.8,3.1,4.5,5.0,4.4,null,4.3,2.9,3.1,3.3,4.1,4.6,4.4,4.5,4.3,4.3,4.5,4.5,2.2,4.5,4.2,4.5,4.6,3.9,4.1,3.3,4.5,4.1,4.8,4.1,4.5,null,4.6,4.6,4.3,4.1,4.5,4.3,4.4,4.7,4.4,4.4,4.3,4.2,4.2,4.6,4.5,4.6,4.7,4.8,4.7,4.7,1.7,4.5,4.0,3.6,2.0,4.7,4.1,4.3,4.3,4.5,4.4,4.4,4.6,3.7,4.5,4.0,4.8,4.0,4.7,4.8,4.6,4.3,4.2,4.8,4.2,4.6,4.2,4.5,4.6,4.5,4.5,4.3,4.8,4.6,4.5,4.3,4.2,4.4,4.5,4.2,4.6,4.6,4.4,4.5,4.5,4.6,4.5,4.4,4.1,4.4,4.6,4.6,4.5,4.5,4.3,4.3,3.3,3.7,4.5,4.4,3.1,4.0,4.4,4.2,3.9,4.4,4.6,4.8,4.4,3.9,4.5,3.6,3.4,4.7,4.4,4.4,4.5,4.2,4.6,4.3,4.3,4.3,4.6,4.4,4.5,4.5,4.0,4.3,4.5,4.1,4.3,4.0,4.3,4.6,4.2,4.4,4.5,4.3,4.0,4.3,4.4,4.6,4.4,4.3,4.2,4.3,4.3,4.6,3.6,4.3,4.2,4.2,4.4,4.3,4.9,4.5,4.2,4.3,4.2,3.8,4.2,1.0,4.4,4.0,null,4.4,4.4,4.5,null,3.4,3.8,null,3.7,null,4.1,4.6,4.4,4.2,4.2,4.4,4.5,4.2,4.5,4.3,4.4,4.2,3.6,4.0,4.4,4.6,4.5,4.4,4.2,4.3,4.6,1.8,3.8,4.4,3.0,3.4,4.6,3.7,3.0,4.6,4.4,3.1,4.3,4.3,3.8,4.5,3.6,null,4.2,4.5,4.2,3.3,4.2,4.3,4.2,3.7,3.8,2.9,4.5,4.3,4.9,4.4,4.4,4.4,2.9,4.2,4.0,4.3,4.3,3.9,4.3,null,4.0,4.6,3.7,4.0,4.6,4.4,4.5,3.0,3.1,4.3,4.5,4.5,4.5,4.1,4.6,4.2,null,3.9,3.9,3.9,4.3,4.2,4.2,3.7,2.8,4.4,4.1,4.4,2.7,4.7,4.2,4.2,4.1,4.5,4.4,4.0,4.2,4.1,4.0,4.4,4.7,4.3,4.7,4.4,4.0,4.3,4.2,4.4,4.6,3.3,4.5,2.3,4.2,4.1,null,4.4,3.2,3.5,4.6,4.3,4.1,4.1,4.1,null,4.7,3.5,3.9,null,null,4.1,4.7,null,4.6,4.5,4.7,4.9,null,4.3,4.1,4.4,4.2,4.1,4.6,4.3,4.4,4.4,4.5,4.6,4.8,4.3,4.8,4.8,3.7,4.1,3.7,4.2,4.5,4.6,4.5,4.7,4.3,null,4.9,4.4,4.6,null,null,4.0,4.8,4.3,4.4,4.2,4.6,null,4.8,4.0,4.3,4.7,4.5,4.6,4.5,4.3,4.0,4.2,4.0,4.5,4.0,4.1,4.6,3.1,4.9,4.5,4.0,4.0,3.6,4.5,4.2,4.3,3.9,4.3,4.3,4.4,4.3,4.4,4.3,4.5,4.4,3.5,4.4,4.4,4.5,4.4,4.4,4.0,3.9,3.9,4.3,4.9,3.7,3.3,3.8,3.5,4.2,4.5,3.5,3.6,4.6,3.9,4.2,4.2,4.0,3.2,4.6,2.4,4.5,4.1,4.2,3.7,4.3,4.2,4.1,3.9,3.8,4.4,3.4,4.0,4.4,3.3,4.8,4.5,3.4,4.3,4.3,4.1,4.0,4.4,3.8,4.4,3.8,4.2,3.8,4.8,4.7,4.3,3.5,3.9,4.2,4.6,4.7,4.5,3.8,4.5,3.7,3.5,4.1,3.9,4.1,4.6,4.4,4.5,4.4,4.6,4.0,4.4,4.4,4.4,4.0,3.8,3.9,null,3.7,4.2,4.1,4.3,4.3,4.1,4.4,3.8,4.3,4.4,3.8,4.5,3.8,3.9,4.0,4.3,4.5,4.4,4.6,null,5.0,4.4,4.4,4.2,4.0,null,4.2,null,4.6,4.1,null,3.9,4.6,null,4.4,3.9,4.6,4.5,3.0,null,3.6,4.4,4.6,null,4.3,5.0,4.5,4.1,4.1,4.5,null,4.8,4.5,null,4.0,4.8,3.7,null,4.5,4.7,2.7,2.9,4.2,4.4,4.2,3.4,2.6,4.1,4.3,4.5,4.2,4.4,null,4.0,4.4,4.1,4.8,2.2,3.8,3.1,3.1,3.8,3.8,4.3,3.6,4.0,4.4,4.6,null,4.5,1.8,4.7,3.9,4.4,3.6,4.5,4.4,3.9,3.9,3.8,null,4.2,4.1,4.4,4.4,null,null,5.0,4.1,4.5,4.3,null,3.9,3.5,null,3.2,null,null,null,null,3.3,4.8,4.5,3.7,4.8,4.7,4.3,3.8,4.1,4.7,null,4.2,null,null,4.6,4.2,4.6,4.6,4.2,4.1,3.5,4.1,4.4,4.5,4.1,4.5,4.3,4.4,4.3,4.3,3.8,3.9,4.1,4.8,4.4,4.0,4.7,4.6,4.3,4.0,4.4,3.7,3.7,3.3,4.1,3.0,4.1,3.0,3.8,4.0,4.5,4.6,4.1,3.6,4.7,3.5,3.1,3.9,3.7,4.2,4.4,4.4,3.3,4.8,4.2,4.5,3.8,4.1,4.2,4.2,4.0,4.2,3.8,4.5,3.7,4.3,4.5,4.1,4.2,4.5,4.0,4.4,4.2,4.3,4.7,4.1,3.2,3.9,4.1,3.4,3.0,4.6,4.6,4.1,3.1,3.4,4.2,4.2,3.0,2.4,4.1,2.9,4.0,4.0,3.8,2.4,4.4,3.7,4.3,4.6,4.2,4.8,3.6,3.2,4.0,3.5,4.4,2.5,3.9,4.4,4.2,4.2,4.3,4.1,4.3,4.2,4.2,3.9,3.9,4.4,3.8,4.5,4.2,3.7,4.3,4.3,4.6,3.3,3.6,4.1,3.8,3.3,4.5,4.8,4.6,null,4.3,4.5,4.2,3.8,4.7,4.2,4.3,4.7,4.7,3.6,4.2,4.0,4.3,4.7,4.2,4.6,4.8,4.6,3.8,4.6,4.3,4.2,4.5,3.2,4.3,4.3,4.5,4.4,1.9,4.4,2.5,4.2,4.3,4.0,4.5,4.8,4.2,4.7,4.4,4.4,4.4,4.6,4.6,4.2,4.5,4.0,4.4,4.2,4.5,4.6,4.4,4.7,4.2,4.4,3.2,4.1,4.0,4.7,4.6,4.6,4.7,4.8,4.6,4.2,4.3,3.3,4.7,4.5,4.0,4.5,4.2,4.6,4.2,4.7,4.7,4.2,4.3,4.3,null,4.5,4.4,4.5,4.6,4.3,3.8,4.5,4.5,3.9,4.0,2.7,4.5,4.0,2.9,4.6,4.4,4.5,4.6,4.4,4.3,4.4,4.2,4.8,4.3,4.3,4.6,4.6,4.2,4.2,4.1,4.4,4.5,4.4,4.4,4.2,4.5,4.6,4.5,4.6,4.0,4.5,4.2,3.9,4.7,4.4,4.5,4.3,4.4,4.2,3.9,4.1,2.2,4.2,4.2,2.8,3.9,4.3,4.8,4.3,4.1,4.2,4.4,4.1,4.6,4.3,4.3,3.8,4.8,null,3.8,3.9,null,4.3,4.3,4.3,4.1,4.2,4.9,4.5,4.6,3.8,4.7,4.5,4.7,4.5,4.8,4.6,4.6,4.3,4.8,3.4,4.6,4.4,4.5,4.4,4.4,4.6,4.2,4.3,4.3,3.8,3.9,4.3,4.8,4.2,4.5,4.8,null,4.6,4.2,4.2,4.0,null,4.3,4.8,4.1,4.7,null,4.8,4.0,3.5,3.8,3.5,3.3,3.7,3.3,3.4,1.8,1.6,1.9,3.6,3.4,3.2,2.5,4.7,2.6,2.8,3.9,4.2,3.9,4.0,3.5,3.1,3.7,3.6,3.4,4.0,3.7,1.7,2.4,4.3,4.2,3.3,4.1,4.1,3.4,3.0,3.0,2.2,3.7,3.7,4.8,3.7,3.6,3.7,4.4,3.8,3.7,3.7,4.8,4.2,4.1,4.6,4.1,4.3,3.9,3.8,4.0,4.5,4.6,4.1,4.4,3.7,3.9,3.9,4.5,4.5,4.4,4.3,4.5,4.7,4.7,4.1,3.3,4.2,4.1,3.4,4.3,4.9,4.5,4.1,4.4,4.3,4.4,3.4,4.1,4.1,3.5,3.8,4.6,4.6,5.0,4.6,4.2,4.0,3.9,3.7,4.3,1.9,4.2,4.2,4.0,4.4,4.2,4.5,4.3,4.4,4.0,4.2,4.3,4.0,4.3,3.9,4.0,3.7,4.1,3.9,4.2,4.4,4.5,3.9,3.9,4.2,4.5,4.1,4.7,null,4.4,4.7,4.7,4.0,3.9,null,3.8,3.9,4.4,4.5,null,3.8,3.5,4.2,4.7,2.0,4.3,2.8,4.0,3.9,4.2,3.4,4.5,4.7,2.0,4.4,null,null,null,4.7,3.3,4.1,null,4.2,4.4,null,3.7,null,4.3,3.9,5.0,4.1,4.8,4.0,null,4.1,3.8,4.6,null,4.3,4.1,4.6,4.1,4.4,4.2,4.1,4.3,4.3,4.0,4.5,4.1,3.8,null,4.5,null,4.1,null,3.9,3.7,null,4.5,4.4,null,3.4,null,null,null,null,2.3,4.7,3.4,4.7,null,null,5.0,null,null,null,null,null,null,null,null,3.6,5.0,null,null,4.3,null,null,null,5.0,null,null,4.1,4.1,4.5,null,null,3.4,null,null,null,2.9,4.6,5.0,null,null,null,3.9,3.9,5.0,4.1,null,5.0,3.0,4.0,1.0,null,4.0,null,null,4.0,null,3.8,null,null,null,null,null,null,null,null,3.5,null,null,null,null,null,2.6,null,3.4,null,null,4.5,3.4,3.8,3.0,4.4,4.0,3.9,4.6,3.8,3.8,4.0,4.6,3.6,4.4,3.1,4.2,4.6,4.0,5.0,3.3,4.1,3.6,3.2,4.4,4.0,4.4,4.5,4.3,4.7,4.4,null,4.4,4.4,3.7,3.3,null,3.7,3.0,2.6,null,null,3.5,3.9,4.6,3.8,4.6,4.4,4.5,4.5,4.7,4.4,null,5.0,null,null,2.8,null,4.6,2.8,5.0,5.0,2.8,null,3.8,4.1,null,4.8,5.0,5.0,null,4.4,null,null,5.0,4.1,null,4.8,null,null,4.8,4.0,null,5.0,4.6,null,5.0,null,null,null,4.5,5.0,null,null,null,4.4,4.0,null,3.9,4.1,4.8,4.3,3.9,4.5,null,3.7,4.3,4.2,3.7,3.8,4.6,null,null,null,3.3,3.0,3.9,4.2,3.9,null,4.1,null,4.6,null,null,null,null,4.4,3.8,4.4,null,4.9,3.6,4.3,3.6,4.1,3.4,4.5,4.7,4.5,4.4,4.3,4.6,4.2,4.8,4.6,4.8,4.6,4.6,4.6,4.1,4.7,4.7,4.8,3.6,4.7,4.6,4.5,4.7,4.5,4.3,4.5,4.8,4.7,4.7,4.7,4.7,4.7,4.7,4.7,4.6,4.7,4.7,4.6,3.8,3.9,4.0,4.0,3.8,4.1,2.9,3.8,3.5,4.2,4.6,4.4,4.4,4.1,3.9,3.6,4.0,3.8,4.3,4.6,3.6,3.9,4.0,4.2,4.2,4.2,4.5,4.7,3.5,4.5,4.0,4.6,4.2,4.3,4.1,4.5,4.2,4.5,4.4,3.7,4.4,4.3,4.3,4.3,4.5,4.5,3.8,4.5,4.5,4.4,4.7,3.5,4.9,4.0,4.1,4.2,null,4.4,4.1,4.6,4.6,4.7,4.5,null,4.6,4.4,4.4,4.2,4.4,4.0,4.2,4.2,4.2,4.8,3.7,3.4,4.3,4.3,4.6,4.2,4.6,4.1,4.4,4.6,4.3,4.4,4.7,4.2,3.8,4.3,3.7,4.3,2.9,4.3,4.3,4.0,3.3,4.5,4.1,5.0,3.9,4.6,4.0,3.6,4.0,4.5,null,2.9,4.2,4.5,null,4.6,4.7,4.2,4.7,4.7,3.9,4.7,3.7,4.8,4.0,4.6,4.4,4.3,4.7,3.6,4.4,4.6,2.9,null,4.5,5.0,3.7,null,3.7,null,4.2,3.0,5.0,4.4,4.7,4.3,3.9,null,4.4,4.3,null,null,null,null,4.6,4.5,3.9,4.7,4.3,5.0,5.0,null,5.0,null,null,4.4,null,2.7,4.6,4.4,4.4,4.1,3.8,4.4,4.6,4.1,4.5,4.2,4.7,4.3,4.3,4.2,3.8,4.0,4.3,4.6,4.3,4.3,4.3,4.7,4.6,4.4,3.8,4.6,4.6,4.5,4.5,3.9,4.4,3.8,4.3,4.3,3.7,3.2,4.0,3.8,4.4,3.8,3.4,2.9,4.5,3.7,3.8,4.1,4.1,3.7,3.6,null,3.0,4.1,3.8,4.2,4.4,4.5,3.6,3.6,3.7,3.9,null,4.2,4.1,4.5,2.8,2.6,4.3,4.4,4.1,4.0,4.3,3.9,3.5,3.7,4.3,4.3,4.1,4.2,4.3,4.2,4.6,4.3,4.1,4.4,4.4,4.1,4.2,4.4,4.3,2.4,4.5,4.3,4.5,4.5,4.3,4.4,4.3,4.4,4.6,3.4,3.9,4.3,4.4,4.5,4.4,4.2,4.0,4.3,4.4,4.2,4.0,4.4,4.6,4.0,4.4,3.5,4.6,4.0,4.0,4.1,4.1,3.3,3.9,4.1,4.2,4.0,4.5,3.8,3.5,4.3,4.6,4.7,3.8,4.7,4.8,3.2,4.5,3.9,3.6,3.7,4.4,4.1,4.0,3.1,4.0,2.8,3.7,2.7,3.9,3.8,3.6,4.5,3.5,4.0,null,3.8,3.6,4.2,4.4,4.0,4.7,null,null,4.1,4.0,null,4.7,null,null,3.8,5.0,4.4,null,null,4.0,null,3.8,4.1,4.3,null,4.5,4.4,3.4,4.1,4.1,3.8,4.3,4.4,4.4,4.8,3.3,3.3,4.4,3.7,3.4,2.3,3.3,2.7,null,4.6,3.5,3.4,4.3,4.1,4.7,4.4,3.8,3.0,4.4,4.2,4.5,3.5,4.5,4.3,4.5,null,4.5,4.0,4.8,null,4.3,1.7,4.3,4.2,null,4.2,4.3,null,4.0,4.2,4.6,4.1,4.6,4.1,4.0,null,3.3,4.1,null,null,4.0,null,null,4.4,4.2,3.8,3.1,null,5.0,4.2,4.7,4.4,4.6,4.4,2.9,2.7,null,4.6,4.0,3.8,4.8,5.0,3.9,4.2,4.1,4.7,4.2,4.2,3.7,4.1,4.1,3.8,4.6,null,4.4,4.2,4.4,null,null,4.6,5.0,null,4.5,null,3.5,null,3.9,4.4,3.0,null,3.1,4.4,null,3.0,null,null,3.7,null,3.7,3.9,4.8,null,null,4.6,4.6,4.5,4.3,5.0,4.3,null,4.7,4.0,3.8,5.0,4.8,4.5,4.3,null,null,null,null,3.7,null,null,null,null,null,4.3,null,3.8,null,null,4.5,4.6,4.1,4.2,null,5.0,null,null,null,4.3,null,3.3,3.6,4.0,4.0,4.0,4.3,4.2,4.3,4.2,4.5,4.3,4.6,4.4,4.2,4.2,4.2,3.4,3.2,4.0,4.6,3.2,4.4,4.0,4.7,null,3.7,3.9,4.2,4.1,3.5,4.8,4.3,3.9,null,3.5,4.3,4.4,4.8,3.9,3.8,4.2,4.0,4.0,4.4,4.7,4.5,4.3,3.3,4.3,4.1,2.1,3.7,4.2,4.4,4.2,2.1,2.4,4.1,3.1,5.0,null,3.5,4.2,null,4.7,null,null,null,4.8,null,4.5,4.6,4.6,4.9,4.8,4.0,3.9,4.1,4.1,4.5,4.2,4.0,4.4,1.9,null,null,3.7,null,4.2,4.0,4.3,2.5,4.4,null,3.7,4.7,4.6,4.4,4.3,4.4,2.6,3.6,3.8,4.4,4.4,3.0,4.2,3.7,5.0,null,4.2,4.8,4.4,4.1,4.7,4.7,3.3,4.0,null,null,1.0,4.4,4.2,4.4,4.6,4.3,4.4,null,3.7,2.9,4.0,4.4,3.3,null,null,4.2,4.5,2.3,5.0,3.6,null,3.9,4.4,4.2,4.8,4.3,4.2,4.4,4.3,4.0,1.4,3.3,4.3,null,4.6,4.7,4.2,3.9,3.4,4.3,4.8,4.8,4.5,3.3,4.2,4.9,4.2,4.6,4.1,4.6,4.0,4.2,5.0,4.1,3.7,4.1,3.8,4.7,3.5,4.0,4.2,3.3,3.7,3.4,3.7,5.0,4.4,5.0,4.8,4.4,4.9,4.0,4.4,4.5,4.9,4.4,4.4,5.0,4.8,4.6,4.3,3.8,4.3,4.3,4.1,4.5,4.2,3.8,4.3,4.4,4.2,4.2,3.8,4.2,4.0,4.2,4.3,4.3,4.4,4.7,4.1,4.5,4.2,4.3,4.4,4.5,4.3,null,4.2,4.0,3.4,4.4,3.8,3.0,4.1,4.4,4.1,4.1,4.1,4.5,4.1,2.2,3.9,4.0,4.3,3.9,4.0,4.2,4.2,3.6,4.3,null,null,4.4,2.6,4.1,null,3.5,4.2,null,null,3.7,4.5,2.4,null,2.9,4.2,4.2,4.0,2.6,4.4,4.8,4.7,4.4,4.6,2.7,3.8,1.7,4.6,3.3,null,null,4.6,2.3,4.5,null,4.8,null,5.0,null,4.1,null,null,null,null,null,null,4.9,3.0,null,null,4.8,4.5,3.4,null,null,null,null,4.0,3.7,2.2,4.8,null,5.0,null,null,null,4.5,null,4.3,3.8,null,4.5,4.5,null,4.8,4.5,4.4,null,3.9,4.3,4.3,null,4.0,null,4.1,4.6,3.7,3.4,4.5,4.4,null,4.4,2.4,4.1,4.6,4.6,4.3,4.3,4.7,null,4.2,4.3,4.3,3.9,4.7,4.2,4.1,4.6,4.7,4.3,4.5,4.6,2.9,4.0,3.0,3.9,null,4.8,3.9,4.0,null,null,null,5.0,null,null,null,4.0,null,5.0,null,null,4.5,4.8,null,4.6,4.2,null,3.4,2.6,2.4,null,4.5,4.6,3.3,4.1,4.6,3.9,null,null,null,null,null,4.0,3.4,4.5,4.0,5.0,3.6,3.5,4.6,4.9,3.7,5.0,4.0,3.9,5.0,4.0,null,null,4.9,4.4,3.6,4.7,4.3,3.9,4.5,4.2,4.6,4.1,4.3,4.6,null,null,4.2,4.6,4.5,4.4,4.2,4.5,4.0,4.2,4.7,4.1,4.4,4.3,4.6,4.2,4.0,2.3,4.5,3.6,4.4,3.9,3.9,4.8,4.2,3.7,4.0,null,1.0,null,4.4,4.2,4.7,3.6,null,4.1,3.3,null,null,5.0,4.3,4.7,null,null,null,null,null,4.0,null,4.4,4.6,5.0,4.3,4.3,null,3.8,4.1,4.6,4.0,4.7,3.6,4.5,4.0,4.1,4.0,3.8,null,4.5,2.8,null,4.2,4.8,5.0,5.0,null,null,null,4.3,4.3,4.5,4.5,5.0,3.8,4.4,5.0,4.7,null,4.7,2.2,4.6,4.6,4.7,4.6,4.4,3.8,3.6,4.9,4.8,null,4.4,5.0,4.8,null,null,4.6,5.0,4.6,5.0,null,4.0,4.3,4.5,4.0,3.2,4.6,4.2,4.8,3.0,4.3,3.9,3.2,3.9,4.8,3.5,4.4,4.1,4.2,4.7,4.0,4.4,4.2,5.0,3.5,3.8,null,4.5,4.1,null,4.3,null,4.3,4.4,null,null,null,null,null,4.0,4.3,4.0,4.9,4.7,null,null,null,4.3,4.2,4.1,4.3,4.7,3.2,3.9,4.2,4.1,4.9,null,3.7,3.5,4.9,null,3.3,4.9,3.4,null,4.5,4.3,5.0,3.5,null,null,4.4,3.7,null,4.8,null,4.3,4.9,null,null,null,null,null,null,5.0,4.3,4.3,null,null,4.4,1.0,4.5,null,4.0,5.0,4.9,4.7,4.5,3.9,null,3.2,3.5,null,3.7,3.0,4.2,4.0,4.1,null,4.7,4.0,3.1,4.4,3.2,3.9,4.2,4.7,4.0,null,null,4.0,3.7,4.1,4.4,4.0,3.9,3.6,null,null,4.6,null,4.4,1.9,4.3,4.5,4.1,3.8,4.1,4.6,3.7,3.9,4.4,null,4.5,null,null,4.3,4.4,3.5,4.3,4.5,4.5,4.4,4.2,4.3,null,3.6,4.0,3.8,null,null,4.4,3.8,3.9,4.1,4.3,3.5,null,4.3,null,4.7,4.5,3.8,4.5,4.2,4.3,4.1,4.6,4.6,4.5,4.5,3.0,2.6,3.4,4.4,4.2,4.0,4.7,3.4,3.7,3.7,4.5,3.9,5.0,4.3,4.2,null,4.0,null,4.5,4.0,4.4,1.8,4.3,5.0,5.0,null,3.2,4.2,4.6,3.8,3.9,4.2,null,4.0,3.8,4.1,3.9,4.4,2.1,1.8,4.2,2.0,null,null,3.4,4.3,3.6,3.7,4.7,4.5,4.6,3.6,null,null,4.4,4.6,null,null,null,2.3,null,null,3.8,null,3.0,5.0,4.5,4.4,4.5,4.8,4.3,3.8,null,4.3,3.7,4.5,null,4.3,null,4.4,3.4,4.5,1.6,null,null,4.5,null,null,null,null,null,null,4.4,3.8,4.3,4.3,3.0,4.0,4.2,4.8,4.0,4.5,null,4.7,1.9,4.9,4.4,4.7,null,4.9,4.8,null,null,4.5,null,null,4.6,4.5,null,5.0,null,3.9,null,null,4.3,null,4.8,4.3,4.6,null,null,4.1,4.5,4.3,3.8,2.4,4.3,2.8,4.5,4.6,4.1,4.2,4.6,4.3,4.6,5.0,5.0,3.9,4.2,3.9,4.2,null,null,null,3.5,null,4.0,null,3.7,3.8,4.3,null,null,4.5,4.6,null,4.5,4.3,4.4,null,null,4.6,null,3.9,null,3.9,3.1,3.9,4.4,4.4,4.4,4.6,3.9,4.6,2.5,4.6,2.8,4.0,3.4,3.8,4.5,4.8,3.3,3.9,3.5,4.5,4.0,null,3.6,null,4.7,3.9,5.0,4.6,3.9,4.9,3.6,3.7,3.9,2.7,3.8,2.8,3.5,4.1,null,4.7,4.3,4.5,4.1,null,null,4.8,null,null,null,3.4,5.0,null,null,4.3,4.4,1.8,4.2,3.3,null,5.0,null,null,null,4.8,null,4.5,5.0,4.5,4.7,null,4.6,null,null,4.5,null,null,3.5,null,null,3.5,2.9,null,null,5.0,null,null,null,null,4.3,null,4.8,4.7,4.3,4.1,5.0,5.0,null,null,null,4.0,null,4.3,null,4.1,5.0,null,5.0,null,null,null,4.0,null,null,3.5,null,null,null,4.1,null,null,4.6,null,null,null,4.1,4.2,4.2,2.2,4.3,4.7,3.8,null,4.1,null,3.1,4.2,null,3.0,4.8,3.7,3.1,4.6,2.9,4.2,4.7,4.5,2.8,null,4.4,4.4,4.1,4.6,3.0,4.1,4.2,null,4.4,3.9,null,null,null,null,4.3,4.5,4.5,3.6,2.0,4.0,4.5,4.0,4.3,null,4.5,4.8,4.5,null,null,4.2,4.5,4.6,null,null,3.9,null,null,4.3,3.9,4.3,3.7,4.7,4.3,1.7,4.5,null,4.7,null,5.0,null,null,null,4.6,2.9,null,4.8,2.3,null,3.8,4.2,null,4.4,null,4.0,4.1,3.4,4.3,4.0,4.2,4.1,4.7,4.2,3.9,3.8,4.1,4.2,3.8,4.7,3.7,4.3,4.0,4.2,4.6,4.7,4.7,4.3,4.2,3.5,4.7,4.7,4.5,4.5,4.7,4.6,4.6,4.9,4.2,4.3,4.4,4.4,4.5,4.3,4.4,4.4,3.0,4.8,4.7,4.6,4.0,3.7,3.5,2.7,4.7,4.1,4.5,4.6,4.5,4.4,4.3,4.4,4.5,4.6,4.7,4.6,3.1,3.9,4.7,4.6,4.7,null,5.0,4.4,4.8,null,4.1,null,4.3,4.4,4.7,4.0,3.4,4.6,null,2.8,null,3.1,null,3.9,null,4.2,4.5,null,4.1,null,4.2,null,null,3.3,4.4,null,4.4,4.6,4.4,4.5,4.1,2.2,4.2,4.8,null,null,3.2,4.3,4.0,4.6,4.4,4.5,null,3.4,null,null,3.3,4.2,null,2.4,3.2,3.1,3.8,null,4.8,3.7,4.2,3.7,3.0,3.9,4.0,5.0,null,4.0,2.7,3.1,4.1,4.5,4.0,3.8,3.8,4.3,3.5,4.5,3.9,null,4.5,null,null,3.3,4.1,null,null,5.0,null,3.7,4.8,1.5,5.0,4.6,null,null,5.0,4.7,null,4.7,null,5.0,4.5,null,5.0,null,null,5.0,4.2,1.0,4.5,4.2,5.0,4.2,4.4,3.9,4.6,3.8,null,null,4.0,null,null,null,4.6,null,null,3.4,null,5.0,4.6,null,null,null,null,5.0,null,null,null,null,3.0,null,3.8,4.2,4.3,null,null,null,null,null,null,4.4,3.2,null,null,null,3.5,4.4,4.5,3.7,5.0,4.5,4.5,4.1,null,3.4,4.1,null,null,5.0,4.2,4.1,4.1,null,4.2,4.3,null,5.0,4.4,null,4.3,4.5,null,4.8,4.4,null,null,null,4.4,null,null,null,null,null,4.7,null,null,null,null,null,4.3,4.4,4.6,2.8,5.0,4.4,4.4,2.0,5.0,4.4,5.0,null,3.4,4.4,null,3.4,null,null,3.3,1.5,null,null,null,5.0,null,4.3,4.3,null,null,null,null,2.2,4.6,null,null,5.0,null,null,4.7,null,null,null,null,null,null,4.7,3.5,4.3,3.6,4.3,3.6,2.6,4.7,4.5,4.0,4.6,5.0,4.2,null,null,4.2,null,4.7,4.5,3.6,3.8,4.2,3.8,3.5,4.1,null,null,5.0,null,4.2,4.1,null,null,3.6,4.3,4.1,4.4,null,null,4.0,5.0,5.0,null,3.8,4.3,4.7,4.5,4.4,4.7,4.4,3.7,4.3,null,4.0,3.9,null,4.9,3.5,3.5,null,4.4,4.2,null,null,null,4.3,null,4.7,4.5,4.4,4.2,4.4,3.3,4.4,4.9,4.5,4.7,4.7,3.9,4.7,4.7,null,4.4,4.8,4.8,4.0,3.7,5.0,3.0,3.9,null,null,4.6,4.6,4.3,4.2,null,5.0,null,4.5,null,4.2,null,1.0,null,4.6,null,null,null,null,null,null,4.1,4.7,null,null,null,4.4,4.8,4.2,null,null,5.0,4.6,4.5,5.0,2.9,null,4.4,null,null,3.0,4.5,2.4,4.3,3.9,1.9,4.4,5.0,4.0,4.7,3.9,5.0,4.2,4.2,2.8,4.2,1.0,3.9,4.1,4.1,3.2,null,5.0,null,5.0,4.3,4.1,3.8,4.0,null,4.2,5.0,4.1,5.0,null,3.7,null,null,4.1,3.5,3.9,4.2,3.8,3.7,4.7,2.8,4.7,4.3,4.1,null,4.7,4.2,4.0,3.2,4.6,5.0,4.4,4.5,4.0,4.6,4.7,null,4.1,4.5,4.3,null,5.0,5.0,4.2,4.0,null,5.0,2.7,4.1,null,null,4.4,null,4.3,4.1,4.7,4.4,null,null,3.6,4.0,4.1,4.0,4.1,4.0,4.6,null,null,null,null,5.0,3.6,4.1,4.3,4.1,2.6,2.7,3.8,5.0,4.2,null,5.0,2.6,4.4,4.3,null,null,4.7,2.8,4.1,null,3.6,null,null,4.0,null,null,5.0,5.0,4.7,4.7,4.6,4.7,4.6,4.6,4.6,4.6,4.6,4.4,3.8,4.1,3.4,4.5,4.5,4.5,4.0,4.7,4.4,4.4,4.7,4.7,4.2,4.2,4.0,3.6,4.7,4.4,4.3,4.4,4.4,4.4,4.3,3.3,3.6,4.5,4.5,4.6,4.3,3.6,4.3,4.4,4.1,4.2,4.8,4.2,null,4.0,3.7,4.5,4.1,4.6,4.5,4.7,4.3,4.3,4.6,4.1,4.2,4.3,4.2,4.3,3.6,4.2,4.2,4.0,4.6,4.3,4.4,4.5,4.3,3.7,4.2,4.7,4.6,4.5,4.1,4.5,4.3,3.4,4.2,3.9,4.4,4.1,4.3,3.9,4.0,null,5.0,4.2,4.3,4.5,4.5,3.9,null,4.5,3.5,3.6,1.9,4.3,3.2,1.6,4.2,4.9,4.4,3.6,3.4,null,4.7,2.9,4.3,4.4,4.3,4.6,4.6,4.2,3.5,null,2.9,4.4,4.7,4.5,4.4,2.0,4.7,4.4,4.4,4.4,null,4.5,3.5,4.2,3.7,4.4,3.4,4.3,3.6,4.6,4.6,4.2,4.3,3.8,1.4,4.4,null,4.0,null,4.6,3.9,3.8,4.7,4.2,4.3,4.1,4.3,4.2,null,3.6,4.6,null,4.3,5.0,5.0,5.0,4.5,3.8,3.9,null,null,4.8,4.1,4.0,4.8,4.8,4.4,null,4.1,null,null,null,4.4,4.3,3.7,4.3,null,null,4.3,2.7,4.4,null,4.5,null,4.2,null,3.7,null,5.0,null,4.2,3.9,null,4.5,null,3.5,4.7,4.2,4.4,4.7,4.6,4.0,null,2.5,null,null,3.8,4.7,4.5,4.6,4.6,5.0,3.9,5.0,null,2.3,null,3.6,4.0,3.7,4.2,4.1,4.4,4.6,4.2,4.4,4.3,4.0,4.5,3.9,3.7,4.6,null,3.8,4.7,null,3.4,4.5,4.1,4.3,4.6,4.3,4.3,4.0,null,3.5,2.3,null,3.9,4.1,4.5,4.6,4.4,3.1,4.3,3.3,5.0,null,4.2,3.8,3.3,null,5.0,1.0,4.5,4.6,4.3,4.4,4.1,4.5,4.2,3.7,4.1,3.9,4.5,3.6,3.2,3.5,3.7,4.6,4.8,4.1,4.4,4.3,null,4.0,3.1,4.2,4.1,null,3.5,4.3,3.8,4.3,4.8,2.3,4.3,4.4,3.6,5.0,null,4.3,4.2,4.3,4.7,3.9,4.4,4.4,4.3,2.6,4.3,null,3.8,4.2,4.2,4.1,4.0,4.4,4.7,null,2.6,4.3,5.0,3.7,4.3,4.1,4.3,3.8,4.5,5.0,null,null,3.9,3.8,4.6,null,4.6,4.7,5.0,null,4.5,null,4.3,3.5,3.3,null,4.8,3.9,null,4.5,null,3.4,5.0,5.0,null,null,4.8,3.6,null,4.3,4.0,4.5,4.6,4.7,3.8,3.4,4.7,4.0,4.6,2.0,4.3,2.0,3.6,4.7,3.5,4.0,3.5,4.3,4.1,4.6,3.8,4.3,3.8,1.0,3.8,3.3,4.8,3.0,4.0,3.6,3.8,4.3,3.9,4.2,4.6,4.0,4.5,4.6,4.6,4.5,3.7,4.4,4.6,3.9,4.4,4.5,4.5,4.3,3.7,3.9,3.9,4.3,4.1,4.1,4.4,4.4,4.2,4.5,4.6,4.4,4.4,4.4,3.8,2.6,4.2,4.4,4.2,4.0,4.2,4.0,4.4,4.5,3.2,4.3,3.4,2.3,4.4,4.3,null,4.3,3.6,4.6,4.2,4.0,4.4,4.5,3.2,1.7,2.2,3.8,4.8,null,4.4,4.5,4.8,4.6,3.7,4.4,3.5,3.8,3.8,4.3,null,4.6,null,4.5,null,3.7,null,4.8,4.3,5.0,3.9,3.0,null,5.0,null,4.4,4.6,3.9,3.3,4.1,3.0,4.2,4.2,4.2,4.0,4.0,3.2,4.6,3.2,4.1,3.3,4.4,4.0,4.2,4.1,4.3,3.3,4.7,4.4,3.1,3.1,3.3,3.9,3.4,3.9,4.4,3.9,3.7,4.5,4.7,null,4.6,null,5.0,3.0,null,3.9,null,5.0,3.9,null,null,null,null,null,null,3.8,null,3.6,3.9,3.8,null,4.8,null,null,null,null,4.4,4.5,4.0,4.7,4.8,4.7,4.7,4.5,4.0,null,3.2,null,null,4.7,4.5,null,4.5,4.9,4.2,5.0,5.0,null,5.0,null,null,4.2,4.7,null,null,4.5,null,null,null,4.5,4.5,3.8,4.5,null,4.3,3.9,3.9,4.2,4.5,4.1,4.4,4.1,4.6,3.3,4.5,2.2,4.4,3.9,4.5,2.8,3.3,null,4.5,null,null,3.1,3.2,4.4,4.1,null,5.0,null,null,3.8,null,null,4.3,4.6,null,null,3.7,4.9,4.3,5.0,null,null,2.9,4.4,4.4,null,4.6,4.5,4.0,null,3.5,4.8,4.8,3.5,4.7,4.6,4.4,4.3,4.7,4.4,4.0,3.5,4.6,3.9,3.5,4.6,4.2,4.4,4.6,4.0,4.2,3.8,4.1,4.3,4.4,4.5,4.1,4.2,4.0,3.6,3.3,4.7,4.6,4.5,3.9,4.3,null,3.9,4.3,null,null,3.1,4.4,3.7,4.6,4.6,2.7,null,null,4.1,4.2,1.9,4.6,null,4.2,null,4.4,4.2,3.9,2.4,5.0,3.9,null,3.7,5.0,4.0,3.0,4.1,4.8,4.5,3.5,null,null,null,4.5,4.5,4.2,4.3,4.4,4.4,4.3,4.2,4.5,4.3,4.3,4.2,4.9,4.1,1.4,4.0,5.0,4.3,null,4.2,4.3,3.8,4.1,4.2,4.3,4.1,4.3,3.6,4.3,4.6,4.4,5.0,4.4,4.5,null,4.7,null,5.0,null,null,3.4,3.1,4.5,5.0,4.3,4.4,4.3,4.2,4.0,4.5,4.0,4.1,3.8,4.3,4.6,4.1,4.3,4.3,4.2,4.3,4.4,4.4,3.9,4.3,4.5,4.3,3.5,4.2,4.1,4.1,4.7,4.5,3.3,4.2,null,null,4.2,4.6,null,4.3,4.3,4.0,4.7,5.0,null,null,null,null,null,null,null,5.0,4.9,null,null,null,null,null,null,4.3,null,null,null,4.0,null,null,4.5,null,4.1,4.3,null,null,null,4.5,null,null,3.9,3.7,4.2,3.6,3.6,2.1,4.7,3.2,3.0,4.3,3.0,4.3,3.9,3.3,4.3,4.0,3.7,2.8,4.4,5.0,3.9,4.2,4.8,4.0,null,3.0,4.5,2.6,5.0,null,null,5.0,4.1,null,4.5,5.0,4.7,4.5,4.4,4.4,4.3,4.2,3.0,4.1,4.2,4.2,4.0,4.3,4.1,3.6,4.3,5.0,4.2,3.9,null,4.1,3.8,5.0,3.7,4.3,4.2,4.3,2.5,4.3,4.4,null,4.3,4.2,4.6,4.0,2.9,null,4.5,4.7,3.8,null,4.7,3.9,4.5,4.7,4.5,4.2,4.3,4.4,4.8,4.2,4.1,4.5,4.5,4.6,4.4,4.1,4.3,4.7,4.4,4.2,4.3,4.5,4.3,4.8,4.5,4.6,4.7,4.4,4.1,4.3,4.2,4.2,3.6,2.8,3.9,3.8,4.4,3.7,2.7,3.8,3.2,3.9,2.3,4.1,4.3,3.1,4.6,4.1,4.4,3.2,4.5,3.7,null,null,null,4.4,4.5,5.0,4.8,null,4.6,4.0,4.1,null,4.1,null,null,4.8,null,null,null,4.3,2.8,null,null,4.7,4.5,4.2,4.3,3.8,3.8,4.2,3.8,4.0,4.0,4.6,4.0,4.3,4.3,3.9,5.0,4.0,4.1,3.9,4.2,4.3,4.5,4.4,4.1,4.2,4.5,4.6,4.1,3.9,4.7,3.9,4.3,2.9,4.4,3.7,4.4,4.1,null,2.8,4.9,3.4,2.8,2.5,4.7,3.1,null,3.2,4.3,3.9,3.6,3.2,null,3.5,3.3,null,null,null,null,2.4,4.4,2.8,5.0,null,4.4,null,null,null,null,null,null,null,5.0,null,3.3,2.9,4.1,4.6,null,2.2,4.3,5.0,2.5,null,3.0,3.7,5.0,null,null,null,null,5.0,null,null,4.1,null,null,null,4.1,2.6,4.6,4.5,null,4.5,null,3.3,null,4.4,4.7,4.7,4.0,4.5,4.3,4.6,4.7,4.4,4.0,4.2,4.3,4.1,4.5,4.3,4.3,4.7,4.1,4.3,4.4,3.1,4.0,4.5,4.5,4.4,4.2,4.6,4.4,4.6,4.0,4.6,4.3,4.3,3.9,4.5,4.7,4.3,4.6,4.6,4.2,4.3,4.6,4.2,4.1,4.6,4.4,3.7,4.4,3.9,4.3,4.3,4.3,4.5,4.5,4.5,4.5,4.7,4.3,4.4,4.5,4.3,4.3,4.2,4.2,4.3,4.2,4.7,4.1,4.3,4.1,3.8,4.5,4.1,null,4.3,4.5,4.1,4.4,4.3,4.4,4.3,null,4.1,4.6,4.7,4.2,3.7,4.7,4.4,4.7,4.2,4.6,4.5,4.8,3.7,4.3,4.2,3.6,4.1,2.3,4.3,4.6,4.5,4.0,4.2,4.6,4.2,4.5,4.3,4.4,3.6,4.0,null,2.8,3.8,4.1,3.8,3.4,4.5,4.3,3.1,4.6,3.3,3.9,4.2,4.9,3.9,3.4,3.7,4.2,3.8,4.6,4.4,4.0,4.2,null,4.2,4.5,4.6,4.4,4.6,4.5,3.7,4.1,4.2,4.0,4.5,4.6,4.5,4.4,3.3,4.2,4.2,4.0,4.0,4.0,3.5,4.5,3.9,3.9,4.1,4.4,4.2,4.4,4.3,4.1,4.0,4.3,4.4,4.5,4.6,3.7,3.8,3.4,4.3,3.8,4.7,4.4,4.4,4.1,4.4,4.0,3.9,4.3,4.2,3.3,4.0,4.6,4.1,4.1,3.4,3.4,4.1,4.0,3.4,3.2,3.8,3.8,3.9,3.6,3.8,3.9,3.2,1.0,4.6,null,3.6,4.9,null,2.6,3.9,null,3.5,3.2,null,3.3,null,null,3.8,3.9,4.6,1.8,null,4.3,3.9,null,4.8,3.7,4.0,4.1,4.6,4.0,null,4.8,null,4.0,3.5,null,3.0,4.6,1.6,3.8,1.7,4.6,5.0,4.6,4.4,4.5,3.8,4.0,4.1,null,5.0,null,null,null,null,5.0,1.0,null,null,4.4,4.7,4.6,2.4,null,4.5,null,null,4.4,4.3,5.0,4.1,3.8,3.9,3.1,4.7,4.5,3.5,4.5,4.6,4.5,4.5,4.4,4.3,4.4,4.2,4.6,4.5,3.8,4.3,4.6,4.3,3.6,4.2,4.7,4.3,4.7,4.8,3.1,4.5,4.4,4.5,4.5,null,4.7,4.1,4.4,4.3,4.6,3.4,null,4.7,3.6,3.7,2.1,2.0,3.5,4.3,2.4,4.5,2.8,null,4.5,null,2.8,3.9,3.2,3.1,2.4,4.6,2.9,4.0,3.7,2.3,2.9,4.6,4.3,5.0,4.2,4.6,4.5,4.2,4.8,3.5,4.6,3.5,3.6,null,5.0,3.0,null,null,2.9,3.7,4.6,null,4.2,3.2,2.5,4.4,4.3,2.7,4.0,4.5,3.4,4.3,4.3,null,4.3,null,null,4.0,4.9,3.4,4.9,4.3,4.7,4.8,4.3,4.3,4.0,null,3.5,null,5.0,4.7,null,4.2,4.4,4.2,5.0,null,5.0,2.0,null,3.7,null,null,null,3.9,4.5,null,null,null,3.1,4.5,4.7,null,4.4,3.8,4.2,4.5,null,4.5,4.6,4.2,4.5,4.2,4.2,4.1,4.3,5.0,4.6,4.0,4.4,null,4.5,3.6,4.6,null,4.0,4.6,4.5,4.5,null,null,null,4.8,5.0,4.4,null,4.0,3.5,5.0,4.0,4.2,4.0,3.9,4.5,3.6,4.2,3.0,3.0,4.0,3.4,4.9,null,null,null,null,4.0,4.4,4.1,4.4,4.0,null,4.5,4.2,3.9,null,3.6,5.0,4.4,3.6,4.7,4.2,4.5,4.7,null,null,4.3,4.2,4.4,null,4.7,4.4,null,4.1,4.5,4.1,4.0,null,null,4.3,4.2,null,4.2,null,4.1,4.2,null,5.0,4.0,4.0,4.5,null,4.1,null,4.7,4.4,4.9,3.6,4.2,null,4.4,null,4.5,4.2,null,null,4.2,null,4.5,4.4,4.4,4.5,4.5,3.9,4.3,4.4,null,4.5,4.0,4.5,4.0,4.4,4.3,2.5,4.4,3.8,4.4,4.2,4.1,4.2,3.9,4.5,4.1,4.4,4.3,4.5,3.4,3.4,4.4,4.2,4.4,3.5,4.1,4.6,1.7,3.3,5.0,4.8,null,4.6,3.3,null,4.2,null,3.5,3.7,5.0,null,null,4.6,4.1,3.5,5.0,null,3.7,4.0,null,null,4.2,null,4.5,3.8,2.5,4.0,null,4.0,4.1,null,null,3.4,3.6,3.4,3.9,4.6,4.3,4.7,5.0,3.9,3.9,4.2,4.3,3.5,null,4.1,4.2,4.4,4.5,3.8,3.4,null,3.9,4.5,null,null,3.0,null,4.1,4.6,null,3.9,4.7,4.5,3.4,5.0,5.0,5.0,4.0,null,null,4.0,null,4.9,5.0,null,4.6,null,4.8,4.1,4.1,null,null,4.7,null,5.0,4.4,3.3,4.0,3.5,2.8,null,3.6,3.2,3.6,3.7,3.3,3.1,4.1,3.1,3.5,3.6,5.0,2.3,null,3.1,2.9,3.0,2.9,3.9,5.0,null,3.4,5.0,null,4.8,null,4.2,null,null,null,5.0,null,4.3,4.6,4.7,null,4.4,4.8,null,null,4.1,null,4.6,4.3,4.6,4.0,2.9,4.1,null,null,null,null,4.2,null,4.3,4.4,2.4,4.2,null,null,null,3.1,null,3.0,4.7,3.4,null,4.7,4.7,4.2,5.0,4.5,4.3,3.3,4.4,null,4.2,4.2,4.7,4.3,4.8,4.2,4.0,4.2,4.1,4.6,4.6,3.8,4.5,4.4,4.1,4.0,3.9,3.5,5.0,4.6,null,3.6,4.2,null,null,3.8,null,3.4,3.8,4.2,4.2,3.7,4.0,4.4,4.5,3.7,4.2,3.9,4.0,3.7,4.2,4.0,3.9,4.1,4.3,4.5,4.5,3.3,4.4,4.2,4.2,4.1,4.1,4.4,4.1,3.9,3.9,4.4,3.8,3.0,3.4,4.3,null,null,5.0,null,4.1,null,2.4,3.9,null,null,null,4.0,null,3.0,null,4.4,3.4,2.9,5.0,4.5,3.7,3.0,null,4.0,3.2,3.6,3.2,3.7,4.7,4.4,3.9,4.4,4.3,4.9,2.6,5.0,4.1,4.0,4.1,null,3.3,4.2,4.0,4.3,null,4.4,5.0,4.3,4.4,null,null,null,3.9,4.3,4.0,3.8,4.5,null,3.8,4.4,4.3,4.7,3.9,4.2,3.8,4.3,3.8,4.2,4.5,4.2,3.6,4.0,null,3.5,4.4,3.5,4.1,4.8,4.4,4.3,4.0,4.2,4.4,3.5,4.3,4.4,4.7,5.0,3.8,5.0,4.8,4.9,4.3,null,5.0,null,4.9,4.9,4.9,4.5,null,4.5,5.0,5.0,3.0,null,null,4.9,5.0,5.0,null,4.1,null,4.1,4.3,4.3,4.1,4.7,null,4.9,4.0,5.0,5.0,null,4.6,4.2,3.7,5.0,4.3,4.0,4.3,4.0,4.0,3.1,3.4,4.2,4.2,4.1,3.4,null,4.0,null,3.9,4.8,4.1,4.3,4.3,4.4,null,4.4,4.5,4.5,4.8,4.4,4.5,4.6,4.6,4.5,null,4.2,4.4,4.2,4.7,4.5,4.2,4.5,4.2,4.7,4.1,4.1,4.6,4.4,4.5,3.8,3.9,3.5,3.8,4.2,4.6,3.7,4.4,3.6,3.4,4.0,4.3,4.3,4.5,4.4,4.5,4.1,4.4,4.3,4.5,4.5,4.2,4.5,4.3,4.1,4.6,4.3,4.0,4.4,4.4,null,4.6,4.6,4.3,4.3,4.2,4.5,4.0,4.6,4.5,3.8,4.3,4.3,4.9,4.0,4.5,4.1,4.5,4.2,4.4,4.4,4.0,4.3,4.3,4.4,4.4,4.0,4.7,4.2,4.5,4.1,4.4,4.1,4.3,3.5,4.7,null,2.6,4.2,null,null,null,null,null,null,null,null,5.0,null,4.3,null,null,null,null,null,4.4,4.3,null,null,4.1,null,4.3,4.5,null,4.6,4.6,4.7,null,4.3,4.2,4.5,4.3,4.5,3.5,4.3,4.6,4.5,4.3,4.4,null,null,null,3.4,4.3,3.8,4.5,null,null,null,5.0,4.9,null,null,5.0,null,null,4.2,4.3,4.4,2.3,4.7,null,null,null,4.4,4.3,4.4,null,4.0,3.6,null,4.1,4.6,3.9,4.4,null,3.7,3.9,null,4.3,4.1,3.6,3.5,3.9,3.9,3.8,4.0,null,4.5,3.6,3.9,4.3,4.0,4.2,3.7,3.9,4.2,3.5,4.0,3.8,4.1,4.2,4.1,4.4,3.7,null,4.7,3.8,4.0,4.2,3.8,3.9,4.0,3.1,5.0,3.5,4.1,4.5,4.7,4.1,null,3.9,4.0,4.3,3.1,null,4.2,4.1,4.4,3.2,null,3.3,4.3,4.7,4.3,4.2,4.7,4.3,4.2,4.2,4.2,4.1,4.2,4.3,4.4,4.3,3.5,4.3,1.8,4.2,4.2,4.6,4.0,4.3,5.0,3.8,4.3,3.0,5.0,4.7,4.6,4.4,4.7,5.0,4.8,3.0,4.6,4.6,null,4.1,4.6,4.5,4.3,4.2,3.9,4.7,4.9,4.3,4.4,3.6,4.6,4.5,null,3.9,4.3,4.8,3.7,4.4,4.2,4.3,4.6,4.5,3.9,4.3,4.4,4.0,4.7,4.3,4.5,4.2,4.2,4.8,4.6,4.5,4.0,4.2,4.1,4.7,4.2,4.6,4.5,3.9,3.6,4.6,null,3.4,4.2,3.4,3.6,4.2,3.5,4.3,null,3.9,4.3,3.6,null,3.9,4.3,3.7,null,3.8,null,4.1,4.1,4.7,4.1,null,1.9,3.6,3.8,null,4.5,2.7,null,4.5,null,5.0,4.0,4.2,null,null,4.4,null,4.0,null,3.1,null,null,5.0,null,null,null,null,null,null,null,null,null,4.7,3.7,3.9,null,null,3.0,null,null,null,null,null,4.2,3.0,null,null,4.2,null,null,4.2,3.7,4.6,4.5,4.6,4.7,4.3,2.3,2.8,2.8,3.6,3.0,3.2,3.5,3.8,3.5,4.2,null,4.5,3.4,3.0,4.4,4.0,null,4.3,null,4.1,3.6,3.7,4.2,3.7,4.3,null,null,3.3,4.4,4.8,3.5,4.0,4.9,4.0,null,4.6,4.3,3.6,3.9,3.9,4.0,4.2,4.4,null,null,4.3,null,null,null,null,3.7,null,4.3,null,null,3.4,null,3.5,null,4.2,4.2,null,3.6,null,3.9,3.8,3.8,4.0,4.5,3.8,4.9,3.8,4.1,3.5,3.0,4.5,4.7,3.8,3.3,4.0,4.1,3.7,3.9,3.5,4.4,4.0,4.0,4.6,4.4,4.5,4.3,4.4,4.3,4.1,4.2,2.7,4.2,2.3,3.9,4.1,2.9,3.3,4.2,4.3,2.9,3.5,2.8,null,4.3,3.5,4.6,4.2,4.2,3.7,4.7,3.9,4.3,4.4,4.0,4.4,3.7,4.3,3.5,null,4.3,4.0,4.5,4.2,4.3,4.1,2.5,2.7,null,null,null,null,1.2,null,null,null,4.7,4.9,4.7,null,null,4.4,4.7,4.0,null,4.7,4.3,null,4.7,null,4.4,null,null,null,null,null,null,4.6,null,null,null,4.4,4.4,4.4,4.6,3.1,4.3,3.7,4.6,null,4.1,4.2,4.4,4.1,3.6,4.4,3.8,4.0,3.2,2.8,3.1,2.9,4.1,3.3,3.5,4.2,2.8,2.1,4.4,4.4,4.2,4.1,3.3,3.5,4.7,3.1,4.3,4.1,4.2,2.5,3.9,3.0,3.2,4.3,4.3,4.2,4.3,2.2,3.9,2.8,4.4,4.6,4.4,3.9,2.9,4.1,5.0,4.6,3.7,null,4.4,4.2,4.4,3.9,3.6,3.4,null,4.3,4.3,4.4,null,4.3,4.3,null,null,null,4.4,null,4.0,4.5,4.6,4.3,4.1,4.4,3.5,4.1,3.8,4.2,4.3,4.5,4.0,4.0,4.3,4.1,3.4,4.0,4.3,4.7,4.5,4.3,4.1,4.1,4.4,4.6,null,3.8,3.9,4.2,4.2,3.7,4.3,4.2,3.6,4.3,4.3,4.3,4.5,4.3,4.7,3.8,4.0,4.1,null,3.9,4.3,3.4,null,4.2,4.5,4.4,4.2,4.7,4.6,4.4,4.4,4.8,4.6,4.3,4.4,4.4,3.3,4.5,4.6,4.3,4.9,4.3,null,4.5,4.9,3.7,4.5,4.6,4.5,4.1,4.8,null,5.0,3.4,4.5,4.8,4.5,4.5,4.5,4.5,4.5,4.1,4.1,3.6,4.7,4.6,4.9,4.6,4.1,4.5,3.9,3.9,4.6,3.8,4.7,3.9,4.1,3.9,4.0,4.3,4.0,4.4,4.1,5.0,4.8,null,4.6,5.0,4.2,4.7,4.0,4.4,4.9,3.5,4.1,4.2,4.4,null,4.5,3.1,null,4.5,4.6,4.3,4.4,4.6,4.3,4.8,2.8,4.1,1.0,3.0,5.0,4.5,null,null,null,null,null,null,null,5.0,4.1,null,null,null,4.4,3.0,null,3.8,null,3.9,null,null,null,5.0,null,null,null,4.5,null,null,null,5.0,null,null,3.3,null,4.5,4.9,null,null,null,null,null,null,4.3,4.5,4.1,4.8,3.8,4.1,3.9,null,4.2,4.2,4.8,4.1,4.1,4.0,3.9,4.1,4.1,4.2,3.7,3.9,3.9,3.6,3.7,3.6,4.3,3.9,4.5,2.6,4.4,null,1.0,null,null,null,null,4.2,4.8,5.0,4.3,4.4,4.5,null,4.9,null,null,null,5.0,null,null,4.2,4.2,null,null,4.0,2.1,null,4.2,null,2.5,4.4,4.4,4.6,null,null,4.4,4.2,4.5,3.3,3.9,null,4.5,4.1,4.8,4.6,4.4,3.8,3.7,4.2,3.7,4.3,4.5,3.5,4.0,4.5,2.9,3.9,3.6,4.6,2.1,4.7,4.5,4.1,4.5,3.7,2.9,4.0,4.2,3.7,3.6,3.9,3.4,3.5,4.2,3.4,3.9,3.0,3.6,3.2,4.1,4.1,4.2,4.2,null,4.7,null,4.6,4.5,null,4.3,4.5,4.5,4.4,4.3,null,null,null,null,4.2,null,3.7,null,4.1,4.3,4.0,3.5,4.2,4.4,4.2,4.4,null,3.8,3.9,4.0,3.8,3.6,4.2,null,3.8,null,3.7,4.0,4.2,4.4,null,null,4.4,4.9,null,5.0,null,4.8,null,null,null,null,null,null,null,null,4.0,null,null,null,null,null,null,null,null,4.0,null,null,4.9,null,3.8,null,4.9,null,null,null,null,null,1.5,null,5.0,null,4.8,null,3.9,3.7,4.6,4.7,4.6,4.3,4.2,4.6,4.7,4.6,2.0,3.6,3.2,3.8,4.0,3.8,3.8,4.4,4.4,4.4,3.8,4.3,4.6,1.0,3.2,4.7,4.3,4.5,4.1,4.9,4.1,4.2,3.5,4.2,5.0,3.8,4.7,null,null,4.5,null,5.0,3.3,5.0,null,4.0,4.5,3.2,4.5,4.2,null,3.7,3.8,5.0,null,4.1,2.9,null,null,null,4.7,5.0,3.2,null,3.8,3.8,4.6,4.6,4.4,4.8,4.2,3.3,3.9,4.5,3.9,4.3,4.4,3.9,4.6,3.9,3.4,4.6,null,null,4.2,null,null,4.8,5.0,null,null,5.0,null,null,null,3.8,null,2.9,4.6,3.8,null,null,null,4.1,null,4.5,null,4.2,null,2.5,3.5,4.6,4.4,4.6,4.3,4.2,4.2,4.1,4.2,4.3,4.5,4.4,5.0,4.6,null,null,null,null,null,5.0,null,null,null,null,null,3.4,null,null,4.6,4.5,null,null,3.8,4.1,4.4,4.4,4.4,3.0,4.2,4.2,3.9,4.2,4.4,5.0,4.0,4.3,4.6,3.6,4.4,4.1,4.2,4.3,4.5,3.9,4.3,3.5,null,null,null,4.0,3.8,3.6,4.3,4.2,5.0,3.4,null,null,null,3.5,null,3.7,4.2,null,3.6,4.5,4.2,4.3,4.4,2.7,4.1,null,4.4,null,null,4.5,null,3.4,2.9,4.8,3.8,null,4.0,3.9,null,null,null,null,5.0,3.9,4.0,3.6,4.1,4.3,3.8,4.2,4.3,4.2,4.2,4.1,null,4.0,4.1,4.0,4.2,4.4,null,4.2,4.7,4.6,null,4.7,4.1,4.9,4.0,4.3,4.2,4.3,null,null,null,4.7,4.8,null,4.1,null,4.0,4.2,null,4.0,null,3.3,5.0,null,null,null,null,null,4.0,4.2,3.4,4.6,3.8,null,3.8,4.8,4.0,null,4.5,5.0,null,4.5,4.5],\"xaxis\":\"x\",\"y\":[4.1,3.9,4.7,4.5,4.3,4.4,3.8,4.1,4.4,4.7,4.4,4.4,4.2,4.6,4.4,3.2,4.7,4.5,4.3,4.6,4.0,4.1,4.7,null,4.7,4.8,4.7,4.1,3.9,4.1,4.2,4.1,4.5,4.2,4.7,3.8,4.7,4.1,4.7,4.0,4.2,4.5,4.4,3.8,4.2,4.7,4.6,4.2,4.3,4.2,4.0,3.8,4.6,3.9,4.3,4.9,4.4,4.2,4.0,3.9,4.6,4.9,4.3,4.6,4.9,3.9,4.0,4.3,3.9,4.2,4.8,3.6,4.2,4.8,4.8,4.6,4.5,4.3,4.5,4.9,3.9,4.4,4.0,4.3,3.7,4.4,4.3,3.2,4.6,4.6,4.5,3.7,4.6,4.6,4.6,4.0,4.4,4.0,4.7,4.9,4.7,3.9,3.9,4.2,4.6,4.3,4.7,4.7,4.8,4.2,4.3,4.5,4.1,null,4.2,4.5,4.4,4.0,4.1,4.1,4.4,4.6,4.5,null,3.9,4.4,null,4.6,3.8,null,null,4.0,4.3,4.5,null,4.1,3.7,4.7,4.2,4.6,4.5,4.6,4.4,4.2,4.5,4.5,4.5,4.5,4.4,4.5,4.6,4.8,3.9,4.6,4.2,4.1,4.7,4.2,4.3,3.3,4.6,4.8,4.7,null,4.1,4.6,4.1,4.6,4.7,4.5,3.9,4.4,4.3,4.2,4.5,4.4,3.4,4.9,4.6,4.4,null,4.4,4.4,4.4,3.5,null,4.4,4.1,4.3,4.4,4.3,4.3,4.1,4.4,4.3,3.9,4.8,4.5,4.4,4.0,4.3,4.0,4.2,4.5,4.2,4.2,4.6,4.1,4.6,3.1,3.9,4.3,4.1,4.4,4.1,4.1,4.5,4.4,4.4,4.3,4.4,4.6,4.2,4.4,4.7,3.8,3.9,null,4.3,4.2,4.4,4.7,4.5,4.2,4.7,4.8,4.2,4.2,4.3,4.4,4.4,4.1,3.8,4.3,3.8,3.5,4.1,4.6,4.3,4.5,4.1,4.5,4.6,4.0,4.2,4.4,4.4,4.0,4.2,4.2,4.1,4.0,3.8,3.9,3.9,4.2,4.2,4.3,4.4,4.4,4.1,3.8,4.3,3.8,3.5,4.1,4.6,4.3,4.5,4.1,4.5,4.6,4.0,4.2,4.3,4.2,4.4,4.7,4.5,4.2,4.7,4.8,4.1,4.3,4.4,4.5,4.3,4.5,4.6,4.7,4.7,4.8,3.9,4.1,4.4,4.6,4.5,4.7,4.4,4.5,3.9,3.2,3.2,4.1,4.5,4.2,4.2,3.7,4.5,4.6,4.5,null,4.7,4.4,3.5,3.3,4.5,4.4,4.2,5.0,4.4,4.7,4.4,4.4,4.6,4.0,4.4,4.3,4.3,4.4,4.3,4.0,4.3,4.3,4.4,4.3,4.3,4.3,4.3,4.3,4.0,4.5,4.3,3.7,4.5,3.9,4.4,3.6,4.4,4.2,4.4,4.1,4.4,4.3,4.2,4.2,4.4,4.4,3.9,4.2,4.4,4.6,4.3,4.3,4.4,3.7,4.3,3.9,4.5,3.7,4.3,4.4,4.0,4.3,4.0,4.3,4.0,4.1,4.2,4.2,4.2,4.1,4.4,4.3,4.2,4.4,4.2,4.1,4.3,4.3,4.5,4.3,4.2,4.2,4.5,4.3,4.3,4.3,4.4,4.2,4.3,4.3,4.4,4.6,4.3,4.4,4.2,4.5,4.5,4.4,4.5,4.1,4.2,4.1,4.3,4.1,4.2,4.0,4.2,4.2,4.2,4.3,4.3,4.4,4.2,4.4,4.1,4.2,4.8,4.4,4.4,4.4,4.0,4.5,4.4,4.1,4.2,4.5,4.3,4.5,4.0,4.3,4.3,4.2,4.5,4.6,4.1,4.0,4.2,4.6,4.1,4.3,4.2,4.3,4.0,4.3,4.2,4.3,4.1,4.2,4.1,4.6,4.3,4.2,4.2,4.3,4.2,2.6,null,null,null,3.5,4.0,4.1,3.7,4.1,4.2,4.5,4.4,4.2,4.0,4.1,3.1,4.4,4.2,4.1,3.9,4.3,4.4,3.5,4.0,3.3,4.5,4.4,4.1,3.9,3.9,3.6,4.0,3.6,3.4,4.2,4.1,3.4,3.0,4.6,4.1,3.9,1.9,3.5,2.5,3.9,3.4,3.5,4.4,3.8,4.2,2.5,2.8,4.1,4.2,3.5,4.3,3.3,4.1,4.2,3.5,4.2,4.4,4.1,4.2,4.3,4.1,4.0,4.1,4.2,3.0,4.4,4.5,2.5,4.1,4.2,4.0,4.1,1.9,3.3,4.4,4.1,3.8,4.1,4.2,4.0,4.5,3.7,3.9,3.5,3.9,4.0,4.6,4.0,4.1,4.2,3.3,4.4,4.3,4.2,3.9,4.3,3.4,4.2,4.1,4.0,3.6,4.2,3.5,4.0,4.1,4.1,2.8,4.4,4.4,4.2,4.1,4.2,3.9,4.1,4.2,3.9,4.0,4.2,4.5,3.9,3.6,4.4,3.5,4.4,4.8,4.6,4.7,4.8,null,2.7,5.0,null,4.8,5.0,4.8,null,4.9,3.0,null,null,4.7,null,null,1.0,null,null,null,null,null,null,null,5.0,4.7,null,5.0,null,null,null,5.0,null,null,null,null,3.0,4.1,null,null,null,null,null,null,null,5.0,3.7,4.5,4.2,null,null,null,4.3,4.1,1.9,4.1,4.4,null,3.9,3.9,null,4.0,4.4,4.7,3.8,4.4,4.4,3.6,4.4,2.7,4.3,4.6,2.8,3.5,null,3.4,4.8,4.7,4.8,4.8,4.7,4.1,3.5,4.7,3.8,2.9,4.5,3.3,4.1,null,4.7,4.6,4.7,4.6,4.7,null,4.5,4.7,4.8,4.6,4.6,4.6,4.2,4.9,3.8,4.2,4.4,4.4,4.3,4.5,4.4,4.6,3.9,4.4,4.3,4.4,4.2,4.4,4.0,4.2,3.8,4.5,4.7,4.5,4.3,4.2,4.3,4.7,4.7,4.6,4.6,4.6,4.5,4.4,4.6,4.5,4.5,4.2,4.4,4.4,4.2,4.5,4.1,4.0,4.1,4.3,4.3,4.3,4.5,4.6,4.1,4.6,4.7,4.7,4.3,4.7,4.6,4.6,4.6,4.3,4.2,4.0,4.5,4.2,4.1,4.4,4.0,4.5,4.4,4.0,4.2,4.3,4.2,4.6,4.6,4.7,4.6,4.4,4.5,4.3,4.6,4.5,4.2,4.2,4.7,4.5,4.6,4.3,4.2,4.7,4.7,4.4,4.5,4.4,4.0,4.6,4.4,4.7,4.7,4.3,4.1,4.2,4.3,4.3,4.3,4.0,4.2,4.0,4.0,3.8,4.6,4.1,3.9,4.1,4.5,4.2,4.4,4.7,4.0,4.4,4.4,4.0,4.5,4.7,4.3,4.5,4.3,4.1,4.3,4.5,4.2,4.6,3.5,4.2,4.4,4.4,4.6,4.3,4.5,4.8,4.4,4.1,4.9,4.7,4.7,4.7,4.4,4.0,4.2,4.3,4.5,3.5,4.2,3.1,4.6,4.2,4.3,4.3,4.1,3.8,3.4,4.3,4.4,4.4,4.0,3.7,3.9,4.5,4.4,4.3,4.2,4.2,4.5,4.7,4.5,4.5,3.4,4.2,4.3,4.2,4.6,4.1,4.2,4.2,4.3,4.4,3.9,4.1,4.3,4.5,4.6,3.6,4.3,4.3,4.2,4.4,4.1,4.1,4.2,3.9,4.2,3.7,4.5,3.7,3.8,4.3,3.0,4.1,4.2,4.1,3.9,4.0,4.4,4.2,4.0,3.9,4.0,4.2,4.0,4.3,3.9,4.2,4.4,4.3,3.7,4.3,3.7,3.8,4.2,4.0,3.9,4.4,4.5,4.1,4.1,3.9,4.5,4.0,4.1,3.6,3.8,4.0,4.2,3.7,3.8,3.7,4.1,3.7,3.9,4.4,4.3,3.9,3.7,3.7,4.2,4.3,4.0,4.1,3.9,4.5,3.9,4.1,4.3,4.4,4.1,4.0,3.9,3.9,4.0,4.1,4.2,3.8,4.0,3.9,4.2,3.7,3.9,4.2,4.3,4.3,4.6,4.3,4.6,4.2,4.6,4.5,4.6,3.9,4.2,4.4,4.2,4.3,4.6,4.3,4.5,4.0,4.0,4.5,4.5,4.0,4.0,4.2,4.4,4.6,null,4.6,4.1,4.6,4.4,4.6,4.9,4.5,4.6,4.7,4.3,null,null,4.2,4.3,5.0,4.4,5.0,4.5,null,null,null,4.5,4.8,4.4,5.0,null,3.7,null,4.1,null,4.8,null,null,4.6,4.4,4.4,3.6,3.7,3.8,4.2,4.2,4.2,3.3,3.4,4.3,4.2,4.7,4.1,4.7,4.0,3.6,4.0,3.6,4.3,4.2,4.2,4.1,4.0,4.1,4.4,4.7,4.5,4.3,4.6,4.3,4.0,4.5,4.5,3.6,4.2,4.1,3.5,4.4,4.0,4.5,4.2,4.6,4.2,4.8,4.5,4.2,4.3,4.2,4.4,4.4,4.6,4.2,4.6,4.6,4.4,4.3,4.2,4.2,3.8,4.5,4.6,4.6,4.7,4.6,4.6,4.7,3.8,4.3,4.3,4.5,4.6,4.6,4.7,4.5,4.4,3.9,4.5,4.6,4.1,4.5,4.4,4.5,4.6,4.2,4.4,4.1,3.9,4.6,4.5,3.7,4.1,4.4,4.6,4.5,4.3,4.3,4.3,4.4,4.3,4.4,4.3,4.4,4.1,4.4,4.2,4.3,4.4,4.3,4.3,3.9,4.1,4.1,4.2,4.5,4.2,4.7,4.4,4.6,4.6,4.4,4.6,4.3,4.0,4.4,4.6,4.2,4.1,3.6,null,4.1,4.6,null,4.7,4.7,4.7,4.7,4.1,3.4,3.8,3.7,4.2,3.1,3.5,4.7,4.5,4.2,4.3,4.0,4.5,4.6,4.7,4.1,4.3,3.8,4.4,4.3,4.2,4.3,3.8,4.3,3.7,4.5,3.6,4.8,3.3,4.7,4.6,4.6,3.4,4.6,4.0,4.1,4.5,4.4,4.5,4.0,4.1,4.5,4.6,4.1,4.5,4.6,4.5,4.3,3.6,4.4,4.6,4.1,4.3,3.9,4.5,4.1,3.6,4.7,4.3,4.7,4.6,4.4,4.2,4.5,4.3,4.2,4.5,4.5,4.3,4.0,4.3,4.8,4.0,4.9,4.8,4.9,4.8,4.4,3.3,4.7,4.6,4.8,4.8,4.8,4.5,4.4,4.5,4.5,4.5,4.8,3.9,4.6,4.5,4.5,4.7,4.7,4.4,4.2,3.9,4.2,4.4,4.6,4.6,4.2,4.5,4.7,4.5,4.5,3.7,4.5,4.6,4.6,4.7,4.5,4.5,4.6,4.0,4.3,4.4,4.5,4.2,4.6,4.9,4.5,4.5,4.6,4.5,4.6,4.6,4.5,4.5,4.4,3.9,4.5,4.4,4.6,4.4,4.5,4.5,4.6,4.5,4.4,4.4,4.4,4.2,4.5,4.5,4.4,4.3,4.6,4.6,4.9,4.4,4.3,4.1,4.6,4.8,4.5,4.7,4.6,4.3,4.4,4.4,4.6,4.3,4.6,4.6,4.5,4.6,4.6,4.5,4.1,4.5,4.6,4.5,4.8,4.8,4.6,4.5,4.1,4.4,4.2,4.5,4.3,4.6,4.0,4.6,4.5,4.4,4.5,4.6,4.4,4.7,4.4,4.2,4.5,4.2,4.4,4.5,4.6,4.6,4.6,4.5,4.5,4.4,4.4,4.5,4.5,4.0,4.6,4.1,4.0,4.4,4.4,4.1,3.5,4.3,4.5,4.2,4.6,4.4,4.5,4.0,4.5,4.6,4.4,4.4,4.1,4.0,4.1,4.1,4.2,4.5,3.5,4.3,4.2,4.6,4.4,4.5,4.4,3.7,4.3,4.5,4.6,4.7,4.6,4.6,4.0,4.4,4.4,4.8,4.6,4.2,4.6,4.1,4.4,4.5,4.3,4.7,4.6,4.4,4.5,4.8,4.2,4.5,4.1,4.1,4.0,4.3,4.5,null,4.6,3.7,3.7,4.2,4.5,4.3,3.9,4.6,4.3,4.4,4.6,4.5,3.8,null,4.4,4.7,3.4,4.3,4.3,4.0,4.0,3.8,null,4.3,3.6,3.8,4.5,4.6,null,4.5,4.7,4.3,3.7,null,4.2,3.4,3.9,4.0,4.0,4.0,4.6,4.0,4.1,3.9,4.4,4.4,4.3,4.6,4.5,4.5,4.5,4.5,4.3,4.2,4.4,4.3,4.6,4.1,3.9,4.4,4.6,null,4.1,null,null,3.8,4.6,3.5,4.7,4.3,4.5,4.4,3.4,4.3,null,4.3,4.6,4.6,null,4.2,null,null,4.6,null,null,4.4,3.9,4.5,3.8,4.3,3.7,5.0,3.2,4.5,4.7,4.0,null,4.1,3.8,4.7,4.5,null,4.2,null,4.1,3.1,4.1,4.1,4.3,4.0,4.6,4.4,4.4,4.3,4.6,3.2,4.5,4.6,4.6,4.3,3.0,4.4,4.4,4.3,3.5,4.3,4.5,3.7,4.5,4.2,4.3,4.6,4.5,3.9,4.3,3.3,4.7,4.2,3.2,4.4,3.5,3.7,3.8,3.8,3.7,4.6,4.0,3.6,3.8,4.1,4.7,3.9,4.1,4.6,4.2,3.6,4.6,4.2,4.4,4.6,4.7,4.1,3.9,4.0,4.1,4.6,4.1,4.1,4.1,4.4,3.8,4.3,4.1,4.1,4.1,4.4,3.8,4.3,4.4,4.2,4.4,4.3,4.1,4.0,4.2,4.1,3.9,4.4,4.6,4.5,4.5,4.8,4.4,4.5,4.5,4.6,4.5,4.5,4.5,4.4,4.7,4.5,4.2,4.4,4.6,4.3,4.3,4.2,4.6,4.4,4.4,4.5,4.4,4.3,4.6,4.3,4.2,4.2,4.5,4.5,4.5,4.7,4.7,4.5,4.4,4.3,3.8,4.6,4.6,4.4,4.3,4.1,4.3,4.4,4.6,4.3,4.4,4.7,4.5,4.4,4.6,4.5,4.4,4.6,4.5,4.5,4.3,4.5,4.6,4.4,4.4,4.5,4.7,4.6,4.5,4.5,4.7,4.5,4.8,4.7,4.4,4.6,4.5,4.6,4.7,4.6,4.5,4.6,4.5,4.6,4.4,4.7,4.3,4.3,4.4,4.3,4.5,4.4,4.5,4.4,4.5,4.6,4.7,4.6,4.4,4.4,4.5,4.6,4.3,4.5,4.5,4.4,4.5,4.2,4.5,4.4,4.7,4.2,4.5,4.5,4.6,4.4,4.5,4.3,4.3,4.5,4.7,4.7,4.1,4.8,4.4,4.2,4.4,4.7,4.3,4.7,4.2,4.3,4.4,4.1,4.1,4.2,4.5,4.7,4.6,4.5,3.1,4.1,3.4,4.4,4.3,4.6,4.4,4.3,4.6,4.2,4.2,4.5,4.4,4.2,4.5,4.8,4.4,4.6,4.5,4.3,4.6,4.4,4.4,4.5,4.6,4.6,4.6,4.1,4.5,4.6,4.4,4.7,4.6,4.3,4.5,4.6,4.2,4.5,4.8,4.1,4.3,4.4,4.0,4.2,4.0,4.2,4.5,4.7,4.2,4.4,4.6,4.9,4.4,4.5,4.6,4.2,4.5,4.6,4.6,4.5,4.4,4.6,4.5,4.6,4.4,4.4,4.3,4.3,4.6,4.3,4.3,4.6,4.5,4.5,4.2,4.7,4.3,4.0,4.4,4.3,4.6,4.7,4.4,4.7,4.4,4.3,4.2,4.4,4.5,4.5,4.5,4.4,4.3,4.5,4.7,4.7,4.6,4.6,4.4,4.4,4.7,4.6,4.5,4.3,4.3,4.3,4.6,4.8,4.5,4.4,4.5,4.5,4.6,4.6,4.6,4.6,4.7,4.5,4.5,4.5,4.6,4.5,4.4,4.4,4.6,4.7,4.5,4.4,4.6,4.7,4.6,4.5,4.4,4.5,4.3,4.5,4.2,4.5,4.3,4.4,4.7,4.6,4.7,4.6,4.4,4.6,4.5,4.3,4.5,4.5,4.6,4.6,4.3,4.6,4.5,4.7,4.5,4.7,4.7,4.6,4.4,4.3,4.5,4.3,4.4,4.2,4.3,4.5,4.4,4.7,4.2,4.1,4.5,4.5,4.5,4.1,4.3,4.5,4.4,4.5,4.6,4.0,4.3,4.5,4.4,4.4,4.6,4.2,4.5,4.6,4.5,4.7,4.5,4.5,4.5,4.4,4.6,4.3,4.4,4.3,4.7,4.7,4.4,4.3,4.4,4.5,4.5,4.4,4.4,4.6,4.6,4.4,4.6,4.2,4.4,4.6,4.6,4.7,4.5,4.2,4.6,4.7,4.6,4.3,4.6,4.4,4.4,4.5,4.2,4.4,4.3,4.7,4.5,4.4,4.5,4.4,4.4,4.5,4.6,4.5,4.3,4.7,4.4,4.5,4.2,4.5,4.5,4.7,4.4,4.3,4.6,3.9,4.2,4.5,4.3,4.5,4.4,4.4,4.8,4.4,4.4,4.3,4.6,4.1,4.5,4.5,4.5,4.0,4.5,4.6,4.5,4.5,4.5,4.4,4.7,4.5,4.5,4.2,4.3,4.5,4.2,4.3,4.4,4.6,4.6,4.5,4.2,4.5,4.6,4.6,4.1,4.5,4.6,4.6,4.5,4.3,3.8,4.5,4.1,4.8,3.9,4.5,4.4,4.3,4.2,3.0,4.5,4.4,4.5,4.7,4.1,4.5,4.5,4.5,4.6,4.3,4.3,4.5,4.2,4.2,4.4,4.5,4.1,4.2,4.1,4.7,4.3,4.4,4.4,null,4.3,4.4,4.3,4.3,4.2,4.2,4.3,4.3,4.1,4.2,4.5,4.3,4.3,4.5,4.1,4.5,4.2,4.4,4.0,4.1,4.3,4.3,4.4,4.3,4.1,4.0,4.3,4.6,4.3,4.7,4.3,4.4,4.2,4.7,3.9,4.1,4.1,4.1,4.2,4.7,4.4,4.3,4.5,4.3,4.3,4.1,4.1,4.1,4.6,4.1,4.4,4.4,4.3,4.0,4.8,3.8,4.7,4.5,4.8,4.4,4.8,4.2,4.2,4.0,4.7,4.7,3.9,4.5,4.1,4.4,3.9,4.4,4.4,3.6,4.4,4.1,3.6,4.6,4.3,4.5,4.4,4.1,4.4,3.9,4.4,4.4,3.6,4.4,4.1,3.6,4.6,4.3,4.5,4.4,4.5,4.1,4.5,4.1,3.9,4.2,4.1,3.9,4.1,4.2,4.7,3.8,4.3,4.3,4.3,3.9,4.3,4.0,4.0,4.3,4.2,4.1,4.0,4.4,4.3,4.3,4.4,4.2,4.1,4.3,4.2,4.6,4.1,4.5,4.4,4.5,4.3,4.2,4.4,4.6,4.5,4.8,4.5,3.2,4.6,4.5,4.1,4.6,4.5,4.4,4.4,4.4,3.8,4.6,2.5,4.0,5.0,4.3,3.4,null,3.4,4.3,4.4,4.4,4.2,5.0,4.1,3.9,4.6,4.2,4.4,4.2,3.6,4.5,null,4.7,4.6,4.5,4.2,4.2,4.3,4.4,4.1,4.4,4.6,4.4,4.2,4.5,null,2.6,4.6,4.8,4.2,4.7,3.0,3.5,4.6,4.8,4.2,4.6,4.4,4.8,4.0,3.7,4.2,4.8,4.7,3.5,3.9,4.2,4.8,2.7,4.2,4.7,4.6,4.5,4.7,4.7,4.5,4.7,4.0,3.4,3.5,3.0,4.7,4.6,4.2,4.8,4.5,4.2,3.8,3.0,4.4,4.5,4.0,3.6,4.4,4.7,4.9,3.6,4.5,4.1,4.6,4.7,4.7,2.8,4.3,4.6,4.3,3.4,null,4.0,4.8,4.2,3.0,4.5,3.7,4.5,4.5,4.6,4.2,4.6,3.6,4.4,4.4,4.5,4.5,4.1,4.6,4.3,4.3,4.7,4.5,4.5,4.5,4.2,4.4,3.9,4.2,4.4,4.1,3.4,4.1,4.0,null,4.1,3.5,4.2,4.0,4.5,4.3,4.3,4.8,4.6,4.1,4.6,3.5,2.3,4.5,4.3,4.2,4.2,3.1,4.4,4.4,2.9,3.1,3.7,4.0,3.8,4.6,4.4,3.8,null,4.8,4.3,null,null,null,null,3.7,5.0,3.0,3.7,null,null,null,null,null,null,null,null,null,null,null,null,null,null,3.7,5.0,null,null,5.0,null,5.0,null,5.0,null,5.0,5.0,null,5.0,5.0,5.0,null,null,null,4.3,4.9,null,null,null,null,null,null,null,5.0,null,null,4.9,4.6,5.0,null,null,null,null,4.0,null,5.0,null,4.0,2.6,4.7,4.8,4.3,4.7,2.5,4.6,4.5,4.1,4.5,4.3,null,3.8,4.4,null,null,null,4.5,4.5,3.8,4.5,4.0,4.5,3.7,4.3,3.7,null,4.4,3.8,null,2.7,5.0,4.3,3.8,3.0,5.0,3.6,4.0,4.3,4.7,5.0,4.7,null,4.6,3.1,4.4,5.0,3.6,2.8,4.4,4.2,4.6,4.2,null,3.8,3.5,4.7,4.1,4.5,4.3,4.4,4.4,4.2,4.0,4.3,4.6,4.4,4.2,4.4,4.4,4.3,4.6,4.4,4.5,4.6,4.6,4.6,4.4,4.5,4.5,4.3,4.4,4.6,4.3,4.8,4.2,4.6,4.0,4.6,4.3,3.6,4.0,4.5,4.4,4.5,4.2,4.5,4.3,4.2,4.2,4.4,4.3,4.3,4.1,4.5,4.3,4.2,4.1,4.3,4.2,4.1,4.1,4.4,3.7,3.9,3.7,4.0,4.5,3.6,4.1,4.1,4.0,4.1,4.0,4.5,4.6,4.3,4.3,4.2,4.5,4.2,4.3,4.1,3.8,4.2,4.4,4.3,4.2,4.1,4.0,4.3,4.3,4.2,4.2,4.0,4.4,4.0,4.2,4.2,4.4,4.1,4.1,4.3,4.0,4.2,4.2,4.2,4.1,4.0,4.3,4.3,4.4,4.4,4.2,4.2,4.0,4.2,4.0,4.5,4.6,4.3,4.2,4.3,4.6,4.4,4.4,4.5,4.3,4.2,4.2,4.4,4.6,4.2,3.6,4.5,4.4,3.8,4.7,3.6,4.2,3.6,4.3,4.4,4.5,4.1,4.3,4.3,4.7,4.3,4.2,4.2,4.3,4.2,4.3,4.6,4.4,4.3,3.8,4.6,4.5,4.1,4.4,4.3,3.8,4.0,3.3,4.1,4.1,4.2,4.1,4.4,4.1,4.2,4.5,4.3,4.5,4.1,4.5,4.4,4.6,4.5,4.6,4.7,4.3,4.4,4.4,4.2,4.1,4.1,4.5,4.7,4.1,4.2,4.5,4.4,4.6,4.2,4.6,4.3,4.1,4.1,4.4,4.1,4.6,4.2,4.2,4.1,4.2,4.3,4.2,4.5,4.7,4.5,4.3,4.0,4.4,4.4,4.0,4.5,4.6,4.1,4.5,3.9,4.5,4.2,4.3,4.3,4.4,4.5,4.6,4.4,4.3,4.3,4.1,4.7,4.4,4.2,4.4,4.2,4.2,4.1,4.0,4.1,4.5,4.6,4.3,4.6,4.4,4.0,4.5,4.1,4.4,4.0,4.6,4.5,4.4,4.5,4.1,4.3,4.5,4.2,3.8,4.5,4.7,4.1,4.6,4.8,4.0,4.7,4.7,4.1,4.5,3.6,4.5,4.7,4.7,4.5,4.2,4.5,4.4,4.5,4.5,4.4,3.7,4.3,4.5,4.4,3.3,4.3,4.4,4.5,4.4,4.2,4.5,4.7,4.5,4.6,4.6,4.4,4.3,4.3,4.6,4.4,4.5,4.5,4.2,4.0,4.4,4.7,4.3,4.6,4.4,4.5,4.3,4.3,4.4,4.5,4.4,4.6,4.3,4.6,4.3,4.4,4.2,4.3,4.4,3.9,4.3,4.4,4.2,4.5,4.3,4.3,4.3,4.1,4.4,4.3,4.0,4.0,4.0,4.4,4.3,4.1,4.2,3.9,4.4,4.4,4.5,4.4,4.6,4.3,4.6,4.1,4.0,4.3,4.2,4.0,4.1,4.1,4.0,4.3,4.3,4.2,4.5,4.0,4.4,4.1,4.4,4.3,4.3,4.2,4.3,4.4,4.4,4.3,4.4,3.8,4.4,4.4,4.3,4.6,4.0,4.1,4.2,4.3,4.6,4.6,4.3,4.2,4.1,4.2,4.6,4.6,4.4,4.7,4.4,4.1,4.3,4.4,4.2,4.4,4.5,4.2,3.8,4.3,4.4,4.6,4.4,4.5,4.2,4.5,4.5,4.3,4.4,4.2,4.1,4.3,4.0,4.6,4.3,4.4,4.5,4.2,4.3,4.4,4.2,4.1,4.4,4.7,4.6,4.2,4.3,4.3,4.5,4.6,4.5,4.4,4.7,4.2,4.3,4.2,3.9,3.9,4.2,4.3,4.6,4.3,4.0,4.0,4.0,4.6,4.3,4.2,4.3,4.4,4.0,4.6,4.7,4.3,4.0,4.5,4.7,4.4,4.8,3.3,4.3,3.9,4.4,3.9,4.4,4.3,4.4,4.2,4.2,4.1,4.4,4.0,4.4,4.3,4.1,4.0,4.2,4.2,4.3,3.1,4.1,2.9,4.0,4.5,4.3,4.1,4.3,4.5,4.6,4.4,4.2,4.3,3.4,4.6,4.2,4.4,4.0,4.1,4.0,4.6,4.2,4.5,4.4,4.0,3.5,4.0,4.2,4.0,4.4,4.8,4.1,4.6,4.3,4.4,4.3,4.6,4.5,4.3,4.2,4.4,4.2,4.4,4.3,4.5,4.5,4.1,4.0,4.7,4.6,4.2,4.2,4.1,4.1,3.5,4.5,3.9,4.6,4.0,4.4,4.2,4.2,4.6,4.5,4.4,4.5,4.4,4.3,4.2,4.3,4.5,4.0,4.2,4.1,3.9,4.2,4.0,3.5,4.0,4.0,4.5,4.1,4.2,4.4,4.4,4.1,4.3,4.5,4.5,4.4,4.5,4.7,4.4,4.1,4.4,4.4,4.3,4.2,4.0,4.7,4.3,4.6,3.9,3.6,4.0,4.1,4.2,3.9,4.1,4.3,3.1,3.7,3.4,4.4,3.6,4.4,3.3,3.7,3.0,3.6,4.8,3.9,3.8,4.3,4.5,3.4,3.7,4.5,4.4,4.1,4.5,4.0,3.9,4.4,4.8,4.7,4.3,3.7,4.2,3.5,4.3,4.7,4.3,4.1,3.1,4.3,4.1,4.2,4.3,4.4,4.3,4.3,4.4,3.5,4.1,4.6,4.4,4.2,3.9,4.2,4.4,4.4,4.4,4.4,3.7,4.4,4.5,3.7,4.4,3.7,4.4,4.5,3.6,4.4,4.0,4.1,4.4,4.4,4.3,4.4,4.2,4.2,4.1,4.3,4.5,4.4,4.5,4.3,4.2,4.5,4.7,4.4,4.4,4.4,4.4,4.1,4.6,4.4,4.1,4.5,4.5,4.4,4.3,4.5,4.2,4.2,4.2,4.5,4.7,4.0,4.2,4.2,4.1,4.4,4.4,4.2,4.2,4.1,4.5,4.6,4.1,4.3,4.2,4.1,4.0,4.6,3.1,4.6,4.5,3.2,4.3,null,4.6,4.4,4.6,4.5,4.6,null,4.4,4.2,4.4,3.1,3.6,4.1,4.2,3.5,3.9,3.0,3.9,4.5,3.4,4.4,3.4,4.3,3.7,3.5,3.8,3.6,3.1,3.8,4.2,4.0,4.3,4.3,4.5,4.5,4.5,4.4,4.4,4.3,4.2,4.7,4.4,4.3,4.4,4.3,4.5,4.7,4.5,4.6,4.7,4.6,4.8,3.9,4.5,4.6,4.5,4.4,4.5,4.0,4.3,4.0,4.4,4.1,4.3,4.1,4.3,4.2,4.2,4.2,4.2,4.3,4.5,4.4,4.5,4.2,4.1,4.4,4.5,4.3,4.4,4.1,4.4,4.2,4.1,4.6,4.5,4.3,4.1,4.1,4.2,4.1,4.6,4.5,4.0,3.5,4.4,4.4,4.4,4.1,4.2,4.6,4.4,4.6,4.6,4.5,4.7,4.4,4.5,4.6,4.6,4.0,4.6,4.5,4.7,4.7,4.4,4.3,4.7,4.1,4.7,4.4,4.6,4.5,4.4,4.4,4.3,4.3,4.6,4.7,4.3,4.5,4.6,4.4,4.5,4.7,4.3,3.7,4.7,4.5,4.4,4.3,4.8,4.6,4.1,4.7,4.1,4.6,4.2,4.3,4.2,4.0,4.2,3.9,4.3,4.1,4.2,4.4,4.3,4.3,4.4,4.3,4.1,4.2,4.1,4.1,4.2,4.1,4.4,4.1,4.3,4.6,4.1,4.6,4.6,4.2,4.1,4.2,4.5,4.3,4.2,4.0,4.2,4.2,4.6,4.3,4.4,4.4,4.4,4.3,4.3,4.6,4.5,4.1,4.3,4.4,4.2,4.2,4.1,4.5,4.7,4.3,4.4,4.4,3.8,4.4,4.3,4.2,4.5,3.2,4.5,4.2,4.4,4.7,4.4,4.0,4.4,4.0,4.6,4.5,4.2,4.0,4.4,4.5,3.9,4.2,4.3,4.2,4.2,4.4,4.7,4.6,3.1,4.4,4.1,4.5,4.6,4.3,3.9,4.5,4.3,3.7,4.5,4.4,4.0,4.0,4.4,4.7,4.6,4.2,4.5,4.6,4.0,4.5,4.4,4.3,4.4,4.5,4.5,4.6,4.4,4.6,4.3,4.6,4.5,4.3,4.1,4.2,4.2,4.6,4.2,4.5,4.4,4.3,4.2,4.3,4.5,4.3,4.3,4.5,4.5,4.4,4.2,4.2,4.6,4.4,4.3,4.6,4.2,4.2,4.2,4.0,4.3,4.6,4.4,4.6,4.6,4.5,4.5,4.4,4.3,4.0,4.2,4.2,4.5,4.0,4.2,4.4,4.6,4.3,4.6,4.2,4.4,4.6,4.4,4.6,4.4,4.1,4.4,4.4,4.1,4.3,4.1,4.1,4.5,3.9,null,3.8,null,null,4.6,4.7,null,4.0,null,4.7,4.1,3.7,null,4.1,3.7,4.6,4.4,4.6,4.1,4.4,4.7,4.4,null,4.8,4.0,4.9,null,4.8,4.4,4.7,4.2,4.6,4.6,4.5,4.6,4.1,3.8,4.8,4.8,null,4.5,4.0,4.4,4.7,null,3.9,4.4,4.4,4.5,4.4,4.8,4.4,4.8,4.5,4.7,4.5,3.5,4.4,4.3,4.4,4.2,4.6,4.4,4.4,3.9,4.3,4.5,4.2,3.7,4.2,3.9,3.6,4.5,4.3,4.3,4.2,4.6,4.5,4.5,4.2,3.9,4.8,3.8,4.5,4.5,4.2,4.0,4.2,4.3,4.3,4.2,4.3,3.6,3.9,4.8,3.9,3.7,4.6,4.4,4.4,4.2,4.1,3.8,4.4,4.5,4.6,4.7,4.3,4.5,4.3,3.7,3.9,3.6,4.5,4.4,3.8,4.6,4.2,4.3,3.8,4.4,3.1,4.6,4.1,4.5,4.0,4.5,4.3,null,3.7,3.9,3.5,3.3,4.3,4.5,4.1,4.4,4.4,4.5,4.4,4.3,4.5,4.3,4.6,4.1,4.2,3.5,4.0,3.8,4.3,4.3,4.1,4.3,4.5,4.4,4.0,4.1,4.6,4.3,3.9,4.5,4.7,4.3,4.5,3.1,4.7,3.8,4.0,4.2,4.0,4.2,3.4,4.6,4.5,4.0,4.4,4.2,4.1,4.4,4.0,3.7,4.6,4.5,4.6,4.5,3.9,4.3,4.4,3.9,4.3,4.4,4.4,3.6,4.5,3.6,4.1,4.4,4.1,4.2,4.7,3.9,3.9,4.4,4.3,4.6,4.0,4.3,4.2,4.5,4.3,4.0,4.1,4.6,4.1,4.5,4.0,4.2,4.3,4.2,4.3,4.2,4.0,4.2,4.3,4.0,4.5,4.3,4.3,3.9,4.0,4.1,4.1,4.1,4.0,4.0,4.5,4.1,3.9,4.2,3.9,4.5,4.3,4.4,4.6,4.2,4.1,4.4,4.4,4.2,4.5,4.2,4.4,4.4,4.0,4.3,4.4,4.2,4.3,4.1,4.4,4.3,4.4,4.2,4.7,4.3,4.5,3.7,4.3,4.2,4.1,4.5,4.8,4.3,4.7,4.3,4.2,3.7,4.6,4.5,4.3,4.5,4.2,4.2,4.3,4.3,4.4,3.7,4.4,4.4,4.2,3.5,4.2,4.2,4.0,4.5,4.2,3.9,4.3,3.7,4.3,4.3,4.6,4.3,4.2,4.6,3.9,4.4,4.6,4.1,4.8,4.3,4.5,4.4,4.4,3.3,4.2,3.8,4.5,4.3,4.5,3.7,4.5,4.1,4.4,3.7,4.1,4.8,4.4,4.3,4.1,4.4,4.1,4.5,4.5,4.5,4.5,4.2,4.4,4.5,4.3,3.8,4.5,3.7,4.5,4.5,4.3,4.6,4.3,4.4,4.3,4.3,4.3,4.3,4.3,4.4,4.2,4.9,4.5,4.6,4.6,4.6,3.4,3.8,4.4,4.7,4.6,4.1,3.8,4.4,4.4,3.9,4.1,4.5,3.7,4.4,4.5,4.5,3.8,3.1,4.5,5.0,4.4,null,4.3,2.9,3.1,3.3,4.1,4.6,4.4,4.5,4.3,4.3,4.5,4.5,2.2,4.5,4.2,4.5,4.6,3.9,4.1,3.3,4.5,4.1,4.8,4.1,4.5,null,4.6,4.6,4.3,4.1,4.5,4.3,4.4,4.7,4.4,4.4,4.3,4.2,4.2,4.6,4.5,4.6,4.7,4.8,4.7,4.7,1.7,4.5,4.0,3.6,2.0,4.7,4.1,4.3,4.3,4.5,4.4,4.4,4.6,3.7,4.5,4.0,4.8,4.0,4.7,4.8,4.6,4.3,4.2,4.8,4.2,4.6,4.2,4.5,4.6,4.5,4.5,4.3,4.8,4.6,4.5,4.3,4.2,4.4,4.5,4.2,4.6,4.6,4.4,4.5,4.5,4.6,4.5,4.4,4.1,4.4,4.6,4.6,4.5,4.5,4.3,4.3,3.3,3.7,4.5,4.4,3.1,4.0,4.4,4.2,3.9,4.4,4.6,4.8,4.4,3.9,4.5,3.6,3.4,4.7,4.4,4.4,4.5,4.2,4.6,4.3,4.3,4.3,4.6,4.4,4.5,4.5,4.0,4.3,4.5,4.1,4.3,4.0,4.3,4.6,4.2,4.4,4.5,4.3,4.0,4.3,4.4,4.6,4.4,4.3,4.2,4.3,4.3,4.6,3.6,4.3,4.2,4.2,4.4,4.3,4.9,4.5,4.2,4.3,4.2,3.8,4.2,1.0,4.4,4.0,null,4.4,4.4,4.5,null,3.4,3.8,null,3.7,null,4.1,4.6,4.4,4.2,4.2,4.4,4.5,4.2,4.5,4.3,4.4,4.2,3.6,4.0,4.4,4.6,4.5,4.4,4.2,4.3,4.6,1.8,3.8,4.4,3.0,3.4,4.6,3.7,3.0,4.6,4.4,3.1,4.3,4.3,3.8,4.5,3.6,null,4.2,4.5,4.2,3.3,4.2,4.3,4.2,3.7,3.8,2.9,4.5,4.3,4.9,4.4,4.4,4.4,2.9,4.2,4.0,4.3,4.3,3.9,4.3,null,4.0,4.6,3.7,4.0,4.6,4.4,4.5,3.0,3.1,4.3,4.5,4.5,4.5,4.1,4.6,4.2,null,3.9,3.9,3.9,4.3,4.2,4.2,3.7,2.8,4.4,4.1,4.4,2.7,4.7,4.2,4.2,4.1,4.5,4.4,4.0,4.2,4.1,4.0,4.4,4.7,4.3,4.7,4.4,4.0,4.3,4.2,4.4,4.6,3.3,4.5,2.3,4.2,4.1,null,4.4,3.2,3.5,4.6,4.3,4.1,4.1,4.1,null,4.7,3.5,3.9,null,null,4.1,4.7,null,4.6,4.5,4.7,4.9,null,4.3,4.1,4.4,4.2,4.1,4.6,4.3,4.4,4.4,4.5,4.6,4.8,4.3,4.8,4.8,3.7,4.1,3.7,4.2,4.5,4.6,4.5,4.7,4.3,null,4.9,4.4,4.6,null,null,4.0,4.8,4.3,4.4,4.2,4.6,null,4.8,4.0,4.3,4.7,4.5,4.6,4.5,4.3,4.0,4.2,4.0,4.5,4.0,4.1,4.6,3.1,4.9,4.5,4.0,4.0,3.6,4.5,4.2,4.3,3.9,4.3,4.3,4.4,4.3,4.4,4.3,4.5,4.4,3.5,4.4,4.4,4.5,4.4,4.4,4.0,3.9,3.9,4.3,4.9,3.7,3.3,3.8,3.5,4.2,4.5,3.5,3.6,4.6,3.9,4.2,4.2,4.0,3.2,4.6,2.4,4.5,4.1,4.2,3.7,4.3,4.2,4.1,3.9,3.8,4.4,3.4,4.0,4.4,3.3,4.8,4.5,3.4,4.3,4.3,4.1,4.0,4.4,3.8,4.4,3.8,4.2,3.8,4.8,4.7,4.3,3.5,3.9,4.2,4.6,4.7,4.5,3.8,4.5,3.7,3.5,4.1,3.9,4.1,4.6,4.4,4.5,4.4,4.6,4.0,4.4,4.4,4.4,4.0,3.8,3.9,null,3.7,4.2,4.1,4.3,4.3,4.1,4.4,3.8,4.3,4.4,3.8,4.5,3.8,3.9,4.0,4.3,4.5,4.4,4.6,null,5.0,4.4,4.4,4.2,4.0,null,4.2,null,4.6,4.1,null,3.9,4.6,null,4.4,3.9,4.6,4.5,3.0,null,3.6,4.4,4.6,null,4.3,5.0,4.5,4.1,4.1,4.5,null,4.8,4.5,null,4.0,4.8,3.7,null,4.5,4.7,2.7,2.9,4.2,4.4,4.2,3.4,2.6,4.1,4.3,4.5,4.2,4.4,null,4.0,4.4,4.1,4.8,2.2,3.8,3.1,3.1,3.8,3.8,4.3,3.6,4.0,4.4,4.6,null,4.5,1.8,4.7,3.9,4.4,3.6,4.5,4.4,3.9,3.9,3.8,null,4.2,4.1,4.4,4.4,null,null,5.0,4.1,4.5,4.3,null,3.9,3.5,null,3.2,null,null,null,null,3.3,4.8,4.5,3.7,4.8,4.7,4.3,3.8,4.1,4.7,null,4.2,null,null,4.6,4.2,4.6,4.6,4.2,4.1,3.5,4.1,4.4,4.5,4.1,4.5,4.3,4.4,4.3,4.3,3.8,3.9,4.1,4.8,4.4,4.0,4.7,4.6,4.3,4.0,4.4,3.7,3.7,3.3,4.1,3.0,4.1,3.0,3.8,4.0,4.5,4.6,4.1,3.6,4.7,3.5,3.1,3.9,3.7,4.2,4.4,4.4,3.3,4.8,4.2,4.5,3.8,4.1,4.2,4.2,4.0,4.2,3.8,4.5,3.7,4.3,4.5,4.1,4.2,4.5,4.0,4.4,4.2,4.3,4.7,4.1,3.2,3.9,4.1,3.4,3.0,4.6,4.6,4.1,3.1,3.4,4.2,4.2,3.0,2.4,4.1,2.9,4.0,4.0,3.8,2.4,4.4,3.7,4.3,4.6,4.2,4.8,3.6,3.2,4.0,3.5,4.4,2.5,3.9,4.4,4.2,4.2,4.3,4.1,4.3,4.2,4.2,3.9,3.9,4.4,3.8,4.5,4.2,3.7,4.3,4.3,4.6,3.3,3.6,4.1,3.8,3.3,4.5,4.8,4.6,null,4.3,4.5,4.2,3.8,4.7,4.2,4.3,4.7,4.7,3.6,4.2,4.0,4.3,4.7,4.2,4.6,4.8,4.6,3.8,4.6,4.3,4.2,4.5,3.2,4.3,4.3,4.5,4.4,1.9,4.4,2.5,4.2,4.3,4.0,4.5,4.8,4.2,4.7,4.4,4.4,4.4,4.6,4.6,4.2,4.5,4.0,4.4,4.2,4.5,4.6,4.4,4.7,4.2,4.4,3.2,4.1,4.0,4.7,4.6,4.6,4.7,4.8,4.6,4.2,4.3,3.3,4.7,4.5,4.0,4.5,4.2,4.6,4.2,4.7,4.7,4.2,4.3,4.3,null,4.5,4.4,4.5,4.6,4.3,3.8,4.5,4.5,3.9,4.0,2.7,4.5,4.0,2.9,4.6,4.4,4.5,4.6,4.4,4.3,4.4,4.2,4.8,4.3,4.3,4.6,4.6,4.2,4.2,4.1,4.4,4.5,4.4,4.4,4.2,4.5,4.6,4.5,4.6,4.0,4.5,4.2,3.9,4.7,4.4,4.5,4.3,4.4,4.2,3.9,4.1,2.2,4.2,4.2,2.8,3.9,4.3,4.8,4.3,4.1,4.2,4.4,4.1,4.6,4.3,4.3,3.8,4.8,null,3.8,3.9,null,4.3,4.3,4.3,4.1,4.2,4.9,4.5,4.6,3.8,4.7,4.5,4.7,4.5,4.8,4.6,4.6,4.3,4.8,3.4,4.6,4.4,4.5,4.4,4.4,4.6,4.2,4.3,4.3,3.8,3.9,4.3,4.8,4.2,4.5,4.8,null,4.6,4.2,4.2,4.0,null,4.3,4.8,4.1,4.7,null,4.8,4.0,3.5,3.8,3.5,3.3,3.7,3.3,3.4,1.8,1.6,1.9,3.6,3.4,3.2,2.5,4.7,2.6,2.8,3.9,4.2,3.9,4.0,3.5,3.1,3.7,3.6,3.4,4.0,3.7,1.7,2.4,4.3,4.2,3.3,4.1,4.1,3.4,3.0,3.0,2.2,3.7,3.7,4.8,3.7,3.6,3.7,4.4,3.8,3.7,3.7,4.8,4.2,4.1,4.6,4.1,4.3,3.9,3.8,4.0,4.5,4.6,4.1,4.4,3.7,3.9,3.9,4.5,4.5,4.4,4.3,4.5,4.7,4.7,4.1,3.3,4.2,4.1,3.4,4.3,4.9,4.5,4.1,4.4,4.3,4.4,3.4,4.1,4.1,3.5,3.8,4.6,4.6,5.0,4.6,4.2,4.0,3.9,3.7,4.3,1.9,4.2,4.2,4.0,4.4,4.2,4.5,4.3,4.4,4.0,4.2,4.3,4.0,4.3,3.9,4.0,3.7,4.1,3.9,4.2,4.4,4.5,3.9,3.9,4.2,4.5,4.1,4.7,null,4.4,4.7,4.7,4.0,3.9,null,3.8,3.9,4.4,4.5,null,3.8,3.5,4.2,4.7,2.0,4.3,2.8,4.0,3.9,4.2,3.4,4.5,4.7,2.0,4.4,null,null,null,4.7,3.3,4.1,null,4.2,4.4,null,3.7,null,4.3,3.9,5.0,4.1,4.8,4.0,null,4.1,3.8,4.6,null,4.3,4.1,4.6,4.1,4.4,4.2,4.1,4.3,4.3,4.0,4.5,4.1,3.8,null,4.5,null,4.1,null,3.9,3.7,null,4.5,4.4,null,3.4,null,null,null,null,2.3,4.7,3.4,4.7,null,null,5.0,null,null,null,null,null,null,null,null,3.6,5.0,null,null,4.3,null,null,null,5.0,null,null,4.1,4.1,4.5,null,null,3.4,null,null,null,2.9,4.6,5.0,null,null,null,3.9,3.9,5.0,4.1,null,5.0,3.0,4.0,1.0,null,4.0,null,null,4.0,null,3.8,null,null,null,null,null,null,null,null,3.5,null,null,null,null,null,2.6,null,3.4,null,null,4.5,3.4,3.8,3.0,4.4,4.0,3.9,4.6,3.8,3.8,4.0,4.6,3.6,4.4,3.1,4.2,4.6,4.0,5.0,3.3,4.1,3.6,3.2,4.4,4.0,4.4,4.5,4.3,4.7,4.4,null,4.4,4.4,3.7,3.3,null,3.7,3.0,2.6,null,null,3.5,3.9,4.6,3.8,4.6,4.4,4.5,4.5,4.7,4.4,null,5.0,null,null,2.8,null,4.6,2.8,5.0,5.0,2.8,null,3.8,4.1,null,4.8,5.0,5.0,null,4.4,null,null,5.0,4.1,null,4.8,null,null,4.8,4.0,null,5.0,4.6,null,5.0,null,null,null,4.5,5.0,null,null,null,4.4,4.0,null,3.9,4.1,4.8,4.3,3.9,4.5,null,3.7,4.3,4.2,3.7,3.8,4.6,null,null,null,3.3,3.0,3.9,4.2,3.9,null,4.1,null,4.6,null,null,null,null,4.4,3.8,4.4,null,4.9,3.6,4.3,3.6,4.1,3.4,4.5,4.7,4.5,4.4,4.3,4.6,4.2,4.8,4.6,4.8,4.6,4.6,4.6,4.1,4.7,4.7,4.8,3.6,4.7,4.6,4.5,4.7,4.5,4.3,4.5,4.8,4.7,4.7,4.7,4.7,4.7,4.7,4.7,4.6,4.7,4.7,4.6,3.8,3.9,4.0,4.0,3.8,4.1,2.9,3.8,3.5,4.2,4.6,4.4,4.4,4.1,3.9,3.6,4.0,3.8,4.3,4.6,3.6,3.9,4.0,4.2,4.2,4.2,4.5,4.7,3.5,4.5,4.0,4.6,4.2,4.3,4.1,4.5,4.2,4.5,4.4,3.7,4.4,4.3,4.3,4.3,4.5,4.5,3.8,4.5,4.5,4.4,4.7,3.5,4.9,4.0,4.1,4.2,null,4.4,4.1,4.6,4.6,4.7,4.5,null,4.6,4.4,4.4,4.2,4.4,4.0,4.2,4.2,4.2,4.8,3.7,3.4,4.3,4.3,4.6,4.2,4.6,4.1,4.4,4.6,4.3,4.4,4.7,4.2,3.8,4.3,3.7,4.3,2.9,4.3,4.3,4.0,3.3,4.5,4.1,5.0,3.9,4.6,4.0,3.6,4.0,4.5,null,2.9,4.2,4.5,null,4.6,4.7,4.2,4.7,4.7,3.9,4.7,3.7,4.8,4.0,4.6,4.4,4.3,4.7,3.6,4.4,4.6,2.9,null,4.5,5.0,3.7,null,3.7,null,4.2,3.0,5.0,4.4,4.7,4.3,3.9,null,4.4,4.3,null,null,null,null,4.6,4.5,3.9,4.7,4.3,5.0,5.0,null,5.0,null,null,4.4,null,2.7,4.6,4.4,4.4,4.1,3.8,4.4,4.6,4.1,4.5,4.2,4.7,4.3,4.3,4.2,3.8,4.0,4.3,4.6,4.3,4.3,4.3,4.7,4.6,4.4,3.8,4.6,4.6,4.5,4.5,3.9,4.4,3.8,4.3,4.3,3.7,3.2,4.0,3.8,4.4,3.8,3.4,2.9,4.5,3.7,3.8,4.1,4.1,3.7,3.6,null,3.0,4.1,3.8,4.2,4.4,4.5,3.6,3.6,3.7,3.9,null,4.2,4.1,4.5,2.8,2.6,4.3,4.4,4.1,4.0,4.3,3.9,3.5,3.7,4.3,4.3,4.1,4.2,4.3,4.2,4.6,4.3,4.1,4.4,4.4,4.1,4.2,4.4,4.3,2.4,4.5,4.3,4.5,4.5,4.3,4.4,4.3,4.4,4.6,3.4,3.9,4.3,4.4,4.5,4.4,4.2,4.0,4.3,4.4,4.2,4.0,4.4,4.6,4.0,4.4,3.5,4.6,4.0,4.0,4.1,4.1,3.3,3.9,4.1,4.2,4.0,4.5,3.8,3.5,4.3,4.6,4.7,3.8,4.7,4.8,3.2,4.5,3.9,3.6,3.7,4.4,4.1,4.0,3.1,4.0,2.8,3.7,2.7,3.9,3.8,3.6,4.5,3.5,4.0,null,3.8,3.6,4.2,4.4,4.0,4.7,null,null,4.1,4.0,null,4.7,null,null,3.8,5.0,4.4,null,null,4.0,null,3.8,4.1,4.3,null,4.5,4.4,3.4,4.1,4.1,3.8,4.3,4.4,4.4,4.8,3.3,3.3,4.4,3.7,3.4,2.3,3.3,2.7,null,4.6,3.5,3.4,4.3,4.1,4.7,4.4,3.8,3.0,4.4,4.2,4.5,3.5,4.5,4.3,4.5,null,4.5,4.0,4.8,null,4.3,1.7,4.3,4.2,null,4.2,4.3,null,4.0,4.2,4.6,4.1,4.6,4.1,4.0,null,3.3,4.1,null,null,4.0,null,null,4.4,4.2,3.8,3.1,null,5.0,4.2,4.7,4.4,4.6,4.4,2.9,2.7,null,4.6,4.0,3.8,4.8,5.0,3.9,4.2,4.1,4.7,4.2,4.2,3.7,4.1,4.1,3.8,4.6,null,4.4,4.2,4.4,null,null,4.6,5.0,null,4.5,null,3.5,null,3.9,4.4,3.0,null,3.1,4.4,null,3.0,null,null,3.7,null,3.7,3.9,4.8,null,null,4.6,4.6,4.5,4.3,5.0,4.3,null,4.7,4.0,3.8,5.0,4.8,4.5,4.3,null,null,null,null,3.7,null,null,null,null,null,4.3,null,3.8,null,null,4.5,4.6,4.1,4.2,null,5.0,null,null,null,4.3,null,3.3,3.6,4.0,4.0,4.0,4.3,4.2,4.3,4.2,4.5,4.3,4.6,4.4,4.2,4.2,4.2,3.4,3.2,4.0,4.6,3.2,4.4,4.0,4.7,null,3.7,3.9,4.2,4.1,3.5,4.8,4.3,3.9,null,3.5,4.3,4.4,4.8,3.9,3.8,4.2,4.0,4.0,4.4,4.7,4.5,4.3,3.3,4.3,4.1,2.1,3.7,4.2,4.4,4.2,2.1,2.4,4.1,3.1,5.0,null,3.5,4.2,null,4.7,null,null,null,4.8,null,4.5,4.6,4.6,4.9,4.8,4.0,3.9,4.1,4.1,4.5,4.2,4.0,4.4,1.9,null,null,3.7,null,4.2,4.0,4.3,2.5,4.4,null,3.7,4.7,4.6,4.4,4.3,4.4,2.6,3.6,3.8,4.4,4.4,3.0,4.2,3.7,5.0,null,4.2,4.8,4.4,4.1,4.7,4.7,3.3,4.0,null,null,1.0,4.4,4.2,4.4,4.6,4.3,4.4,null,3.7,2.9,4.0,4.4,3.3,null,null,4.2,4.5,2.3,5.0,3.6,null,3.9,4.4,4.2,4.8,4.3,4.2,4.4,4.3,4.0,1.4,3.3,4.3,null,4.6,4.7,4.2,3.9,3.4,4.3,4.8,4.8,4.5,3.3,4.2,4.9,4.2,4.6,4.1,4.6,4.0,4.2,5.0,4.1,3.7,4.1,3.8,4.7,3.5,4.0,4.2,3.3,3.7,3.4,3.7,5.0,4.4,5.0,4.8,4.4,4.9,4.0,4.4,4.5,4.9,4.4,4.4,5.0,4.8,4.6,4.3,3.8,4.3,4.3,4.1,4.5,4.2,3.8,4.3,4.4,4.2,4.2,3.8,4.2,4.0,4.2,4.3,4.3,4.4,4.7,4.1,4.5,4.2,4.3,4.4,4.5,4.3,null,4.2,4.0,3.4,4.4,3.8,3.0,4.1,4.4,4.1,4.1,4.1,4.5,4.1,2.2,3.9,4.0,4.3,3.9,4.0,4.2,4.2,3.6,4.3,null,null,4.4,2.6,4.1,null,3.5,4.2,null,null,3.7,4.5,2.4,null,2.9,4.2,4.2,4.0,2.6,4.4,4.8,4.7,4.4,4.6,2.7,3.8,1.7,4.6,3.3,null,null,4.6,2.3,4.5,null,4.8,null,5.0,null,4.1,null,null,null,null,null,null,4.9,3.0,null,null,4.8,4.5,3.4,null,null,null,null,4.0,3.7,2.2,4.8,null,5.0,null,null,null,4.5,null,4.3,3.8,null,4.5,4.5,null,4.8,4.5,4.4,null,3.9,4.3,4.3,null,4.0,null,4.1,4.6,3.7,3.4,4.5,4.4,null,4.4,2.4,4.1,4.6,4.6,4.3,4.3,4.7,null,4.2,4.3,4.3,3.9,4.7,4.2,4.1,4.6,4.7,4.3,4.5,4.6,2.9,4.0,3.0,3.9,null,4.8,3.9,4.0,null,null,null,5.0,null,null,null,4.0,null,5.0,null,null,4.5,4.8,null,4.6,4.2,null,3.4,2.6,2.4,null,4.5,4.6,3.3,4.1,4.6,3.9,null,null,null,null,null,4.0,3.4,4.5,4.0,5.0,3.6,3.5,4.6,4.9,3.7,5.0,4.0,3.9,5.0,4.0,null,null,4.9,4.4,3.6,4.7,4.3,3.9,4.5,4.2,4.6,4.1,4.3,4.6,null,null,4.2,4.6,4.5,4.4,4.2,4.5,4.0,4.2,4.7,4.1,4.4,4.3,4.6,4.2,4.0,2.3,4.5,3.6,4.4,3.9,3.9,4.8,4.2,3.7,4.0,null,1.0,null,4.4,4.2,4.7,3.6,null,4.1,3.3,null,null,5.0,4.3,4.7,null,null,null,null,null,4.0,null,4.4,4.6,5.0,4.3,4.3,null,3.8,4.1,4.6,4.0,4.7,3.6,4.5,4.0,4.1,4.0,3.8,null,4.5,2.8,null,4.2,4.8,5.0,5.0,null,null,null,4.3,4.3,4.5,4.5,5.0,3.8,4.4,5.0,4.7,null,4.7,2.2,4.6,4.6,4.7,4.6,4.4,3.8,3.6,4.9,4.8,null,4.4,5.0,4.8,null,null,4.6,5.0,4.6,5.0,null,4.0,4.3,4.5,4.0,3.2,4.6,4.2,4.8,3.0,4.3,3.9,3.2,3.9,4.8,3.5,4.4,4.1,4.2,4.7,4.0,4.4,4.2,5.0,3.5,3.8,null,4.5,4.1,null,4.3,null,4.3,4.4,null,null,null,null,null,4.0,4.3,4.0,4.9,4.7,null,null,null,4.3,4.2,4.1,4.3,4.7,3.2,3.9,4.2,4.1,4.9,null,3.7,3.5,4.9,null,3.3,4.9,3.4,null,4.5,4.3,5.0,3.5,null,null,4.4,3.7,null,4.8,null,4.3,4.9,null,null,null,null,null,null,5.0,4.3,4.3,null,null,4.4,1.0,4.5,null,4.0,5.0,4.9,4.7,4.5,3.9,null,3.2,3.5,null,3.7,3.0,4.2,4.0,4.1,null,4.7,4.0,3.1,4.4,3.2,3.9,4.2,4.7,4.0,null,null,4.0,3.7,4.1,4.4,4.0,3.9,3.6,null,null,4.6,null,4.4,1.9,4.3,4.5,4.1,3.8,4.1,4.6,3.7,3.9,4.4,null,4.5,null,null,4.3,4.4,3.5,4.3,4.5,4.5,4.4,4.2,4.3,null,3.6,4.0,3.8,null,null,4.4,3.8,3.9,4.1,4.3,3.5,null,4.3,null,4.7,4.5,3.8,4.5,4.2,4.3,4.1,4.6,4.6,4.5,4.5,3.0,2.6,3.4,4.4,4.2,4.0,4.7,3.4,3.7,3.7,4.5,3.9,5.0,4.3,4.2,null,4.0,null,4.5,4.0,4.4,1.8,4.3,5.0,5.0,null,3.2,4.2,4.6,3.8,3.9,4.2,null,4.0,3.8,4.1,3.9,4.4,2.1,1.8,4.2,2.0,null,null,3.4,4.3,3.6,3.7,4.7,4.5,4.6,3.6,null,null,4.4,4.6,null,null,null,2.3,null,null,3.8,null,3.0,5.0,4.5,4.4,4.5,4.8,4.3,3.8,null,4.3,3.7,4.5,null,4.3,null,4.4,3.4,4.5,1.6,null,null,4.5,null,null,null,null,null,null,4.4,3.8,4.3,4.3,3.0,4.0,4.2,4.8,4.0,4.5,null,4.7,1.9,4.9,4.4,4.7,null,4.9,4.8,null,null,4.5,null,null,4.6,4.5,null,5.0,null,3.9,null,null,4.3,null,4.8,4.3,4.6,null,null,4.1,4.5,4.3,3.8,2.4,4.3,2.8,4.5,4.6,4.1,4.2,4.6,4.3,4.6,5.0,5.0,3.9,4.2,3.9,4.2,null,null,null,3.5,null,4.0,null,3.7,3.8,4.3,null,null,4.5,4.6,null,4.5,4.3,4.4,null,null,4.6,null,3.9,null,3.9,3.1,3.9,4.4,4.4,4.4,4.6,3.9,4.6,2.5,4.6,2.8,4.0,3.4,3.8,4.5,4.8,3.3,3.9,3.5,4.5,4.0,null,3.6,null,4.7,3.9,5.0,4.6,3.9,4.9,3.6,3.7,3.9,2.7,3.8,2.8,3.5,4.1,null,4.7,4.3,4.5,4.1,null,null,4.8,null,null,null,3.4,5.0,null,null,4.3,4.4,1.8,4.2,3.3,null,5.0,null,null,null,4.8,null,4.5,5.0,4.5,4.7,null,4.6,null,null,4.5,null,null,3.5,null,null,3.5,2.9,null,null,5.0,null,null,null,null,4.3,null,4.8,4.7,4.3,4.1,5.0,5.0,null,null,null,4.0,null,4.3,null,4.1,5.0,null,5.0,null,null,null,4.0,null,null,3.5,null,null,null,4.1,null,null,4.6,null,null,null,4.1,4.2,4.2,2.2,4.3,4.7,3.8,null,4.1,null,3.1,4.2,null,3.0,4.8,3.7,3.1,4.6,2.9,4.2,4.7,4.5,2.8,null,4.4,4.4,4.1,4.6,3.0,4.1,4.2,null,4.4,3.9,null,null,null,null,4.3,4.5,4.5,3.6,2.0,4.0,4.5,4.0,4.3,null,4.5,4.8,4.5,null,null,4.2,4.5,4.6,null,null,3.9,null,null,4.3,3.9,4.3,3.7,4.7,4.3,1.7,4.5,null,4.7,null,5.0,null,null,null,4.6,2.9,null,4.8,2.3,null,3.8,4.2,null,4.4,null,4.0,4.1,3.4,4.3,4.0,4.2,4.1,4.7,4.2,3.9,3.8,4.1,4.2,3.8,4.7,3.7,4.3,4.0,4.2,4.6,4.7,4.7,4.3,4.2,3.5,4.7,4.7,4.5,4.5,4.7,4.6,4.6,4.9,4.2,4.3,4.4,4.4,4.5,4.3,4.4,4.4,3.0,4.8,4.7,4.6,4.0,3.7,3.5,2.7,4.7,4.1,4.5,4.6,4.5,4.4,4.3,4.4,4.5,4.6,4.7,4.6,3.1,3.9,4.7,4.6,4.7,null,5.0,4.4,4.8,null,4.1,null,4.3,4.4,4.7,4.0,3.4,4.6,null,2.8,null,3.1,null,3.9,null,4.2,4.5,null,4.1,null,4.2,null,null,3.3,4.4,null,4.4,4.6,4.4,4.5,4.1,2.2,4.2,4.8,null,null,3.2,4.3,4.0,4.6,4.4,4.5,null,3.4,null,null,3.3,4.2,null,2.4,3.2,3.1,3.8,null,4.8,3.7,4.2,3.7,3.0,3.9,4.0,5.0,null,4.0,2.7,3.1,4.1,4.5,4.0,3.8,3.8,4.3,3.5,4.5,3.9,null,4.5,null,null,3.3,4.1,null,null,5.0,null,3.7,4.8,1.5,5.0,4.6,null,null,5.0,4.7,null,4.7,null,5.0,4.5,null,5.0,null,null,5.0,4.2,1.0,4.5,4.2,5.0,4.2,4.4,3.9,4.6,3.8,null,null,4.0,null,null,null,4.6,null,null,3.4,null,5.0,4.6,null,null,null,null,5.0,null,null,null,null,3.0,null,3.8,4.2,4.3,null,null,null,null,null,null,4.4,3.2,null,null,null,3.5,4.4,4.5,3.7,5.0,4.5,4.5,4.1,null,3.4,4.1,null,null,5.0,4.2,4.1,4.1,null,4.2,4.3,null,5.0,4.4,null,4.3,4.5,null,4.8,4.4,null,null,null,4.4,null,null,null,null,null,4.7,null,null,null,null,null,4.3,4.4,4.6,2.8,5.0,4.4,4.4,2.0,5.0,4.4,5.0,null,3.4,4.4,null,3.4,null,null,3.3,1.5,null,null,null,5.0,null,4.3,4.3,null,null,null,null,2.2,4.6,null,null,5.0,null,null,4.7,null,null,null,null,null,null,4.7,3.5,4.3,3.6,4.3,3.6,2.6,4.7,4.5,4.0,4.6,5.0,4.2,null,null,4.2,null,4.7,4.5,3.6,3.8,4.2,3.8,3.5,4.1,null,null,5.0,null,4.2,4.1,null,null,3.6,4.3,4.1,4.4,null,null,4.0,5.0,5.0,null,3.8,4.3,4.7,4.5,4.4,4.7,4.4,3.7,4.3,null,4.0,3.9,null,4.9,3.5,3.5,null,4.4,4.2,null,null,null,4.3,null,4.7,4.5,4.4,4.2,4.4,3.3,4.4,4.9,4.5,4.7,4.7,3.9,4.7,4.7,null,4.4,4.8,4.8,4.0,3.7,5.0,3.0,3.9,null,null,4.6,4.6,4.3,4.2,null,5.0,null,4.5,null,4.2,null,1.0,null,4.6,null,null,null,null,null,null,4.1,4.7,null,null,null,4.4,4.8,4.2,null,null,5.0,4.6,4.5,5.0,2.9,null,4.4,null,null,3.0,4.5,2.4,4.3,3.9,1.9,4.4,5.0,4.0,4.7,3.9,5.0,4.2,4.2,2.8,4.2,1.0,3.9,4.1,4.1,3.2,null,5.0,null,5.0,4.3,4.1,3.8,4.0,null,4.2,5.0,4.1,5.0,null,3.7,null,null,4.1,3.5,3.9,4.2,3.8,3.7,4.7,2.8,4.7,4.3,4.1,null,4.7,4.2,4.0,3.2,4.6,5.0,4.4,4.5,4.0,4.6,4.7,null,4.1,4.5,4.3,null,5.0,5.0,4.2,4.0,null,5.0,2.7,4.1,null,null,4.4,null,4.3,4.1,4.7,4.4,null,null,3.6,4.0,4.1,4.0,4.1,4.0,4.6,null,null,null,null,5.0,3.6,4.1,4.3,4.1,2.6,2.7,3.8,5.0,4.2,null,5.0,2.6,4.4,4.3,null,null,4.7,2.8,4.1,null,3.6,null,null,4.0,null,null,5.0,5.0,4.7,4.7,4.6,4.7,4.6,4.6,4.6,4.6,4.6,4.4,3.8,4.1,3.4,4.5,4.5,4.5,4.0,4.7,4.4,4.4,4.7,4.7,4.2,4.2,4.0,3.6,4.7,4.4,4.3,4.4,4.4,4.4,4.3,3.3,3.6,4.5,4.5,4.6,4.3,3.6,4.3,4.4,4.1,4.2,4.8,4.2,null,4.0,3.7,4.5,4.1,4.6,4.5,4.7,4.3,4.3,4.6,4.1,4.2,4.3,4.2,4.3,3.6,4.2,4.2,4.0,4.6,4.3,4.4,4.5,4.3,3.7,4.2,4.7,4.6,4.5,4.1,4.5,4.3,3.4,4.2,3.9,4.4,4.1,4.3,3.9,4.0,null,5.0,4.2,4.3,4.5,4.5,3.9,null,4.5,3.5,3.6,1.9,4.3,3.2,1.6,4.2,4.9,4.4,3.6,3.4,null,4.7,2.9,4.3,4.4,4.3,4.6,4.6,4.2,3.5,null,2.9,4.4,4.7,4.5,4.4,2.0,4.7,4.4,4.4,4.4,null,4.5,3.5,4.2,3.7,4.4,3.4,4.3,3.6,4.6,4.6,4.2,4.3,3.8,1.4,4.4,null,4.0,null,4.6,3.9,3.8,4.7,4.2,4.3,4.1,4.3,4.2,null,3.6,4.6,null,4.3,5.0,5.0,5.0,4.5,3.8,3.9,null,null,4.8,4.1,4.0,4.8,4.8,4.4,null,4.1,null,null,null,4.4,4.3,3.7,4.3,null,null,4.3,2.7,4.4,null,4.5,null,4.2,null,3.7,null,5.0,null,4.2,3.9,null,4.5,null,3.5,4.7,4.2,4.4,4.7,4.6,4.0,null,2.5,null,null,3.8,4.7,4.5,4.6,4.6,5.0,3.9,5.0,null,2.3,null,3.6,4.0,3.7,4.2,4.1,4.4,4.6,4.2,4.4,4.3,4.0,4.5,3.9,3.7,4.6,null,3.8,4.7,null,3.4,4.5,4.1,4.3,4.6,4.3,4.3,4.0,null,3.5,2.3,null,3.9,4.1,4.5,4.6,4.4,3.1,4.3,3.3,5.0,null,4.2,3.8,3.3,null,5.0,1.0,4.5,4.6,4.3,4.4,4.1,4.5,4.2,3.7,4.1,3.9,4.5,3.6,3.2,3.5,3.7,4.6,4.8,4.1,4.4,4.3,null,4.0,3.1,4.2,4.1,null,3.5,4.3,3.8,4.3,4.8,2.3,4.3,4.4,3.6,5.0,null,4.3,4.2,4.3,4.7,3.9,4.4,4.4,4.3,2.6,4.3,null,3.8,4.2,4.2,4.1,4.0,4.4,4.7,null,2.6,4.3,5.0,3.7,4.3,4.1,4.3,3.8,4.5,5.0,null,null,3.9,3.8,4.6,null,4.6,4.7,5.0,null,4.5,null,4.3,3.5,3.3,null,4.8,3.9,null,4.5,null,3.4,5.0,5.0,null,null,4.8,3.6,null,4.3,4.0,4.5,4.6,4.7,3.8,3.4,4.7,4.0,4.6,2.0,4.3,2.0,3.6,4.7,3.5,4.0,3.5,4.3,4.1,4.6,3.8,4.3,3.8,1.0,3.8,3.3,4.8,3.0,4.0,3.6,3.8,4.3,3.9,4.2,4.6,4.0,4.5,4.6,4.6,4.5,3.7,4.4,4.6,3.9,4.4,4.5,4.5,4.3,3.7,3.9,3.9,4.3,4.1,4.1,4.4,4.4,4.2,4.5,4.6,4.4,4.4,4.4,3.8,2.6,4.2,4.4,4.2,4.0,4.2,4.0,4.4,4.5,3.2,4.3,3.4,2.3,4.4,4.3,null,4.3,3.6,4.6,4.2,4.0,4.4,4.5,3.2,1.7,2.2,3.8,4.8,null,4.4,4.5,4.8,4.6,3.7,4.4,3.5,3.8,3.8,4.3,null,4.6,null,4.5,null,3.7,null,4.8,4.3,5.0,3.9,3.0,null,5.0,null,4.4,4.6,3.9,3.3,4.1,3.0,4.2,4.2,4.2,4.0,4.0,3.2,4.6,3.2,4.1,3.3,4.4,4.0,4.2,4.1,4.3,3.3,4.7,4.4,3.1,3.1,3.3,3.9,3.4,3.9,4.4,3.9,3.7,4.5,4.7,null,4.6,null,5.0,3.0,null,3.9,null,5.0,3.9,null,null,null,null,null,null,3.8,null,3.6,3.9,3.8,null,4.8,null,null,null,null,4.4,4.5,4.0,4.7,4.8,4.7,4.7,4.5,4.0,null,3.2,null,null,4.7,4.5,null,4.5,4.9,4.2,5.0,5.0,null,5.0,null,null,4.2,4.7,null,null,4.5,null,null,null,4.5,4.5,3.8,4.5,null,4.3,3.9,3.9,4.2,4.5,4.1,4.4,4.1,4.6,3.3,4.5,2.2,4.4,3.9,4.5,2.8,3.3,null,4.5,null,null,3.1,3.2,4.4,4.1,null,5.0,null,null,3.8,null,null,4.3,4.6,null,null,3.7,4.9,4.3,5.0,null,null,2.9,4.4,4.4,null,4.6,4.5,4.0,null,3.5,4.8,4.8,3.5,4.7,4.6,4.4,4.3,4.7,4.4,4.0,3.5,4.6,3.9,3.5,4.6,4.2,4.4,4.6,4.0,4.2,3.8,4.1,4.3,4.4,4.5,4.1,4.2,4.0,3.6,3.3,4.7,4.6,4.5,3.9,4.3,null,3.9,4.3,null,null,3.1,4.4,3.7,4.6,4.6,2.7,null,null,4.1,4.2,1.9,4.6,null,4.2,null,4.4,4.2,3.9,2.4,5.0,3.9,null,3.7,5.0,4.0,3.0,4.1,4.8,4.5,3.5,null,null,null,4.5,4.5,4.2,4.3,4.4,4.4,4.3,4.2,4.5,4.3,4.3,4.2,4.9,4.1,1.4,4.0,5.0,4.3,null,4.2,4.3,3.8,4.1,4.2,4.3,4.1,4.3,3.6,4.3,4.6,4.4,5.0,4.4,4.5,null,4.7,null,5.0,null,null,3.4,3.1,4.5,5.0,4.3,4.4,4.3,4.2,4.0,4.5,4.0,4.1,3.8,4.3,4.6,4.1,4.3,4.3,4.2,4.3,4.4,4.4,3.9,4.3,4.5,4.3,3.5,4.2,4.1,4.1,4.7,4.5,3.3,4.2,null,null,4.2,4.6,null,4.3,4.3,4.0,4.7,5.0,null,null,null,null,null,null,null,5.0,4.9,null,null,null,null,null,null,4.3,null,null,null,4.0,null,null,4.5,null,4.1,4.3,null,null,null,4.5,null,null,3.9,3.7,4.2,3.6,3.6,2.1,4.7,3.2,3.0,4.3,3.0,4.3,3.9,3.3,4.3,4.0,3.7,2.8,4.4,5.0,3.9,4.2,4.8,4.0,null,3.0,4.5,2.6,5.0,null,null,5.0,4.1,null,4.5,5.0,4.7,4.5,4.4,4.4,4.3,4.2,3.0,4.1,4.2,4.2,4.0,4.3,4.1,3.6,4.3,5.0,4.2,3.9,null,4.1,3.8,5.0,3.7,4.3,4.2,4.3,2.5,4.3,4.4,null,4.3,4.2,4.6,4.0,2.9,null,4.5,4.7,3.8,null,4.7,3.9,4.5,4.7,4.5,4.2,4.3,4.4,4.8,4.2,4.1,4.5,4.5,4.6,4.4,4.1,4.3,4.7,4.4,4.2,4.3,4.5,4.3,4.8,4.5,4.6,4.7,4.4,4.1,4.3,4.2,4.2,3.6,2.8,3.9,3.8,4.4,3.7,2.7,3.8,3.2,3.9,2.3,4.1,4.3,3.1,4.6,4.1,4.4,3.2,4.5,3.7,null,null,null,4.4,4.5,5.0,4.8,null,4.6,4.0,4.1,null,4.1,null,null,4.8,null,null,null,4.3,2.8,null,null,4.7,4.5,4.2,4.3,3.8,3.8,4.2,3.8,4.0,4.0,4.6,4.0,4.3,4.3,3.9,5.0,4.0,4.1,3.9,4.2,4.3,4.5,4.4,4.1,4.2,4.5,4.6,4.1,3.9,4.7,3.9,4.3,2.9,4.4,3.7,4.4,4.1,null,2.8,4.9,3.4,2.8,2.5,4.7,3.1,null,3.2,4.3,3.9,3.6,3.2,null,3.5,3.3,null,null,null,null,2.4,4.4,2.8,5.0,null,4.4,null,null,null,null,null,null,null,5.0,null,3.3,2.9,4.1,4.6,null,2.2,4.3,5.0,2.5,null,3.0,3.7,5.0,null,null,null,null,5.0,null,null,4.1,null,null,null,4.1,2.6,4.6,4.5,null,4.5,null,3.3,null,4.4,4.7,4.7,4.0,4.5,4.3,4.6,4.7,4.4,4.0,4.2,4.3,4.1,4.5,4.3,4.3,4.7,4.1,4.3,4.4,3.1,4.0,4.5,4.5,4.4,4.2,4.6,4.4,4.6,4.0,4.6,4.3,4.3,3.9,4.5,4.7,4.3,4.6,4.6,4.2,4.3,4.6,4.2,4.1,4.6,4.4,3.7,4.4,3.9,4.3,4.3,4.3,4.5,4.5,4.5,4.5,4.7,4.3,4.4,4.5,4.3,4.3,4.2,4.2,4.3,4.2,4.7,4.1,4.3,4.1,3.8,4.5,4.1,null,4.3,4.5,4.1,4.4,4.3,4.4,4.3,null,4.1,4.6,4.7,4.2,3.7,4.7,4.4,4.7,4.2,4.6,4.5,4.8,3.7,4.3,4.2,3.6,4.1,2.3,4.3,4.6,4.5,4.0,4.2,4.6,4.2,4.5,4.3,4.4,3.6,4.0,null,2.8,3.8,4.1,3.8,3.4,4.5,4.3,3.1,4.6,3.3,3.9,4.2,4.9,3.9,3.4,3.7,4.2,3.8,4.6,4.4,4.0,4.2,null,4.2,4.5,4.6,4.4,4.6,4.5,3.7,4.1,4.2,4.0,4.5,4.6,4.5,4.4,3.3,4.2,4.2,4.0,4.0,4.0,3.5,4.5,3.9,3.9,4.1,4.4,4.2,4.4,4.3,4.1,4.0,4.3,4.4,4.5,4.6,3.7,3.8,3.4,4.3,3.8,4.7,4.4,4.4,4.1,4.4,4.0,3.9,4.3,4.2,3.3,4.0,4.6,4.1,4.1,3.4,3.4,4.1,4.0,3.4,3.2,3.8,3.8,3.9,3.6,3.8,3.9,3.2,1.0,4.6,null,3.6,4.9,null,2.6,3.9,null,3.5,3.2,null,3.3,null,null,3.8,3.9,4.6,1.8,null,4.3,3.9,null,4.8,3.7,4.0,4.1,4.6,4.0,null,4.8,null,4.0,3.5,null,3.0,4.6,1.6,3.8,1.7,4.6,5.0,4.6,4.4,4.5,3.8,4.0,4.1,null,5.0,null,null,null,null,5.0,1.0,null,null,4.4,4.7,4.6,2.4,null,4.5,null,null,4.4,4.3,5.0,4.1,3.8,3.9,3.1,4.7,4.5,3.5,4.5,4.6,4.5,4.5,4.4,4.3,4.4,4.2,4.6,4.5,3.8,4.3,4.6,4.3,3.6,4.2,4.7,4.3,4.7,4.8,3.1,4.5,4.4,4.5,4.5,null,4.7,4.1,4.4,4.3,4.6,3.4,null,4.7,3.6,3.7,2.1,2.0,3.5,4.3,2.4,4.5,2.8,null,4.5,null,2.8,3.9,3.2,3.1,2.4,4.6,2.9,4.0,3.7,2.3,2.9,4.6,4.3,5.0,4.2,4.6,4.5,4.2,4.8,3.5,4.6,3.5,3.6,null,5.0,3.0,null,null,2.9,3.7,4.6,null,4.2,3.2,2.5,4.4,4.3,2.7,4.0,4.5,3.4,4.3,4.3,null,4.3,null,null,4.0,4.9,3.4,4.9,4.3,4.7,4.8,4.3,4.3,4.0,null,3.5,null,5.0,4.7,null,4.2,4.4,4.2,5.0,null,5.0,2.0,null,3.7,null,null,null,3.9,4.5,null,null,null,3.1,4.5,4.7,null,4.4,3.8,4.2,4.5,null,4.5,4.6,4.2,4.5,4.2,4.2,4.1,4.3,5.0,4.6,4.0,4.4,null,4.5,3.6,4.6,null,4.0,4.6,4.5,4.5,null,null,null,4.8,5.0,4.4,null,4.0,3.5,5.0,4.0,4.2,4.0,3.9,4.5,3.6,4.2,3.0,3.0,4.0,3.4,4.9,null,null,null,null,4.0,4.4,4.1,4.4,4.0,null,4.5,4.2,3.9,null,3.6,5.0,4.4,3.6,4.7,4.2,4.5,4.7,null,null,4.3,4.2,4.4,null,4.7,4.4,null,4.1,4.5,4.1,4.0,null,null,4.3,4.2,null,4.2,null,4.1,4.2,null,5.0,4.0,4.0,4.5,null,4.1,null,4.7,4.4,4.9,3.6,4.2,null,4.4,null,4.5,4.2,null,null,4.2,null,4.5,4.4,4.4,4.5,4.5,3.9,4.3,4.4,null,4.5,4.0,4.5,4.0,4.4,4.3,2.5,4.4,3.8,4.4,4.2,4.1,4.2,3.9,4.5,4.1,4.4,4.3,4.5,3.4,3.4,4.4,4.2,4.4,3.5,4.1,4.6,1.7,3.3,5.0,4.8,null,4.6,3.3,null,4.2,null,3.5,3.7,5.0,null,null,4.6,4.1,3.5,5.0,null,3.7,4.0,null,null,4.2,null,4.5,3.8,2.5,4.0,null,4.0,4.1,null,null,3.4,3.6,3.4,3.9,4.6,4.3,4.7,5.0,3.9,3.9,4.2,4.3,3.5,null,4.1,4.2,4.4,4.5,3.8,3.4,null,3.9,4.5,null,null,3.0,null,4.1,4.6,null,3.9,4.7,4.5,3.4,5.0,5.0,5.0,4.0,null,null,4.0,null,4.9,5.0,null,4.6,null,4.8,4.1,4.1,null,null,4.7,null,5.0,4.4,3.3,4.0,3.5,2.8,null,3.6,3.2,3.6,3.7,3.3,3.1,4.1,3.1,3.5,3.6,5.0,2.3,null,3.1,2.9,3.0,2.9,3.9,5.0,null,3.4,5.0,null,4.8,null,4.2,null,null,null,5.0,null,4.3,4.6,4.7,null,4.4,4.8,null,null,4.1,null,4.6,4.3,4.6,4.0,2.9,4.1,null,null,null,null,4.2,null,4.3,4.4,2.4,4.2,null,null,null,3.1,null,3.0,4.7,3.4,null,4.7,4.7,4.2,5.0,4.5,4.3,3.3,4.4,null,4.2,4.2,4.7,4.3,4.8,4.2,4.0,4.2,4.1,4.6,4.6,3.8,4.5,4.4,4.1,4.0,3.9,3.5,5.0,4.6,null,3.6,4.2,null,null,3.8,null,3.4,3.8,4.2,4.2,3.7,4.0,4.4,4.5,3.7,4.2,3.9,4.0,3.7,4.2,4.0,3.9,4.1,4.3,4.5,4.5,3.3,4.4,4.2,4.2,4.1,4.1,4.4,4.1,3.9,3.9,4.4,3.8,3.0,3.4,4.3,null,null,5.0,null,4.1,null,2.4,3.9,null,null,null,4.0,null,3.0,null,4.4,3.4,2.9,5.0,4.5,3.7,3.0,null,4.0,3.2,3.6,3.2,3.7,4.7,4.4,3.9,4.4,4.3,4.9,2.6,5.0,4.1,4.0,4.1,null,3.3,4.2,4.0,4.3,null,4.4,5.0,4.3,4.4,null,null,null,3.9,4.3,4.0,3.8,4.5,null,3.8,4.4,4.3,4.7,3.9,4.2,3.8,4.3,3.8,4.2,4.5,4.2,3.6,4.0,null,3.5,4.4,3.5,4.1,4.8,4.4,4.3,4.0,4.2,4.4,3.5,4.3,4.4,4.7,5.0,3.8,5.0,4.8,4.9,4.3,null,5.0,null,4.9,4.9,4.9,4.5,null,4.5,5.0,5.0,3.0,null,null,4.9,5.0,5.0,null,4.1,null,4.1,4.3,4.3,4.1,4.7,null,4.9,4.0,5.0,5.0,null,4.6,4.2,3.7,5.0,4.3,4.0,4.3,4.0,4.0,3.1,3.4,4.2,4.2,4.1,3.4,null,4.0,null,3.9,4.8,4.1,4.3,4.3,4.4,null,4.4,4.5,4.5,4.8,4.4,4.5,4.6,4.6,4.5,null,4.2,4.4,4.2,4.7,4.5,4.2,4.5,4.2,4.7,4.1,4.1,4.6,4.4,4.5,3.8,3.9,3.5,3.8,4.2,4.6,3.7,4.4,3.6,3.4,4.0,4.3,4.3,4.5,4.4,4.5,4.1,4.4,4.3,4.5,4.5,4.2,4.5,4.3,4.1,4.6,4.3,4.0,4.4,4.4,null,4.6,4.6,4.3,4.3,4.2,4.5,4.0,4.6,4.5,3.8,4.3,4.3,4.9,4.0,4.5,4.1,4.5,4.2,4.4,4.4,4.0,4.3,4.3,4.4,4.4,4.0,4.7,4.2,4.5,4.1,4.4,4.1,4.3,3.5,4.7,null,2.6,4.2,null,null,null,null,null,null,null,null,5.0,null,4.3,null,null,null,null,null,4.4,4.3,null,null,4.1,null,4.3,4.5,null,4.6,4.6,4.7,null,4.3,4.2,4.5,4.3,4.5,3.5,4.3,4.6,4.5,4.3,4.4,null,null,null,3.4,4.3,3.8,4.5,null,null,null,5.0,4.9,null,null,5.0,null,null,4.2,4.3,4.4,2.3,4.7,null,null,null,4.4,4.3,4.4,null,4.0,3.6,null,4.1,4.6,3.9,4.4,null,3.7,3.9,null,4.3,4.1,3.6,3.5,3.9,3.9,3.8,4.0,null,4.5,3.6,3.9,4.3,4.0,4.2,3.7,3.9,4.2,3.5,4.0,3.8,4.1,4.2,4.1,4.4,3.7,null,4.7,3.8,4.0,4.2,3.8,3.9,4.0,3.1,5.0,3.5,4.1,4.5,4.7,4.1,null,3.9,4.0,4.3,3.1,null,4.2,4.1,4.4,3.2,null,3.3,4.3,4.7,4.3,4.2,4.7,4.3,4.2,4.2,4.2,4.1,4.2,4.3,4.4,4.3,3.5,4.3,1.8,4.2,4.2,4.6,4.0,4.3,5.0,3.8,4.3,3.0,5.0,4.7,4.6,4.4,4.7,5.0,4.8,3.0,4.6,4.6,null,4.1,4.6,4.5,4.3,4.2,3.9,4.7,4.9,4.3,4.4,3.6,4.6,4.5,null,3.9,4.3,4.8,3.7,4.4,4.2,4.3,4.6,4.5,3.9,4.3,4.4,4.0,4.7,4.3,4.5,4.2,4.2,4.8,4.6,4.5,4.0,4.2,4.1,4.7,4.2,4.6,4.5,3.9,3.6,4.6,null,3.4,4.2,3.4,3.6,4.2,3.5,4.3,null,3.9,4.3,3.6,null,3.9,4.3,3.7,null,3.8,null,4.1,4.1,4.7,4.1,null,1.9,3.6,3.8,null,4.5,2.7,null,4.5,null,5.0,4.0,4.2,null,null,4.4,null,4.0,null,3.1,null,null,5.0,null,null,null,null,null,null,null,null,null,4.7,3.7,3.9,null,null,3.0,null,null,null,null,null,4.2,3.0,null,null,4.2,null,null,4.2,3.7,4.6,4.5,4.6,4.7,4.3,2.3,2.8,2.8,3.6,3.0,3.2,3.5,3.8,3.5,4.2,null,4.5,3.4,3.0,4.4,4.0,null,4.3,null,4.1,3.6,3.7,4.2,3.7,4.3,null,null,3.3,4.4,4.8,3.5,4.0,4.9,4.0,null,4.6,4.3,3.6,3.9,3.9,4.0,4.2,4.4,null,null,4.3,null,null,null,null,3.7,null,4.3,null,null,3.4,null,3.5,null,4.2,4.2,null,3.6,null,3.9,3.8,3.8,4.0,4.5,3.8,4.9,3.8,4.1,3.5,3.0,4.5,4.7,3.8,3.3,4.0,4.1,3.7,3.9,3.5,4.4,4.0,4.0,4.6,4.4,4.5,4.3,4.4,4.3,4.1,4.2,2.7,4.2,2.3,3.9,4.1,2.9,3.3,4.2,4.3,2.9,3.5,2.8,null,4.3,3.5,4.6,4.2,4.2,3.7,4.7,3.9,4.3,4.4,4.0,4.4,3.7,4.3,3.5,null,4.3,4.0,4.5,4.2,4.3,4.1,2.5,2.7,null,null,null,null,1.2,null,null,null,4.7,4.9,4.7,null,null,4.4,4.7,4.0,null,4.7,4.3,null,4.7,null,4.4,null,null,null,null,null,null,4.6,null,null,null,4.4,4.4,4.4,4.6,3.1,4.3,3.7,4.6,null,4.1,4.2,4.4,4.1,3.6,4.4,3.8,4.0,3.2,2.8,3.1,2.9,4.1,3.3,3.5,4.2,2.8,2.1,4.4,4.4,4.2,4.1,3.3,3.5,4.7,3.1,4.3,4.1,4.2,2.5,3.9,3.0,3.2,4.3,4.3,4.2,4.3,2.2,3.9,2.8,4.4,4.6,4.4,3.9,2.9,4.1,5.0,4.6,3.7,null,4.4,4.2,4.4,3.9,3.6,3.4,null,4.3,4.3,4.4,null,4.3,4.3,null,null,null,4.4,null,4.0,4.5,4.6,4.3,4.1,4.4,3.5,4.1,3.8,4.2,4.3,4.5,4.0,4.0,4.3,4.1,3.4,4.0,4.3,4.7,4.5,4.3,4.1,4.1,4.4,4.6,null,3.8,3.9,4.2,4.2,3.7,4.3,4.2,3.6,4.3,4.3,4.3,4.5,4.3,4.7,3.8,4.0,4.1,null,3.9,4.3,3.4,null,4.2,4.5,4.4,4.2,4.7,4.6,4.4,4.4,4.8,4.6,4.3,4.4,4.4,3.3,4.5,4.6,4.3,4.9,4.3,null,4.5,4.9,3.7,4.5,4.6,4.5,4.1,4.8,null,5.0,3.4,4.5,4.8,4.5,4.5,4.5,4.5,4.5,4.1,4.1,3.6,4.7,4.6,4.9,4.6,4.1,4.5,3.9,3.9,4.6,3.8,4.7,3.9,4.1,3.9,4.0,4.3,4.0,4.4,4.1,5.0,4.8,null,4.6,5.0,4.2,4.7,4.0,4.4,4.9,3.5,4.1,4.2,4.4,null,4.5,3.1,null,4.5,4.6,4.3,4.4,4.6,4.3,4.8,2.8,4.1,1.0,3.0,5.0,4.5,null,null,null,null,null,null,null,5.0,4.1,null,null,null,4.4,3.0,null,3.8,null,3.9,null,null,null,5.0,null,null,null,4.5,null,null,null,5.0,null,null,3.3,null,4.5,4.9,null,null,null,null,null,null,4.3,4.5,4.1,4.8,3.8,4.1,3.9,null,4.2,4.2,4.8,4.1,4.1,4.0,3.9,4.1,4.1,4.2,3.7,3.9,3.9,3.6,3.7,3.6,4.3,3.9,4.5,2.6,4.4,null,1.0,null,null,null,null,4.2,4.8,5.0,4.3,4.4,4.5,null,4.9,null,null,null,5.0,null,null,4.2,4.2,null,null,4.0,2.1,null,4.2,null,2.5,4.4,4.4,4.6,null,null,4.4,4.2,4.5,3.3,3.9,null,4.5,4.1,4.8,4.6,4.4,3.8,3.7,4.2,3.7,4.3,4.5,3.5,4.0,4.5,2.9,3.9,3.6,4.6,2.1,4.7,4.5,4.1,4.5,3.7,2.9,4.0,4.2,3.7,3.6,3.9,3.4,3.5,4.2,3.4,3.9,3.0,3.6,3.2,4.1,4.1,4.2,4.2,null,4.7,null,4.6,4.5,null,4.3,4.5,4.5,4.4,4.3,null,null,null,null,4.2,null,3.7,null,4.1,4.3,4.0,3.5,4.2,4.4,4.2,4.4,null,3.8,3.9,4.0,3.8,3.6,4.2,null,3.8,null,3.7,4.0,4.2,4.4,null,null,4.4,4.9,null,5.0,null,4.8,null,null,null,null,null,null,null,null,4.0,null,null,null,null,null,null,null,null,4.0,null,null,4.9,null,3.8,null,4.9,null,null,null,null,null,1.5,null,5.0,null,4.8,null,3.9,3.7,4.6,4.7,4.6,4.3,4.2,4.6,4.7,4.6,2.0,3.6,3.2,3.8,4.0,3.8,3.8,4.4,4.4,4.4,3.8,4.3,4.6,1.0,3.2,4.7,4.3,4.5,4.1,4.9,4.1,4.2,3.5,4.2,5.0,3.8,4.7,null,null,4.5,null,5.0,3.3,5.0,null,4.0,4.5,3.2,4.5,4.2,null,3.7,3.8,5.0,null,4.1,2.9,null,null,null,4.7,5.0,3.2,null,3.8,3.8,4.6,4.6,4.4,4.8,4.2,3.3,3.9,4.5,3.9,4.3,4.4,3.9,4.6,3.9,3.4,4.6,null,null,4.2,null,null,4.8,5.0,null,null,5.0,null,null,null,3.8,null,2.9,4.6,3.8,null,null,null,4.1,null,4.5,null,4.2,null,2.5,3.5,4.6,4.4,4.6,4.3,4.2,4.2,4.1,4.2,4.3,4.5,4.4,5.0,4.6,null,null,null,null,null,5.0,null,null,null,null,null,3.4,null,null,4.6,4.5,null,null,3.8,4.1,4.4,4.4,4.4,3.0,4.2,4.2,3.9,4.2,4.4,5.0,4.0,4.3,4.6,3.6,4.4,4.1,4.2,4.3,4.5,3.9,4.3,3.5,null,null,null,4.0,3.8,3.6,4.3,4.2,5.0,3.4,null,null,null,3.5,null,3.7,4.2,null,3.6,4.5,4.2,4.3,4.4,2.7,4.1,null,4.4,null,null,4.5,null,3.4,2.9,4.8,3.8,null,4.0,3.9,null,null,null,null,5.0,3.9,4.0,3.6,4.1,4.3,3.8,4.2,4.3,4.2,4.2,4.1,null,4.0,4.1,4.0,4.2,4.4,null,4.2,4.7,4.6,null,4.7,4.1,4.9,4.0,4.3,4.2,4.3,null,null,null,4.7,4.8,null,4.1,null,4.0,4.2,null,4.0,null,3.3,5.0,null,null,null,null,null,4.0,4.2,3.4,4.6,3.8,null,3.8,4.8,4.0,null,4.5,5.0,null,4.5,4.5],\"yaxis\":\"y\",\"type\":\"histogram\"}],                        {\"template\":{\"data\":{\"bar\":[{\"error_x\":{\"color\":\"#2a3f5f\"},\"error_y\":{\"color\":\"#2a3f5f\"},\"marker\":{\"line\":{\"color\":\"#E5ECF6\",\"width\":0.5},\"pattern\":{\"fillmode\":\"overlay\",\"size\":10,\"solidity\":0.2}},\"type\":\"bar\"}],\"barpolar\":[{\"marker\":{\"line\":{\"color\":\"#E5ECF6\",\"width\":0.5},\"pattern\":{\"fillmode\":\"overlay\",\"size\":10,\"solidity\":0.2}},\"type\":\"barpolar\"}],\"carpet\":[{\"aaxis\":{\"endlinecolor\":\"#2a3f5f\",\"gridcolor\":\"white\",\"linecolor\":\"white\",\"minorgridcolor\":\"white\",\"startlinecolor\":\"#2a3f5f\"},\"baxis\":{\"endlinecolor\":\"#2a3f5f\",\"gridcolor\":\"white\",\"linecolor\":\"white\",\"minorgridcolor\":\"white\",\"startlinecolor\":\"#2a3f5f\"},\"type\":\"carpet\"}],\"choropleth\":[{\"colorbar\":{\"outlinewidth\":0,\"ticks\":\"\"},\"type\":\"choropleth\"}],\"contour\":[{\"colorbar\":{\"outlinewidth\":0,\"ticks\":\"\"},\"colorscale\":[[0.0,\"#0d0887\"],[0.1111111111111111,\"#46039f\"],[0.2222222222222222,\"#7201a8\"],[0.3333333333333333,\"#9c179e\"],[0.4444444444444444,\"#bd3786\"],[0.5555555555555556,\"#d8576b\"],[0.6666666666666666,\"#ed7953\"],[0.7777777777777778,\"#fb9f3a\"],[0.8888888888888888,\"#fdca26\"],[1.0,\"#f0f921\"]],\"type\":\"contour\"}],\"contourcarpet\":[{\"colorbar\":{\"outlinewidth\":0,\"ticks\":\"\"},\"type\":\"contourcarpet\"}],\"heatmap\":[{\"colorbar\":{\"outlinewidth\":0,\"ticks\":\"\"},\"colorscale\":[[0.0,\"#0d0887\"],[0.1111111111111111,\"#46039f\"],[0.2222222222222222,\"#7201a8\"],[0.3333333333333333,\"#9c179e\"],[0.4444444444444444,\"#bd3786\"],[0.5555555555555556,\"#d8576b\"],[0.6666666666666666,\"#ed7953\"],[0.7777777777777778,\"#fb9f3a\"],[0.8888888888888888,\"#fdca26\"],[1.0,\"#f0f921\"]],\"type\":\"heatmap\"}],\"heatmapgl\":[{\"colorbar\":{\"outlinewidth\":0,\"ticks\":\"\"},\"colorscale\":[[0.0,\"#0d0887\"],[0.1111111111111111,\"#46039f\"],[0.2222222222222222,\"#7201a8\"],[0.3333333333333333,\"#9c179e\"],[0.4444444444444444,\"#bd3786\"],[0.5555555555555556,\"#d8576b\"],[0.6666666666666666,\"#ed7953\"],[0.7777777777777778,\"#fb9f3a\"],[0.8888888888888888,\"#fdca26\"],[1.0,\"#f0f921\"]],\"type\":\"heatmapgl\"}],\"histogram\":[{\"marker\":{\"pattern\":{\"fillmode\":\"overlay\",\"size\":10,\"solidity\":0.2}},\"type\":\"histogram\"}],\"histogram2d\":[{\"colorbar\":{\"outlinewidth\":0,\"ticks\":\"\"},\"colorscale\":[[0.0,\"#0d0887\"],[0.1111111111111111,\"#46039f\"],[0.2222222222222222,\"#7201a8\"],[0.3333333333333333,\"#9c179e\"],[0.4444444444444444,\"#bd3786\"],[0.5555555555555556,\"#d8576b\"],[0.6666666666666666,\"#ed7953\"],[0.7777777777777778,\"#fb9f3a\"],[0.8888888888888888,\"#fdca26\"],[1.0,\"#f0f921\"]],\"type\":\"histogram2d\"}],\"histogram2dcontour\":[{\"colorbar\":{\"outlinewidth\":0,\"ticks\":\"\"},\"colorscale\":[[0.0,\"#0d0887\"],[0.1111111111111111,\"#46039f\"],[0.2222222222222222,\"#7201a8\"],[0.3333333333333333,\"#9c179e\"],[0.4444444444444444,\"#bd3786\"],[0.5555555555555556,\"#d8576b\"],[0.6666666666666666,\"#ed7953\"],[0.7777777777777778,\"#fb9f3a\"],[0.8888888888888888,\"#fdca26\"],[1.0,\"#f0f921\"]],\"type\":\"histogram2dcontour\"}],\"mesh3d\":[{\"colorbar\":{\"outlinewidth\":0,\"ticks\":\"\"},\"type\":\"mesh3d\"}],\"parcoords\":[{\"line\":{\"colorbar\":{\"outlinewidth\":0,\"ticks\":\"\"}},\"type\":\"parcoords\"}],\"pie\":[{\"automargin\":true,\"type\":\"pie\"}],\"scatter\":[{\"marker\":{\"colorbar\":{\"outlinewidth\":0,\"ticks\":\"\"}},\"type\":\"scatter\"}],\"scatter3d\":[{\"line\":{\"colorbar\":{\"outlinewidth\":0,\"ticks\":\"\"}},\"marker\":{\"colorbar\":{\"outlinewidth\":0,\"ticks\":\"\"}},\"type\":\"scatter3d\"}],\"scattercarpet\":[{\"marker\":{\"colorbar\":{\"outlinewidth\":0,\"ticks\":\"\"}},\"type\":\"scattercarpet\"}],\"scattergeo\":[{\"marker\":{\"colorbar\":{\"outlinewidth\":0,\"ticks\":\"\"}},\"type\":\"scattergeo\"}],\"scattergl\":[{\"marker\":{\"colorbar\":{\"outlinewidth\":0,\"ticks\":\"\"}},\"type\":\"scattergl\"}],\"scattermapbox\":[{\"marker\":{\"colorbar\":{\"outlinewidth\":0,\"ticks\":\"\"}},\"type\":\"scattermapbox\"}],\"scatterpolar\":[{\"marker\":{\"colorbar\":{\"outlinewidth\":0,\"ticks\":\"\"}},\"type\":\"scatterpolar\"}],\"scatterpolargl\":[{\"marker\":{\"colorbar\":{\"outlinewidth\":0,\"ticks\":\"\"}},\"type\":\"scatterpolargl\"}],\"scatterternary\":[{\"marker\":{\"colorbar\":{\"outlinewidth\":0,\"ticks\":\"\"}},\"type\":\"scatterternary\"}],\"surface\":[{\"colorbar\":{\"outlinewidth\":0,\"ticks\":\"\"},\"colorscale\":[[0.0,\"#0d0887\"],[0.1111111111111111,\"#46039f\"],[0.2222222222222222,\"#7201a8\"],[0.3333333333333333,\"#9c179e\"],[0.4444444444444444,\"#bd3786\"],[0.5555555555555556,\"#d8576b\"],[0.6666666666666666,\"#ed7953\"],[0.7777777777777778,\"#fb9f3a\"],[0.8888888888888888,\"#fdca26\"],[1.0,\"#f0f921\"]],\"type\":\"surface\"}],\"table\":[{\"cells\":{\"fill\":{\"color\":\"#EBF0F8\"},\"line\":{\"color\":\"white\"}},\"header\":{\"fill\":{\"color\":\"#C8D4E3\"},\"line\":{\"color\":\"white\"}},\"type\":\"table\"}]},\"layout\":{\"annotationdefaults\":{\"arrowcolor\":\"#2a3f5f\",\"arrowhead\":0,\"arrowwidth\":1},\"autotypenumbers\":\"strict\",\"coloraxis\":{\"colorbar\":{\"outlinewidth\":0,\"ticks\":\"\"}},\"colorscale\":{\"diverging\":[[0,\"#8e0152\"],[0.1,\"#c51b7d\"],[0.2,\"#de77ae\"],[0.3,\"#f1b6da\"],[0.4,\"#fde0ef\"],[0.5,\"#f7f7f7\"],[0.6,\"#e6f5d0\"],[0.7,\"#b8e186\"],[0.8,\"#7fbc41\"],[0.9,\"#4d9221\"],[1,\"#276419\"]],\"sequential\":[[0.0,\"#0d0887\"],[0.1111111111111111,\"#46039f\"],[0.2222222222222222,\"#7201a8\"],[0.3333333333333333,\"#9c179e\"],[0.4444444444444444,\"#bd3786\"],[0.5555555555555556,\"#d8576b\"],[0.6666666666666666,\"#ed7953\"],[0.7777777777777778,\"#fb9f3a\"],[0.8888888888888888,\"#fdca26\"],[1.0,\"#f0f921\"]],\"sequentialminus\":[[0.0,\"#0d0887\"],[0.1111111111111111,\"#46039f\"],[0.2222222222222222,\"#7201a8\"],[0.3333333333333333,\"#9c179e\"],[0.4444444444444444,\"#bd3786\"],[0.5555555555555556,\"#d8576b\"],[0.6666666666666666,\"#ed7953\"],[0.7777777777777778,\"#fb9f3a\"],[0.8888888888888888,\"#fdca26\"],[1.0,\"#f0f921\"]]},\"colorway\":[\"#636efa\",\"#EF553B\",\"#00cc96\",\"#ab63fa\",\"#FFA15A\",\"#19d3f3\",\"#FF6692\",\"#B6E880\",\"#FF97FF\",\"#FECB52\"],\"font\":{\"color\":\"#2a3f5f\"},\"geo\":{\"bgcolor\":\"white\",\"lakecolor\":\"white\",\"landcolor\":\"#E5ECF6\",\"showlakes\":true,\"showland\":true,\"subunitcolor\":\"white\"},\"hoverlabel\":{\"align\":\"left\"},\"hovermode\":\"closest\",\"mapbox\":{\"style\":\"light\"},\"paper_bgcolor\":\"white\",\"plot_bgcolor\":\"#E5ECF6\",\"polar\":{\"angularaxis\":{\"gridcolor\":\"white\",\"linecolor\":\"white\",\"ticks\":\"\"},\"bgcolor\":\"#E5ECF6\",\"radialaxis\":{\"gridcolor\":\"white\",\"linecolor\":\"white\",\"ticks\":\"\"}},\"scene\":{\"xaxis\":{\"backgroundcolor\":\"#E5ECF6\",\"gridcolor\":\"white\",\"gridwidth\":2,\"linecolor\":\"white\",\"showbackground\":true,\"ticks\":\"\",\"zerolinecolor\":\"white\"},\"yaxis\":{\"backgroundcolor\":\"#E5ECF6\",\"gridcolor\":\"white\",\"gridwidth\":2,\"linecolor\":\"white\",\"showbackground\":true,\"ticks\":\"\",\"zerolinecolor\":\"white\"},\"zaxis\":{\"backgroundcolor\":\"#E5ECF6\",\"gridcolor\":\"white\",\"gridwidth\":2,\"linecolor\":\"white\",\"showbackground\":true,\"ticks\":\"\",\"zerolinecolor\":\"white\"}},\"shapedefaults\":{\"line\":{\"color\":\"#2a3f5f\"}},\"ternary\":{\"aaxis\":{\"gridcolor\":\"white\",\"linecolor\":\"white\",\"ticks\":\"\"},\"baxis\":{\"gridcolor\":\"white\",\"linecolor\":\"white\",\"ticks\":\"\"},\"bgcolor\":\"#E5ECF6\",\"caxis\":{\"gridcolor\":\"white\",\"linecolor\":\"white\",\"ticks\":\"\"}},\"title\":{\"x\":0.05},\"xaxis\":{\"automargin\":true,\"gridcolor\":\"white\",\"linecolor\":\"white\",\"ticks\":\"\",\"title\":{\"standoff\":15},\"zerolinecolor\":\"white\",\"zerolinewidth\":2},\"yaxis\":{\"automargin\":true,\"gridcolor\":\"white\",\"linecolor\":\"white\",\"ticks\":\"\",\"title\":{\"standoff\":15},\"zerolinecolor\":\"white\",\"zerolinewidth\":2}}},\"xaxis\":{\"anchor\":\"y\",\"domain\":[0.0,1.0],\"title\":{\"text\":\"Rating\"}},\"yaxis\":{\"anchor\":\"x\",\"domain\":[0.0,1.0],\"title\":{\"text\":\"sum of Rating\"}},\"legend\":{\"tracegroupgap\":0},\"margin\":{\"t\":60},\"barmode\":\"relative\"},                        {\"responsive\": true}                    ).then(function(){\n",
              "                            \n",
              "var gd = document.getElementById('a0a9b981-872c-42af-8416-3545b873f119');\n",
              "var x = new MutationObserver(function (mutations, observer) {{\n",
              "        var display = window.getComputedStyle(gd).display;\n",
              "        if (!display || display === 'none') {{\n",
              "            console.log([gd, 'removed!']);\n",
              "            Plotly.purge(gd);\n",
              "            observer.disconnect();\n",
              "        }}\n",
              "}});\n",
              "\n",
              "// Listen for the removal of the full notebook cells\n",
              "var notebookContainer = gd.closest('#notebook-container');\n",
              "if (notebookContainer) {{\n",
              "    x.observe(notebookContainer, {childList: true});\n",
              "}}\n",
              "\n",
              "// Listen for the clearing of the current output cell\n",
              "var outputEl = gd.closest('.output');\n",
              "if (outputEl) {{\n",
              "    x.observe(outputEl, {childList: true});\n",
              "}}\n",
              "\n",
              "                        })                };                            </script>        </div>\n",
              "</body>\n",
              "</html>"
            ]
          },
          "metadata": {}
        }
      ]
    },
    {
      "cell_type": "markdown",
      "source": [
        "##Cleaning 'Install'\n",
        "\n",
        "> Checking data in installs - value_counts()\n",
        "\n",
        "\n",
        "\n",
        "\n",
        "1.   Remove + sign\n",
        "2.   Remove ',' sign\n",
        "1.   Convert series to numerical value (int/Float)\n",
        "\n",
        "\n",
        "\n",
        "\n",
        "\n",
        "\n"
      ],
      "metadata": {
        "id": "15fwvMhh3-S3"
      }
    },
    {
      "cell_type": "code",
      "source": [
        "data['Installs'].value_counts()"
      ],
      "metadata": {
        "colab": {
          "base_uri": "https://localhost:8080/"
        },
        "id": "_LG_AZwJ4rnd",
        "outputId": "8fe2dd8e-be65-4f7e-d247-b0201f9b719f"
      },
      "execution_count": null,
      "outputs": [
        {
          "output_type": "execute_result",
          "data": {
            "text/plain": [
              "1,000,000+        1579\n",
              "10,000,000+       1252\n",
              "100,000+          1169\n",
              "10,000+           1054\n",
              "1,000+             907\n",
              "5,000,000+         752\n",
              "100+               719\n",
              "500,000+           539\n",
              "50,000+            479\n",
              "5,000+             477\n",
              "100,000,000+       409\n",
              "10+                386\n",
              "500+               330\n",
              "50,000,000+        289\n",
              "50+                205\n",
              "5+                  82\n",
              "500,000,000+        72\n",
              "1+                  67\n",
              "1,000,000,000+      58\n",
              "0+                  14\n",
              "0                    1\n",
              "Name: Installs, dtype: int64"
            ]
          },
          "metadata": {},
          "execution_count": 13
        }
      ]
    },
    {
      "cell_type": "code",
      "source": [
        "data['Installs'] = data['Installs'].apply(lambda x : str(x).replace('+',''))\n",
        "data['Installs'] = data['Installs'].apply(lambda x : str(x).replace(',',''))\n",
        "data['Installs'] = pd.to_numeric(data['Installs'])\n",
        "data['Installs'].dtype"
      ],
      "metadata": {
        "id": "giJg9GGlBcJv",
        "colab": {
          "base_uri": "https://localhost:8080/"
        },
        "outputId": "5dcfaed8-f19b-4fd6-dda0-91066ed7c445"
      },
      "execution_count": null,
      "outputs": [
        {
          "output_type": "execute_result",
          "data": {
            "text/plain": [
              "dtype('int64')"
            ]
          },
          "metadata": {},
          "execution_count": 14
        }
      ]
    },
    {
      "cell_type": "code",
      "source": [
        "data['Installs'].value_counts()"
      ],
      "metadata": {
        "colab": {
          "base_uri": "https://localhost:8080/"
        },
        "id": "2hFSduqU5xSc",
        "outputId": "18fd053a-7431-401f-b3ff-4da2bbcba598"
      },
      "execution_count": null,
      "outputs": [
        {
          "output_type": "execute_result",
          "data": {
            "text/plain": [
              "1000000       1579\n",
              "10000000      1252\n",
              "100000        1169\n",
              "10000         1054\n",
              "1000           907\n",
              "5000000        752\n",
              "100            719\n",
              "500000         539\n",
              "50000          479\n",
              "5000           477\n",
              "100000000      409\n",
              "10             386\n",
              "500            330\n",
              "50000000       289\n",
              "50             205\n",
              "5               82\n",
              "500000000       72\n",
              "1               67\n",
              "1000000000      58\n",
              "0               15\n",
              "Name: Installs, dtype: int64"
            ]
          },
          "metadata": {},
          "execution_count": 15
        }
      ]
    },
    {
      "cell_type": "markdown",
      "source": [
        "##Filling NA Value in 'Ratings' with mode value."
      ],
      "metadata": {
        "id": "KU9dwi23ydl5"
      }
    },
    {
      "cell_type": "code",
      "source": [
        "data['Rating'].fillna(data['Rating'].mode().values[0],inplace=True)\n",
        "data['Rating'] = np.where(data['Installs']==0 , 0 ,data['Rating'])\n",
        "data['Rating'] = pd.to_numeric(data['Rating'], errors='coerce')\n",
        "data[data['Installs']==0]['Rating']"
      ],
      "metadata": {
        "colab": {
          "base_uri": "https://localhost:8080/"
        },
        "id": "u_bbDRgc2rpZ",
        "outputId": "b3a89789-021a-400b-8dda-c3493c673fda"
      },
      "execution_count": null,
      "outputs": [
        {
          "output_type": "execute_result",
          "data": {
            "text/plain": [
              "4465    0.0\n",
              "5307    0.0\n",
              "5486    0.0\n",
              "5945    0.0\n",
              "6692    0.0\n",
              "7434    0.0\n",
              "8081    0.0\n",
              "8614    0.0\n",
              "8871    0.0\n",
              "9148    0.0\n",
              "9337    0.0\n",
              "9719    0.0\n",
              "9905    0.0\n",
              "9917    0.0\n",
              "9934    0.0\n",
              "Name: Rating, dtype: float64"
            ]
          },
          "metadata": {},
          "execution_count": 16
        }
      ]
    },
    {
      "cell_type": "code",
      "source": [
        "data['Rating'].isnull().sum()"
      ],
      "metadata": {
        "colab": {
          "base_uri": "https://localhost:8080/"
        },
        "id": "0wTyUxK7cvNY",
        "outputId": "cfe22b54-98ab-4353-a69d-4467b6b01034"
      },
      "execution_count": null,
      "outputs": [
        {
          "output_type": "execute_result",
          "data": {
            "text/plain": [
              "0"
            ]
          },
          "metadata": {},
          "execution_count": 17
        }
      ]
    },
    {
      "cell_type": "code",
      "source": [
        "data.isnull().sum()"
      ],
      "metadata": {
        "colab": {
          "base_uri": "https://localhost:8080/"
        },
        "id": "J1C0DTLo3Wg-",
        "outputId": "02a878dc-0c8d-4a4a-fc90-125abfc56e58"
      },
      "execution_count": null,
      "outputs": [
        {
          "output_type": "execute_result",
          "data": {
            "text/plain": [
              "App               0\n",
              "Category          0\n",
              "Rating            0\n",
              "Reviews           0\n",
              "Size              0\n",
              "Installs          0\n",
              "Type              1\n",
              "Price             0\n",
              "Content_Rating    0\n",
              "Genres            0\n",
              "Last_Updated      0\n",
              "Current_Ver       8\n",
              "Android_Ver       2\n",
              "dtype: int64"
            ]
          },
          "metadata": {},
          "execution_count": 18
        }
      ]
    },
    {
      "cell_type": "markdown",
      "source": [
        "##Checking and fixing 'null' value in 'Type'\n",
        "\n",
        "\n",
        "*   A quick check from play store tell us the app is 'Free' type"
      ],
      "metadata": {
        "id": "vJopAdQzzpva"
      }
    },
    {
      "cell_type": "code",
      "source": [
        "data[data.Type.isnull()]"
      ],
      "metadata": {
        "colab": {
          "base_uri": "https://localhost:8080/",
          "height": 197
        },
        "id": "G6zFgMwtoH4E",
        "outputId": "e76e345f-1a5b-48d9-94eb-8a4157016bc7"
      },
      "execution_count": null,
      "outputs": [
        {
          "output_type": "execute_result",
          "data": {
            "text/plain": [
              "                            App Category  Rating Reviews                Size  \\\n",
              "9148  Command & Conquer: Rivals   FAMILY     0.0       0  Varies with device   \n",
              "\n",
              "      Installs Type Price Content_Rating    Genres   Last_Updated  \\\n",
              "9148         0  NaN     0   Everyone 10+  Strategy  June 28, 2018   \n",
              "\n",
              "             Current_Ver         Android_Ver  \n",
              "9148  Varies with device  Varies with device  "
            ],
            "text/html": [
              "\n",
              "  <div id=\"df-ccf7f7af-9568-4a3c-8d7a-87539216455a\">\n",
              "    <div class=\"colab-df-container\">\n",
              "      <div>\n",
              "<style scoped>\n",
              "    .dataframe tbody tr th:only-of-type {\n",
              "        vertical-align: middle;\n",
              "    }\n",
              "\n",
              "    .dataframe tbody tr th {\n",
              "        vertical-align: top;\n",
              "    }\n",
              "\n",
              "    .dataframe thead th {\n",
              "        text-align: right;\n",
              "    }\n",
              "</style>\n",
              "<table border=\"1\" class=\"dataframe\">\n",
              "  <thead>\n",
              "    <tr style=\"text-align: right;\">\n",
              "      <th></th>\n",
              "      <th>App</th>\n",
              "      <th>Category</th>\n",
              "      <th>Rating</th>\n",
              "      <th>Reviews</th>\n",
              "      <th>Size</th>\n",
              "      <th>Installs</th>\n",
              "      <th>Type</th>\n",
              "      <th>Price</th>\n",
              "      <th>Content_Rating</th>\n",
              "      <th>Genres</th>\n",
              "      <th>Last_Updated</th>\n",
              "      <th>Current_Ver</th>\n",
              "      <th>Android_Ver</th>\n",
              "    </tr>\n",
              "  </thead>\n",
              "  <tbody>\n",
              "    <tr>\n",
              "      <th>9148</th>\n",
              "      <td>Command &amp; Conquer: Rivals</td>\n",
              "      <td>FAMILY</td>\n",
              "      <td>0.0</td>\n",
              "      <td>0</td>\n",
              "      <td>Varies with device</td>\n",
              "      <td>0</td>\n",
              "      <td>NaN</td>\n",
              "      <td>0</td>\n",
              "      <td>Everyone 10+</td>\n",
              "      <td>Strategy</td>\n",
              "      <td>June 28, 2018</td>\n",
              "      <td>Varies with device</td>\n",
              "      <td>Varies with device</td>\n",
              "    </tr>\n",
              "  </tbody>\n",
              "</table>\n",
              "</div>\n",
              "      <button class=\"colab-df-convert\" onclick=\"convertToInteractive('df-ccf7f7af-9568-4a3c-8d7a-87539216455a')\"\n",
              "              title=\"Convert this dataframe to an interactive table.\"\n",
              "              style=\"display:none;\">\n",
              "        \n",
              "  <svg xmlns=\"http://www.w3.org/2000/svg\" height=\"24px\"viewBox=\"0 0 24 24\"\n",
              "       width=\"24px\">\n",
              "    <path d=\"M0 0h24v24H0V0z\" fill=\"none\"/>\n",
              "    <path d=\"M18.56 5.44l.94 2.06.94-2.06 2.06-.94-2.06-.94-.94-2.06-.94 2.06-2.06.94zm-11 1L8.5 8.5l.94-2.06 2.06-.94-2.06-.94L8.5 2.5l-.94 2.06-2.06.94zm10 10l.94 2.06.94-2.06 2.06-.94-2.06-.94-.94-2.06-.94 2.06-2.06.94z\"/><path d=\"M17.41 7.96l-1.37-1.37c-.4-.4-.92-.59-1.43-.59-.52 0-1.04.2-1.43.59L10.3 9.45l-7.72 7.72c-.78.78-.78 2.05 0 2.83L4 21.41c.39.39.9.59 1.41.59.51 0 1.02-.2 1.41-.59l7.78-7.78 2.81-2.81c.8-.78.8-2.07 0-2.86zM5.41 20L4 18.59l7.72-7.72 1.47 1.35L5.41 20z\"/>\n",
              "  </svg>\n",
              "      </button>\n",
              "      \n",
              "  <style>\n",
              "    .colab-df-container {\n",
              "      display:flex;\n",
              "      flex-wrap:wrap;\n",
              "      gap: 12px;\n",
              "    }\n",
              "\n",
              "    .colab-df-convert {\n",
              "      background-color: #E8F0FE;\n",
              "      border: none;\n",
              "      border-radius: 50%;\n",
              "      cursor: pointer;\n",
              "      display: none;\n",
              "      fill: #1967D2;\n",
              "      height: 32px;\n",
              "      padding: 0 0 0 0;\n",
              "      width: 32px;\n",
              "    }\n",
              "\n",
              "    .colab-df-convert:hover {\n",
              "      background-color: #E2EBFA;\n",
              "      box-shadow: 0px 1px 2px rgba(60, 64, 67, 0.3), 0px 1px 3px 1px rgba(60, 64, 67, 0.15);\n",
              "      fill: #174EA6;\n",
              "    }\n",
              "\n",
              "    [theme=dark] .colab-df-convert {\n",
              "      background-color: #3B4455;\n",
              "      fill: #D2E3FC;\n",
              "    }\n",
              "\n",
              "    [theme=dark] .colab-df-convert:hover {\n",
              "      background-color: #434B5C;\n",
              "      box-shadow: 0px 1px 3px 1px rgba(0, 0, 0, 0.15);\n",
              "      filter: drop-shadow(0px 1px 2px rgba(0, 0, 0, 0.3));\n",
              "      fill: #FFFFFF;\n",
              "    }\n",
              "  </style>\n",
              "\n",
              "      <script>\n",
              "        const buttonEl =\n",
              "          document.querySelector('#df-ccf7f7af-9568-4a3c-8d7a-87539216455a button.colab-df-convert');\n",
              "        buttonEl.style.display =\n",
              "          google.colab.kernel.accessAllowed ? 'block' : 'none';\n",
              "\n",
              "        async function convertToInteractive(key) {\n",
              "          const element = document.querySelector('#df-ccf7f7af-9568-4a3c-8d7a-87539216455a');\n",
              "          const dataTable =\n",
              "            await google.colab.kernel.invokeFunction('convertToInteractive',\n",
              "                                                     [key], {});\n",
              "          if (!dataTable) return;\n",
              "\n",
              "          const docLinkHtml = 'Like what you see? Visit the ' +\n",
              "            '<a target=\"_blank\" href=https://colab.research.google.com/notebooks/data_table.ipynb>data table notebook</a>'\n",
              "            + ' to learn more about interactive tables.';\n",
              "          element.innerHTML = '';\n",
              "          dataTable['output_type'] = 'display_data';\n",
              "          await google.colab.output.renderOutput(dataTable, element);\n",
              "          const docLink = document.createElement('div');\n",
              "          docLink.innerHTML = docLinkHtml;\n",
              "          element.appendChild(docLink);\n",
              "        }\n",
              "      </script>\n",
              "    </div>\n",
              "  </div>\n",
              "  "
            ]
          },
          "metadata": {},
          "execution_count": 19
        }
      ]
    },
    {
      "cell_type": "code",
      "source": [
        "data['Type'].fillna(\"Free\", inplace = True)"
      ],
      "metadata": {
        "id": "O62Muf1dovVo"
      },
      "execution_count": null,
      "outputs": []
    },
    {
      "cell_type": "markdown",
      "source": [
        "## Checking overall null values in data"
      ],
      "metadata": {
        "id": "UQZ6ZE3nyoQ_"
      }
    },
    {
      "cell_type": "code",
      "source": [
        "data.isnull().sum()"
      ],
      "metadata": {
        "colab": {
          "base_uri": "https://localhost:8080/"
        },
        "id": "Yc3u-iHXz0WR",
        "outputId": "5e95f099-0b2d-40f7-ef09-894ca0b825cd"
      },
      "execution_count": null,
      "outputs": [
        {
          "output_type": "execute_result",
          "data": {
            "text/plain": [
              "App               0\n",
              "Category          0\n",
              "Rating            0\n",
              "Reviews           0\n",
              "Size              0\n",
              "Installs          0\n",
              "Type              0\n",
              "Price             0\n",
              "Content_Rating    0\n",
              "Genres            0\n",
              "Last_Updated      0\n",
              "Current_Ver       8\n",
              "Android_Ver       2\n",
              "dtype: int64"
            ]
          },
          "metadata": {},
          "execution_count": 21
        }
      ]
    },
    {
      "cell_type": "markdown",
      "source": [
        "##Fixing NA value in 'Type', 'Current_Ver', 'Android_Ver' with mode()0"
      ],
      "metadata": {
        "id": "NMLOIdZyvJlL"
      }
    },
    {
      "cell_type": "code",
      "source": [
        "data['Type'].fillna(str(data['Type'].mode().values[0]),inplace=True)\n",
        "data['Current_Ver'].fillna(str(data['Current_Ver'].mode().values[0]),inplace=True)\n",
        "data['Android_Ver'].fillna(str(data['Android_Ver'].mode().values[0]),inplace=True)"
      ],
      "metadata": {
        "id": "_yZ3gThe9FRG"
      },
      "execution_count": null,
      "outputs": []
    },
    {
      "cell_type": "code",
      "source": [
        "data.isnull().sum()"
      ],
      "metadata": {
        "colab": {
          "base_uri": "https://localhost:8080/"
        },
        "id": "kfbS6CY4_J6u",
        "outputId": "4698a00f-07a9-4afe-d5ad-af37bd5e512b"
      },
      "execution_count": null,
      "outputs": [
        {
          "output_type": "execute_result",
          "data": {
            "text/plain": [
              "App               0\n",
              "Category          0\n",
              "Rating            0\n",
              "Reviews           0\n",
              "Size              0\n",
              "Installs          0\n",
              "Type              0\n",
              "Price             0\n",
              "Content_Rating    0\n",
              "Genres            0\n",
              "Last_Updated      0\n",
              "Current_Ver       0\n",
              "Android_Ver       0\n",
              "dtype: int64"
            ]
          },
          "metadata": {},
          "execution_count": 23
        }
      ]
    },
    {
      "cell_type": "code",
      "source": [
        "data.head(5)"
      ],
      "metadata": {
        "colab": {
          "base_uri": "https://localhost:8080/",
          "height": 600
        },
        "id": "M2je8CnJDuOe",
        "outputId": "86dfb2e5-2b30-48a1-a59f-612742849faa"
      },
      "execution_count": null,
      "outputs": [
        {
          "output_type": "execute_result",
          "data": {
            "text/plain": [
              "                                                 App        Category  Rating  \\\n",
              "0     Photo Editor & Candy Camera & Grid & ScrapBook  ART_AND_DESIGN     4.1   \n",
              "1                                Coloring book moana  ART_AND_DESIGN     3.9   \n",
              "2  U Launcher Lite – FREE Live Cool Themes, Hide ...  ART_AND_DESIGN     4.7   \n",
              "3                              Sketch - Draw & Paint  ART_AND_DESIGN     4.5   \n",
              "4              Pixel Draw - Number Art Coloring Book  ART_AND_DESIGN     4.3   \n",
              "\n",
              "  Reviews  Size  Installs  Type Price Content_Rating  \\\n",
              "0     159   19M     10000  Free     0       Everyone   \n",
              "1     967   14M    500000  Free     0       Everyone   \n",
              "2   87510  8.7M   5000000  Free     0       Everyone   \n",
              "3  215644   25M  50000000  Free     0           Teen   \n",
              "4     967  2.8M    100000  Free     0       Everyone   \n",
              "\n",
              "                      Genres      Last_Updated         Current_Ver  \\\n",
              "0               Art & Design   January 7, 2018               1.0.0   \n",
              "1  Art & Design;Pretend Play  January 15, 2018               2.0.0   \n",
              "2               Art & Design    August 1, 2018               1.2.4   \n",
              "3               Art & Design      June 8, 2018  Varies with device   \n",
              "4    Art & Design;Creativity     June 20, 2018                 1.1   \n",
              "\n",
              "    Android_Ver  \n",
              "0  4.0.3 and up  \n",
              "1  4.0.3 and up  \n",
              "2  4.0.3 and up  \n",
              "3    4.2 and up  \n",
              "4    4.4 and up  "
            ],
            "text/html": [
              "\n",
              "  <div id=\"df-1710632b-84f2-4046-b96d-b143a86a1165\">\n",
              "    <div class=\"colab-df-container\">\n",
              "      <div>\n",
              "<style scoped>\n",
              "    .dataframe tbody tr th:only-of-type {\n",
              "        vertical-align: middle;\n",
              "    }\n",
              "\n",
              "    .dataframe tbody tr th {\n",
              "        vertical-align: top;\n",
              "    }\n",
              "\n",
              "    .dataframe thead th {\n",
              "        text-align: right;\n",
              "    }\n",
              "</style>\n",
              "<table border=\"1\" class=\"dataframe\">\n",
              "  <thead>\n",
              "    <tr style=\"text-align: right;\">\n",
              "      <th></th>\n",
              "      <th>App</th>\n",
              "      <th>Category</th>\n",
              "      <th>Rating</th>\n",
              "      <th>Reviews</th>\n",
              "      <th>Size</th>\n",
              "      <th>Installs</th>\n",
              "      <th>Type</th>\n",
              "      <th>Price</th>\n",
              "      <th>Content_Rating</th>\n",
              "      <th>Genres</th>\n",
              "      <th>Last_Updated</th>\n",
              "      <th>Current_Ver</th>\n",
              "      <th>Android_Ver</th>\n",
              "    </tr>\n",
              "  </thead>\n",
              "  <tbody>\n",
              "    <tr>\n",
              "      <th>0</th>\n",
              "      <td>Photo Editor &amp; Candy Camera &amp; Grid &amp; ScrapBook</td>\n",
              "      <td>ART_AND_DESIGN</td>\n",
              "      <td>4.1</td>\n",
              "      <td>159</td>\n",
              "      <td>19M</td>\n",
              "      <td>10000</td>\n",
              "      <td>Free</td>\n",
              "      <td>0</td>\n",
              "      <td>Everyone</td>\n",
              "      <td>Art &amp; Design</td>\n",
              "      <td>January 7, 2018</td>\n",
              "      <td>1.0.0</td>\n",
              "      <td>4.0.3 and up</td>\n",
              "    </tr>\n",
              "    <tr>\n",
              "      <th>1</th>\n",
              "      <td>Coloring book moana</td>\n",
              "      <td>ART_AND_DESIGN</td>\n",
              "      <td>3.9</td>\n",
              "      <td>967</td>\n",
              "      <td>14M</td>\n",
              "      <td>500000</td>\n",
              "      <td>Free</td>\n",
              "      <td>0</td>\n",
              "      <td>Everyone</td>\n",
              "      <td>Art &amp; Design;Pretend Play</td>\n",
              "      <td>January 15, 2018</td>\n",
              "      <td>2.0.0</td>\n",
              "      <td>4.0.3 and up</td>\n",
              "    </tr>\n",
              "    <tr>\n",
              "      <th>2</th>\n",
              "      <td>U Launcher Lite – FREE Live Cool Themes, Hide ...</td>\n",
              "      <td>ART_AND_DESIGN</td>\n",
              "      <td>4.7</td>\n",
              "      <td>87510</td>\n",
              "      <td>8.7M</td>\n",
              "      <td>5000000</td>\n",
              "      <td>Free</td>\n",
              "      <td>0</td>\n",
              "      <td>Everyone</td>\n",
              "      <td>Art &amp; Design</td>\n",
              "      <td>August 1, 2018</td>\n",
              "      <td>1.2.4</td>\n",
              "      <td>4.0.3 and up</td>\n",
              "    </tr>\n",
              "    <tr>\n",
              "      <th>3</th>\n",
              "      <td>Sketch - Draw &amp; Paint</td>\n",
              "      <td>ART_AND_DESIGN</td>\n",
              "      <td>4.5</td>\n",
              "      <td>215644</td>\n",
              "      <td>25M</td>\n",
              "      <td>50000000</td>\n",
              "      <td>Free</td>\n",
              "      <td>0</td>\n",
              "      <td>Teen</td>\n",
              "      <td>Art &amp; Design</td>\n",
              "      <td>June 8, 2018</td>\n",
              "      <td>Varies with device</td>\n",
              "      <td>4.2 and up</td>\n",
              "    </tr>\n",
              "    <tr>\n",
              "      <th>4</th>\n",
              "      <td>Pixel Draw - Number Art Coloring Book</td>\n",
              "      <td>ART_AND_DESIGN</td>\n",
              "      <td>4.3</td>\n",
              "      <td>967</td>\n",
              "      <td>2.8M</td>\n",
              "      <td>100000</td>\n",
              "      <td>Free</td>\n",
              "      <td>0</td>\n",
              "      <td>Everyone</td>\n",
              "      <td>Art &amp; Design;Creativity</td>\n",
              "      <td>June 20, 2018</td>\n",
              "      <td>1.1</td>\n",
              "      <td>4.4 and up</td>\n",
              "    </tr>\n",
              "  </tbody>\n",
              "</table>\n",
              "</div>\n",
              "      <button class=\"colab-df-convert\" onclick=\"convertToInteractive('df-1710632b-84f2-4046-b96d-b143a86a1165')\"\n",
              "              title=\"Convert this dataframe to an interactive table.\"\n",
              "              style=\"display:none;\">\n",
              "        \n",
              "  <svg xmlns=\"http://www.w3.org/2000/svg\" height=\"24px\"viewBox=\"0 0 24 24\"\n",
              "       width=\"24px\">\n",
              "    <path d=\"M0 0h24v24H0V0z\" fill=\"none\"/>\n",
              "    <path d=\"M18.56 5.44l.94 2.06.94-2.06 2.06-.94-2.06-.94-.94-2.06-.94 2.06-2.06.94zm-11 1L8.5 8.5l.94-2.06 2.06-.94-2.06-.94L8.5 2.5l-.94 2.06-2.06.94zm10 10l.94 2.06.94-2.06 2.06-.94-2.06-.94-.94-2.06-.94 2.06-2.06.94z\"/><path d=\"M17.41 7.96l-1.37-1.37c-.4-.4-.92-.59-1.43-.59-.52 0-1.04.2-1.43.59L10.3 9.45l-7.72 7.72c-.78.78-.78 2.05 0 2.83L4 21.41c.39.39.9.59 1.41.59.51 0 1.02-.2 1.41-.59l7.78-7.78 2.81-2.81c.8-.78.8-2.07 0-2.86zM5.41 20L4 18.59l7.72-7.72 1.47 1.35L5.41 20z\"/>\n",
              "  </svg>\n",
              "      </button>\n",
              "      \n",
              "  <style>\n",
              "    .colab-df-container {\n",
              "      display:flex;\n",
              "      flex-wrap:wrap;\n",
              "      gap: 12px;\n",
              "    }\n",
              "\n",
              "    .colab-df-convert {\n",
              "      background-color: #E8F0FE;\n",
              "      border: none;\n",
              "      border-radius: 50%;\n",
              "      cursor: pointer;\n",
              "      display: none;\n",
              "      fill: #1967D2;\n",
              "      height: 32px;\n",
              "      padding: 0 0 0 0;\n",
              "      width: 32px;\n",
              "    }\n",
              "\n",
              "    .colab-df-convert:hover {\n",
              "      background-color: #E2EBFA;\n",
              "      box-shadow: 0px 1px 2px rgba(60, 64, 67, 0.3), 0px 1px 3px 1px rgba(60, 64, 67, 0.15);\n",
              "      fill: #174EA6;\n",
              "    }\n",
              "\n",
              "    [theme=dark] .colab-df-convert {\n",
              "      background-color: #3B4455;\n",
              "      fill: #D2E3FC;\n",
              "    }\n",
              "\n",
              "    [theme=dark] .colab-df-convert:hover {\n",
              "      background-color: #434B5C;\n",
              "      box-shadow: 0px 1px 3px 1px rgba(0, 0, 0, 0.15);\n",
              "      filter: drop-shadow(0px 1px 2px rgba(0, 0, 0, 0.3));\n",
              "      fill: #FFFFFF;\n",
              "    }\n",
              "  </style>\n",
              "\n",
              "      <script>\n",
              "        const buttonEl =\n",
              "          document.querySelector('#df-1710632b-84f2-4046-b96d-b143a86a1165 button.colab-df-convert');\n",
              "        buttonEl.style.display =\n",
              "          google.colab.kernel.accessAllowed ? 'block' : 'none';\n",
              "\n",
              "        async function convertToInteractive(key) {\n",
              "          const element = document.querySelector('#df-1710632b-84f2-4046-b96d-b143a86a1165');\n",
              "          const dataTable =\n",
              "            await google.colab.kernel.invokeFunction('convertToInteractive',\n",
              "                                                     [key], {});\n",
              "          if (!dataTable) return;\n",
              "\n",
              "          const docLinkHtml = 'Like what you see? Visit the ' +\n",
              "            '<a target=\"_blank\" href=https://colab.research.google.com/notebooks/data_table.ipynb>data table notebook</a>'\n",
              "            + ' to learn more about interactive tables.';\n",
              "          element.innerHTML = '';\n",
              "          dataTable['output_type'] = 'display_data';\n",
              "          await google.colab.output.renderOutput(dataTable, element);\n",
              "          const docLink = document.createElement('div');\n",
              "          docLink.innerHTML = docLinkHtml;\n",
              "          element.appendChild(docLink);\n",
              "        }\n",
              "      </script>\n",
              "    </div>\n",
              "  </div>\n",
              "  "
            ]
          },
          "metadata": {},
          "execution_count": 24
        }
      ]
    },
    {
      "cell_type": "markdown",
      "source": [
        "##Cleaning 'Price'\n",
        "\n",
        "1.   Remove '$' currency symbol\n",
        "2.   Converting series to numerical value (int/float)\n",
        "\n",
        "\n",
        "\n"
      ],
      "metadata": {
        "id": "YHJxNtn-wXra"
      }
    },
    {
      "cell_type": "code",
      "source": [
        "data['Price'] = data['Price'].apply(lambda x : str(x).replace('$',''))\n",
        "data['Price'] = pd.to_numeric(data['Price'])\n",
        "data['Price'].dtype"
      ],
      "metadata": {
        "colab": {
          "base_uri": "https://localhost:8080/"
        },
        "id": "oA1ABintwmCp",
        "outputId": "648b0e35-4b71-4060-a05b-52f7ee440124"
      },
      "execution_count": null,
      "outputs": [
        {
          "output_type": "execute_result",
          "data": {
            "text/plain": [
              "dtype('float64')"
            ]
          },
          "metadata": {},
          "execution_count": 25
        }
      ]
    },
    {
      "cell_type": "markdown",
      "source": [
        "##Cleaning 'Size' :\n",
        "\n",
        "\n",
        "> size analysis - value_counts()\n",
        "\n",
        "\n",
        "1. Replace 'Varies with...' with np.NaN\n",
        "2. Replace 'M' to e+6 or 000000\n",
        "3. Replace 'K' to e+3 or 000\n",
        "4. Remove '+' \n",
        "5. remove ',' \n",
        "6. Convert all Sizes to numeric value"
      ],
      "metadata": {
        "id": "NVT23L7or_Ro"
      }
    },
    {
      "cell_type": "code",
      "source": [
        "data['Size'].value_counts()"
      ],
      "metadata": {
        "colab": {
          "base_uri": "https://localhost:8080/"
        },
        "id": "WeXCB3f87Ey3",
        "outputId": "0be2dafb-c397-4dfb-f844-699c5690f98c"
      },
      "execution_count": null,
      "outputs": [
        {
          "output_type": "execute_result",
          "data": {
            "text/plain": [
              "Varies with device    1695\n",
              "11M                    198\n",
              "12M                    196\n",
              "14M                    194\n",
              "13M                    191\n",
              "                      ... \n",
              "430k                     1\n",
              "429k                     1\n",
              "200k                     1\n",
              "460k                     1\n",
              "619k                     1\n",
              "Name: Size, Length: 461, dtype: int64"
            ]
          },
          "metadata": {},
          "execution_count": 26
        }
      ]
    },
    {
      "cell_type": "code",
      "source": [
        "data['Size'] = data.Size.replace(\"Varies with device\",np.nan)\n",
        "data['Size'] = data.Size.str.replace(\"M\",\"e+6\")\n",
        "data['Size'] = data.Size.str.replace(\"k\",\"e+3\")\n",
        "data['Size'] = data.Size.replace(\"1,000+\",1000)\n",
        "data['Size'] = pd.to_numeric(data['Size'])\n",
        "data['Size'].dtype"
      ],
      "metadata": {
        "colab": {
          "base_uri": "https://localhost:8080/"
        },
        "id": "EggLx4XmO7L-",
        "outputId": "f2aaaa4f-dec0-42f7-c441-170e436d90ea"
      },
      "execution_count": null,
      "outputs": [
        {
          "output_type": "execute_result",
          "data": {
            "text/plain": [
              "dtype('float64')"
            ]
          },
          "metadata": {},
          "execution_count": 27
        }
      ]
    },
    {
      "cell_type": "code",
      "source": [
        "data['Size'].value_counts()"
      ],
      "metadata": {
        "colab": {
          "base_uri": "https://localhost:8080/"
        },
        "id": "V2dVPwoc6dej",
        "outputId": "d0a9005e-ce22-4c4f-94c0-edbec798ea89"
      },
      "execution_count": null,
      "outputs": [
        {
          "output_type": "execute_result",
          "data": {
            "text/plain": [
              "11000000.0    198\n",
              "12000000.0    196\n",
              "14000000.0    194\n",
              "13000000.0    191\n",
              "15000000.0    184\n",
              "             ... \n",
              "430000.0        1\n",
              "429000.0        1\n",
              "200000.0        1\n",
              "460000.0        1\n",
              "619000.0        1\n",
              "Name: Size, Length: 459, dtype: int64"
            ]
          },
          "metadata": {},
          "execution_count": 28
        }
      ]
    },
    {
      "cell_type": "markdown",
      "source": [
        "##Dropping rows with Duplicate APP data"
      ],
      "metadata": {
        "id": "AdrdCLaGPnBb"
      }
    },
    {
      "cell_type": "code",
      "source": [
        "data['App'].value_counts()"
      ],
      "metadata": {
        "colab": {
          "base_uri": "https://localhost:8080/"
        },
        "id": "1rcJOnjUPuB6",
        "outputId": "ac22264f-6ab2-4bba-867e-f3eabc36a71e"
      },
      "execution_count": null,
      "outputs": [
        {
          "output_type": "execute_result",
          "data": {
            "text/plain": [
              "ROBLOX                                                9\n",
              "CBS Sports App - Scores, News, Stats & Watch Live     8\n",
              "ESPN                                                  7\n",
              "Duolingo: Learn Languages Free                        7\n",
              "Candy Crush Saga                                      7\n",
              "                                                     ..\n",
              "Meet U - Get Friends for Snapchat, Kik & Instagram    1\n",
              "U-Report                                              1\n",
              "U of I Community Credit Union                         1\n",
              "Waiting For U Launcher Theme                          1\n",
              "iHoroscope - 2018 Daily Horoscope & Astrology         1\n",
              "Name: App, Length: 9659, dtype: int64"
            ]
          },
          "metadata": {},
          "execution_count": 29
        }
      ]
    },
    {
      "cell_type": "code",
      "source": [
        "data.App.count()"
      ],
      "metadata": {
        "colab": {
          "base_uri": "https://localhost:8080/"
        },
        "id": "uVrICXi4RtfV",
        "outputId": "a192ca6b-e237-40be-b4d5-75acaf57668a"
      },
      "execution_count": null,
      "outputs": [
        {
          "output_type": "execute_result",
          "data": {
            "text/plain": [
              "10840"
            ]
          },
          "metadata": {},
          "execution_count": 30
        }
      ]
    },
    {
      "cell_type": "code",
      "source": [
        "data = data.drop_duplicates(subset='App', keep=\"first\")"
      ],
      "metadata": {
        "id": "_kyRh9xUQpZz"
      },
      "execution_count": null,
      "outputs": []
    },
    {
      "cell_type": "code",
      "source": [
        "data.App.count()"
      ],
      "metadata": {
        "colab": {
          "base_uri": "https://localhost:8080/"
        },
        "id": "21Z_i7nMRqU-",
        "outputId": "5aa10a1c-67e3-417a-d024-7d1440fa7ae9"
      },
      "execution_count": null,
      "outputs": [
        {
          "output_type": "execute_result",
          "data": {
            "text/plain": [
              "9659"
            ]
          },
          "metadata": {},
          "execution_count": 32
        }
      ]
    },
    {
      "cell_type": "code",
      "source": [
        "data['App'].value_counts()"
      ],
      "metadata": {
        "colab": {
          "base_uri": "https://localhost:8080/"
        },
        "id": "krE_-UiEQZSw",
        "outputId": "134fdc4f-d470-4822-b74d-632c05254df2"
      },
      "execution_count": null,
      "outputs": [
        {
          "output_type": "execute_result",
          "data": {
            "text/plain": [
              "Photo Editor & Candy Camera & Grid & ScrapBook    1\n",
              "Tic Tac CK                                        1\n",
              "INFAMY RO                                         1\n",
              "CK Call NEW                                       1\n",
              "Ck Coif                                           1\n",
              "                                                 ..\n",
              "Bike Race Free - Top Motorcycle Racing Games      1\n",
              "Dance School Stories - Dance Dreams Come True     1\n",
              "3D Bowling                                        1\n",
              "Mind Games Pro                                    1\n",
              "iHoroscope - 2018 Daily Horoscope & Astrology     1\n",
              "Name: App, Length: 9659, dtype: int64"
            ]
          },
          "metadata": {},
          "execution_count": 47
        }
      ]
    },
    {
      "cell_type": "markdown",
      "source": [
        "##Fixing 'Reviews' data type"
      ],
      "metadata": {
        "id": "7mf9T1pHBuBB"
      }
    },
    {
      "cell_type": "code",
      "source": [
        "type(data.Reviews[1000])"
      ],
      "metadata": {
        "colab": {
          "base_uri": "https://localhost:8080/"
        },
        "id": "sSpRDHlpB2ie",
        "outputId": "448e01bd-6e4f-46e4-fd73-a6680811326b"
      },
      "execution_count": null,
      "outputs": [
        {
          "output_type": "execute_result",
          "data": {
            "text/plain": [
              "str"
            ]
          },
          "metadata": {},
          "execution_count": 206
        }
      ]
    },
    {
      "cell_type": "code",
      "source": [
        "data['Reviews'] = pd.to_numeric(data['Reviews'])"
      ],
      "metadata": {
        "id": "rQsHMEVYCAYb"
      },
      "execution_count": null,
      "outputs": []
    },
    {
      "cell_type": "code",
      "source": [
        "type(data.Reviews[1000])"
      ],
      "metadata": {
        "colab": {
          "base_uri": "https://localhost:8080/"
        },
        "id": "wZ3gPRZvCs_D",
        "outputId": "3aa5a491-9d35-4dd1-8fb8-28987055eb4c"
      },
      "execution_count": null,
      "outputs": [
        {
          "output_type": "execute_result",
          "data": {
            "text/plain": [
              "numpy.int64"
            ]
          },
          "metadata": {},
          "execution_count": 211
        }
      ]
    },
    {
      "cell_type": "markdown",
      "source": [
        "# Useful data connections\n",
        "#app data\n",
        "1. Top Category in play store.\n",
        "2. Top 3 Categories in Play Store by Content Rating.\n",
        "3. Top 10 most installed paid app and their ratings.\n",
        "4. Paid vs Free app in Play Store.\n",
        "5. Paid and free app by category in play store.\n",
        "6. App installs in each category.\n",
        "7. Top 10 category with Rating 4.0 and above.\n",
        "8. Top 10 category with highest no of reviews.\n",
        "9. Paid app in each category by Price and no of installation.\n",
        "10. App installation and rating by Size.\n",
        "\n",
        "#user reviews\n",
        "11. Useful reviews in play store by category\n",
        "`factual comments(Sentiment_Subjectivity<0.4) & negative comments(Sentiment_Polarity<0.6)`\n",
        "\n"
      ],
      "metadata": {
        "id": "edisG6_BcEEU"
      }
    },
    {
      "cell_type": "markdown",
      "source": [
        "##1.Top Category in Play Store."
      ],
      "metadata": {
        "id": "_mlL-K4i8tr1"
      }
    },
    {
      "cell_type": "code",
      "source": [
        "top_cat = data.groupby(['Category']).size().sort_values(ascending=False).reset_index(name='No_of_Apps')\n",
        "top_cat"
      ],
      "metadata": {
        "colab": {
          "base_uri": "https://localhost:8080/",
          "height": 1000
        },
        "id": "2kyOexRX-5UI",
        "outputId": "59d3f3fa-e3d3-4ba2-b169-28cc43e17310"
      },
      "execution_count": null,
      "outputs": [
        {
          "output_type": "execute_result",
          "data": {
            "text/plain": [
              "               Category  No_of_Apps\n",
              "0                FAMILY        1832\n",
              "1                  GAME         959\n",
              "2                 TOOLS         827\n",
              "3              BUSINESS         420\n",
              "4               MEDICAL         395\n",
              "5       PERSONALIZATION         376\n",
              "6          PRODUCTIVITY         374\n",
              "7             LIFESTYLE         369\n",
              "8               FINANCE         345\n",
              "9                SPORTS         325\n",
              "10        COMMUNICATION         315\n",
              "11   HEALTH_AND_FITNESS         288\n",
              "12          PHOTOGRAPHY         281\n",
              "13   NEWS_AND_MAGAZINES         254\n",
              "14               SOCIAL         239\n",
              "15  BOOKS_AND_REFERENCE         222\n",
              "16     TRAVEL_AND_LOCAL         219\n",
              "17             SHOPPING         202\n",
              "18               DATING         171\n",
              "19        VIDEO_PLAYERS         163\n",
              "20  MAPS_AND_NAVIGATION         131\n",
              "21            EDUCATION         119\n",
              "22       FOOD_AND_DRINK         112\n",
              "23        ENTERTAINMENT         102\n",
              "24    AUTO_AND_VEHICLES          85\n",
              "25   LIBRARIES_AND_DEMO          84\n",
              "26              WEATHER          79\n",
              "27       HOUSE_AND_HOME          74\n",
              "28               EVENTS          64\n",
              "29       ART_AND_DESIGN          64\n",
              "30            PARENTING          60\n",
              "31               COMICS          56\n",
              "32               BEAUTY          53"
            ],
            "text/html": [
              "\n",
              "  <div id=\"df-f8e7b8d5-d8dd-4bac-89f6-c540c91e827c\">\n",
              "    <div class=\"colab-df-container\">\n",
              "      <div>\n",
              "<style scoped>\n",
              "    .dataframe tbody tr th:only-of-type {\n",
              "        vertical-align: middle;\n",
              "    }\n",
              "\n",
              "    .dataframe tbody tr th {\n",
              "        vertical-align: top;\n",
              "    }\n",
              "\n",
              "    .dataframe thead th {\n",
              "        text-align: right;\n",
              "    }\n",
              "</style>\n",
              "<table border=\"1\" class=\"dataframe\">\n",
              "  <thead>\n",
              "    <tr style=\"text-align: right;\">\n",
              "      <th></th>\n",
              "      <th>Category</th>\n",
              "      <th>No_of_Apps</th>\n",
              "    </tr>\n",
              "  </thead>\n",
              "  <tbody>\n",
              "    <tr>\n",
              "      <th>0</th>\n",
              "      <td>FAMILY</td>\n",
              "      <td>1832</td>\n",
              "    </tr>\n",
              "    <tr>\n",
              "      <th>1</th>\n",
              "      <td>GAME</td>\n",
              "      <td>959</td>\n",
              "    </tr>\n",
              "    <tr>\n",
              "      <th>2</th>\n",
              "      <td>TOOLS</td>\n",
              "      <td>827</td>\n",
              "    </tr>\n",
              "    <tr>\n",
              "      <th>3</th>\n",
              "      <td>BUSINESS</td>\n",
              "      <td>420</td>\n",
              "    </tr>\n",
              "    <tr>\n",
              "      <th>4</th>\n",
              "      <td>MEDICAL</td>\n",
              "      <td>395</td>\n",
              "    </tr>\n",
              "    <tr>\n",
              "      <th>5</th>\n",
              "      <td>PERSONALIZATION</td>\n",
              "      <td>376</td>\n",
              "    </tr>\n",
              "    <tr>\n",
              "      <th>6</th>\n",
              "      <td>PRODUCTIVITY</td>\n",
              "      <td>374</td>\n",
              "    </tr>\n",
              "    <tr>\n",
              "      <th>7</th>\n",
              "      <td>LIFESTYLE</td>\n",
              "      <td>369</td>\n",
              "    </tr>\n",
              "    <tr>\n",
              "      <th>8</th>\n",
              "      <td>FINANCE</td>\n",
              "      <td>345</td>\n",
              "    </tr>\n",
              "    <tr>\n",
              "      <th>9</th>\n",
              "      <td>SPORTS</td>\n",
              "      <td>325</td>\n",
              "    </tr>\n",
              "    <tr>\n",
              "      <th>10</th>\n",
              "      <td>COMMUNICATION</td>\n",
              "      <td>315</td>\n",
              "    </tr>\n",
              "    <tr>\n",
              "      <th>11</th>\n",
              "      <td>HEALTH_AND_FITNESS</td>\n",
              "      <td>288</td>\n",
              "    </tr>\n",
              "    <tr>\n",
              "      <th>12</th>\n",
              "      <td>PHOTOGRAPHY</td>\n",
              "      <td>281</td>\n",
              "    </tr>\n",
              "    <tr>\n",
              "      <th>13</th>\n",
              "      <td>NEWS_AND_MAGAZINES</td>\n",
              "      <td>254</td>\n",
              "    </tr>\n",
              "    <tr>\n",
              "      <th>14</th>\n",
              "      <td>SOCIAL</td>\n",
              "      <td>239</td>\n",
              "    </tr>\n",
              "    <tr>\n",
              "      <th>15</th>\n",
              "      <td>BOOKS_AND_REFERENCE</td>\n",
              "      <td>222</td>\n",
              "    </tr>\n",
              "    <tr>\n",
              "      <th>16</th>\n",
              "      <td>TRAVEL_AND_LOCAL</td>\n",
              "      <td>219</td>\n",
              "    </tr>\n",
              "    <tr>\n",
              "      <th>17</th>\n",
              "      <td>SHOPPING</td>\n",
              "      <td>202</td>\n",
              "    </tr>\n",
              "    <tr>\n",
              "      <th>18</th>\n",
              "      <td>DATING</td>\n",
              "      <td>171</td>\n",
              "    </tr>\n",
              "    <tr>\n",
              "      <th>19</th>\n",
              "      <td>VIDEO_PLAYERS</td>\n",
              "      <td>163</td>\n",
              "    </tr>\n",
              "    <tr>\n",
              "      <th>20</th>\n",
              "      <td>MAPS_AND_NAVIGATION</td>\n",
              "      <td>131</td>\n",
              "    </tr>\n",
              "    <tr>\n",
              "      <th>21</th>\n",
              "      <td>EDUCATION</td>\n",
              "      <td>119</td>\n",
              "    </tr>\n",
              "    <tr>\n",
              "      <th>22</th>\n",
              "      <td>FOOD_AND_DRINK</td>\n",
              "      <td>112</td>\n",
              "    </tr>\n",
              "    <tr>\n",
              "      <th>23</th>\n",
              "      <td>ENTERTAINMENT</td>\n",
              "      <td>102</td>\n",
              "    </tr>\n",
              "    <tr>\n",
              "      <th>24</th>\n",
              "      <td>AUTO_AND_VEHICLES</td>\n",
              "      <td>85</td>\n",
              "    </tr>\n",
              "    <tr>\n",
              "      <th>25</th>\n",
              "      <td>LIBRARIES_AND_DEMO</td>\n",
              "      <td>84</td>\n",
              "    </tr>\n",
              "    <tr>\n",
              "      <th>26</th>\n",
              "      <td>WEATHER</td>\n",
              "      <td>79</td>\n",
              "    </tr>\n",
              "    <tr>\n",
              "      <th>27</th>\n",
              "      <td>HOUSE_AND_HOME</td>\n",
              "      <td>74</td>\n",
              "    </tr>\n",
              "    <tr>\n",
              "      <th>28</th>\n",
              "      <td>EVENTS</td>\n",
              "      <td>64</td>\n",
              "    </tr>\n",
              "    <tr>\n",
              "      <th>29</th>\n",
              "      <td>ART_AND_DESIGN</td>\n",
              "      <td>64</td>\n",
              "    </tr>\n",
              "    <tr>\n",
              "      <th>30</th>\n",
              "      <td>PARENTING</td>\n",
              "      <td>60</td>\n",
              "    </tr>\n",
              "    <tr>\n",
              "      <th>31</th>\n",
              "      <td>COMICS</td>\n",
              "      <td>56</td>\n",
              "    </tr>\n",
              "    <tr>\n",
              "      <th>32</th>\n",
              "      <td>BEAUTY</td>\n",
              "      <td>53</td>\n",
              "    </tr>\n",
              "  </tbody>\n",
              "</table>\n",
              "</div>\n",
              "      <button class=\"colab-df-convert\" onclick=\"convertToInteractive('df-f8e7b8d5-d8dd-4bac-89f6-c540c91e827c')\"\n",
              "              title=\"Convert this dataframe to an interactive table.\"\n",
              "              style=\"display:none;\">\n",
              "        \n",
              "  <svg xmlns=\"http://www.w3.org/2000/svg\" height=\"24px\"viewBox=\"0 0 24 24\"\n",
              "       width=\"24px\">\n",
              "    <path d=\"M0 0h24v24H0V0z\" fill=\"none\"/>\n",
              "    <path d=\"M18.56 5.44l.94 2.06.94-2.06 2.06-.94-2.06-.94-.94-2.06-.94 2.06-2.06.94zm-11 1L8.5 8.5l.94-2.06 2.06-.94-2.06-.94L8.5 2.5l-.94 2.06-2.06.94zm10 10l.94 2.06.94-2.06 2.06-.94-2.06-.94-.94-2.06-.94 2.06-2.06.94z\"/><path d=\"M17.41 7.96l-1.37-1.37c-.4-.4-.92-.59-1.43-.59-.52 0-1.04.2-1.43.59L10.3 9.45l-7.72 7.72c-.78.78-.78 2.05 0 2.83L4 21.41c.39.39.9.59 1.41.59.51 0 1.02-.2 1.41-.59l7.78-7.78 2.81-2.81c.8-.78.8-2.07 0-2.86zM5.41 20L4 18.59l7.72-7.72 1.47 1.35L5.41 20z\"/>\n",
              "  </svg>\n",
              "      </button>\n",
              "      \n",
              "  <style>\n",
              "    .colab-df-container {\n",
              "      display:flex;\n",
              "      flex-wrap:wrap;\n",
              "      gap: 12px;\n",
              "    }\n",
              "\n",
              "    .colab-df-convert {\n",
              "      background-color: #E8F0FE;\n",
              "      border: none;\n",
              "      border-radius: 50%;\n",
              "      cursor: pointer;\n",
              "      display: none;\n",
              "      fill: #1967D2;\n",
              "      height: 32px;\n",
              "      padding: 0 0 0 0;\n",
              "      width: 32px;\n",
              "    }\n",
              "\n",
              "    .colab-df-convert:hover {\n",
              "      background-color: #E2EBFA;\n",
              "      box-shadow: 0px 1px 2px rgba(60, 64, 67, 0.3), 0px 1px 3px 1px rgba(60, 64, 67, 0.15);\n",
              "      fill: #174EA6;\n",
              "    }\n",
              "\n",
              "    [theme=dark] .colab-df-convert {\n",
              "      background-color: #3B4455;\n",
              "      fill: #D2E3FC;\n",
              "    }\n",
              "\n",
              "    [theme=dark] .colab-df-convert:hover {\n",
              "      background-color: #434B5C;\n",
              "      box-shadow: 0px 1px 3px 1px rgba(0, 0, 0, 0.15);\n",
              "      filter: drop-shadow(0px 1px 2px rgba(0, 0, 0, 0.3));\n",
              "      fill: #FFFFFF;\n",
              "    }\n",
              "  </style>\n",
              "\n",
              "      <script>\n",
              "        const buttonEl =\n",
              "          document.querySelector('#df-f8e7b8d5-d8dd-4bac-89f6-c540c91e827c button.colab-df-convert');\n",
              "        buttonEl.style.display =\n",
              "          google.colab.kernel.accessAllowed ? 'block' : 'none';\n",
              "\n",
              "        async function convertToInteractive(key) {\n",
              "          const element = document.querySelector('#df-f8e7b8d5-d8dd-4bac-89f6-c540c91e827c');\n",
              "          const dataTable =\n",
              "            await google.colab.kernel.invokeFunction('convertToInteractive',\n",
              "                                                     [key], {});\n",
              "          if (!dataTable) return;\n",
              "\n",
              "          const docLinkHtml = 'Like what you see? Visit the ' +\n",
              "            '<a target=\"_blank\" href=https://colab.research.google.com/notebooks/data_table.ipynb>data table notebook</a>'\n",
              "            + ' to learn more about interactive tables.';\n",
              "          element.innerHTML = '';\n",
              "          dataTable['output_type'] = 'display_data';\n",
              "          await google.colab.output.renderOutput(dataTable, element);\n",
              "          const docLink = document.createElement('div');\n",
              "          docLink.innerHTML = docLinkHtml;\n",
              "          element.appendChild(docLink);\n",
              "        }\n",
              "      </script>\n",
              "    </div>\n",
              "  </div>\n",
              "  "
            ]
          },
          "metadata": {},
          "execution_count": 33
        }
      ]
    },
    {
      "cell_type": "code",
      "source": [
        "fig = px.bar(top_cat, \n",
        "       x = 'No_of_Apps',\n",
        "       y = 'Category',\n",
        "       title = 'Top category in Play Store',\n",
        "       labels = {'No_of_Apps' : 'No of Apps'},\n",
        "       color = 'No_of_Apps',\n",
        "       color_continuous_scale=px.colors.qualitative.Plotly)\n",
        "fig.update_layout(yaxis={'categoryorder':'total ascending'},\n",
        "                  autosize=False,\n",
        "                  width=900,\n",
        "                  height=700,)\n",
        "fig.update_traces(text=top_cat['No_of_Apps'],textposition='outside')\n",
        "fig.show()"
      ],
      "metadata": {
        "colab": {
          "base_uri": "https://localhost:8080/",
          "height": 717
        },
        "id": "5iqlYx28DwKt",
        "outputId": "f6efc421-55a8-4d46-dbbe-84d4a235963f"
      },
      "execution_count": null,
      "outputs": [
        {
          "output_type": "display_data",
          "data": {
            "text/html": [
              "<html>\n",
              "<head><meta charset=\"utf-8\" /></head>\n",
              "<body>\n",
              "    <div>            <script src=\"https://cdnjs.cloudflare.com/ajax/libs/mathjax/2.7.5/MathJax.js?config=TeX-AMS-MML_SVG\"></script><script type=\"text/javascript\">if (window.MathJax) {MathJax.Hub.Config({SVG: {font: \"STIX-Web\"}});}</script>                <script type=\"text/javascript\">window.PlotlyConfig = {MathJaxConfig: 'local'};</script>\n",
              "        <script src=\"https://cdn.plot.ly/plotly-2.8.3.min.js\"></script>                <div id=\"21096b12-ad60-4cd7-bc1a-0c07fcd10980\" class=\"plotly-graph-div\" style=\"height:700px; width:900px;\"></div>            <script type=\"text/javascript\">                                    window.PLOTLYENV=window.PLOTLYENV || {};                                    if (document.getElementById(\"21096b12-ad60-4cd7-bc1a-0c07fcd10980\")) {                    Plotly.newPlot(                        \"21096b12-ad60-4cd7-bc1a-0c07fcd10980\",                        [{\"alignmentgroup\":\"True\",\"hovertemplate\":\"No of Apps=%{marker.color}<br>Category=%{y}<extra></extra>\",\"legendgroup\":\"\",\"marker\":{\"color\":[1832,959,827,420,395,376,374,369,345,325,315,288,281,254,239,222,219,202,171,163,131,119,112,102,85,84,79,74,64,64,60,56,53],\"coloraxis\":\"coloraxis\",\"pattern\":{\"shape\":\"\"}},\"name\":\"\",\"offsetgroup\":\"\",\"orientation\":\"h\",\"showlegend\":false,\"textposition\":\"outside\",\"x\":[1832,959,827,420,395,376,374,369,345,325,315,288,281,254,239,222,219,202,171,163,131,119,112,102,85,84,79,74,64,64,60,56,53],\"xaxis\":\"x\",\"y\":[\"FAMILY\",\"GAME\",\"TOOLS\",\"BUSINESS\",\"MEDICAL\",\"PERSONALIZATION\",\"PRODUCTIVITY\",\"LIFESTYLE\",\"FINANCE\",\"SPORTS\",\"COMMUNICATION\",\"HEALTH_AND_FITNESS\",\"PHOTOGRAPHY\",\"NEWS_AND_MAGAZINES\",\"SOCIAL\",\"BOOKS_AND_REFERENCE\",\"TRAVEL_AND_LOCAL\",\"SHOPPING\",\"DATING\",\"VIDEO_PLAYERS\",\"MAPS_AND_NAVIGATION\",\"EDUCATION\",\"FOOD_AND_DRINK\",\"ENTERTAINMENT\",\"AUTO_AND_VEHICLES\",\"LIBRARIES_AND_DEMO\",\"WEATHER\",\"HOUSE_AND_HOME\",\"EVENTS\",\"ART_AND_DESIGN\",\"PARENTING\",\"COMICS\",\"BEAUTY\"],\"yaxis\":\"y\",\"type\":\"bar\",\"text\":[1832.0,959.0,827.0,420.0,395.0,376.0,374.0,369.0,345.0,325.0,315.0,288.0,281.0,254.0,239.0,222.0,219.0,202.0,171.0,163.0,131.0,119.0,112.0,102.0,85.0,84.0,79.0,74.0,64.0,64.0,60.0,56.0,53.0]}],                        {\"template\":{\"data\":{\"bar\":[{\"error_x\":{\"color\":\"#2a3f5f\"},\"error_y\":{\"color\":\"#2a3f5f\"},\"marker\":{\"line\":{\"color\":\"#E5ECF6\",\"width\":0.5},\"pattern\":{\"fillmode\":\"overlay\",\"size\":10,\"solidity\":0.2}},\"type\":\"bar\"}],\"barpolar\":[{\"marker\":{\"line\":{\"color\":\"#E5ECF6\",\"width\":0.5},\"pattern\":{\"fillmode\":\"overlay\",\"size\":10,\"solidity\":0.2}},\"type\":\"barpolar\"}],\"carpet\":[{\"aaxis\":{\"endlinecolor\":\"#2a3f5f\",\"gridcolor\":\"white\",\"linecolor\":\"white\",\"minorgridcolor\":\"white\",\"startlinecolor\":\"#2a3f5f\"},\"baxis\":{\"endlinecolor\":\"#2a3f5f\",\"gridcolor\":\"white\",\"linecolor\":\"white\",\"minorgridcolor\":\"white\",\"startlinecolor\":\"#2a3f5f\"},\"type\":\"carpet\"}],\"choropleth\":[{\"colorbar\":{\"outlinewidth\":0,\"ticks\":\"\"},\"type\":\"choropleth\"}],\"contour\":[{\"colorbar\":{\"outlinewidth\":0,\"ticks\":\"\"},\"colorscale\":[[0.0,\"#0d0887\"],[0.1111111111111111,\"#46039f\"],[0.2222222222222222,\"#7201a8\"],[0.3333333333333333,\"#9c179e\"],[0.4444444444444444,\"#bd3786\"],[0.5555555555555556,\"#d8576b\"],[0.6666666666666666,\"#ed7953\"],[0.7777777777777778,\"#fb9f3a\"],[0.8888888888888888,\"#fdca26\"],[1.0,\"#f0f921\"]],\"type\":\"contour\"}],\"contourcarpet\":[{\"colorbar\":{\"outlinewidth\":0,\"ticks\":\"\"},\"type\":\"contourcarpet\"}],\"heatmap\":[{\"colorbar\":{\"outlinewidth\":0,\"ticks\":\"\"},\"colorscale\":[[0.0,\"#0d0887\"],[0.1111111111111111,\"#46039f\"],[0.2222222222222222,\"#7201a8\"],[0.3333333333333333,\"#9c179e\"],[0.4444444444444444,\"#bd3786\"],[0.5555555555555556,\"#d8576b\"],[0.6666666666666666,\"#ed7953\"],[0.7777777777777778,\"#fb9f3a\"],[0.8888888888888888,\"#fdca26\"],[1.0,\"#f0f921\"]],\"type\":\"heatmap\"}],\"heatmapgl\":[{\"colorbar\":{\"outlinewidth\":0,\"ticks\":\"\"},\"colorscale\":[[0.0,\"#0d0887\"],[0.1111111111111111,\"#46039f\"],[0.2222222222222222,\"#7201a8\"],[0.3333333333333333,\"#9c179e\"],[0.4444444444444444,\"#bd3786\"],[0.5555555555555556,\"#d8576b\"],[0.6666666666666666,\"#ed7953\"],[0.7777777777777778,\"#fb9f3a\"],[0.8888888888888888,\"#fdca26\"],[1.0,\"#f0f921\"]],\"type\":\"heatmapgl\"}],\"histogram\":[{\"marker\":{\"pattern\":{\"fillmode\":\"overlay\",\"size\":10,\"solidity\":0.2}},\"type\":\"histogram\"}],\"histogram2d\":[{\"colorbar\":{\"outlinewidth\":0,\"ticks\":\"\"},\"colorscale\":[[0.0,\"#0d0887\"],[0.1111111111111111,\"#46039f\"],[0.2222222222222222,\"#7201a8\"],[0.3333333333333333,\"#9c179e\"],[0.4444444444444444,\"#bd3786\"],[0.5555555555555556,\"#d8576b\"],[0.6666666666666666,\"#ed7953\"],[0.7777777777777778,\"#fb9f3a\"],[0.8888888888888888,\"#fdca26\"],[1.0,\"#f0f921\"]],\"type\":\"histogram2d\"}],\"histogram2dcontour\":[{\"colorbar\":{\"outlinewidth\":0,\"ticks\":\"\"},\"colorscale\":[[0.0,\"#0d0887\"],[0.1111111111111111,\"#46039f\"],[0.2222222222222222,\"#7201a8\"],[0.3333333333333333,\"#9c179e\"],[0.4444444444444444,\"#bd3786\"],[0.5555555555555556,\"#d8576b\"],[0.6666666666666666,\"#ed7953\"],[0.7777777777777778,\"#fb9f3a\"],[0.8888888888888888,\"#fdca26\"],[1.0,\"#f0f921\"]],\"type\":\"histogram2dcontour\"}],\"mesh3d\":[{\"colorbar\":{\"outlinewidth\":0,\"ticks\":\"\"},\"type\":\"mesh3d\"}],\"parcoords\":[{\"line\":{\"colorbar\":{\"outlinewidth\":0,\"ticks\":\"\"}},\"type\":\"parcoords\"}],\"pie\":[{\"automargin\":true,\"type\":\"pie\"}],\"scatter\":[{\"marker\":{\"colorbar\":{\"outlinewidth\":0,\"ticks\":\"\"}},\"type\":\"scatter\"}],\"scatter3d\":[{\"line\":{\"colorbar\":{\"outlinewidth\":0,\"ticks\":\"\"}},\"marker\":{\"colorbar\":{\"outlinewidth\":0,\"ticks\":\"\"}},\"type\":\"scatter3d\"}],\"scattercarpet\":[{\"marker\":{\"colorbar\":{\"outlinewidth\":0,\"ticks\":\"\"}},\"type\":\"scattercarpet\"}],\"scattergeo\":[{\"marker\":{\"colorbar\":{\"outlinewidth\":0,\"ticks\":\"\"}},\"type\":\"scattergeo\"}],\"scattergl\":[{\"marker\":{\"colorbar\":{\"outlinewidth\":0,\"ticks\":\"\"}},\"type\":\"scattergl\"}],\"scattermapbox\":[{\"marker\":{\"colorbar\":{\"outlinewidth\":0,\"ticks\":\"\"}},\"type\":\"scattermapbox\"}],\"scatterpolar\":[{\"marker\":{\"colorbar\":{\"outlinewidth\":0,\"ticks\":\"\"}},\"type\":\"scatterpolar\"}],\"scatterpolargl\":[{\"marker\":{\"colorbar\":{\"outlinewidth\":0,\"ticks\":\"\"}},\"type\":\"scatterpolargl\"}],\"scatterternary\":[{\"marker\":{\"colorbar\":{\"outlinewidth\":0,\"ticks\":\"\"}},\"type\":\"scatterternary\"}],\"surface\":[{\"colorbar\":{\"outlinewidth\":0,\"ticks\":\"\"},\"colorscale\":[[0.0,\"#0d0887\"],[0.1111111111111111,\"#46039f\"],[0.2222222222222222,\"#7201a8\"],[0.3333333333333333,\"#9c179e\"],[0.4444444444444444,\"#bd3786\"],[0.5555555555555556,\"#d8576b\"],[0.6666666666666666,\"#ed7953\"],[0.7777777777777778,\"#fb9f3a\"],[0.8888888888888888,\"#fdca26\"],[1.0,\"#f0f921\"]],\"type\":\"surface\"}],\"table\":[{\"cells\":{\"fill\":{\"color\":\"#EBF0F8\"},\"line\":{\"color\":\"white\"}},\"header\":{\"fill\":{\"color\":\"#C8D4E3\"},\"line\":{\"color\":\"white\"}},\"type\":\"table\"}]},\"layout\":{\"annotationdefaults\":{\"arrowcolor\":\"#2a3f5f\",\"arrowhead\":0,\"arrowwidth\":1},\"autotypenumbers\":\"strict\",\"coloraxis\":{\"colorbar\":{\"outlinewidth\":0,\"ticks\":\"\"}},\"colorscale\":{\"diverging\":[[0,\"#8e0152\"],[0.1,\"#c51b7d\"],[0.2,\"#de77ae\"],[0.3,\"#f1b6da\"],[0.4,\"#fde0ef\"],[0.5,\"#f7f7f7\"],[0.6,\"#e6f5d0\"],[0.7,\"#b8e186\"],[0.8,\"#7fbc41\"],[0.9,\"#4d9221\"],[1,\"#276419\"]],\"sequential\":[[0.0,\"#0d0887\"],[0.1111111111111111,\"#46039f\"],[0.2222222222222222,\"#7201a8\"],[0.3333333333333333,\"#9c179e\"],[0.4444444444444444,\"#bd3786\"],[0.5555555555555556,\"#d8576b\"],[0.6666666666666666,\"#ed7953\"],[0.7777777777777778,\"#fb9f3a\"],[0.8888888888888888,\"#fdca26\"],[1.0,\"#f0f921\"]],\"sequentialminus\":[[0.0,\"#0d0887\"],[0.1111111111111111,\"#46039f\"],[0.2222222222222222,\"#7201a8\"],[0.3333333333333333,\"#9c179e\"],[0.4444444444444444,\"#bd3786\"],[0.5555555555555556,\"#d8576b\"],[0.6666666666666666,\"#ed7953\"],[0.7777777777777778,\"#fb9f3a\"],[0.8888888888888888,\"#fdca26\"],[1.0,\"#f0f921\"]]},\"colorway\":[\"#636efa\",\"#EF553B\",\"#00cc96\",\"#ab63fa\",\"#FFA15A\",\"#19d3f3\",\"#FF6692\",\"#B6E880\",\"#FF97FF\",\"#FECB52\"],\"font\":{\"color\":\"#2a3f5f\"},\"geo\":{\"bgcolor\":\"white\",\"lakecolor\":\"white\",\"landcolor\":\"#E5ECF6\",\"showlakes\":true,\"showland\":true,\"subunitcolor\":\"white\"},\"hoverlabel\":{\"align\":\"left\"},\"hovermode\":\"closest\",\"mapbox\":{\"style\":\"light\"},\"paper_bgcolor\":\"white\",\"plot_bgcolor\":\"#E5ECF6\",\"polar\":{\"angularaxis\":{\"gridcolor\":\"white\",\"linecolor\":\"white\",\"ticks\":\"\"},\"bgcolor\":\"#E5ECF6\",\"radialaxis\":{\"gridcolor\":\"white\",\"linecolor\":\"white\",\"ticks\":\"\"}},\"scene\":{\"xaxis\":{\"backgroundcolor\":\"#E5ECF6\",\"gridcolor\":\"white\",\"gridwidth\":2,\"linecolor\":\"white\",\"showbackground\":true,\"ticks\":\"\",\"zerolinecolor\":\"white\"},\"yaxis\":{\"backgroundcolor\":\"#E5ECF6\",\"gridcolor\":\"white\",\"gridwidth\":2,\"linecolor\":\"white\",\"showbackground\":true,\"ticks\":\"\",\"zerolinecolor\":\"white\"},\"zaxis\":{\"backgroundcolor\":\"#E5ECF6\",\"gridcolor\":\"white\",\"gridwidth\":2,\"linecolor\":\"white\",\"showbackground\":true,\"ticks\":\"\",\"zerolinecolor\":\"white\"}},\"shapedefaults\":{\"line\":{\"color\":\"#2a3f5f\"}},\"ternary\":{\"aaxis\":{\"gridcolor\":\"white\",\"linecolor\":\"white\",\"ticks\":\"\"},\"baxis\":{\"gridcolor\":\"white\",\"linecolor\":\"white\",\"ticks\":\"\"},\"bgcolor\":\"#E5ECF6\",\"caxis\":{\"gridcolor\":\"white\",\"linecolor\":\"white\",\"ticks\":\"\"}},\"title\":{\"x\":0.05},\"xaxis\":{\"automargin\":true,\"gridcolor\":\"white\",\"linecolor\":\"white\",\"ticks\":\"\",\"title\":{\"standoff\":15},\"zerolinecolor\":\"white\",\"zerolinewidth\":2},\"yaxis\":{\"automargin\":true,\"gridcolor\":\"white\",\"linecolor\":\"white\",\"ticks\":\"\",\"title\":{\"standoff\":15},\"zerolinecolor\":\"white\",\"zerolinewidth\":2}}},\"xaxis\":{\"anchor\":\"y\",\"domain\":[0.0,1.0],\"title\":{\"text\":\"No of Apps\"}},\"yaxis\":{\"anchor\":\"x\",\"domain\":[0.0,1.0],\"title\":{\"text\":\"Category\"},\"categoryorder\":\"total ascending\"},\"coloraxis\":{\"colorbar\":{\"title\":{\"text\":\"No of Apps\"}},\"colorscale\":[[0.0,\"#636EFA\"],[0.1111111111111111,\"#EF553B\"],[0.2222222222222222,\"#00CC96\"],[0.3333333333333333,\"#AB63FA\"],[0.4444444444444444,\"#FFA15A\"],[0.5555555555555556,\"#19D3F3\"],[0.6666666666666666,\"#FF6692\"],[0.7777777777777778,\"#B6E880\"],[0.8888888888888888,\"#FF97FF\"],[1.0,\"#FECB52\"]]},\"legend\":{\"tracegroupgap\":0},\"title\":{\"text\":\"Top category in Play Store\"},\"barmode\":\"relative\",\"autosize\":false,\"width\":900,\"height\":700},                        {\"responsive\": true}                    ).then(function(){\n",
              "                            \n",
              "var gd = document.getElementById('21096b12-ad60-4cd7-bc1a-0c07fcd10980');\n",
              "var x = new MutationObserver(function (mutations, observer) {{\n",
              "        var display = window.getComputedStyle(gd).display;\n",
              "        if (!display || display === 'none') {{\n",
              "            console.log([gd, 'removed!']);\n",
              "            Plotly.purge(gd);\n",
              "            observer.disconnect();\n",
              "        }}\n",
              "}});\n",
              "\n",
              "// Listen for the removal of the full notebook cells\n",
              "var notebookContainer = gd.closest('#notebook-container');\n",
              "if (notebookContainer) {{\n",
              "    x.observe(notebookContainer, {childList: true});\n",
              "}}\n",
              "\n",
              "// Listen for the clearing of the current output cell\n",
              "var outputEl = gd.closest('.output');\n",
              "if (outputEl) {{\n",
              "    x.observe(outputEl, {childList: true});\n",
              "}}\n",
              "\n",
              "                        })                };                            </script>        </div>\n",
              "</body>\n",
              "</html>"
            ]
          },
          "metadata": {}
        }
      ]
    },
    {
      "cell_type": "markdown",
      "source": [
        "##2.Top 3 Categories in Play Store by Content Rating"
      ],
      "metadata": {
        "id": "tq73Qc3oNU1-"
      }
    },
    {
      "cell_type": "code",
      "source": [
        "ratingbycategory = data.groupby(['Content_Rating'])['Category'].value_counts().groupby(level=0).head(3).sort_values(ascending=False).reset_index(name='count')"
      ],
      "metadata": {
        "id": "URt5zfswjGmJ"
      },
      "execution_count": null,
      "outputs": []
    },
    {
      "cell_type": "code",
      "source": [
        "ratingbycategory"
      ],
      "metadata": {
        "colab": {
          "base_uri": "https://localhost:8080/",
          "height": 551
        },
        "id": "y6rvvF6tPbZu",
        "outputId": "b45719de-1877-4590-cd7f-0d123bf2d8b4"
      },
      "execution_count": null,
      "outputs": [
        {
          "output_type": "execute_result",
          "data": {
            "text/plain": [
              "     Content_Rating            Category  count\n",
              "0          Everyone              FAMILY   1431\n",
              "1          Everyone               TOOLS    819\n",
              "2          Everyone                GAME    493\n",
              "3              Teen                GAME    295\n",
              "4              Teen              FAMILY    240\n",
              "5        Mature 17+              DATING    145\n",
              "6      Everyone 10+              FAMILY    110\n",
              "7      Everyone 10+                GAME    106\n",
              "8              Teen              SOCIAL    105\n",
              "9        Mature 17+                GAME     65\n",
              "10       Mature 17+              FAMILY     50\n",
              "11     Everyone 10+  NEWS_AND_MAGAZINES     46\n",
              "12  Adults only 18+              COMICS      2\n",
              "13  Adults only 18+              SPORTS      1\n",
              "14          Unrated              FAMILY      1\n",
              "15          Unrated               TOOLS      1"
            ],
            "text/html": [
              "\n",
              "  <div id=\"df-433f0480-8fbf-4771-9081-768c8fd8ea99\">\n",
              "    <div class=\"colab-df-container\">\n",
              "      <div>\n",
              "<style scoped>\n",
              "    .dataframe tbody tr th:only-of-type {\n",
              "        vertical-align: middle;\n",
              "    }\n",
              "\n",
              "    .dataframe tbody tr th {\n",
              "        vertical-align: top;\n",
              "    }\n",
              "\n",
              "    .dataframe thead th {\n",
              "        text-align: right;\n",
              "    }\n",
              "</style>\n",
              "<table border=\"1\" class=\"dataframe\">\n",
              "  <thead>\n",
              "    <tr style=\"text-align: right;\">\n",
              "      <th></th>\n",
              "      <th>Content_Rating</th>\n",
              "      <th>Category</th>\n",
              "      <th>count</th>\n",
              "    </tr>\n",
              "  </thead>\n",
              "  <tbody>\n",
              "    <tr>\n",
              "      <th>0</th>\n",
              "      <td>Everyone</td>\n",
              "      <td>FAMILY</td>\n",
              "      <td>1431</td>\n",
              "    </tr>\n",
              "    <tr>\n",
              "      <th>1</th>\n",
              "      <td>Everyone</td>\n",
              "      <td>TOOLS</td>\n",
              "      <td>819</td>\n",
              "    </tr>\n",
              "    <tr>\n",
              "      <th>2</th>\n",
              "      <td>Everyone</td>\n",
              "      <td>GAME</td>\n",
              "      <td>493</td>\n",
              "    </tr>\n",
              "    <tr>\n",
              "      <th>3</th>\n",
              "      <td>Teen</td>\n",
              "      <td>GAME</td>\n",
              "      <td>295</td>\n",
              "    </tr>\n",
              "    <tr>\n",
              "      <th>4</th>\n",
              "      <td>Teen</td>\n",
              "      <td>FAMILY</td>\n",
              "      <td>240</td>\n",
              "    </tr>\n",
              "    <tr>\n",
              "      <th>5</th>\n",
              "      <td>Mature 17+</td>\n",
              "      <td>DATING</td>\n",
              "      <td>145</td>\n",
              "    </tr>\n",
              "    <tr>\n",
              "      <th>6</th>\n",
              "      <td>Everyone 10+</td>\n",
              "      <td>FAMILY</td>\n",
              "      <td>110</td>\n",
              "    </tr>\n",
              "    <tr>\n",
              "      <th>7</th>\n",
              "      <td>Everyone 10+</td>\n",
              "      <td>GAME</td>\n",
              "      <td>106</td>\n",
              "    </tr>\n",
              "    <tr>\n",
              "      <th>8</th>\n",
              "      <td>Teen</td>\n",
              "      <td>SOCIAL</td>\n",
              "      <td>105</td>\n",
              "    </tr>\n",
              "    <tr>\n",
              "      <th>9</th>\n",
              "      <td>Mature 17+</td>\n",
              "      <td>GAME</td>\n",
              "      <td>65</td>\n",
              "    </tr>\n",
              "    <tr>\n",
              "      <th>10</th>\n",
              "      <td>Mature 17+</td>\n",
              "      <td>FAMILY</td>\n",
              "      <td>50</td>\n",
              "    </tr>\n",
              "    <tr>\n",
              "      <th>11</th>\n",
              "      <td>Everyone 10+</td>\n",
              "      <td>NEWS_AND_MAGAZINES</td>\n",
              "      <td>46</td>\n",
              "    </tr>\n",
              "    <tr>\n",
              "      <th>12</th>\n",
              "      <td>Adults only 18+</td>\n",
              "      <td>COMICS</td>\n",
              "      <td>2</td>\n",
              "    </tr>\n",
              "    <tr>\n",
              "      <th>13</th>\n",
              "      <td>Adults only 18+</td>\n",
              "      <td>SPORTS</td>\n",
              "      <td>1</td>\n",
              "    </tr>\n",
              "    <tr>\n",
              "      <th>14</th>\n",
              "      <td>Unrated</td>\n",
              "      <td>FAMILY</td>\n",
              "      <td>1</td>\n",
              "    </tr>\n",
              "    <tr>\n",
              "      <th>15</th>\n",
              "      <td>Unrated</td>\n",
              "      <td>TOOLS</td>\n",
              "      <td>1</td>\n",
              "    </tr>\n",
              "  </tbody>\n",
              "</table>\n",
              "</div>\n",
              "      <button class=\"colab-df-convert\" onclick=\"convertToInteractive('df-433f0480-8fbf-4771-9081-768c8fd8ea99')\"\n",
              "              title=\"Convert this dataframe to an interactive table.\"\n",
              "              style=\"display:none;\">\n",
              "        \n",
              "  <svg xmlns=\"http://www.w3.org/2000/svg\" height=\"24px\"viewBox=\"0 0 24 24\"\n",
              "       width=\"24px\">\n",
              "    <path d=\"M0 0h24v24H0V0z\" fill=\"none\"/>\n",
              "    <path d=\"M18.56 5.44l.94 2.06.94-2.06 2.06-.94-2.06-.94-.94-2.06-.94 2.06-2.06.94zm-11 1L8.5 8.5l.94-2.06 2.06-.94-2.06-.94L8.5 2.5l-.94 2.06-2.06.94zm10 10l.94 2.06.94-2.06 2.06-.94-2.06-.94-.94-2.06-.94 2.06-2.06.94z\"/><path d=\"M17.41 7.96l-1.37-1.37c-.4-.4-.92-.59-1.43-.59-.52 0-1.04.2-1.43.59L10.3 9.45l-7.72 7.72c-.78.78-.78 2.05 0 2.83L4 21.41c.39.39.9.59 1.41.59.51 0 1.02-.2 1.41-.59l7.78-7.78 2.81-2.81c.8-.78.8-2.07 0-2.86zM5.41 20L4 18.59l7.72-7.72 1.47 1.35L5.41 20z\"/>\n",
              "  </svg>\n",
              "      </button>\n",
              "      \n",
              "  <style>\n",
              "    .colab-df-container {\n",
              "      display:flex;\n",
              "      flex-wrap:wrap;\n",
              "      gap: 12px;\n",
              "    }\n",
              "\n",
              "    .colab-df-convert {\n",
              "      background-color: #E8F0FE;\n",
              "      border: none;\n",
              "      border-radius: 50%;\n",
              "      cursor: pointer;\n",
              "      display: none;\n",
              "      fill: #1967D2;\n",
              "      height: 32px;\n",
              "      padding: 0 0 0 0;\n",
              "      width: 32px;\n",
              "    }\n",
              "\n",
              "    .colab-df-convert:hover {\n",
              "      background-color: #E2EBFA;\n",
              "      box-shadow: 0px 1px 2px rgba(60, 64, 67, 0.3), 0px 1px 3px 1px rgba(60, 64, 67, 0.15);\n",
              "      fill: #174EA6;\n",
              "    }\n",
              "\n",
              "    [theme=dark] .colab-df-convert {\n",
              "      background-color: #3B4455;\n",
              "      fill: #D2E3FC;\n",
              "    }\n",
              "\n",
              "    [theme=dark] .colab-df-convert:hover {\n",
              "      background-color: #434B5C;\n",
              "      box-shadow: 0px 1px 3px 1px rgba(0, 0, 0, 0.15);\n",
              "      filter: drop-shadow(0px 1px 2px rgba(0, 0, 0, 0.3));\n",
              "      fill: #FFFFFF;\n",
              "    }\n",
              "  </style>\n",
              "\n",
              "      <script>\n",
              "        const buttonEl =\n",
              "          document.querySelector('#df-433f0480-8fbf-4771-9081-768c8fd8ea99 button.colab-df-convert');\n",
              "        buttonEl.style.display =\n",
              "          google.colab.kernel.accessAllowed ? 'block' : 'none';\n",
              "\n",
              "        async function convertToInteractive(key) {\n",
              "          const element = document.querySelector('#df-433f0480-8fbf-4771-9081-768c8fd8ea99');\n",
              "          const dataTable =\n",
              "            await google.colab.kernel.invokeFunction('convertToInteractive',\n",
              "                                                     [key], {});\n",
              "          if (!dataTable) return;\n",
              "\n",
              "          const docLinkHtml = 'Like what you see? Visit the ' +\n",
              "            '<a target=\"_blank\" href=https://colab.research.google.com/notebooks/data_table.ipynb>data table notebook</a>'\n",
              "            + ' to learn more about interactive tables.';\n",
              "          element.innerHTML = '';\n",
              "          dataTable['output_type'] = 'display_data';\n",
              "          await google.colab.output.renderOutput(dataTable, element);\n",
              "          const docLink = document.createElement('div');\n",
              "          docLink.innerHTML = docLinkHtml;\n",
              "          element.appendChild(docLink);\n",
              "        }\n",
              "      </script>\n",
              "    </div>\n",
              "  </div>\n",
              "  "
            ]
          },
          "metadata": {},
          "execution_count": 36
        }
      ]
    },
    {
      "cell_type": "code",
      "source": [
        "fig = px.sunburst(ratingbycategory, path = ['Content_Rating','Category'] , values = 'count')\n",
        "fig.show()"
      ],
      "metadata": {
        "colab": {
          "base_uri": "https://localhost:8080/",
          "height": 542
        },
        "id": "ftzKJb6Qklnl",
        "outputId": "51af4375-92e1-4f53-a3be-d2db494a49c7"
      },
      "execution_count": null,
      "outputs": [
        {
          "output_type": "display_data",
          "data": {
            "text/html": [
              "<html>\n",
              "<head><meta charset=\"utf-8\" /></head>\n",
              "<body>\n",
              "    <div>            <script src=\"https://cdnjs.cloudflare.com/ajax/libs/mathjax/2.7.5/MathJax.js?config=TeX-AMS-MML_SVG\"></script><script type=\"text/javascript\">if (window.MathJax) {MathJax.Hub.Config({SVG: {font: \"STIX-Web\"}});}</script>                <script type=\"text/javascript\">window.PlotlyConfig = {MathJaxConfig: 'local'};</script>\n",
              "        <script src=\"https://cdn.plot.ly/plotly-2.8.3.min.js\"></script>                <div id=\"17bcc260-1ea7-4a58-afff-04aa76345999\" class=\"plotly-graph-div\" style=\"height:525px; width:100%;\"></div>            <script type=\"text/javascript\">                                    window.PLOTLYENV=window.PLOTLYENV || {};                                    if (document.getElementById(\"17bcc260-1ea7-4a58-afff-04aa76345999\")) {                    Plotly.newPlot(                        \"17bcc260-1ea7-4a58-afff-04aa76345999\",                        [{\"branchvalues\":\"total\",\"domain\":{\"x\":[0.0,1.0],\"y\":[0.0,1.0]},\"hovertemplate\":\"labels=%{label}<br>count=%{value}<br>parent=%{parent}<br>id=%{id}<extra></extra>\",\"ids\":[\"Adults only 18+/COMICS\",\"Mature 17+/DATING\",\"Everyone/FAMILY\",\"Everyone 10+/FAMILY\",\"Mature 17+/FAMILY\",\"Teen/FAMILY\",\"Unrated/FAMILY\",\"Everyone/GAME\",\"Everyone 10+/GAME\",\"Mature 17+/GAME\",\"Teen/GAME\",\"Everyone 10+/NEWS_AND_MAGAZINES\",\"Teen/SOCIAL\",\"Adults only 18+/SPORTS\",\"Everyone/TOOLS\",\"Unrated/TOOLS\",\"Adults only 18+\",\"Everyone\",\"Everyone 10+\",\"Mature 17+\",\"Teen\",\"Unrated\"],\"labels\":[\"COMICS\",\"DATING\",\"FAMILY\",\"FAMILY\",\"FAMILY\",\"FAMILY\",\"FAMILY\",\"GAME\",\"GAME\",\"GAME\",\"GAME\",\"NEWS_AND_MAGAZINES\",\"SOCIAL\",\"SPORTS\",\"TOOLS\",\"TOOLS\",\"Adults only 18+\",\"Everyone\",\"Everyone 10+\",\"Mature 17+\",\"Teen\",\"Unrated\"],\"name\":\"\",\"parents\":[\"Adults only 18+\",\"Mature 17+\",\"Everyone\",\"Everyone 10+\",\"Mature 17+\",\"Teen\",\"Unrated\",\"Everyone\",\"Everyone 10+\",\"Mature 17+\",\"Teen\",\"Everyone 10+\",\"Teen\",\"Adults only 18+\",\"Everyone\",\"Unrated\",\"\",\"\",\"\",\"\",\"\",\"\"],\"values\":[2,145,1431,110,50,240,1,493,106,65,295,46,105,1,819,1,3,2743,262,260,640,2],\"type\":\"sunburst\"}],                        {\"template\":{\"data\":{\"bar\":[{\"error_x\":{\"color\":\"#2a3f5f\"},\"error_y\":{\"color\":\"#2a3f5f\"},\"marker\":{\"line\":{\"color\":\"#E5ECF6\",\"width\":0.5},\"pattern\":{\"fillmode\":\"overlay\",\"size\":10,\"solidity\":0.2}},\"type\":\"bar\"}],\"barpolar\":[{\"marker\":{\"line\":{\"color\":\"#E5ECF6\",\"width\":0.5},\"pattern\":{\"fillmode\":\"overlay\",\"size\":10,\"solidity\":0.2}},\"type\":\"barpolar\"}],\"carpet\":[{\"aaxis\":{\"endlinecolor\":\"#2a3f5f\",\"gridcolor\":\"white\",\"linecolor\":\"white\",\"minorgridcolor\":\"white\",\"startlinecolor\":\"#2a3f5f\"},\"baxis\":{\"endlinecolor\":\"#2a3f5f\",\"gridcolor\":\"white\",\"linecolor\":\"white\",\"minorgridcolor\":\"white\",\"startlinecolor\":\"#2a3f5f\"},\"type\":\"carpet\"}],\"choropleth\":[{\"colorbar\":{\"outlinewidth\":0,\"ticks\":\"\"},\"type\":\"choropleth\"}],\"contour\":[{\"colorbar\":{\"outlinewidth\":0,\"ticks\":\"\"},\"colorscale\":[[0.0,\"#0d0887\"],[0.1111111111111111,\"#46039f\"],[0.2222222222222222,\"#7201a8\"],[0.3333333333333333,\"#9c179e\"],[0.4444444444444444,\"#bd3786\"],[0.5555555555555556,\"#d8576b\"],[0.6666666666666666,\"#ed7953\"],[0.7777777777777778,\"#fb9f3a\"],[0.8888888888888888,\"#fdca26\"],[1.0,\"#f0f921\"]],\"type\":\"contour\"}],\"contourcarpet\":[{\"colorbar\":{\"outlinewidth\":0,\"ticks\":\"\"},\"type\":\"contourcarpet\"}],\"heatmap\":[{\"colorbar\":{\"outlinewidth\":0,\"ticks\":\"\"},\"colorscale\":[[0.0,\"#0d0887\"],[0.1111111111111111,\"#46039f\"],[0.2222222222222222,\"#7201a8\"],[0.3333333333333333,\"#9c179e\"],[0.4444444444444444,\"#bd3786\"],[0.5555555555555556,\"#d8576b\"],[0.6666666666666666,\"#ed7953\"],[0.7777777777777778,\"#fb9f3a\"],[0.8888888888888888,\"#fdca26\"],[1.0,\"#f0f921\"]],\"type\":\"heatmap\"}],\"heatmapgl\":[{\"colorbar\":{\"outlinewidth\":0,\"ticks\":\"\"},\"colorscale\":[[0.0,\"#0d0887\"],[0.1111111111111111,\"#46039f\"],[0.2222222222222222,\"#7201a8\"],[0.3333333333333333,\"#9c179e\"],[0.4444444444444444,\"#bd3786\"],[0.5555555555555556,\"#d8576b\"],[0.6666666666666666,\"#ed7953\"],[0.7777777777777778,\"#fb9f3a\"],[0.8888888888888888,\"#fdca26\"],[1.0,\"#f0f921\"]],\"type\":\"heatmapgl\"}],\"histogram\":[{\"marker\":{\"pattern\":{\"fillmode\":\"overlay\",\"size\":10,\"solidity\":0.2}},\"type\":\"histogram\"}],\"histogram2d\":[{\"colorbar\":{\"outlinewidth\":0,\"ticks\":\"\"},\"colorscale\":[[0.0,\"#0d0887\"],[0.1111111111111111,\"#46039f\"],[0.2222222222222222,\"#7201a8\"],[0.3333333333333333,\"#9c179e\"],[0.4444444444444444,\"#bd3786\"],[0.5555555555555556,\"#d8576b\"],[0.6666666666666666,\"#ed7953\"],[0.7777777777777778,\"#fb9f3a\"],[0.8888888888888888,\"#fdca26\"],[1.0,\"#f0f921\"]],\"type\":\"histogram2d\"}],\"histogram2dcontour\":[{\"colorbar\":{\"outlinewidth\":0,\"ticks\":\"\"},\"colorscale\":[[0.0,\"#0d0887\"],[0.1111111111111111,\"#46039f\"],[0.2222222222222222,\"#7201a8\"],[0.3333333333333333,\"#9c179e\"],[0.4444444444444444,\"#bd3786\"],[0.5555555555555556,\"#d8576b\"],[0.6666666666666666,\"#ed7953\"],[0.7777777777777778,\"#fb9f3a\"],[0.8888888888888888,\"#fdca26\"],[1.0,\"#f0f921\"]],\"type\":\"histogram2dcontour\"}],\"mesh3d\":[{\"colorbar\":{\"outlinewidth\":0,\"ticks\":\"\"},\"type\":\"mesh3d\"}],\"parcoords\":[{\"line\":{\"colorbar\":{\"outlinewidth\":0,\"ticks\":\"\"}},\"type\":\"parcoords\"}],\"pie\":[{\"automargin\":true,\"type\":\"pie\"}],\"scatter\":[{\"marker\":{\"colorbar\":{\"outlinewidth\":0,\"ticks\":\"\"}},\"type\":\"scatter\"}],\"scatter3d\":[{\"line\":{\"colorbar\":{\"outlinewidth\":0,\"ticks\":\"\"}},\"marker\":{\"colorbar\":{\"outlinewidth\":0,\"ticks\":\"\"}},\"type\":\"scatter3d\"}],\"scattercarpet\":[{\"marker\":{\"colorbar\":{\"outlinewidth\":0,\"ticks\":\"\"}},\"type\":\"scattercarpet\"}],\"scattergeo\":[{\"marker\":{\"colorbar\":{\"outlinewidth\":0,\"ticks\":\"\"}},\"type\":\"scattergeo\"}],\"scattergl\":[{\"marker\":{\"colorbar\":{\"outlinewidth\":0,\"ticks\":\"\"}},\"type\":\"scattergl\"}],\"scattermapbox\":[{\"marker\":{\"colorbar\":{\"outlinewidth\":0,\"ticks\":\"\"}},\"type\":\"scattermapbox\"}],\"scatterpolar\":[{\"marker\":{\"colorbar\":{\"outlinewidth\":0,\"ticks\":\"\"}},\"type\":\"scatterpolar\"}],\"scatterpolargl\":[{\"marker\":{\"colorbar\":{\"outlinewidth\":0,\"ticks\":\"\"}},\"type\":\"scatterpolargl\"}],\"scatterternary\":[{\"marker\":{\"colorbar\":{\"outlinewidth\":0,\"ticks\":\"\"}},\"type\":\"scatterternary\"}],\"surface\":[{\"colorbar\":{\"outlinewidth\":0,\"ticks\":\"\"},\"colorscale\":[[0.0,\"#0d0887\"],[0.1111111111111111,\"#46039f\"],[0.2222222222222222,\"#7201a8\"],[0.3333333333333333,\"#9c179e\"],[0.4444444444444444,\"#bd3786\"],[0.5555555555555556,\"#d8576b\"],[0.6666666666666666,\"#ed7953\"],[0.7777777777777778,\"#fb9f3a\"],[0.8888888888888888,\"#fdca26\"],[1.0,\"#f0f921\"]],\"type\":\"surface\"}],\"table\":[{\"cells\":{\"fill\":{\"color\":\"#EBF0F8\"},\"line\":{\"color\":\"white\"}},\"header\":{\"fill\":{\"color\":\"#C8D4E3\"},\"line\":{\"color\":\"white\"}},\"type\":\"table\"}]},\"layout\":{\"annotationdefaults\":{\"arrowcolor\":\"#2a3f5f\",\"arrowhead\":0,\"arrowwidth\":1},\"autotypenumbers\":\"strict\",\"coloraxis\":{\"colorbar\":{\"outlinewidth\":0,\"ticks\":\"\"}},\"colorscale\":{\"diverging\":[[0,\"#8e0152\"],[0.1,\"#c51b7d\"],[0.2,\"#de77ae\"],[0.3,\"#f1b6da\"],[0.4,\"#fde0ef\"],[0.5,\"#f7f7f7\"],[0.6,\"#e6f5d0\"],[0.7,\"#b8e186\"],[0.8,\"#7fbc41\"],[0.9,\"#4d9221\"],[1,\"#276419\"]],\"sequential\":[[0.0,\"#0d0887\"],[0.1111111111111111,\"#46039f\"],[0.2222222222222222,\"#7201a8\"],[0.3333333333333333,\"#9c179e\"],[0.4444444444444444,\"#bd3786\"],[0.5555555555555556,\"#d8576b\"],[0.6666666666666666,\"#ed7953\"],[0.7777777777777778,\"#fb9f3a\"],[0.8888888888888888,\"#fdca26\"],[1.0,\"#f0f921\"]],\"sequentialminus\":[[0.0,\"#0d0887\"],[0.1111111111111111,\"#46039f\"],[0.2222222222222222,\"#7201a8\"],[0.3333333333333333,\"#9c179e\"],[0.4444444444444444,\"#bd3786\"],[0.5555555555555556,\"#d8576b\"],[0.6666666666666666,\"#ed7953\"],[0.7777777777777778,\"#fb9f3a\"],[0.8888888888888888,\"#fdca26\"],[1.0,\"#f0f921\"]]},\"colorway\":[\"#636efa\",\"#EF553B\",\"#00cc96\",\"#ab63fa\",\"#FFA15A\",\"#19d3f3\",\"#FF6692\",\"#B6E880\",\"#FF97FF\",\"#FECB52\"],\"font\":{\"color\":\"#2a3f5f\"},\"geo\":{\"bgcolor\":\"white\",\"lakecolor\":\"white\",\"landcolor\":\"#E5ECF6\",\"showlakes\":true,\"showland\":true,\"subunitcolor\":\"white\"},\"hoverlabel\":{\"align\":\"left\"},\"hovermode\":\"closest\",\"mapbox\":{\"style\":\"light\"},\"paper_bgcolor\":\"white\",\"plot_bgcolor\":\"#E5ECF6\",\"polar\":{\"angularaxis\":{\"gridcolor\":\"white\",\"linecolor\":\"white\",\"ticks\":\"\"},\"bgcolor\":\"#E5ECF6\",\"radialaxis\":{\"gridcolor\":\"white\",\"linecolor\":\"white\",\"ticks\":\"\"}},\"scene\":{\"xaxis\":{\"backgroundcolor\":\"#E5ECF6\",\"gridcolor\":\"white\",\"gridwidth\":2,\"linecolor\":\"white\",\"showbackground\":true,\"ticks\":\"\",\"zerolinecolor\":\"white\"},\"yaxis\":{\"backgroundcolor\":\"#E5ECF6\",\"gridcolor\":\"white\",\"gridwidth\":2,\"linecolor\":\"white\",\"showbackground\":true,\"ticks\":\"\",\"zerolinecolor\":\"white\"},\"zaxis\":{\"backgroundcolor\":\"#E5ECF6\",\"gridcolor\":\"white\",\"gridwidth\":2,\"linecolor\":\"white\",\"showbackground\":true,\"ticks\":\"\",\"zerolinecolor\":\"white\"}},\"shapedefaults\":{\"line\":{\"color\":\"#2a3f5f\"}},\"ternary\":{\"aaxis\":{\"gridcolor\":\"white\",\"linecolor\":\"white\",\"ticks\":\"\"},\"baxis\":{\"gridcolor\":\"white\",\"linecolor\":\"white\",\"ticks\":\"\"},\"bgcolor\":\"#E5ECF6\",\"caxis\":{\"gridcolor\":\"white\",\"linecolor\":\"white\",\"ticks\":\"\"}},\"title\":{\"x\":0.05},\"xaxis\":{\"automargin\":true,\"gridcolor\":\"white\",\"linecolor\":\"white\",\"ticks\":\"\",\"title\":{\"standoff\":15},\"zerolinecolor\":\"white\",\"zerolinewidth\":2},\"yaxis\":{\"automargin\":true,\"gridcolor\":\"white\",\"linecolor\":\"white\",\"ticks\":\"\",\"title\":{\"standoff\":15},\"zerolinecolor\":\"white\",\"zerolinewidth\":2}}},\"legend\":{\"tracegroupgap\":0},\"margin\":{\"t\":60}},                        {\"responsive\": true}                    ).then(function(){\n",
              "                            \n",
              "var gd = document.getElementById('17bcc260-1ea7-4a58-afff-04aa76345999');\n",
              "var x = new MutationObserver(function (mutations, observer) {{\n",
              "        var display = window.getComputedStyle(gd).display;\n",
              "        if (!display || display === 'none') {{\n",
              "            console.log([gd, 'removed!']);\n",
              "            Plotly.purge(gd);\n",
              "            observer.disconnect();\n",
              "        }}\n",
              "}});\n",
              "\n",
              "// Listen for the removal of the full notebook cells\n",
              "var notebookContainer = gd.closest('#notebook-container');\n",
              "if (notebookContainer) {{\n",
              "    x.observe(notebookContainer, {childList: true});\n",
              "}}\n",
              "\n",
              "// Listen for the clearing of the current output cell\n",
              "var outputEl = gd.closest('.output');\n",
              "if (outputEl) {{\n",
              "    x.observe(outputEl, {childList: true});\n",
              "}}\n",
              "\n",
              "                        })                };                            </script>        </div>\n",
              "</body>\n",
              "</html>"
            ]
          },
          "metadata": {}
        }
      ]
    },
    {
      "cell_type": "code",
      "source": [
        "fig = px.treemap(ratingbycategory, path = ['Content_Rating','Category'] , values = 'count')\n",
        "fig.show()"
      ],
      "metadata": {
        "colab": {
          "base_uri": "https://localhost:8080/",
          "height": 542
        },
        "id": "22xFqdKHE6cp",
        "outputId": "d1bbfbf9-f2bf-4c09-ea55-34abeaac43bc"
      },
      "execution_count": null,
      "outputs": [
        {
          "output_type": "display_data",
          "data": {
            "text/html": [
              "<html>\n",
              "<head><meta charset=\"utf-8\" /></head>\n",
              "<body>\n",
              "    <div>            <script src=\"https://cdnjs.cloudflare.com/ajax/libs/mathjax/2.7.5/MathJax.js?config=TeX-AMS-MML_SVG\"></script><script type=\"text/javascript\">if (window.MathJax) {MathJax.Hub.Config({SVG: {font: \"STIX-Web\"}});}</script>                <script type=\"text/javascript\">window.PlotlyConfig = {MathJaxConfig: 'local'};</script>\n",
              "        <script src=\"https://cdn.plot.ly/plotly-2.8.3.min.js\"></script>                <div id=\"736e5abd-6490-4ca8-92a6-2a8c306e3590\" class=\"plotly-graph-div\" style=\"height:525px; width:100%;\"></div>            <script type=\"text/javascript\">                                    window.PLOTLYENV=window.PLOTLYENV || {};                                    if (document.getElementById(\"736e5abd-6490-4ca8-92a6-2a8c306e3590\")) {                    Plotly.newPlot(                        \"736e5abd-6490-4ca8-92a6-2a8c306e3590\",                        [{\"branchvalues\":\"total\",\"domain\":{\"x\":[0.0,1.0],\"y\":[0.0,1.0]},\"hovertemplate\":\"labels=%{label}<br>count=%{value}<br>parent=%{parent}<br>id=%{id}<extra></extra>\",\"ids\":[\"Adults only 18+/COMICS\",\"Mature 17+/DATING\",\"Everyone/FAMILY\",\"Everyone 10+/FAMILY\",\"Mature 17+/FAMILY\",\"Teen/FAMILY\",\"Unrated/FAMILY\",\"Everyone/GAME\",\"Everyone 10+/GAME\",\"Mature 17+/GAME\",\"Teen/GAME\",\"Everyone 10+/NEWS_AND_MAGAZINES\",\"Teen/SOCIAL\",\"Adults only 18+/SPORTS\",\"Everyone/TOOLS\",\"Unrated/TOOLS\",\"Adults only 18+\",\"Everyone\",\"Everyone 10+\",\"Mature 17+\",\"Teen\",\"Unrated\"],\"labels\":[\"COMICS\",\"DATING\",\"FAMILY\",\"FAMILY\",\"FAMILY\",\"FAMILY\",\"FAMILY\",\"GAME\",\"GAME\",\"GAME\",\"GAME\",\"NEWS_AND_MAGAZINES\",\"SOCIAL\",\"SPORTS\",\"TOOLS\",\"TOOLS\",\"Adults only 18+\",\"Everyone\",\"Everyone 10+\",\"Mature 17+\",\"Teen\",\"Unrated\"],\"name\":\"\",\"parents\":[\"Adults only 18+\",\"Mature 17+\",\"Everyone\",\"Everyone 10+\",\"Mature 17+\",\"Teen\",\"Unrated\",\"Everyone\",\"Everyone 10+\",\"Mature 17+\",\"Teen\",\"Everyone 10+\",\"Teen\",\"Adults only 18+\",\"Everyone\",\"Unrated\",\"\",\"\",\"\",\"\",\"\",\"\"],\"values\":[2,145,1431,110,50,240,1,493,106,65,295,46,105,1,819,1,3,2743,262,260,640,2],\"type\":\"treemap\"}],                        {\"template\":{\"data\":{\"bar\":[{\"error_x\":{\"color\":\"#2a3f5f\"},\"error_y\":{\"color\":\"#2a3f5f\"},\"marker\":{\"line\":{\"color\":\"#E5ECF6\",\"width\":0.5},\"pattern\":{\"fillmode\":\"overlay\",\"size\":10,\"solidity\":0.2}},\"type\":\"bar\"}],\"barpolar\":[{\"marker\":{\"line\":{\"color\":\"#E5ECF6\",\"width\":0.5},\"pattern\":{\"fillmode\":\"overlay\",\"size\":10,\"solidity\":0.2}},\"type\":\"barpolar\"}],\"carpet\":[{\"aaxis\":{\"endlinecolor\":\"#2a3f5f\",\"gridcolor\":\"white\",\"linecolor\":\"white\",\"minorgridcolor\":\"white\",\"startlinecolor\":\"#2a3f5f\"},\"baxis\":{\"endlinecolor\":\"#2a3f5f\",\"gridcolor\":\"white\",\"linecolor\":\"white\",\"minorgridcolor\":\"white\",\"startlinecolor\":\"#2a3f5f\"},\"type\":\"carpet\"}],\"choropleth\":[{\"colorbar\":{\"outlinewidth\":0,\"ticks\":\"\"},\"type\":\"choropleth\"}],\"contour\":[{\"colorbar\":{\"outlinewidth\":0,\"ticks\":\"\"},\"colorscale\":[[0.0,\"#0d0887\"],[0.1111111111111111,\"#46039f\"],[0.2222222222222222,\"#7201a8\"],[0.3333333333333333,\"#9c179e\"],[0.4444444444444444,\"#bd3786\"],[0.5555555555555556,\"#d8576b\"],[0.6666666666666666,\"#ed7953\"],[0.7777777777777778,\"#fb9f3a\"],[0.8888888888888888,\"#fdca26\"],[1.0,\"#f0f921\"]],\"type\":\"contour\"}],\"contourcarpet\":[{\"colorbar\":{\"outlinewidth\":0,\"ticks\":\"\"},\"type\":\"contourcarpet\"}],\"heatmap\":[{\"colorbar\":{\"outlinewidth\":0,\"ticks\":\"\"},\"colorscale\":[[0.0,\"#0d0887\"],[0.1111111111111111,\"#46039f\"],[0.2222222222222222,\"#7201a8\"],[0.3333333333333333,\"#9c179e\"],[0.4444444444444444,\"#bd3786\"],[0.5555555555555556,\"#d8576b\"],[0.6666666666666666,\"#ed7953\"],[0.7777777777777778,\"#fb9f3a\"],[0.8888888888888888,\"#fdca26\"],[1.0,\"#f0f921\"]],\"type\":\"heatmap\"}],\"heatmapgl\":[{\"colorbar\":{\"outlinewidth\":0,\"ticks\":\"\"},\"colorscale\":[[0.0,\"#0d0887\"],[0.1111111111111111,\"#46039f\"],[0.2222222222222222,\"#7201a8\"],[0.3333333333333333,\"#9c179e\"],[0.4444444444444444,\"#bd3786\"],[0.5555555555555556,\"#d8576b\"],[0.6666666666666666,\"#ed7953\"],[0.7777777777777778,\"#fb9f3a\"],[0.8888888888888888,\"#fdca26\"],[1.0,\"#f0f921\"]],\"type\":\"heatmapgl\"}],\"histogram\":[{\"marker\":{\"pattern\":{\"fillmode\":\"overlay\",\"size\":10,\"solidity\":0.2}},\"type\":\"histogram\"}],\"histogram2d\":[{\"colorbar\":{\"outlinewidth\":0,\"ticks\":\"\"},\"colorscale\":[[0.0,\"#0d0887\"],[0.1111111111111111,\"#46039f\"],[0.2222222222222222,\"#7201a8\"],[0.3333333333333333,\"#9c179e\"],[0.4444444444444444,\"#bd3786\"],[0.5555555555555556,\"#d8576b\"],[0.6666666666666666,\"#ed7953\"],[0.7777777777777778,\"#fb9f3a\"],[0.8888888888888888,\"#fdca26\"],[1.0,\"#f0f921\"]],\"type\":\"histogram2d\"}],\"histogram2dcontour\":[{\"colorbar\":{\"outlinewidth\":0,\"ticks\":\"\"},\"colorscale\":[[0.0,\"#0d0887\"],[0.1111111111111111,\"#46039f\"],[0.2222222222222222,\"#7201a8\"],[0.3333333333333333,\"#9c179e\"],[0.4444444444444444,\"#bd3786\"],[0.5555555555555556,\"#d8576b\"],[0.6666666666666666,\"#ed7953\"],[0.7777777777777778,\"#fb9f3a\"],[0.8888888888888888,\"#fdca26\"],[1.0,\"#f0f921\"]],\"type\":\"histogram2dcontour\"}],\"mesh3d\":[{\"colorbar\":{\"outlinewidth\":0,\"ticks\":\"\"},\"type\":\"mesh3d\"}],\"parcoords\":[{\"line\":{\"colorbar\":{\"outlinewidth\":0,\"ticks\":\"\"}},\"type\":\"parcoords\"}],\"pie\":[{\"automargin\":true,\"type\":\"pie\"}],\"scatter\":[{\"marker\":{\"colorbar\":{\"outlinewidth\":0,\"ticks\":\"\"}},\"type\":\"scatter\"}],\"scatter3d\":[{\"line\":{\"colorbar\":{\"outlinewidth\":0,\"ticks\":\"\"}},\"marker\":{\"colorbar\":{\"outlinewidth\":0,\"ticks\":\"\"}},\"type\":\"scatter3d\"}],\"scattercarpet\":[{\"marker\":{\"colorbar\":{\"outlinewidth\":0,\"ticks\":\"\"}},\"type\":\"scattercarpet\"}],\"scattergeo\":[{\"marker\":{\"colorbar\":{\"outlinewidth\":0,\"ticks\":\"\"}},\"type\":\"scattergeo\"}],\"scattergl\":[{\"marker\":{\"colorbar\":{\"outlinewidth\":0,\"ticks\":\"\"}},\"type\":\"scattergl\"}],\"scattermapbox\":[{\"marker\":{\"colorbar\":{\"outlinewidth\":0,\"ticks\":\"\"}},\"type\":\"scattermapbox\"}],\"scatterpolar\":[{\"marker\":{\"colorbar\":{\"outlinewidth\":0,\"ticks\":\"\"}},\"type\":\"scatterpolar\"}],\"scatterpolargl\":[{\"marker\":{\"colorbar\":{\"outlinewidth\":0,\"ticks\":\"\"}},\"type\":\"scatterpolargl\"}],\"scatterternary\":[{\"marker\":{\"colorbar\":{\"outlinewidth\":0,\"ticks\":\"\"}},\"type\":\"scatterternary\"}],\"surface\":[{\"colorbar\":{\"outlinewidth\":0,\"ticks\":\"\"},\"colorscale\":[[0.0,\"#0d0887\"],[0.1111111111111111,\"#46039f\"],[0.2222222222222222,\"#7201a8\"],[0.3333333333333333,\"#9c179e\"],[0.4444444444444444,\"#bd3786\"],[0.5555555555555556,\"#d8576b\"],[0.6666666666666666,\"#ed7953\"],[0.7777777777777778,\"#fb9f3a\"],[0.8888888888888888,\"#fdca26\"],[1.0,\"#f0f921\"]],\"type\":\"surface\"}],\"table\":[{\"cells\":{\"fill\":{\"color\":\"#EBF0F8\"},\"line\":{\"color\":\"white\"}},\"header\":{\"fill\":{\"color\":\"#C8D4E3\"},\"line\":{\"color\":\"white\"}},\"type\":\"table\"}]},\"layout\":{\"annotationdefaults\":{\"arrowcolor\":\"#2a3f5f\",\"arrowhead\":0,\"arrowwidth\":1},\"autotypenumbers\":\"strict\",\"coloraxis\":{\"colorbar\":{\"outlinewidth\":0,\"ticks\":\"\"}},\"colorscale\":{\"diverging\":[[0,\"#8e0152\"],[0.1,\"#c51b7d\"],[0.2,\"#de77ae\"],[0.3,\"#f1b6da\"],[0.4,\"#fde0ef\"],[0.5,\"#f7f7f7\"],[0.6,\"#e6f5d0\"],[0.7,\"#b8e186\"],[0.8,\"#7fbc41\"],[0.9,\"#4d9221\"],[1,\"#276419\"]],\"sequential\":[[0.0,\"#0d0887\"],[0.1111111111111111,\"#46039f\"],[0.2222222222222222,\"#7201a8\"],[0.3333333333333333,\"#9c179e\"],[0.4444444444444444,\"#bd3786\"],[0.5555555555555556,\"#d8576b\"],[0.6666666666666666,\"#ed7953\"],[0.7777777777777778,\"#fb9f3a\"],[0.8888888888888888,\"#fdca26\"],[1.0,\"#f0f921\"]],\"sequentialminus\":[[0.0,\"#0d0887\"],[0.1111111111111111,\"#46039f\"],[0.2222222222222222,\"#7201a8\"],[0.3333333333333333,\"#9c179e\"],[0.4444444444444444,\"#bd3786\"],[0.5555555555555556,\"#d8576b\"],[0.6666666666666666,\"#ed7953\"],[0.7777777777777778,\"#fb9f3a\"],[0.8888888888888888,\"#fdca26\"],[1.0,\"#f0f921\"]]},\"colorway\":[\"#636efa\",\"#EF553B\",\"#00cc96\",\"#ab63fa\",\"#FFA15A\",\"#19d3f3\",\"#FF6692\",\"#B6E880\",\"#FF97FF\",\"#FECB52\"],\"font\":{\"color\":\"#2a3f5f\"},\"geo\":{\"bgcolor\":\"white\",\"lakecolor\":\"white\",\"landcolor\":\"#E5ECF6\",\"showlakes\":true,\"showland\":true,\"subunitcolor\":\"white\"},\"hoverlabel\":{\"align\":\"left\"},\"hovermode\":\"closest\",\"mapbox\":{\"style\":\"light\"},\"paper_bgcolor\":\"white\",\"plot_bgcolor\":\"#E5ECF6\",\"polar\":{\"angularaxis\":{\"gridcolor\":\"white\",\"linecolor\":\"white\",\"ticks\":\"\"},\"bgcolor\":\"#E5ECF6\",\"radialaxis\":{\"gridcolor\":\"white\",\"linecolor\":\"white\",\"ticks\":\"\"}},\"scene\":{\"xaxis\":{\"backgroundcolor\":\"#E5ECF6\",\"gridcolor\":\"white\",\"gridwidth\":2,\"linecolor\":\"white\",\"showbackground\":true,\"ticks\":\"\",\"zerolinecolor\":\"white\"},\"yaxis\":{\"backgroundcolor\":\"#E5ECF6\",\"gridcolor\":\"white\",\"gridwidth\":2,\"linecolor\":\"white\",\"showbackground\":true,\"ticks\":\"\",\"zerolinecolor\":\"white\"},\"zaxis\":{\"backgroundcolor\":\"#E5ECF6\",\"gridcolor\":\"white\",\"gridwidth\":2,\"linecolor\":\"white\",\"showbackground\":true,\"ticks\":\"\",\"zerolinecolor\":\"white\"}},\"shapedefaults\":{\"line\":{\"color\":\"#2a3f5f\"}},\"ternary\":{\"aaxis\":{\"gridcolor\":\"white\",\"linecolor\":\"white\",\"ticks\":\"\"},\"baxis\":{\"gridcolor\":\"white\",\"linecolor\":\"white\",\"ticks\":\"\"},\"bgcolor\":\"#E5ECF6\",\"caxis\":{\"gridcolor\":\"white\",\"linecolor\":\"white\",\"ticks\":\"\"}},\"title\":{\"x\":0.05},\"xaxis\":{\"automargin\":true,\"gridcolor\":\"white\",\"linecolor\":\"white\",\"ticks\":\"\",\"title\":{\"standoff\":15},\"zerolinecolor\":\"white\",\"zerolinewidth\":2},\"yaxis\":{\"automargin\":true,\"gridcolor\":\"white\",\"linecolor\":\"white\",\"ticks\":\"\",\"title\":{\"standoff\":15},\"zerolinecolor\":\"white\",\"zerolinewidth\":2}}},\"legend\":{\"tracegroupgap\":0},\"margin\":{\"t\":60}},                        {\"responsive\": true}                    ).then(function(){\n",
              "                            \n",
              "var gd = document.getElementById('736e5abd-6490-4ca8-92a6-2a8c306e3590');\n",
              "var x = new MutationObserver(function (mutations, observer) {{\n",
              "        var display = window.getComputedStyle(gd).display;\n",
              "        if (!display || display === 'none') {{\n",
              "            console.log([gd, 'removed!']);\n",
              "            Plotly.purge(gd);\n",
              "            observer.disconnect();\n",
              "        }}\n",
              "}});\n",
              "\n",
              "// Listen for the removal of the full notebook cells\n",
              "var notebookContainer = gd.closest('#notebook-container');\n",
              "if (notebookContainer) {{\n",
              "    x.observe(notebookContainer, {childList: true});\n",
              "}}\n",
              "\n",
              "// Listen for the clearing of the current output cell\n",
              "var outputEl = gd.closest('.output');\n",
              "if (outputEl) {{\n",
              "    x.observe(outputEl, {childList: true});\n",
              "}}\n",
              "\n",
              "                        })                };                            </script>        </div>\n",
              "</body>\n",
              "</html>"
            ]
          },
          "metadata": {}
        }
      ]
    },
    {
      "cell_type": "markdown",
      "source": [
        "##3.Top 10 most installed paid app by installation nos and their ratings."
      ],
      "metadata": {
        "id": "83Cx42HlXMtS"
      }
    },
    {
      "cell_type": "code",
      "source": [
        "top_paid = data[data['Type']=='Paid'][['App','Rating','Installs']].sort_values(by='Installs', ascending=False).head(10)"
      ],
      "metadata": {
        "id": "vInFPfJlXMAV"
      },
      "execution_count": null,
      "outputs": []
    },
    {
      "cell_type": "code",
      "source": [
        "top_paid"
      ],
      "metadata": {
        "colab": {
          "base_uri": "https://localhost:8080/",
          "height": 363
        },
        "id": "7wCngbxDcTur",
        "outputId": "047dea99-9db6-4dca-d22c-417fffbc3184"
      },
      "execution_count": null,
      "outputs": [
        {
          "output_type": "execute_result",
          "data": {
            "text/plain": [
              "                                           App  Rating  Installs\n",
              "4034                             Hitman Sniper     4.6  10000000\n",
              "2241                                 Minecraft     4.5  10000000\n",
              "5631                   Five Nights at Freddy's     4.6   1000000\n",
              "8860                               Bloons TD 5     4.6   1000000\n",
              "3405                                HD Widgets     4.3   1000000\n",
              "2883                       Facetune - For Free     4.4   1000000\n",
              "7417             Grand Theft Auto: San Andreas     4.4   1000000\n",
              "6675                      Infinity Dungeon VIP     4.3   1000000\n",
              "2242                Card Wars - Adventure Time     4.3   1000000\n",
              "4842  Zombie Avengers:(Dreamsky)Stickman War Z     4.3   1000000"
            ],
            "text/html": [
              "\n",
              "  <div id=\"df-25f2bc23-957b-4ade-a0be-51a83ed2ae88\">\n",
              "    <div class=\"colab-df-container\">\n",
              "      <div>\n",
              "<style scoped>\n",
              "    .dataframe tbody tr th:only-of-type {\n",
              "        vertical-align: middle;\n",
              "    }\n",
              "\n",
              "    .dataframe tbody tr th {\n",
              "        vertical-align: top;\n",
              "    }\n",
              "\n",
              "    .dataframe thead th {\n",
              "        text-align: right;\n",
              "    }\n",
              "</style>\n",
              "<table border=\"1\" class=\"dataframe\">\n",
              "  <thead>\n",
              "    <tr style=\"text-align: right;\">\n",
              "      <th></th>\n",
              "      <th>App</th>\n",
              "      <th>Rating</th>\n",
              "      <th>Installs</th>\n",
              "    </tr>\n",
              "  </thead>\n",
              "  <tbody>\n",
              "    <tr>\n",
              "      <th>4034</th>\n",
              "      <td>Hitman Sniper</td>\n",
              "      <td>4.6</td>\n",
              "      <td>10000000</td>\n",
              "    </tr>\n",
              "    <tr>\n",
              "      <th>2241</th>\n",
              "      <td>Minecraft</td>\n",
              "      <td>4.5</td>\n",
              "      <td>10000000</td>\n",
              "    </tr>\n",
              "    <tr>\n",
              "      <th>5631</th>\n",
              "      <td>Five Nights at Freddy's</td>\n",
              "      <td>4.6</td>\n",
              "      <td>1000000</td>\n",
              "    </tr>\n",
              "    <tr>\n",
              "      <th>8860</th>\n",
              "      <td>Bloons TD 5</td>\n",
              "      <td>4.6</td>\n",
              "      <td>1000000</td>\n",
              "    </tr>\n",
              "    <tr>\n",
              "      <th>3405</th>\n",
              "      <td>HD Widgets</td>\n",
              "      <td>4.3</td>\n",
              "      <td>1000000</td>\n",
              "    </tr>\n",
              "    <tr>\n",
              "      <th>2883</th>\n",
              "      <td>Facetune - For Free</td>\n",
              "      <td>4.4</td>\n",
              "      <td>1000000</td>\n",
              "    </tr>\n",
              "    <tr>\n",
              "      <th>7417</th>\n",
              "      <td>Grand Theft Auto: San Andreas</td>\n",
              "      <td>4.4</td>\n",
              "      <td>1000000</td>\n",
              "    </tr>\n",
              "    <tr>\n",
              "      <th>6675</th>\n",
              "      <td>Infinity Dungeon VIP</td>\n",
              "      <td>4.3</td>\n",
              "      <td>1000000</td>\n",
              "    </tr>\n",
              "    <tr>\n",
              "      <th>2242</th>\n",
              "      <td>Card Wars - Adventure Time</td>\n",
              "      <td>4.3</td>\n",
              "      <td>1000000</td>\n",
              "    </tr>\n",
              "    <tr>\n",
              "      <th>4842</th>\n",
              "      <td>Zombie Avengers:(Dreamsky)Stickman War Z</td>\n",
              "      <td>4.3</td>\n",
              "      <td>1000000</td>\n",
              "    </tr>\n",
              "  </tbody>\n",
              "</table>\n",
              "</div>\n",
              "      <button class=\"colab-df-convert\" onclick=\"convertToInteractive('df-25f2bc23-957b-4ade-a0be-51a83ed2ae88')\"\n",
              "              title=\"Convert this dataframe to an interactive table.\"\n",
              "              style=\"display:none;\">\n",
              "        \n",
              "  <svg xmlns=\"http://www.w3.org/2000/svg\" height=\"24px\"viewBox=\"0 0 24 24\"\n",
              "       width=\"24px\">\n",
              "    <path d=\"M0 0h24v24H0V0z\" fill=\"none\"/>\n",
              "    <path d=\"M18.56 5.44l.94 2.06.94-2.06 2.06-.94-2.06-.94-.94-2.06-.94 2.06-2.06.94zm-11 1L8.5 8.5l.94-2.06 2.06-.94-2.06-.94L8.5 2.5l-.94 2.06-2.06.94zm10 10l.94 2.06.94-2.06 2.06-.94-2.06-.94-.94-2.06-.94 2.06-2.06.94z\"/><path d=\"M17.41 7.96l-1.37-1.37c-.4-.4-.92-.59-1.43-.59-.52 0-1.04.2-1.43.59L10.3 9.45l-7.72 7.72c-.78.78-.78 2.05 0 2.83L4 21.41c.39.39.9.59 1.41.59.51 0 1.02-.2 1.41-.59l7.78-7.78 2.81-2.81c.8-.78.8-2.07 0-2.86zM5.41 20L4 18.59l7.72-7.72 1.47 1.35L5.41 20z\"/>\n",
              "  </svg>\n",
              "      </button>\n",
              "      \n",
              "  <style>\n",
              "    .colab-df-container {\n",
              "      display:flex;\n",
              "      flex-wrap:wrap;\n",
              "      gap: 12px;\n",
              "    }\n",
              "\n",
              "    .colab-df-convert {\n",
              "      background-color: #E8F0FE;\n",
              "      border: none;\n",
              "      border-radius: 50%;\n",
              "      cursor: pointer;\n",
              "      display: none;\n",
              "      fill: #1967D2;\n",
              "      height: 32px;\n",
              "      padding: 0 0 0 0;\n",
              "      width: 32px;\n",
              "    }\n",
              "\n",
              "    .colab-df-convert:hover {\n",
              "      background-color: #E2EBFA;\n",
              "      box-shadow: 0px 1px 2px rgba(60, 64, 67, 0.3), 0px 1px 3px 1px rgba(60, 64, 67, 0.15);\n",
              "      fill: #174EA6;\n",
              "    }\n",
              "\n",
              "    [theme=dark] .colab-df-convert {\n",
              "      background-color: #3B4455;\n",
              "      fill: #D2E3FC;\n",
              "    }\n",
              "\n",
              "    [theme=dark] .colab-df-convert:hover {\n",
              "      background-color: #434B5C;\n",
              "      box-shadow: 0px 1px 3px 1px rgba(0, 0, 0, 0.15);\n",
              "      filter: drop-shadow(0px 1px 2px rgba(0, 0, 0, 0.3));\n",
              "      fill: #FFFFFF;\n",
              "    }\n",
              "  </style>\n",
              "\n",
              "      <script>\n",
              "        const buttonEl =\n",
              "          document.querySelector('#df-25f2bc23-957b-4ade-a0be-51a83ed2ae88 button.colab-df-convert');\n",
              "        buttonEl.style.display =\n",
              "          google.colab.kernel.accessAllowed ? 'block' : 'none';\n",
              "\n",
              "        async function convertToInteractive(key) {\n",
              "          const element = document.querySelector('#df-25f2bc23-957b-4ade-a0be-51a83ed2ae88');\n",
              "          const dataTable =\n",
              "            await google.colab.kernel.invokeFunction('convertToInteractive',\n",
              "                                                     [key], {});\n",
              "          if (!dataTable) return;\n",
              "\n",
              "          const docLinkHtml = 'Like what you see? Visit the ' +\n",
              "            '<a target=\"_blank\" href=https://colab.research.google.com/notebooks/data_table.ipynb>data table notebook</a>'\n",
              "            + ' to learn more about interactive tables.';\n",
              "          element.innerHTML = '';\n",
              "          dataTable['output_type'] = 'display_data';\n",
              "          await google.colab.output.renderOutput(dataTable, element);\n",
              "          const docLink = document.createElement('div');\n",
              "          docLink.innerHTML = docLinkHtml;\n",
              "          element.appendChild(docLink);\n",
              "        }\n",
              "      </script>\n",
              "    </div>\n",
              "  </div>\n",
              "  "
            ]
          },
          "metadata": {},
          "execution_count": 40
        }
      ]
    },
    {
      "cell_type": "code",
      "source": [
        "fig = px.bar(top_paid, y = 'App', x = 'Installs',labels = {'App' : 'App & Rating', 'Installs' : 'No of Downloads'},\n",
        "       color = 'Rating', title = 'Top 10 Paid Apps on Play Store',\n",
        "       color_continuous_scale=px.colors.qualitative.Plotly)\n",
        "fig.update_layout(yaxis={'categoryorder':'total ascending'})\n",
        "fig.update_traces(text=top_paid['Rating'],textposition='inside')\n",
        "fig.show()"
      ],
      "metadata": {
        "colab": {
          "base_uri": "https://localhost:8080/",
          "height": 542
        },
        "id": "da5BzseqKdEm",
        "outputId": "e3141ba7-2d16-44e1-f8f2-ccb31fa9ec3b"
      },
      "execution_count": null,
      "outputs": [
        {
          "output_type": "display_data",
          "data": {
            "text/html": [
              "<html>\n",
              "<head><meta charset=\"utf-8\" /></head>\n",
              "<body>\n",
              "    <div>            <script src=\"https://cdnjs.cloudflare.com/ajax/libs/mathjax/2.7.5/MathJax.js?config=TeX-AMS-MML_SVG\"></script><script type=\"text/javascript\">if (window.MathJax) {MathJax.Hub.Config({SVG: {font: \"STIX-Web\"}});}</script>                <script type=\"text/javascript\">window.PlotlyConfig = {MathJaxConfig: 'local'};</script>\n",
              "        <script src=\"https://cdn.plot.ly/plotly-2.8.3.min.js\"></script>                <div id=\"18047588-133b-428c-a4f5-537a84485cb4\" class=\"plotly-graph-div\" style=\"height:525px; width:100%;\"></div>            <script type=\"text/javascript\">                                    window.PLOTLYENV=window.PLOTLYENV || {};                                    if (document.getElementById(\"18047588-133b-428c-a4f5-537a84485cb4\")) {                    Plotly.newPlot(                        \"18047588-133b-428c-a4f5-537a84485cb4\",                        [{\"alignmentgroup\":\"True\",\"hovertemplate\":\"No of Downloads=%{x}<br>App & Rating=%{y}<br>Rating=%{marker.color}<extra></extra>\",\"legendgroup\":\"\",\"marker\":{\"color\":[4.6,4.5,4.6,4.6,4.3,4.4,4.4,4.3,4.3,4.3],\"coloraxis\":\"coloraxis\",\"pattern\":{\"shape\":\"\"}},\"name\":\"\",\"offsetgroup\":\"\",\"orientation\":\"h\",\"showlegend\":false,\"textposition\":\"inside\",\"x\":[10000000,10000000,1000000,1000000,1000000,1000000,1000000,1000000,1000000,1000000],\"xaxis\":\"x\",\"y\":[\"Hitman Sniper\",\"Minecraft\",\"Five Nights at Freddy's\",\"Bloons TD 5\",\"HD Widgets\",\"Facetune - For Free\",\"Grand Theft Auto: San Andreas\",\"Infinity Dungeon VIP\",\"Card Wars - Adventure Time\",\"Zombie Avengers:(Dreamsky)Stickman War Z\"],\"yaxis\":\"y\",\"type\":\"bar\",\"text\":[4.6,4.5,4.6,4.6,4.3,4.4,4.4,4.3,4.3,4.3]}],                        {\"template\":{\"data\":{\"bar\":[{\"error_x\":{\"color\":\"#2a3f5f\"},\"error_y\":{\"color\":\"#2a3f5f\"},\"marker\":{\"line\":{\"color\":\"#E5ECF6\",\"width\":0.5},\"pattern\":{\"fillmode\":\"overlay\",\"size\":10,\"solidity\":0.2}},\"type\":\"bar\"}],\"barpolar\":[{\"marker\":{\"line\":{\"color\":\"#E5ECF6\",\"width\":0.5},\"pattern\":{\"fillmode\":\"overlay\",\"size\":10,\"solidity\":0.2}},\"type\":\"barpolar\"}],\"carpet\":[{\"aaxis\":{\"endlinecolor\":\"#2a3f5f\",\"gridcolor\":\"white\",\"linecolor\":\"white\",\"minorgridcolor\":\"white\",\"startlinecolor\":\"#2a3f5f\"},\"baxis\":{\"endlinecolor\":\"#2a3f5f\",\"gridcolor\":\"white\",\"linecolor\":\"white\",\"minorgridcolor\":\"white\",\"startlinecolor\":\"#2a3f5f\"},\"type\":\"carpet\"}],\"choropleth\":[{\"colorbar\":{\"outlinewidth\":0,\"ticks\":\"\"},\"type\":\"choropleth\"}],\"contour\":[{\"colorbar\":{\"outlinewidth\":0,\"ticks\":\"\"},\"colorscale\":[[0.0,\"#0d0887\"],[0.1111111111111111,\"#46039f\"],[0.2222222222222222,\"#7201a8\"],[0.3333333333333333,\"#9c179e\"],[0.4444444444444444,\"#bd3786\"],[0.5555555555555556,\"#d8576b\"],[0.6666666666666666,\"#ed7953\"],[0.7777777777777778,\"#fb9f3a\"],[0.8888888888888888,\"#fdca26\"],[1.0,\"#f0f921\"]],\"type\":\"contour\"}],\"contourcarpet\":[{\"colorbar\":{\"outlinewidth\":0,\"ticks\":\"\"},\"type\":\"contourcarpet\"}],\"heatmap\":[{\"colorbar\":{\"outlinewidth\":0,\"ticks\":\"\"},\"colorscale\":[[0.0,\"#0d0887\"],[0.1111111111111111,\"#46039f\"],[0.2222222222222222,\"#7201a8\"],[0.3333333333333333,\"#9c179e\"],[0.4444444444444444,\"#bd3786\"],[0.5555555555555556,\"#d8576b\"],[0.6666666666666666,\"#ed7953\"],[0.7777777777777778,\"#fb9f3a\"],[0.8888888888888888,\"#fdca26\"],[1.0,\"#f0f921\"]],\"type\":\"heatmap\"}],\"heatmapgl\":[{\"colorbar\":{\"outlinewidth\":0,\"ticks\":\"\"},\"colorscale\":[[0.0,\"#0d0887\"],[0.1111111111111111,\"#46039f\"],[0.2222222222222222,\"#7201a8\"],[0.3333333333333333,\"#9c179e\"],[0.4444444444444444,\"#bd3786\"],[0.5555555555555556,\"#d8576b\"],[0.6666666666666666,\"#ed7953\"],[0.7777777777777778,\"#fb9f3a\"],[0.8888888888888888,\"#fdca26\"],[1.0,\"#f0f921\"]],\"type\":\"heatmapgl\"}],\"histogram\":[{\"marker\":{\"pattern\":{\"fillmode\":\"overlay\",\"size\":10,\"solidity\":0.2}},\"type\":\"histogram\"}],\"histogram2d\":[{\"colorbar\":{\"outlinewidth\":0,\"ticks\":\"\"},\"colorscale\":[[0.0,\"#0d0887\"],[0.1111111111111111,\"#46039f\"],[0.2222222222222222,\"#7201a8\"],[0.3333333333333333,\"#9c179e\"],[0.4444444444444444,\"#bd3786\"],[0.5555555555555556,\"#d8576b\"],[0.6666666666666666,\"#ed7953\"],[0.7777777777777778,\"#fb9f3a\"],[0.8888888888888888,\"#fdca26\"],[1.0,\"#f0f921\"]],\"type\":\"histogram2d\"}],\"histogram2dcontour\":[{\"colorbar\":{\"outlinewidth\":0,\"ticks\":\"\"},\"colorscale\":[[0.0,\"#0d0887\"],[0.1111111111111111,\"#46039f\"],[0.2222222222222222,\"#7201a8\"],[0.3333333333333333,\"#9c179e\"],[0.4444444444444444,\"#bd3786\"],[0.5555555555555556,\"#d8576b\"],[0.6666666666666666,\"#ed7953\"],[0.7777777777777778,\"#fb9f3a\"],[0.8888888888888888,\"#fdca26\"],[1.0,\"#f0f921\"]],\"type\":\"histogram2dcontour\"}],\"mesh3d\":[{\"colorbar\":{\"outlinewidth\":0,\"ticks\":\"\"},\"type\":\"mesh3d\"}],\"parcoords\":[{\"line\":{\"colorbar\":{\"outlinewidth\":0,\"ticks\":\"\"}},\"type\":\"parcoords\"}],\"pie\":[{\"automargin\":true,\"type\":\"pie\"}],\"scatter\":[{\"marker\":{\"colorbar\":{\"outlinewidth\":0,\"ticks\":\"\"}},\"type\":\"scatter\"}],\"scatter3d\":[{\"line\":{\"colorbar\":{\"outlinewidth\":0,\"ticks\":\"\"}},\"marker\":{\"colorbar\":{\"outlinewidth\":0,\"ticks\":\"\"}},\"type\":\"scatter3d\"}],\"scattercarpet\":[{\"marker\":{\"colorbar\":{\"outlinewidth\":0,\"ticks\":\"\"}},\"type\":\"scattercarpet\"}],\"scattergeo\":[{\"marker\":{\"colorbar\":{\"outlinewidth\":0,\"ticks\":\"\"}},\"type\":\"scattergeo\"}],\"scattergl\":[{\"marker\":{\"colorbar\":{\"outlinewidth\":0,\"ticks\":\"\"}},\"type\":\"scattergl\"}],\"scattermapbox\":[{\"marker\":{\"colorbar\":{\"outlinewidth\":0,\"ticks\":\"\"}},\"type\":\"scattermapbox\"}],\"scatterpolar\":[{\"marker\":{\"colorbar\":{\"outlinewidth\":0,\"ticks\":\"\"}},\"type\":\"scatterpolar\"}],\"scatterpolargl\":[{\"marker\":{\"colorbar\":{\"outlinewidth\":0,\"ticks\":\"\"}},\"type\":\"scatterpolargl\"}],\"scatterternary\":[{\"marker\":{\"colorbar\":{\"outlinewidth\":0,\"ticks\":\"\"}},\"type\":\"scatterternary\"}],\"surface\":[{\"colorbar\":{\"outlinewidth\":0,\"ticks\":\"\"},\"colorscale\":[[0.0,\"#0d0887\"],[0.1111111111111111,\"#46039f\"],[0.2222222222222222,\"#7201a8\"],[0.3333333333333333,\"#9c179e\"],[0.4444444444444444,\"#bd3786\"],[0.5555555555555556,\"#d8576b\"],[0.6666666666666666,\"#ed7953\"],[0.7777777777777778,\"#fb9f3a\"],[0.8888888888888888,\"#fdca26\"],[1.0,\"#f0f921\"]],\"type\":\"surface\"}],\"table\":[{\"cells\":{\"fill\":{\"color\":\"#EBF0F8\"},\"line\":{\"color\":\"white\"}},\"header\":{\"fill\":{\"color\":\"#C8D4E3\"},\"line\":{\"color\":\"white\"}},\"type\":\"table\"}]},\"layout\":{\"annotationdefaults\":{\"arrowcolor\":\"#2a3f5f\",\"arrowhead\":0,\"arrowwidth\":1},\"autotypenumbers\":\"strict\",\"coloraxis\":{\"colorbar\":{\"outlinewidth\":0,\"ticks\":\"\"}},\"colorscale\":{\"diverging\":[[0,\"#8e0152\"],[0.1,\"#c51b7d\"],[0.2,\"#de77ae\"],[0.3,\"#f1b6da\"],[0.4,\"#fde0ef\"],[0.5,\"#f7f7f7\"],[0.6,\"#e6f5d0\"],[0.7,\"#b8e186\"],[0.8,\"#7fbc41\"],[0.9,\"#4d9221\"],[1,\"#276419\"]],\"sequential\":[[0.0,\"#0d0887\"],[0.1111111111111111,\"#46039f\"],[0.2222222222222222,\"#7201a8\"],[0.3333333333333333,\"#9c179e\"],[0.4444444444444444,\"#bd3786\"],[0.5555555555555556,\"#d8576b\"],[0.6666666666666666,\"#ed7953\"],[0.7777777777777778,\"#fb9f3a\"],[0.8888888888888888,\"#fdca26\"],[1.0,\"#f0f921\"]],\"sequentialminus\":[[0.0,\"#0d0887\"],[0.1111111111111111,\"#46039f\"],[0.2222222222222222,\"#7201a8\"],[0.3333333333333333,\"#9c179e\"],[0.4444444444444444,\"#bd3786\"],[0.5555555555555556,\"#d8576b\"],[0.6666666666666666,\"#ed7953\"],[0.7777777777777778,\"#fb9f3a\"],[0.8888888888888888,\"#fdca26\"],[1.0,\"#f0f921\"]]},\"colorway\":[\"#636efa\",\"#EF553B\",\"#00cc96\",\"#ab63fa\",\"#FFA15A\",\"#19d3f3\",\"#FF6692\",\"#B6E880\",\"#FF97FF\",\"#FECB52\"],\"font\":{\"color\":\"#2a3f5f\"},\"geo\":{\"bgcolor\":\"white\",\"lakecolor\":\"white\",\"landcolor\":\"#E5ECF6\",\"showlakes\":true,\"showland\":true,\"subunitcolor\":\"white\"},\"hoverlabel\":{\"align\":\"left\"},\"hovermode\":\"closest\",\"mapbox\":{\"style\":\"light\"},\"paper_bgcolor\":\"white\",\"plot_bgcolor\":\"#E5ECF6\",\"polar\":{\"angularaxis\":{\"gridcolor\":\"white\",\"linecolor\":\"white\",\"ticks\":\"\"},\"bgcolor\":\"#E5ECF6\",\"radialaxis\":{\"gridcolor\":\"white\",\"linecolor\":\"white\",\"ticks\":\"\"}},\"scene\":{\"xaxis\":{\"backgroundcolor\":\"#E5ECF6\",\"gridcolor\":\"white\",\"gridwidth\":2,\"linecolor\":\"white\",\"showbackground\":true,\"ticks\":\"\",\"zerolinecolor\":\"white\"},\"yaxis\":{\"backgroundcolor\":\"#E5ECF6\",\"gridcolor\":\"white\",\"gridwidth\":2,\"linecolor\":\"white\",\"showbackground\":true,\"ticks\":\"\",\"zerolinecolor\":\"white\"},\"zaxis\":{\"backgroundcolor\":\"#E5ECF6\",\"gridcolor\":\"white\",\"gridwidth\":2,\"linecolor\":\"white\",\"showbackground\":true,\"ticks\":\"\",\"zerolinecolor\":\"white\"}},\"shapedefaults\":{\"line\":{\"color\":\"#2a3f5f\"}},\"ternary\":{\"aaxis\":{\"gridcolor\":\"white\",\"linecolor\":\"white\",\"ticks\":\"\"},\"baxis\":{\"gridcolor\":\"white\",\"linecolor\":\"white\",\"ticks\":\"\"},\"bgcolor\":\"#E5ECF6\",\"caxis\":{\"gridcolor\":\"white\",\"linecolor\":\"white\",\"ticks\":\"\"}},\"title\":{\"x\":0.05},\"xaxis\":{\"automargin\":true,\"gridcolor\":\"white\",\"linecolor\":\"white\",\"ticks\":\"\",\"title\":{\"standoff\":15},\"zerolinecolor\":\"white\",\"zerolinewidth\":2},\"yaxis\":{\"automargin\":true,\"gridcolor\":\"white\",\"linecolor\":\"white\",\"ticks\":\"\",\"title\":{\"standoff\":15},\"zerolinecolor\":\"white\",\"zerolinewidth\":2}}},\"xaxis\":{\"anchor\":\"y\",\"domain\":[0.0,1.0],\"title\":{\"text\":\"No of Downloads\"}},\"yaxis\":{\"anchor\":\"x\",\"domain\":[0.0,1.0],\"title\":{\"text\":\"App & Rating\"},\"categoryorder\":\"total ascending\"},\"coloraxis\":{\"colorbar\":{\"title\":{\"text\":\"Rating\"}},\"colorscale\":[[0.0,\"#636EFA\"],[0.1111111111111111,\"#EF553B\"],[0.2222222222222222,\"#00CC96\"],[0.3333333333333333,\"#AB63FA\"],[0.4444444444444444,\"#FFA15A\"],[0.5555555555555556,\"#19D3F3\"],[0.6666666666666666,\"#FF6692\"],[0.7777777777777778,\"#B6E880\"],[0.8888888888888888,\"#FF97FF\"],[1.0,\"#FECB52\"]]},\"legend\":{\"tracegroupgap\":0},\"title\":{\"text\":\"Top 10 Paid Apps on Play Store\"},\"barmode\":\"relative\"},                        {\"responsive\": true}                    ).then(function(){\n",
              "                            \n",
              "var gd = document.getElementById('18047588-133b-428c-a4f5-537a84485cb4');\n",
              "var x = new MutationObserver(function (mutations, observer) {{\n",
              "        var display = window.getComputedStyle(gd).display;\n",
              "        if (!display || display === 'none') {{\n",
              "            console.log([gd, 'removed!']);\n",
              "            Plotly.purge(gd);\n",
              "            observer.disconnect();\n",
              "        }}\n",
              "}});\n",
              "\n",
              "// Listen for the removal of the full notebook cells\n",
              "var notebookContainer = gd.closest('#notebook-container');\n",
              "if (notebookContainer) {{\n",
              "    x.observe(notebookContainer, {childList: true});\n",
              "}}\n",
              "\n",
              "// Listen for the clearing of the current output cell\n",
              "var outputEl = gd.closest('.output');\n",
              "if (outputEl) {{\n",
              "    x.observe(outputEl, {childList: true});\n",
              "}}\n",
              "\n",
              "                        })                };                            </script>        </div>\n",
              "</body>\n",
              "</html>"
            ]
          },
          "metadata": {}
        }
      ]
    },
    {
      "cell_type": "markdown",
      "source": [
        "##4.Paid vs Free app in Play Store"
      ],
      "metadata": {
        "id": "zPn44CkKdhtA"
      }
    },
    {
      "cell_type": "code",
      "source": [
        "paid_free = data['Type'].value_counts().reset_index(name='count')\n",
        "paid_free"
      ],
      "metadata": {
        "colab": {
          "base_uri": "https://localhost:8080/",
          "height": 112
        },
        "id": "QcrMG17Dflyx",
        "outputId": "09968872-d4bd-4e4c-cdec-ba36f61aff6a"
      },
      "execution_count": null,
      "outputs": [
        {
          "output_type": "execute_result",
          "data": {
            "text/plain": [
              "  index  count\n",
              "0  Free   8903\n",
              "1  Paid    756"
            ],
            "text/html": [
              "\n",
              "  <div id=\"df-10cc7f94-ffa9-4634-9bdc-e0f541e3d133\">\n",
              "    <div class=\"colab-df-container\">\n",
              "      <div>\n",
              "<style scoped>\n",
              "    .dataframe tbody tr th:only-of-type {\n",
              "        vertical-align: middle;\n",
              "    }\n",
              "\n",
              "    .dataframe tbody tr th {\n",
              "        vertical-align: top;\n",
              "    }\n",
              "\n",
              "    .dataframe thead th {\n",
              "        text-align: right;\n",
              "    }\n",
              "</style>\n",
              "<table border=\"1\" class=\"dataframe\">\n",
              "  <thead>\n",
              "    <tr style=\"text-align: right;\">\n",
              "      <th></th>\n",
              "      <th>index</th>\n",
              "      <th>count</th>\n",
              "    </tr>\n",
              "  </thead>\n",
              "  <tbody>\n",
              "    <tr>\n",
              "      <th>0</th>\n",
              "      <td>Free</td>\n",
              "      <td>8903</td>\n",
              "    </tr>\n",
              "    <tr>\n",
              "      <th>1</th>\n",
              "      <td>Paid</td>\n",
              "      <td>756</td>\n",
              "    </tr>\n",
              "  </tbody>\n",
              "</table>\n",
              "</div>\n",
              "      <button class=\"colab-df-convert\" onclick=\"convertToInteractive('df-10cc7f94-ffa9-4634-9bdc-e0f541e3d133')\"\n",
              "              title=\"Convert this dataframe to an interactive table.\"\n",
              "              style=\"display:none;\">\n",
              "        \n",
              "  <svg xmlns=\"http://www.w3.org/2000/svg\" height=\"24px\"viewBox=\"0 0 24 24\"\n",
              "       width=\"24px\">\n",
              "    <path d=\"M0 0h24v24H0V0z\" fill=\"none\"/>\n",
              "    <path d=\"M18.56 5.44l.94 2.06.94-2.06 2.06-.94-2.06-.94-.94-2.06-.94 2.06-2.06.94zm-11 1L8.5 8.5l.94-2.06 2.06-.94-2.06-.94L8.5 2.5l-.94 2.06-2.06.94zm10 10l.94 2.06.94-2.06 2.06-.94-2.06-.94-.94-2.06-.94 2.06-2.06.94z\"/><path d=\"M17.41 7.96l-1.37-1.37c-.4-.4-.92-.59-1.43-.59-.52 0-1.04.2-1.43.59L10.3 9.45l-7.72 7.72c-.78.78-.78 2.05 0 2.83L4 21.41c.39.39.9.59 1.41.59.51 0 1.02-.2 1.41-.59l7.78-7.78 2.81-2.81c.8-.78.8-2.07 0-2.86zM5.41 20L4 18.59l7.72-7.72 1.47 1.35L5.41 20z\"/>\n",
              "  </svg>\n",
              "      </button>\n",
              "      \n",
              "  <style>\n",
              "    .colab-df-container {\n",
              "      display:flex;\n",
              "      flex-wrap:wrap;\n",
              "      gap: 12px;\n",
              "    }\n",
              "\n",
              "    .colab-df-convert {\n",
              "      background-color: #E8F0FE;\n",
              "      border: none;\n",
              "      border-radius: 50%;\n",
              "      cursor: pointer;\n",
              "      display: none;\n",
              "      fill: #1967D2;\n",
              "      height: 32px;\n",
              "      padding: 0 0 0 0;\n",
              "      width: 32px;\n",
              "    }\n",
              "\n",
              "    .colab-df-convert:hover {\n",
              "      background-color: #E2EBFA;\n",
              "      box-shadow: 0px 1px 2px rgba(60, 64, 67, 0.3), 0px 1px 3px 1px rgba(60, 64, 67, 0.15);\n",
              "      fill: #174EA6;\n",
              "    }\n",
              "\n",
              "    [theme=dark] .colab-df-convert {\n",
              "      background-color: #3B4455;\n",
              "      fill: #D2E3FC;\n",
              "    }\n",
              "\n",
              "    [theme=dark] .colab-df-convert:hover {\n",
              "      background-color: #434B5C;\n",
              "      box-shadow: 0px 1px 3px 1px rgba(0, 0, 0, 0.15);\n",
              "      filter: drop-shadow(0px 1px 2px rgba(0, 0, 0, 0.3));\n",
              "      fill: #FFFFFF;\n",
              "    }\n",
              "  </style>\n",
              "\n",
              "      <script>\n",
              "        const buttonEl =\n",
              "          document.querySelector('#df-10cc7f94-ffa9-4634-9bdc-e0f541e3d133 button.colab-df-convert');\n",
              "        buttonEl.style.display =\n",
              "          google.colab.kernel.accessAllowed ? 'block' : 'none';\n",
              "\n",
              "        async function convertToInteractive(key) {\n",
              "          const element = document.querySelector('#df-10cc7f94-ffa9-4634-9bdc-e0f541e3d133');\n",
              "          const dataTable =\n",
              "            await google.colab.kernel.invokeFunction('convertToInteractive',\n",
              "                                                     [key], {});\n",
              "          if (!dataTable) return;\n",
              "\n",
              "          const docLinkHtml = 'Like what you see? Visit the ' +\n",
              "            '<a target=\"_blank\" href=https://colab.research.google.com/notebooks/data_table.ipynb>data table notebook</a>'\n",
              "            + ' to learn more about interactive tables.';\n",
              "          element.innerHTML = '';\n",
              "          dataTable['output_type'] = 'display_data';\n",
              "          await google.colab.output.renderOutput(dataTable, element);\n",
              "          const docLink = document.createElement('div');\n",
              "          docLink.innerHTML = docLinkHtml;\n",
              "          element.appendChild(docLink);\n",
              "        }\n",
              "      </script>\n",
              "    </div>\n",
              "  </div>\n",
              "  "
            ]
          },
          "metadata": {},
          "execution_count": 42
        }
      ]
    },
    {
      "cell_type": "code",
      "source": [
        "fig = go.Figure()\n",
        "fig.add_trace(go.Pie(labels=paid_free['index'], values=paid_free['count'], textinfo='label + percent',\n",
        "    textposition='inside', pull=[0.2, 0, 0, 0]))\n",
        "\n",
        "fig.update_layout(title='Paid vs Free Apps on Play Store')\n",
        "fig.show()"
      ],
      "metadata": {
        "colab": {
          "base_uri": "https://localhost:8080/",
          "height": 542
        },
        "id": "LkQKL1FJdj4t",
        "outputId": "995ecc2a-2de9-44a2-ea8b-77f565ade0cf"
      },
      "execution_count": null,
      "outputs": [
        {
          "output_type": "display_data",
          "data": {
            "text/html": [
              "<html>\n",
              "<head><meta charset=\"utf-8\" /></head>\n",
              "<body>\n",
              "    <div>            <script src=\"https://cdnjs.cloudflare.com/ajax/libs/mathjax/2.7.5/MathJax.js?config=TeX-AMS-MML_SVG\"></script><script type=\"text/javascript\">if (window.MathJax) {MathJax.Hub.Config({SVG: {font: \"STIX-Web\"}});}</script>                <script type=\"text/javascript\">window.PlotlyConfig = {MathJaxConfig: 'local'};</script>\n",
              "        <script src=\"https://cdn.plot.ly/plotly-2.8.3.min.js\"></script>                <div id=\"b520be3a-6fec-48e3-b53b-26a7443b3f70\" class=\"plotly-graph-div\" style=\"height:525px; width:100%;\"></div>            <script type=\"text/javascript\">                                    window.PLOTLYENV=window.PLOTLYENV || {};                                    if (document.getElementById(\"b520be3a-6fec-48e3-b53b-26a7443b3f70\")) {                    Plotly.newPlot(                        \"b520be3a-6fec-48e3-b53b-26a7443b3f70\",                        [{\"labels\":[\"Free\",\"Paid\"],\"pull\":[0.2,0,0,0],\"textinfo\":\"label+percent\",\"textposition\":\"inside\",\"values\":[8903,756],\"type\":\"pie\"}],                        {\"template\":{\"data\":{\"bar\":[{\"error_x\":{\"color\":\"#2a3f5f\"},\"error_y\":{\"color\":\"#2a3f5f\"},\"marker\":{\"line\":{\"color\":\"#E5ECF6\",\"width\":0.5},\"pattern\":{\"fillmode\":\"overlay\",\"size\":10,\"solidity\":0.2}},\"type\":\"bar\"}],\"barpolar\":[{\"marker\":{\"line\":{\"color\":\"#E5ECF6\",\"width\":0.5},\"pattern\":{\"fillmode\":\"overlay\",\"size\":10,\"solidity\":0.2}},\"type\":\"barpolar\"}],\"carpet\":[{\"aaxis\":{\"endlinecolor\":\"#2a3f5f\",\"gridcolor\":\"white\",\"linecolor\":\"white\",\"minorgridcolor\":\"white\",\"startlinecolor\":\"#2a3f5f\"},\"baxis\":{\"endlinecolor\":\"#2a3f5f\",\"gridcolor\":\"white\",\"linecolor\":\"white\",\"minorgridcolor\":\"white\",\"startlinecolor\":\"#2a3f5f\"},\"type\":\"carpet\"}],\"choropleth\":[{\"colorbar\":{\"outlinewidth\":0,\"ticks\":\"\"},\"type\":\"choropleth\"}],\"contour\":[{\"colorbar\":{\"outlinewidth\":0,\"ticks\":\"\"},\"colorscale\":[[0.0,\"#0d0887\"],[0.1111111111111111,\"#46039f\"],[0.2222222222222222,\"#7201a8\"],[0.3333333333333333,\"#9c179e\"],[0.4444444444444444,\"#bd3786\"],[0.5555555555555556,\"#d8576b\"],[0.6666666666666666,\"#ed7953\"],[0.7777777777777778,\"#fb9f3a\"],[0.8888888888888888,\"#fdca26\"],[1.0,\"#f0f921\"]],\"type\":\"contour\"}],\"contourcarpet\":[{\"colorbar\":{\"outlinewidth\":0,\"ticks\":\"\"},\"type\":\"contourcarpet\"}],\"heatmap\":[{\"colorbar\":{\"outlinewidth\":0,\"ticks\":\"\"},\"colorscale\":[[0.0,\"#0d0887\"],[0.1111111111111111,\"#46039f\"],[0.2222222222222222,\"#7201a8\"],[0.3333333333333333,\"#9c179e\"],[0.4444444444444444,\"#bd3786\"],[0.5555555555555556,\"#d8576b\"],[0.6666666666666666,\"#ed7953\"],[0.7777777777777778,\"#fb9f3a\"],[0.8888888888888888,\"#fdca26\"],[1.0,\"#f0f921\"]],\"type\":\"heatmap\"}],\"heatmapgl\":[{\"colorbar\":{\"outlinewidth\":0,\"ticks\":\"\"},\"colorscale\":[[0.0,\"#0d0887\"],[0.1111111111111111,\"#46039f\"],[0.2222222222222222,\"#7201a8\"],[0.3333333333333333,\"#9c179e\"],[0.4444444444444444,\"#bd3786\"],[0.5555555555555556,\"#d8576b\"],[0.6666666666666666,\"#ed7953\"],[0.7777777777777778,\"#fb9f3a\"],[0.8888888888888888,\"#fdca26\"],[1.0,\"#f0f921\"]],\"type\":\"heatmapgl\"}],\"histogram\":[{\"marker\":{\"pattern\":{\"fillmode\":\"overlay\",\"size\":10,\"solidity\":0.2}},\"type\":\"histogram\"}],\"histogram2d\":[{\"colorbar\":{\"outlinewidth\":0,\"ticks\":\"\"},\"colorscale\":[[0.0,\"#0d0887\"],[0.1111111111111111,\"#46039f\"],[0.2222222222222222,\"#7201a8\"],[0.3333333333333333,\"#9c179e\"],[0.4444444444444444,\"#bd3786\"],[0.5555555555555556,\"#d8576b\"],[0.6666666666666666,\"#ed7953\"],[0.7777777777777778,\"#fb9f3a\"],[0.8888888888888888,\"#fdca26\"],[1.0,\"#f0f921\"]],\"type\":\"histogram2d\"}],\"histogram2dcontour\":[{\"colorbar\":{\"outlinewidth\":0,\"ticks\":\"\"},\"colorscale\":[[0.0,\"#0d0887\"],[0.1111111111111111,\"#46039f\"],[0.2222222222222222,\"#7201a8\"],[0.3333333333333333,\"#9c179e\"],[0.4444444444444444,\"#bd3786\"],[0.5555555555555556,\"#d8576b\"],[0.6666666666666666,\"#ed7953\"],[0.7777777777777778,\"#fb9f3a\"],[0.8888888888888888,\"#fdca26\"],[1.0,\"#f0f921\"]],\"type\":\"histogram2dcontour\"}],\"mesh3d\":[{\"colorbar\":{\"outlinewidth\":0,\"ticks\":\"\"},\"type\":\"mesh3d\"}],\"parcoords\":[{\"line\":{\"colorbar\":{\"outlinewidth\":0,\"ticks\":\"\"}},\"type\":\"parcoords\"}],\"pie\":[{\"automargin\":true,\"type\":\"pie\"}],\"scatter\":[{\"marker\":{\"colorbar\":{\"outlinewidth\":0,\"ticks\":\"\"}},\"type\":\"scatter\"}],\"scatter3d\":[{\"line\":{\"colorbar\":{\"outlinewidth\":0,\"ticks\":\"\"}},\"marker\":{\"colorbar\":{\"outlinewidth\":0,\"ticks\":\"\"}},\"type\":\"scatter3d\"}],\"scattercarpet\":[{\"marker\":{\"colorbar\":{\"outlinewidth\":0,\"ticks\":\"\"}},\"type\":\"scattercarpet\"}],\"scattergeo\":[{\"marker\":{\"colorbar\":{\"outlinewidth\":0,\"ticks\":\"\"}},\"type\":\"scattergeo\"}],\"scattergl\":[{\"marker\":{\"colorbar\":{\"outlinewidth\":0,\"ticks\":\"\"}},\"type\":\"scattergl\"}],\"scattermapbox\":[{\"marker\":{\"colorbar\":{\"outlinewidth\":0,\"ticks\":\"\"}},\"type\":\"scattermapbox\"}],\"scatterpolar\":[{\"marker\":{\"colorbar\":{\"outlinewidth\":0,\"ticks\":\"\"}},\"type\":\"scatterpolar\"}],\"scatterpolargl\":[{\"marker\":{\"colorbar\":{\"outlinewidth\":0,\"ticks\":\"\"}},\"type\":\"scatterpolargl\"}],\"scatterternary\":[{\"marker\":{\"colorbar\":{\"outlinewidth\":0,\"ticks\":\"\"}},\"type\":\"scatterternary\"}],\"surface\":[{\"colorbar\":{\"outlinewidth\":0,\"ticks\":\"\"},\"colorscale\":[[0.0,\"#0d0887\"],[0.1111111111111111,\"#46039f\"],[0.2222222222222222,\"#7201a8\"],[0.3333333333333333,\"#9c179e\"],[0.4444444444444444,\"#bd3786\"],[0.5555555555555556,\"#d8576b\"],[0.6666666666666666,\"#ed7953\"],[0.7777777777777778,\"#fb9f3a\"],[0.8888888888888888,\"#fdca26\"],[1.0,\"#f0f921\"]],\"type\":\"surface\"}],\"table\":[{\"cells\":{\"fill\":{\"color\":\"#EBF0F8\"},\"line\":{\"color\":\"white\"}},\"header\":{\"fill\":{\"color\":\"#C8D4E3\"},\"line\":{\"color\":\"white\"}},\"type\":\"table\"}]},\"layout\":{\"annotationdefaults\":{\"arrowcolor\":\"#2a3f5f\",\"arrowhead\":0,\"arrowwidth\":1},\"autotypenumbers\":\"strict\",\"coloraxis\":{\"colorbar\":{\"outlinewidth\":0,\"ticks\":\"\"}},\"colorscale\":{\"diverging\":[[0,\"#8e0152\"],[0.1,\"#c51b7d\"],[0.2,\"#de77ae\"],[0.3,\"#f1b6da\"],[0.4,\"#fde0ef\"],[0.5,\"#f7f7f7\"],[0.6,\"#e6f5d0\"],[0.7,\"#b8e186\"],[0.8,\"#7fbc41\"],[0.9,\"#4d9221\"],[1,\"#276419\"]],\"sequential\":[[0.0,\"#0d0887\"],[0.1111111111111111,\"#46039f\"],[0.2222222222222222,\"#7201a8\"],[0.3333333333333333,\"#9c179e\"],[0.4444444444444444,\"#bd3786\"],[0.5555555555555556,\"#d8576b\"],[0.6666666666666666,\"#ed7953\"],[0.7777777777777778,\"#fb9f3a\"],[0.8888888888888888,\"#fdca26\"],[1.0,\"#f0f921\"]],\"sequentialminus\":[[0.0,\"#0d0887\"],[0.1111111111111111,\"#46039f\"],[0.2222222222222222,\"#7201a8\"],[0.3333333333333333,\"#9c179e\"],[0.4444444444444444,\"#bd3786\"],[0.5555555555555556,\"#d8576b\"],[0.6666666666666666,\"#ed7953\"],[0.7777777777777778,\"#fb9f3a\"],[0.8888888888888888,\"#fdca26\"],[1.0,\"#f0f921\"]]},\"colorway\":[\"#636efa\",\"#EF553B\",\"#00cc96\",\"#ab63fa\",\"#FFA15A\",\"#19d3f3\",\"#FF6692\",\"#B6E880\",\"#FF97FF\",\"#FECB52\"],\"font\":{\"color\":\"#2a3f5f\"},\"geo\":{\"bgcolor\":\"white\",\"lakecolor\":\"white\",\"landcolor\":\"#E5ECF6\",\"showlakes\":true,\"showland\":true,\"subunitcolor\":\"white\"},\"hoverlabel\":{\"align\":\"left\"},\"hovermode\":\"closest\",\"mapbox\":{\"style\":\"light\"},\"paper_bgcolor\":\"white\",\"plot_bgcolor\":\"#E5ECF6\",\"polar\":{\"angularaxis\":{\"gridcolor\":\"white\",\"linecolor\":\"white\",\"ticks\":\"\"},\"bgcolor\":\"#E5ECF6\",\"radialaxis\":{\"gridcolor\":\"white\",\"linecolor\":\"white\",\"ticks\":\"\"}},\"scene\":{\"xaxis\":{\"backgroundcolor\":\"#E5ECF6\",\"gridcolor\":\"white\",\"gridwidth\":2,\"linecolor\":\"white\",\"showbackground\":true,\"ticks\":\"\",\"zerolinecolor\":\"white\"},\"yaxis\":{\"backgroundcolor\":\"#E5ECF6\",\"gridcolor\":\"white\",\"gridwidth\":2,\"linecolor\":\"white\",\"showbackground\":true,\"ticks\":\"\",\"zerolinecolor\":\"white\"},\"zaxis\":{\"backgroundcolor\":\"#E5ECF6\",\"gridcolor\":\"white\",\"gridwidth\":2,\"linecolor\":\"white\",\"showbackground\":true,\"ticks\":\"\",\"zerolinecolor\":\"white\"}},\"shapedefaults\":{\"line\":{\"color\":\"#2a3f5f\"}},\"ternary\":{\"aaxis\":{\"gridcolor\":\"white\",\"linecolor\":\"white\",\"ticks\":\"\"},\"baxis\":{\"gridcolor\":\"white\",\"linecolor\":\"white\",\"ticks\":\"\"},\"bgcolor\":\"#E5ECF6\",\"caxis\":{\"gridcolor\":\"white\",\"linecolor\":\"white\",\"ticks\":\"\"}},\"title\":{\"x\":0.05},\"xaxis\":{\"automargin\":true,\"gridcolor\":\"white\",\"linecolor\":\"white\",\"ticks\":\"\",\"title\":{\"standoff\":15},\"zerolinecolor\":\"white\",\"zerolinewidth\":2},\"yaxis\":{\"automargin\":true,\"gridcolor\":\"white\",\"linecolor\":\"white\",\"ticks\":\"\",\"title\":{\"standoff\":15},\"zerolinecolor\":\"white\",\"zerolinewidth\":2}}},\"title\":{\"text\":\"Paid vs Free Apps on Play Store\"}},                        {\"responsive\": true}                    ).then(function(){\n",
              "                            \n",
              "var gd = document.getElementById('b520be3a-6fec-48e3-b53b-26a7443b3f70');\n",
              "var x = new MutationObserver(function (mutations, observer) {{\n",
              "        var display = window.getComputedStyle(gd).display;\n",
              "        if (!display || display === 'none') {{\n",
              "            console.log([gd, 'removed!']);\n",
              "            Plotly.purge(gd);\n",
              "            observer.disconnect();\n",
              "        }}\n",
              "}});\n",
              "\n",
              "// Listen for the removal of the full notebook cells\n",
              "var notebookContainer = gd.closest('#notebook-container');\n",
              "if (notebookContainer) {{\n",
              "    x.observe(notebookContainer, {childList: true});\n",
              "}}\n",
              "\n",
              "// Listen for the clearing of the current output cell\n",
              "var outputEl = gd.closest('.output');\n",
              "if (outputEl) {{\n",
              "    x.observe(outputEl, {childList: true});\n",
              "}}\n",
              "\n",
              "                        })                };                            </script>        </div>\n",
              "</body>\n",
              "</html>"
            ]
          },
          "metadata": {}
        }
      ]
    },
    {
      "cell_type": "markdown",
      "source": [
        "##5.Paid and free app by category in play store."
      ],
      "metadata": {
        "id": "48ro-e2xkFKc"
      }
    },
    {
      "cell_type": "code",
      "source": [
        "free_cat = data[data['Type'] == 'Free']['Category'].value_counts().reset_index(name = 'count')\n",
        "free_cat"
      ],
      "metadata": {
        "colab": {
          "base_uri": "https://localhost:8080/",
          "height": 1000
        },
        "id": "h_Z37_58kbG7",
        "outputId": "5706e109-06bf-4f18-ea73-0871f3e74c31"
      },
      "execution_count": null,
      "outputs": [
        {
          "output_type": "execute_result",
          "data": {
            "text/plain": [
              "                  index  count\n",
              "0                FAMILY   1649\n",
              "1                  GAME    877\n",
              "2                 TOOLS    749\n",
              "3              BUSINESS    408\n",
              "4             LIFESTYLE    350\n",
              "5          PRODUCTIVITY    346\n",
              "6               FINANCE    328\n",
              "7               MEDICAL    312\n",
              "8                SPORTS    301\n",
              "9       PERSONALIZATION    295\n",
              "10        COMMUNICATION    288\n",
              "11   HEALTH_AND_FITNESS    273\n",
              "12          PHOTOGRAPHY    262\n",
              "13   NEWS_AND_MAGAZINES    252\n",
              "14               SOCIAL    236\n",
              "15     TRAVEL_AND_LOCAL    207\n",
              "16             SHOPPING    200\n",
              "17  BOOKS_AND_REFERENCE    194\n",
              "18               DATING    165\n",
              "19        VIDEO_PLAYERS    159\n",
              "20  MAPS_AND_NAVIGATION    126\n",
              "21            EDUCATION    115\n",
              "22       FOOD_AND_DRINK    110\n",
              "23        ENTERTAINMENT    100\n",
              "24   LIBRARIES_AND_DEMO     83\n",
              "25    AUTO_AND_VEHICLES     82\n",
              "26       HOUSE_AND_HOME     74\n",
              "27              WEATHER     71\n",
              "28               EVENTS     63\n",
              "29       ART_AND_DESIGN     61\n",
              "30            PARENTING     58\n",
              "31               COMICS     56\n",
              "32               BEAUTY     53"
            ],
            "text/html": [
              "\n",
              "  <div id=\"df-4ef72b89-2643-4740-8695-0e0f32610bc3\">\n",
              "    <div class=\"colab-df-container\">\n",
              "      <div>\n",
              "<style scoped>\n",
              "    .dataframe tbody tr th:only-of-type {\n",
              "        vertical-align: middle;\n",
              "    }\n",
              "\n",
              "    .dataframe tbody tr th {\n",
              "        vertical-align: top;\n",
              "    }\n",
              "\n",
              "    .dataframe thead th {\n",
              "        text-align: right;\n",
              "    }\n",
              "</style>\n",
              "<table border=\"1\" class=\"dataframe\">\n",
              "  <thead>\n",
              "    <tr style=\"text-align: right;\">\n",
              "      <th></th>\n",
              "      <th>index</th>\n",
              "      <th>count</th>\n",
              "    </tr>\n",
              "  </thead>\n",
              "  <tbody>\n",
              "    <tr>\n",
              "      <th>0</th>\n",
              "      <td>FAMILY</td>\n",
              "      <td>1649</td>\n",
              "    </tr>\n",
              "    <tr>\n",
              "      <th>1</th>\n",
              "      <td>GAME</td>\n",
              "      <td>877</td>\n",
              "    </tr>\n",
              "    <tr>\n",
              "      <th>2</th>\n",
              "      <td>TOOLS</td>\n",
              "      <td>749</td>\n",
              "    </tr>\n",
              "    <tr>\n",
              "      <th>3</th>\n",
              "      <td>BUSINESS</td>\n",
              "      <td>408</td>\n",
              "    </tr>\n",
              "    <tr>\n",
              "      <th>4</th>\n",
              "      <td>LIFESTYLE</td>\n",
              "      <td>350</td>\n",
              "    </tr>\n",
              "    <tr>\n",
              "      <th>5</th>\n",
              "      <td>PRODUCTIVITY</td>\n",
              "      <td>346</td>\n",
              "    </tr>\n",
              "    <tr>\n",
              "      <th>6</th>\n",
              "      <td>FINANCE</td>\n",
              "      <td>328</td>\n",
              "    </tr>\n",
              "    <tr>\n",
              "      <th>7</th>\n",
              "      <td>MEDICAL</td>\n",
              "      <td>312</td>\n",
              "    </tr>\n",
              "    <tr>\n",
              "      <th>8</th>\n",
              "      <td>SPORTS</td>\n",
              "      <td>301</td>\n",
              "    </tr>\n",
              "    <tr>\n",
              "      <th>9</th>\n",
              "      <td>PERSONALIZATION</td>\n",
              "      <td>295</td>\n",
              "    </tr>\n",
              "    <tr>\n",
              "      <th>10</th>\n",
              "      <td>COMMUNICATION</td>\n",
              "      <td>288</td>\n",
              "    </tr>\n",
              "    <tr>\n",
              "      <th>11</th>\n",
              "      <td>HEALTH_AND_FITNESS</td>\n",
              "      <td>273</td>\n",
              "    </tr>\n",
              "    <tr>\n",
              "      <th>12</th>\n",
              "      <td>PHOTOGRAPHY</td>\n",
              "      <td>262</td>\n",
              "    </tr>\n",
              "    <tr>\n",
              "      <th>13</th>\n",
              "      <td>NEWS_AND_MAGAZINES</td>\n",
              "      <td>252</td>\n",
              "    </tr>\n",
              "    <tr>\n",
              "      <th>14</th>\n",
              "      <td>SOCIAL</td>\n",
              "      <td>236</td>\n",
              "    </tr>\n",
              "    <tr>\n",
              "      <th>15</th>\n",
              "      <td>TRAVEL_AND_LOCAL</td>\n",
              "      <td>207</td>\n",
              "    </tr>\n",
              "    <tr>\n",
              "      <th>16</th>\n",
              "      <td>SHOPPING</td>\n",
              "      <td>200</td>\n",
              "    </tr>\n",
              "    <tr>\n",
              "      <th>17</th>\n",
              "      <td>BOOKS_AND_REFERENCE</td>\n",
              "      <td>194</td>\n",
              "    </tr>\n",
              "    <tr>\n",
              "      <th>18</th>\n",
              "      <td>DATING</td>\n",
              "      <td>165</td>\n",
              "    </tr>\n",
              "    <tr>\n",
              "      <th>19</th>\n",
              "      <td>VIDEO_PLAYERS</td>\n",
              "      <td>159</td>\n",
              "    </tr>\n",
              "    <tr>\n",
              "      <th>20</th>\n",
              "      <td>MAPS_AND_NAVIGATION</td>\n",
              "      <td>126</td>\n",
              "    </tr>\n",
              "    <tr>\n",
              "      <th>21</th>\n",
              "      <td>EDUCATION</td>\n",
              "      <td>115</td>\n",
              "    </tr>\n",
              "    <tr>\n",
              "      <th>22</th>\n",
              "      <td>FOOD_AND_DRINK</td>\n",
              "      <td>110</td>\n",
              "    </tr>\n",
              "    <tr>\n",
              "      <th>23</th>\n",
              "      <td>ENTERTAINMENT</td>\n",
              "      <td>100</td>\n",
              "    </tr>\n",
              "    <tr>\n",
              "      <th>24</th>\n",
              "      <td>LIBRARIES_AND_DEMO</td>\n",
              "      <td>83</td>\n",
              "    </tr>\n",
              "    <tr>\n",
              "      <th>25</th>\n",
              "      <td>AUTO_AND_VEHICLES</td>\n",
              "      <td>82</td>\n",
              "    </tr>\n",
              "    <tr>\n",
              "      <th>26</th>\n",
              "      <td>HOUSE_AND_HOME</td>\n",
              "      <td>74</td>\n",
              "    </tr>\n",
              "    <tr>\n",
              "      <th>27</th>\n",
              "      <td>WEATHER</td>\n",
              "      <td>71</td>\n",
              "    </tr>\n",
              "    <tr>\n",
              "      <th>28</th>\n",
              "      <td>EVENTS</td>\n",
              "      <td>63</td>\n",
              "    </tr>\n",
              "    <tr>\n",
              "      <th>29</th>\n",
              "      <td>ART_AND_DESIGN</td>\n",
              "      <td>61</td>\n",
              "    </tr>\n",
              "    <tr>\n",
              "      <th>30</th>\n",
              "      <td>PARENTING</td>\n",
              "      <td>58</td>\n",
              "    </tr>\n",
              "    <tr>\n",
              "      <th>31</th>\n",
              "      <td>COMICS</td>\n",
              "      <td>56</td>\n",
              "    </tr>\n",
              "    <tr>\n",
              "      <th>32</th>\n",
              "      <td>BEAUTY</td>\n",
              "      <td>53</td>\n",
              "    </tr>\n",
              "  </tbody>\n",
              "</table>\n",
              "</div>\n",
              "      <button class=\"colab-df-convert\" onclick=\"convertToInteractive('df-4ef72b89-2643-4740-8695-0e0f32610bc3')\"\n",
              "              title=\"Convert this dataframe to an interactive table.\"\n",
              "              style=\"display:none;\">\n",
              "        \n",
              "  <svg xmlns=\"http://www.w3.org/2000/svg\" height=\"24px\"viewBox=\"0 0 24 24\"\n",
              "       width=\"24px\">\n",
              "    <path d=\"M0 0h24v24H0V0z\" fill=\"none\"/>\n",
              "    <path d=\"M18.56 5.44l.94 2.06.94-2.06 2.06-.94-2.06-.94-.94-2.06-.94 2.06-2.06.94zm-11 1L8.5 8.5l.94-2.06 2.06-.94-2.06-.94L8.5 2.5l-.94 2.06-2.06.94zm10 10l.94 2.06.94-2.06 2.06-.94-2.06-.94-.94-2.06-.94 2.06-2.06.94z\"/><path d=\"M17.41 7.96l-1.37-1.37c-.4-.4-.92-.59-1.43-.59-.52 0-1.04.2-1.43.59L10.3 9.45l-7.72 7.72c-.78.78-.78 2.05 0 2.83L4 21.41c.39.39.9.59 1.41.59.51 0 1.02-.2 1.41-.59l7.78-7.78 2.81-2.81c.8-.78.8-2.07 0-2.86zM5.41 20L4 18.59l7.72-7.72 1.47 1.35L5.41 20z\"/>\n",
              "  </svg>\n",
              "      </button>\n",
              "      \n",
              "  <style>\n",
              "    .colab-df-container {\n",
              "      display:flex;\n",
              "      flex-wrap:wrap;\n",
              "      gap: 12px;\n",
              "    }\n",
              "\n",
              "    .colab-df-convert {\n",
              "      background-color: #E8F0FE;\n",
              "      border: none;\n",
              "      border-radius: 50%;\n",
              "      cursor: pointer;\n",
              "      display: none;\n",
              "      fill: #1967D2;\n",
              "      height: 32px;\n",
              "      padding: 0 0 0 0;\n",
              "      width: 32px;\n",
              "    }\n",
              "\n",
              "    .colab-df-convert:hover {\n",
              "      background-color: #E2EBFA;\n",
              "      box-shadow: 0px 1px 2px rgba(60, 64, 67, 0.3), 0px 1px 3px 1px rgba(60, 64, 67, 0.15);\n",
              "      fill: #174EA6;\n",
              "    }\n",
              "\n",
              "    [theme=dark] .colab-df-convert {\n",
              "      background-color: #3B4455;\n",
              "      fill: #D2E3FC;\n",
              "    }\n",
              "\n",
              "    [theme=dark] .colab-df-convert:hover {\n",
              "      background-color: #434B5C;\n",
              "      box-shadow: 0px 1px 3px 1px rgba(0, 0, 0, 0.15);\n",
              "      filter: drop-shadow(0px 1px 2px rgba(0, 0, 0, 0.3));\n",
              "      fill: #FFFFFF;\n",
              "    }\n",
              "  </style>\n",
              "\n",
              "      <script>\n",
              "        const buttonEl =\n",
              "          document.querySelector('#df-4ef72b89-2643-4740-8695-0e0f32610bc3 button.colab-df-convert');\n",
              "        buttonEl.style.display =\n",
              "          google.colab.kernel.accessAllowed ? 'block' : 'none';\n",
              "\n",
              "        async function convertToInteractive(key) {\n",
              "          const element = document.querySelector('#df-4ef72b89-2643-4740-8695-0e0f32610bc3');\n",
              "          const dataTable =\n",
              "            await google.colab.kernel.invokeFunction('convertToInteractive',\n",
              "                                                     [key], {});\n",
              "          if (!dataTable) return;\n",
              "\n",
              "          const docLinkHtml = 'Like what you see? Visit the ' +\n",
              "            '<a target=\"_blank\" href=https://colab.research.google.com/notebooks/data_table.ipynb>data table notebook</a>'\n",
              "            + ' to learn more about interactive tables.';\n",
              "          element.innerHTML = '';\n",
              "          dataTable['output_type'] = 'display_data';\n",
              "          await google.colab.output.renderOutput(dataTable, element);\n",
              "          const docLink = document.createElement('div');\n",
              "          docLink.innerHTML = docLinkHtml;\n",
              "          element.appendChild(docLink);\n",
              "        }\n",
              "      </script>\n",
              "    </div>\n",
              "  </div>\n",
              "  "
            ]
          },
          "metadata": {},
          "execution_count": 44
        }
      ]
    },
    {
      "cell_type": "code",
      "source": [
        "paid_cat = data[data['Type'] == 'Paid']['Category'].value_counts().reset_index(name = 'count')\n",
        "paid_cat"
      ],
      "metadata": {
        "colab": {
          "base_uri": "https://localhost:8080/",
          "height": 990
        },
        "id": "BVVX4lD2lOB_",
        "outputId": "ba1ab1df-23c3-4735-e159-61ad673359a4"
      },
      "execution_count": null,
      "outputs": [
        {
          "output_type": "execute_result",
          "data": {
            "text/plain": [
              "                  index  count\n",
              "0                FAMILY    183\n",
              "1               MEDICAL     83\n",
              "2                  GAME     82\n",
              "3       PERSONALIZATION     81\n",
              "4                 TOOLS     78\n",
              "5   BOOKS_AND_REFERENCE     28\n",
              "6          PRODUCTIVITY     28\n",
              "7         COMMUNICATION     27\n",
              "8                SPORTS     24\n",
              "9             LIFESTYLE     19\n",
              "10          PHOTOGRAPHY     19\n",
              "11              FINANCE     17\n",
              "12   HEALTH_AND_FITNESS     15\n",
              "13     TRAVEL_AND_LOCAL     12\n",
              "14             BUSINESS     12\n",
              "15              WEATHER      8\n",
              "16               DATING      6\n",
              "17  MAPS_AND_NAVIGATION      5\n",
              "18            EDUCATION      4\n",
              "19        VIDEO_PLAYERS      4\n",
              "20    AUTO_AND_VEHICLES      3\n",
              "21               SOCIAL      3\n",
              "22       ART_AND_DESIGN      3\n",
              "23       FOOD_AND_DRINK      2\n",
              "24        ENTERTAINMENT      2\n",
              "25   NEWS_AND_MAGAZINES      2\n",
              "26             SHOPPING      2\n",
              "27            PARENTING      2\n",
              "28   LIBRARIES_AND_DEMO      1\n",
              "29               EVENTS      1"
            ],
            "text/html": [
              "\n",
              "  <div id=\"df-8926f4db-3619-4fe5-8449-f5a44c34f119\">\n",
              "    <div class=\"colab-df-container\">\n",
              "      <div>\n",
              "<style scoped>\n",
              "    .dataframe tbody tr th:only-of-type {\n",
              "        vertical-align: middle;\n",
              "    }\n",
              "\n",
              "    .dataframe tbody tr th {\n",
              "        vertical-align: top;\n",
              "    }\n",
              "\n",
              "    .dataframe thead th {\n",
              "        text-align: right;\n",
              "    }\n",
              "</style>\n",
              "<table border=\"1\" class=\"dataframe\">\n",
              "  <thead>\n",
              "    <tr style=\"text-align: right;\">\n",
              "      <th></th>\n",
              "      <th>index</th>\n",
              "      <th>count</th>\n",
              "    </tr>\n",
              "  </thead>\n",
              "  <tbody>\n",
              "    <tr>\n",
              "      <th>0</th>\n",
              "      <td>FAMILY</td>\n",
              "      <td>183</td>\n",
              "    </tr>\n",
              "    <tr>\n",
              "      <th>1</th>\n",
              "      <td>MEDICAL</td>\n",
              "      <td>83</td>\n",
              "    </tr>\n",
              "    <tr>\n",
              "      <th>2</th>\n",
              "      <td>GAME</td>\n",
              "      <td>82</td>\n",
              "    </tr>\n",
              "    <tr>\n",
              "      <th>3</th>\n",
              "      <td>PERSONALIZATION</td>\n",
              "      <td>81</td>\n",
              "    </tr>\n",
              "    <tr>\n",
              "      <th>4</th>\n",
              "      <td>TOOLS</td>\n",
              "      <td>78</td>\n",
              "    </tr>\n",
              "    <tr>\n",
              "      <th>5</th>\n",
              "      <td>BOOKS_AND_REFERENCE</td>\n",
              "      <td>28</td>\n",
              "    </tr>\n",
              "    <tr>\n",
              "      <th>6</th>\n",
              "      <td>PRODUCTIVITY</td>\n",
              "      <td>28</td>\n",
              "    </tr>\n",
              "    <tr>\n",
              "      <th>7</th>\n",
              "      <td>COMMUNICATION</td>\n",
              "      <td>27</td>\n",
              "    </tr>\n",
              "    <tr>\n",
              "      <th>8</th>\n",
              "      <td>SPORTS</td>\n",
              "      <td>24</td>\n",
              "    </tr>\n",
              "    <tr>\n",
              "      <th>9</th>\n",
              "      <td>LIFESTYLE</td>\n",
              "      <td>19</td>\n",
              "    </tr>\n",
              "    <tr>\n",
              "      <th>10</th>\n",
              "      <td>PHOTOGRAPHY</td>\n",
              "      <td>19</td>\n",
              "    </tr>\n",
              "    <tr>\n",
              "      <th>11</th>\n",
              "      <td>FINANCE</td>\n",
              "      <td>17</td>\n",
              "    </tr>\n",
              "    <tr>\n",
              "      <th>12</th>\n",
              "      <td>HEALTH_AND_FITNESS</td>\n",
              "      <td>15</td>\n",
              "    </tr>\n",
              "    <tr>\n",
              "      <th>13</th>\n",
              "      <td>TRAVEL_AND_LOCAL</td>\n",
              "      <td>12</td>\n",
              "    </tr>\n",
              "    <tr>\n",
              "      <th>14</th>\n",
              "      <td>BUSINESS</td>\n",
              "      <td>12</td>\n",
              "    </tr>\n",
              "    <tr>\n",
              "      <th>15</th>\n",
              "      <td>WEATHER</td>\n",
              "      <td>8</td>\n",
              "    </tr>\n",
              "    <tr>\n",
              "      <th>16</th>\n",
              "      <td>DATING</td>\n",
              "      <td>6</td>\n",
              "    </tr>\n",
              "    <tr>\n",
              "      <th>17</th>\n",
              "      <td>MAPS_AND_NAVIGATION</td>\n",
              "      <td>5</td>\n",
              "    </tr>\n",
              "    <tr>\n",
              "      <th>18</th>\n",
              "      <td>EDUCATION</td>\n",
              "      <td>4</td>\n",
              "    </tr>\n",
              "    <tr>\n",
              "      <th>19</th>\n",
              "      <td>VIDEO_PLAYERS</td>\n",
              "      <td>4</td>\n",
              "    </tr>\n",
              "    <tr>\n",
              "      <th>20</th>\n",
              "      <td>AUTO_AND_VEHICLES</td>\n",
              "      <td>3</td>\n",
              "    </tr>\n",
              "    <tr>\n",
              "      <th>21</th>\n",
              "      <td>SOCIAL</td>\n",
              "      <td>3</td>\n",
              "    </tr>\n",
              "    <tr>\n",
              "      <th>22</th>\n",
              "      <td>ART_AND_DESIGN</td>\n",
              "      <td>3</td>\n",
              "    </tr>\n",
              "    <tr>\n",
              "      <th>23</th>\n",
              "      <td>FOOD_AND_DRINK</td>\n",
              "      <td>2</td>\n",
              "    </tr>\n",
              "    <tr>\n",
              "      <th>24</th>\n",
              "      <td>ENTERTAINMENT</td>\n",
              "      <td>2</td>\n",
              "    </tr>\n",
              "    <tr>\n",
              "      <th>25</th>\n",
              "      <td>NEWS_AND_MAGAZINES</td>\n",
              "      <td>2</td>\n",
              "    </tr>\n",
              "    <tr>\n",
              "      <th>26</th>\n",
              "      <td>SHOPPING</td>\n",
              "      <td>2</td>\n",
              "    </tr>\n",
              "    <tr>\n",
              "      <th>27</th>\n",
              "      <td>PARENTING</td>\n",
              "      <td>2</td>\n",
              "    </tr>\n",
              "    <tr>\n",
              "      <th>28</th>\n",
              "      <td>LIBRARIES_AND_DEMO</td>\n",
              "      <td>1</td>\n",
              "    </tr>\n",
              "    <tr>\n",
              "      <th>29</th>\n",
              "      <td>EVENTS</td>\n",
              "      <td>1</td>\n",
              "    </tr>\n",
              "  </tbody>\n",
              "</table>\n",
              "</div>\n",
              "      <button class=\"colab-df-convert\" onclick=\"convertToInteractive('df-8926f4db-3619-4fe5-8449-f5a44c34f119')\"\n",
              "              title=\"Convert this dataframe to an interactive table.\"\n",
              "              style=\"display:none;\">\n",
              "        \n",
              "  <svg xmlns=\"http://www.w3.org/2000/svg\" height=\"24px\"viewBox=\"0 0 24 24\"\n",
              "       width=\"24px\">\n",
              "    <path d=\"M0 0h24v24H0V0z\" fill=\"none\"/>\n",
              "    <path d=\"M18.56 5.44l.94 2.06.94-2.06 2.06-.94-2.06-.94-.94-2.06-.94 2.06-2.06.94zm-11 1L8.5 8.5l.94-2.06 2.06-.94-2.06-.94L8.5 2.5l-.94 2.06-2.06.94zm10 10l.94 2.06.94-2.06 2.06-.94-2.06-.94-.94-2.06-.94 2.06-2.06.94z\"/><path d=\"M17.41 7.96l-1.37-1.37c-.4-.4-.92-.59-1.43-.59-.52 0-1.04.2-1.43.59L10.3 9.45l-7.72 7.72c-.78.78-.78 2.05 0 2.83L4 21.41c.39.39.9.59 1.41.59.51 0 1.02-.2 1.41-.59l7.78-7.78 2.81-2.81c.8-.78.8-2.07 0-2.86zM5.41 20L4 18.59l7.72-7.72 1.47 1.35L5.41 20z\"/>\n",
              "  </svg>\n",
              "      </button>\n",
              "      \n",
              "  <style>\n",
              "    .colab-df-container {\n",
              "      display:flex;\n",
              "      flex-wrap:wrap;\n",
              "      gap: 12px;\n",
              "    }\n",
              "\n",
              "    .colab-df-convert {\n",
              "      background-color: #E8F0FE;\n",
              "      border: none;\n",
              "      border-radius: 50%;\n",
              "      cursor: pointer;\n",
              "      display: none;\n",
              "      fill: #1967D2;\n",
              "      height: 32px;\n",
              "      padding: 0 0 0 0;\n",
              "      width: 32px;\n",
              "    }\n",
              "\n",
              "    .colab-df-convert:hover {\n",
              "      background-color: #E2EBFA;\n",
              "      box-shadow: 0px 1px 2px rgba(60, 64, 67, 0.3), 0px 1px 3px 1px rgba(60, 64, 67, 0.15);\n",
              "      fill: #174EA6;\n",
              "    }\n",
              "\n",
              "    [theme=dark] .colab-df-convert {\n",
              "      background-color: #3B4455;\n",
              "      fill: #D2E3FC;\n",
              "    }\n",
              "\n",
              "    [theme=dark] .colab-df-convert:hover {\n",
              "      background-color: #434B5C;\n",
              "      box-shadow: 0px 1px 3px 1px rgba(0, 0, 0, 0.15);\n",
              "      filter: drop-shadow(0px 1px 2px rgba(0, 0, 0, 0.3));\n",
              "      fill: #FFFFFF;\n",
              "    }\n",
              "  </style>\n",
              "\n",
              "      <script>\n",
              "        const buttonEl =\n",
              "          document.querySelector('#df-8926f4db-3619-4fe5-8449-f5a44c34f119 button.colab-df-convert');\n",
              "        buttonEl.style.display =\n",
              "          google.colab.kernel.accessAllowed ? 'block' : 'none';\n",
              "\n",
              "        async function convertToInteractive(key) {\n",
              "          const element = document.querySelector('#df-8926f4db-3619-4fe5-8449-f5a44c34f119');\n",
              "          const dataTable =\n",
              "            await google.colab.kernel.invokeFunction('convertToInteractive',\n",
              "                                                     [key], {});\n",
              "          if (!dataTable) return;\n",
              "\n",
              "          const docLinkHtml = 'Like what you see? Visit the ' +\n",
              "            '<a target=\"_blank\" href=https://colab.research.google.com/notebooks/data_table.ipynb>data table notebook</a>'\n",
              "            + ' to learn more about interactive tables.';\n",
              "          element.innerHTML = '';\n",
              "          dataTable['output_type'] = 'display_data';\n",
              "          await google.colab.output.renderOutput(dataTable, element);\n",
              "          const docLink = document.createElement('div');\n",
              "          docLink.innerHTML = docLinkHtml;\n",
              "          element.appendChild(docLink);\n",
              "        }\n",
              "      </script>\n",
              "    </div>\n",
              "  </div>\n",
              "  "
            ]
          },
          "metadata": {},
          "execution_count": 45
        }
      ]
    },
    {
      "cell_type": "code",
      "source": [
        "fig = make_subplots(rows=1, cols=2, specs=[[{'type':'domain'}, {'type':'domain'}]])\n",
        "fig.add_trace(go.Pie(labels=free_cat['index'], values = free_cat['count'], name=\"Top Category in Free APP's\", textinfo='label + percent', textposition='inside'),\n",
        "              1, 1)\n",
        "fig.add_trace(go.Pie(labels=paid_cat['index'], values = paid_cat['count'], name=\"Top Category in Paid APP's\", textinfo='label + percent', textposition='inside'),\n",
        "              1, 2)\n",
        "\n",
        "fig.update_traces(hole=.4)\n",
        "\n",
        "fig.update_layout(\n",
        "    title_text=\"Free vs Paid Top Categories in Play Store\",\n",
        "    annotations=[dict(text='FREE Apps', x=0.18, y=0.5, font_size=20, showarrow=False),\n",
        "                 dict(text='PAID Apps', x=0.82, y=0.5, font_size=20, showarrow=False)])\n",
        "fig.show()\n"
      ],
      "metadata": {
        "colab": {
          "base_uri": "https://localhost:8080/",
          "height": 542
        },
        "id": "nVYtb3z0lhK2",
        "outputId": "7e43b10e-4484-4aaf-9f24-b8f65da021ed"
      },
      "execution_count": null,
      "outputs": [
        {
          "output_type": "display_data",
          "data": {
            "text/html": [
              "<html>\n",
              "<head><meta charset=\"utf-8\" /></head>\n",
              "<body>\n",
              "    <div>            <script src=\"https://cdnjs.cloudflare.com/ajax/libs/mathjax/2.7.5/MathJax.js?config=TeX-AMS-MML_SVG\"></script><script type=\"text/javascript\">if (window.MathJax) {MathJax.Hub.Config({SVG: {font: \"STIX-Web\"}});}</script>                <script type=\"text/javascript\">window.PlotlyConfig = {MathJaxConfig: 'local'};</script>\n",
              "        <script src=\"https://cdn.plot.ly/plotly-2.8.3.min.js\"></script>                <div id=\"d57b5296-a8dc-4246-b51b-a9c5d206bfd4\" class=\"plotly-graph-div\" style=\"height:525px; width:100%;\"></div>            <script type=\"text/javascript\">                                    window.PLOTLYENV=window.PLOTLYENV || {};                                    if (document.getElementById(\"d57b5296-a8dc-4246-b51b-a9c5d206bfd4\")) {                    Plotly.newPlot(                        \"d57b5296-a8dc-4246-b51b-a9c5d206bfd4\",                        [{\"labels\":[\"FAMILY\",\"GAME\",\"TOOLS\",\"BUSINESS\",\"LIFESTYLE\",\"PRODUCTIVITY\",\"FINANCE\",\"MEDICAL\",\"SPORTS\",\"PERSONALIZATION\",\"COMMUNICATION\",\"HEALTH_AND_FITNESS\",\"PHOTOGRAPHY\",\"NEWS_AND_MAGAZINES\",\"SOCIAL\",\"TRAVEL_AND_LOCAL\",\"SHOPPING\",\"BOOKS_AND_REFERENCE\",\"DATING\",\"VIDEO_PLAYERS\",\"MAPS_AND_NAVIGATION\",\"EDUCATION\",\"FOOD_AND_DRINK\",\"ENTERTAINMENT\",\"LIBRARIES_AND_DEMO\",\"AUTO_AND_VEHICLES\",\"HOUSE_AND_HOME\",\"WEATHER\",\"EVENTS\",\"ART_AND_DESIGN\",\"PARENTING\",\"COMICS\",\"BEAUTY\"],\"name\":\"Top Category in Free APP's\",\"textinfo\":\"label+percent\",\"textposition\":\"inside\",\"values\":[1649,877,749,408,350,346,328,312,301,295,288,273,262,252,236,207,200,194,165,159,126,115,110,100,83,82,74,71,63,61,58,56,53],\"type\":\"pie\",\"domain\":{\"x\":[0.0,0.45],\"y\":[0.0,1.0]},\"hole\":0.4},{\"labels\":[\"FAMILY\",\"MEDICAL\",\"GAME\",\"PERSONALIZATION\",\"TOOLS\",\"BOOKS_AND_REFERENCE\",\"PRODUCTIVITY\",\"COMMUNICATION\",\"SPORTS\",\"LIFESTYLE\",\"PHOTOGRAPHY\",\"FINANCE\",\"HEALTH_AND_FITNESS\",\"TRAVEL_AND_LOCAL\",\"BUSINESS\",\"WEATHER\",\"DATING\",\"MAPS_AND_NAVIGATION\",\"EDUCATION\",\"VIDEO_PLAYERS\",\"AUTO_AND_VEHICLES\",\"SOCIAL\",\"ART_AND_DESIGN\",\"FOOD_AND_DRINK\",\"ENTERTAINMENT\",\"NEWS_AND_MAGAZINES\",\"SHOPPING\",\"PARENTING\",\"LIBRARIES_AND_DEMO\",\"EVENTS\"],\"name\":\"Top Category in Paid APP's\",\"textinfo\":\"label+percent\",\"textposition\":\"inside\",\"values\":[183,83,82,81,78,28,28,27,24,19,19,17,15,12,12,8,6,5,4,4,3,3,3,2,2,2,2,2,1,1],\"type\":\"pie\",\"domain\":{\"x\":[0.55,1.0],\"y\":[0.0,1.0]},\"hole\":0.4}],                        {\"template\":{\"data\":{\"bar\":[{\"error_x\":{\"color\":\"#2a3f5f\"},\"error_y\":{\"color\":\"#2a3f5f\"},\"marker\":{\"line\":{\"color\":\"#E5ECF6\",\"width\":0.5},\"pattern\":{\"fillmode\":\"overlay\",\"size\":10,\"solidity\":0.2}},\"type\":\"bar\"}],\"barpolar\":[{\"marker\":{\"line\":{\"color\":\"#E5ECF6\",\"width\":0.5},\"pattern\":{\"fillmode\":\"overlay\",\"size\":10,\"solidity\":0.2}},\"type\":\"barpolar\"}],\"carpet\":[{\"aaxis\":{\"endlinecolor\":\"#2a3f5f\",\"gridcolor\":\"white\",\"linecolor\":\"white\",\"minorgridcolor\":\"white\",\"startlinecolor\":\"#2a3f5f\"},\"baxis\":{\"endlinecolor\":\"#2a3f5f\",\"gridcolor\":\"white\",\"linecolor\":\"white\",\"minorgridcolor\":\"white\",\"startlinecolor\":\"#2a3f5f\"},\"type\":\"carpet\"}],\"choropleth\":[{\"colorbar\":{\"outlinewidth\":0,\"ticks\":\"\"},\"type\":\"choropleth\"}],\"contour\":[{\"colorbar\":{\"outlinewidth\":0,\"ticks\":\"\"},\"colorscale\":[[0.0,\"#0d0887\"],[0.1111111111111111,\"#46039f\"],[0.2222222222222222,\"#7201a8\"],[0.3333333333333333,\"#9c179e\"],[0.4444444444444444,\"#bd3786\"],[0.5555555555555556,\"#d8576b\"],[0.6666666666666666,\"#ed7953\"],[0.7777777777777778,\"#fb9f3a\"],[0.8888888888888888,\"#fdca26\"],[1.0,\"#f0f921\"]],\"type\":\"contour\"}],\"contourcarpet\":[{\"colorbar\":{\"outlinewidth\":0,\"ticks\":\"\"},\"type\":\"contourcarpet\"}],\"heatmap\":[{\"colorbar\":{\"outlinewidth\":0,\"ticks\":\"\"},\"colorscale\":[[0.0,\"#0d0887\"],[0.1111111111111111,\"#46039f\"],[0.2222222222222222,\"#7201a8\"],[0.3333333333333333,\"#9c179e\"],[0.4444444444444444,\"#bd3786\"],[0.5555555555555556,\"#d8576b\"],[0.6666666666666666,\"#ed7953\"],[0.7777777777777778,\"#fb9f3a\"],[0.8888888888888888,\"#fdca26\"],[1.0,\"#f0f921\"]],\"type\":\"heatmap\"}],\"heatmapgl\":[{\"colorbar\":{\"outlinewidth\":0,\"ticks\":\"\"},\"colorscale\":[[0.0,\"#0d0887\"],[0.1111111111111111,\"#46039f\"],[0.2222222222222222,\"#7201a8\"],[0.3333333333333333,\"#9c179e\"],[0.4444444444444444,\"#bd3786\"],[0.5555555555555556,\"#d8576b\"],[0.6666666666666666,\"#ed7953\"],[0.7777777777777778,\"#fb9f3a\"],[0.8888888888888888,\"#fdca26\"],[1.0,\"#f0f921\"]],\"type\":\"heatmapgl\"}],\"histogram\":[{\"marker\":{\"pattern\":{\"fillmode\":\"overlay\",\"size\":10,\"solidity\":0.2}},\"type\":\"histogram\"}],\"histogram2d\":[{\"colorbar\":{\"outlinewidth\":0,\"ticks\":\"\"},\"colorscale\":[[0.0,\"#0d0887\"],[0.1111111111111111,\"#46039f\"],[0.2222222222222222,\"#7201a8\"],[0.3333333333333333,\"#9c179e\"],[0.4444444444444444,\"#bd3786\"],[0.5555555555555556,\"#d8576b\"],[0.6666666666666666,\"#ed7953\"],[0.7777777777777778,\"#fb9f3a\"],[0.8888888888888888,\"#fdca26\"],[1.0,\"#f0f921\"]],\"type\":\"histogram2d\"}],\"histogram2dcontour\":[{\"colorbar\":{\"outlinewidth\":0,\"ticks\":\"\"},\"colorscale\":[[0.0,\"#0d0887\"],[0.1111111111111111,\"#46039f\"],[0.2222222222222222,\"#7201a8\"],[0.3333333333333333,\"#9c179e\"],[0.4444444444444444,\"#bd3786\"],[0.5555555555555556,\"#d8576b\"],[0.6666666666666666,\"#ed7953\"],[0.7777777777777778,\"#fb9f3a\"],[0.8888888888888888,\"#fdca26\"],[1.0,\"#f0f921\"]],\"type\":\"histogram2dcontour\"}],\"mesh3d\":[{\"colorbar\":{\"outlinewidth\":0,\"ticks\":\"\"},\"type\":\"mesh3d\"}],\"parcoords\":[{\"line\":{\"colorbar\":{\"outlinewidth\":0,\"ticks\":\"\"}},\"type\":\"parcoords\"}],\"pie\":[{\"automargin\":true,\"type\":\"pie\"}],\"scatter\":[{\"marker\":{\"colorbar\":{\"outlinewidth\":0,\"ticks\":\"\"}},\"type\":\"scatter\"}],\"scatter3d\":[{\"line\":{\"colorbar\":{\"outlinewidth\":0,\"ticks\":\"\"}},\"marker\":{\"colorbar\":{\"outlinewidth\":0,\"ticks\":\"\"}},\"type\":\"scatter3d\"}],\"scattercarpet\":[{\"marker\":{\"colorbar\":{\"outlinewidth\":0,\"ticks\":\"\"}},\"type\":\"scattercarpet\"}],\"scattergeo\":[{\"marker\":{\"colorbar\":{\"outlinewidth\":0,\"ticks\":\"\"}},\"type\":\"scattergeo\"}],\"scattergl\":[{\"marker\":{\"colorbar\":{\"outlinewidth\":0,\"ticks\":\"\"}},\"type\":\"scattergl\"}],\"scattermapbox\":[{\"marker\":{\"colorbar\":{\"outlinewidth\":0,\"ticks\":\"\"}},\"type\":\"scattermapbox\"}],\"scatterpolar\":[{\"marker\":{\"colorbar\":{\"outlinewidth\":0,\"ticks\":\"\"}},\"type\":\"scatterpolar\"}],\"scatterpolargl\":[{\"marker\":{\"colorbar\":{\"outlinewidth\":0,\"ticks\":\"\"}},\"type\":\"scatterpolargl\"}],\"scatterternary\":[{\"marker\":{\"colorbar\":{\"outlinewidth\":0,\"ticks\":\"\"}},\"type\":\"scatterternary\"}],\"surface\":[{\"colorbar\":{\"outlinewidth\":0,\"ticks\":\"\"},\"colorscale\":[[0.0,\"#0d0887\"],[0.1111111111111111,\"#46039f\"],[0.2222222222222222,\"#7201a8\"],[0.3333333333333333,\"#9c179e\"],[0.4444444444444444,\"#bd3786\"],[0.5555555555555556,\"#d8576b\"],[0.6666666666666666,\"#ed7953\"],[0.7777777777777778,\"#fb9f3a\"],[0.8888888888888888,\"#fdca26\"],[1.0,\"#f0f921\"]],\"type\":\"surface\"}],\"table\":[{\"cells\":{\"fill\":{\"color\":\"#EBF0F8\"},\"line\":{\"color\":\"white\"}},\"header\":{\"fill\":{\"color\":\"#C8D4E3\"},\"line\":{\"color\":\"white\"}},\"type\":\"table\"}]},\"layout\":{\"annotationdefaults\":{\"arrowcolor\":\"#2a3f5f\",\"arrowhead\":0,\"arrowwidth\":1},\"autotypenumbers\":\"strict\",\"coloraxis\":{\"colorbar\":{\"outlinewidth\":0,\"ticks\":\"\"}},\"colorscale\":{\"diverging\":[[0,\"#8e0152\"],[0.1,\"#c51b7d\"],[0.2,\"#de77ae\"],[0.3,\"#f1b6da\"],[0.4,\"#fde0ef\"],[0.5,\"#f7f7f7\"],[0.6,\"#e6f5d0\"],[0.7,\"#b8e186\"],[0.8,\"#7fbc41\"],[0.9,\"#4d9221\"],[1,\"#276419\"]],\"sequential\":[[0.0,\"#0d0887\"],[0.1111111111111111,\"#46039f\"],[0.2222222222222222,\"#7201a8\"],[0.3333333333333333,\"#9c179e\"],[0.4444444444444444,\"#bd3786\"],[0.5555555555555556,\"#d8576b\"],[0.6666666666666666,\"#ed7953\"],[0.7777777777777778,\"#fb9f3a\"],[0.8888888888888888,\"#fdca26\"],[1.0,\"#f0f921\"]],\"sequentialminus\":[[0.0,\"#0d0887\"],[0.1111111111111111,\"#46039f\"],[0.2222222222222222,\"#7201a8\"],[0.3333333333333333,\"#9c179e\"],[0.4444444444444444,\"#bd3786\"],[0.5555555555555556,\"#d8576b\"],[0.6666666666666666,\"#ed7953\"],[0.7777777777777778,\"#fb9f3a\"],[0.8888888888888888,\"#fdca26\"],[1.0,\"#f0f921\"]]},\"colorway\":[\"#636efa\",\"#EF553B\",\"#00cc96\",\"#ab63fa\",\"#FFA15A\",\"#19d3f3\",\"#FF6692\",\"#B6E880\",\"#FF97FF\",\"#FECB52\"],\"font\":{\"color\":\"#2a3f5f\"},\"geo\":{\"bgcolor\":\"white\",\"lakecolor\":\"white\",\"landcolor\":\"#E5ECF6\",\"showlakes\":true,\"showland\":true,\"subunitcolor\":\"white\"},\"hoverlabel\":{\"align\":\"left\"},\"hovermode\":\"closest\",\"mapbox\":{\"style\":\"light\"},\"paper_bgcolor\":\"white\",\"plot_bgcolor\":\"#E5ECF6\",\"polar\":{\"angularaxis\":{\"gridcolor\":\"white\",\"linecolor\":\"white\",\"ticks\":\"\"},\"bgcolor\":\"#E5ECF6\",\"radialaxis\":{\"gridcolor\":\"white\",\"linecolor\":\"white\",\"ticks\":\"\"}},\"scene\":{\"xaxis\":{\"backgroundcolor\":\"#E5ECF6\",\"gridcolor\":\"white\",\"gridwidth\":2,\"linecolor\":\"white\",\"showbackground\":true,\"ticks\":\"\",\"zerolinecolor\":\"white\"},\"yaxis\":{\"backgroundcolor\":\"#E5ECF6\",\"gridcolor\":\"white\",\"gridwidth\":2,\"linecolor\":\"white\",\"showbackground\":true,\"ticks\":\"\",\"zerolinecolor\":\"white\"},\"zaxis\":{\"backgroundcolor\":\"#E5ECF6\",\"gridcolor\":\"white\",\"gridwidth\":2,\"linecolor\":\"white\",\"showbackground\":true,\"ticks\":\"\",\"zerolinecolor\":\"white\"}},\"shapedefaults\":{\"line\":{\"color\":\"#2a3f5f\"}},\"ternary\":{\"aaxis\":{\"gridcolor\":\"white\",\"linecolor\":\"white\",\"ticks\":\"\"},\"baxis\":{\"gridcolor\":\"white\",\"linecolor\":\"white\",\"ticks\":\"\"},\"bgcolor\":\"#E5ECF6\",\"caxis\":{\"gridcolor\":\"white\",\"linecolor\":\"white\",\"ticks\":\"\"}},\"title\":{\"x\":0.05},\"xaxis\":{\"automargin\":true,\"gridcolor\":\"white\",\"linecolor\":\"white\",\"ticks\":\"\",\"title\":{\"standoff\":15},\"zerolinecolor\":\"white\",\"zerolinewidth\":2},\"yaxis\":{\"automargin\":true,\"gridcolor\":\"white\",\"linecolor\":\"white\",\"ticks\":\"\",\"title\":{\"standoff\":15},\"zerolinecolor\":\"white\",\"zerolinewidth\":2}}},\"title\":{\"text\":\"Free vs Paid Top Categories in Play Store\"},\"annotations\":[{\"showarrow\":false,\"text\":\"FREE Apps\",\"x\":0.18,\"y\":0.5,\"font\":{\"size\":20}},{\"showarrow\":false,\"text\":\"PAID Apps\",\"x\":0.82,\"y\":0.5,\"font\":{\"size\":20}}]},                        {\"responsive\": true}                    ).then(function(){\n",
              "                            \n",
              "var gd = document.getElementById('d57b5296-a8dc-4246-b51b-a9c5d206bfd4');\n",
              "var x = new MutationObserver(function (mutations, observer) {{\n",
              "        var display = window.getComputedStyle(gd).display;\n",
              "        if (!display || display === 'none') {{\n",
              "            console.log([gd, 'removed!']);\n",
              "            Plotly.purge(gd);\n",
              "            observer.disconnect();\n",
              "        }}\n",
              "}});\n",
              "\n",
              "// Listen for the removal of the full notebook cells\n",
              "var notebookContainer = gd.closest('#notebook-container');\n",
              "if (notebookContainer) {{\n",
              "    x.observe(notebookContainer, {childList: true});\n",
              "}}\n",
              "\n",
              "// Listen for the clearing of the current output cell\n",
              "var outputEl = gd.closest('.output');\n",
              "if (outputEl) {{\n",
              "    x.observe(outputEl, {childList: true});\n",
              "}}\n",
              "\n",
              "                        })                };                            </script>        </div>\n",
              "</body>\n",
              "</html>"
            ]
          },
          "metadata": {}
        }
      ]
    },
    {
      "cell_type": "markdown",
      "source": [
        "##6.App installs in each category."
      ],
      "metadata": {
        "id": "QxY7CdNib8j0"
      }
    },
    {
      "cell_type": "code",
      "source": [
        "data.columns"
      ],
      "metadata": {
        "colab": {
          "base_uri": "https://localhost:8080/"
        },
        "id": "Xc6zUBMTe4C0",
        "outputId": "8731d7af-4295-4659-f60d-afeb68d8cdd8"
      },
      "execution_count": null,
      "outputs": [
        {
          "output_type": "execute_result",
          "data": {
            "text/plain": [
              "Index(['App', 'Category', 'Rating', 'Reviews', 'Size', 'Installs', 'Type',\n",
              "       'Price', 'Content_Rating', 'Genres', 'Last_Updated', 'Current_Ver',\n",
              "       'Android_Ver'],\n",
              "      dtype='object')"
            ]
          },
          "metadata": {},
          "execution_count": 59
        }
      ]
    },
    {
      "cell_type": "code",
      "source": [
        "cat_install = data.groupby(['Category'])['Installs'].sum().reset_index(name = 'Total_install')\n",
        "cat_install"
      ],
      "metadata": {
        "colab": {
          "base_uri": "https://localhost:8080/",
          "height": 1000
        },
        "id": "EWODInJgb-Y8",
        "outputId": "b6b96c4f-a2c1-4ddd-a084-35f960413b62"
      },
      "execution_count": null,
      "outputs": [
        {
          "output_type": "execute_result",
          "data": {
            "text/plain": [
              "               Category  Total_install\n",
              "0        ART_AND_DESIGN      114338100\n",
              "1     AUTO_AND_VEHICLES       53130211\n",
              "2                BEAUTY       27197050\n",
              "3   BOOKS_AND_REFERENCE     1665969576\n",
              "4              BUSINESS      697164865\n",
              "5                COMICS       44981150\n",
              "6         COMMUNICATION    11038276251\n",
              "7                DATING      140926107\n",
              "8             EDUCATION      352952000\n",
              "9         ENTERTAINMENT     2113660000\n",
              "10               EVENTS       15973161\n",
              "11               FAMILY     4427941505\n",
              "12              FINANCE      455348734\n",
              "13       FOOD_AND_DRINK      211798751\n",
              "14                 GAME    13878924415\n",
              "15   HEALTH_AND_FITNESS     1144022512\n",
              "16       HOUSE_AND_HOME       97212461\n",
              "17   LIBRARIES_AND_DEMO       52995910\n",
              "18            LIFESTYLE      503823539\n",
              "19  MAPS_AND_NAVIGATION      503281890\n",
              "20              MEDICAL       38193177\n",
              "21   NEWS_AND_MAGAZINES     2369217760\n",
              "22            PARENTING       31521110\n",
              "23      PERSONALIZATION     1532494782\n",
              "24          PHOTOGRAPHY     4649147655\n",
              "25         PRODUCTIVITY     5793091369\n",
              "26             SHOPPING     1400348785\n",
              "27               SOCIAL     5487867902\n",
              "28               SPORTS     1096474498\n",
              "29                TOOLS     8001771915\n",
              "30     TRAVEL_AND_LOCAL     2894887146\n",
              "31        VIDEO_PLAYERS     3926902720\n",
              "32              WEATHER      361100520"
            ],
            "text/html": [
              "\n",
              "  <div id=\"df-acda5156-191f-4043-a5fa-e22587f5d311\">\n",
              "    <div class=\"colab-df-container\">\n",
              "      <div>\n",
              "<style scoped>\n",
              "    .dataframe tbody tr th:only-of-type {\n",
              "        vertical-align: middle;\n",
              "    }\n",
              "\n",
              "    .dataframe tbody tr th {\n",
              "        vertical-align: top;\n",
              "    }\n",
              "\n",
              "    .dataframe thead th {\n",
              "        text-align: right;\n",
              "    }\n",
              "</style>\n",
              "<table border=\"1\" class=\"dataframe\">\n",
              "  <thead>\n",
              "    <tr style=\"text-align: right;\">\n",
              "      <th></th>\n",
              "      <th>Category</th>\n",
              "      <th>Total_install</th>\n",
              "    </tr>\n",
              "  </thead>\n",
              "  <tbody>\n",
              "    <tr>\n",
              "      <th>0</th>\n",
              "      <td>ART_AND_DESIGN</td>\n",
              "      <td>114338100</td>\n",
              "    </tr>\n",
              "    <tr>\n",
              "      <th>1</th>\n",
              "      <td>AUTO_AND_VEHICLES</td>\n",
              "      <td>53130211</td>\n",
              "    </tr>\n",
              "    <tr>\n",
              "      <th>2</th>\n",
              "      <td>BEAUTY</td>\n",
              "      <td>27197050</td>\n",
              "    </tr>\n",
              "    <tr>\n",
              "      <th>3</th>\n",
              "      <td>BOOKS_AND_REFERENCE</td>\n",
              "      <td>1665969576</td>\n",
              "    </tr>\n",
              "    <tr>\n",
              "      <th>4</th>\n",
              "      <td>BUSINESS</td>\n",
              "      <td>697164865</td>\n",
              "    </tr>\n",
              "    <tr>\n",
              "      <th>5</th>\n",
              "      <td>COMICS</td>\n",
              "      <td>44981150</td>\n",
              "    </tr>\n",
              "    <tr>\n",
              "      <th>6</th>\n",
              "      <td>COMMUNICATION</td>\n",
              "      <td>11038276251</td>\n",
              "    </tr>\n",
              "    <tr>\n",
              "      <th>7</th>\n",
              "      <td>DATING</td>\n",
              "      <td>140926107</td>\n",
              "    </tr>\n",
              "    <tr>\n",
              "      <th>8</th>\n",
              "      <td>EDUCATION</td>\n",
              "      <td>352952000</td>\n",
              "    </tr>\n",
              "    <tr>\n",
              "      <th>9</th>\n",
              "      <td>ENTERTAINMENT</td>\n",
              "      <td>2113660000</td>\n",
              "    </tr>\n",
              "    <tr>\n",
              "      <th>10</th>\n",
              "      <td>EVENTS</td>\n",
              "      <td>15973161</td>\n",
              "    </tr>\n",
              "    <tr>\n",
              "      <th>11</th>\n",
              "      <td>FAMILY</td>\n",
              "      <td>4427941505</td>\n",
              "    </tr>\n",
              "    <tr>\n",
              "      <th>12</th>\n",
              "      <td>FINANCE</td>\n",
              "      <td>455348734</td>\n",
              "    </tr>\n",
              "    <tr>\n",
              "      <th>13</th>\n",
              "      <td>FOOD_AND_DRINK</td>\n",
              "      <td>211798751</td>\n",
              "    </tr>\n",
              "    <tr>\n",
              "      <th>14</th>\n",
              "      <td>GAME</td>\n",
              "      <td>13878924415</td>\n",
              "    </tr>\n",
              "    <tr>\n",
              "      <th>15</th>\n",
              "      <td>HEALTH_AND_FITNESS</td>\n",
              "      <td>1144022512</td>\n",
              "    </tr>\n",
              "    <tr>\n",
              "      <th>16</th>\n",
              "      <td>HOUSE_AND_HOME</td>\n",
              "      <td>97212461</td>\n",
              "    </tr>\n",
              "    <tr>\n",
              "      <th>17</th>\n",
              "      <td>LIBRARIES_AND_DEMO</td>\n",
              "      <td>52995910</td>\n",
              "    </tr>\n",
              "    <tr>\n",
              "      <th>18</th>\n",
              "      <td>LIFESTYLE</td>\n",
              "      <td>503823539</td>\n",
              "    </tr>\n",
              "    <tr>\n",
              "      <th>19</th>\n",
              "      <td>MAPS_AND_NAVIGATION</td>\n",
              "      <td>503281890</td>\n",
              "    </tr>\n",
              "    <tr>\n",
              "      <th>20</th>\n",
              "      <td>MEDICAL</td>\n",
              "      <td>38193177</td>\n",
              "    </tr>\n",
              "    <tr>\n",
              "      <th>21</th>\n",
              "      <td>NEWS_AND_MAGAZINES</td>\n",
              "      <td>2369217760</td>\n",
              "    </tr>\n",
              "    <tr>\n",
              "      <th>22</th>\n",
              "      <td>PARENTING</td>\n",
              "      <td>31521110</td>\n",
              "    </tr>\n",
              "    <tr>\n",
              "      <th>23</th>\n",
              "      <td>PERSONALIZATION</td>\n",
              "      <td>1532494782</td>\n",
              "    </tr>\n",
              "    <tr>\n",
              "      <th>24</th>\n",
              "      <td>PHOTOGRAPHY</td>\n",
              "      <td>4649147655</td>\n",
              "    </tr>\n",
              "    <tr>\n",
              "      <th>25</th>\n",
              "      <td>PRODUCTIVITY</td>\n",
              "      <td>5793091369</td>\n",
              "    </tr>\n",
              "    <tr>\n",
              "      <th>26</th>\n",
              "      <td>SHOPPING</td>\n",
              "      <td>1400348785</td>\n",
              "    </tr>\n",
              "    <tr>\n",
              "      <th>27</th>\n",
              "      <td>SOCIAL</td>\n",
              "      <td>5487867902</td>\n",
              "    </tr>\n",
              "    <tr>\n",
              "      <th>28</th>\n",
              "      <td>SPORTS</td>\n",
              "      <td>1096474498</td>\n",
              "    </tr>\n",
              "    <tr>\n",
              "      <th>29</th>\n",
              "      <td>TOOLS</td>\n",
              "      <td>8001771915</td>\n",
              "    </tr>\n",
              "    <tr>\n",
              "      <th>30</th>\n",
              "      <td>TRAVEL_AND_LOCAL</td>\n",
              "      <td>2894887146</td>\n",
              "    </tr>\n",
              "    <tr>\n",
              "      <th>31</th>\n",
              "      <td>VIDEO_PLAYERS</td>\n",
              "      <td>3926902720</td>\n",
              "    </tr>\n",
              "    <tr>\n",
              "      <th>32</th>\n",
              "      <td>WEATHER</td>\n",
              "      <td>361100520</td>\n",
              "    </tr>\n",
              "  </tbody>\n",
              "</table>\n",
              "</div>\n",
              "      <button class=\"colab-df-convert\" onclick=\"convertToInteractive('df-acda5156-191f-4043-a5fa-e22587f5d311')\"\n",
              "              title=\"Convert this dataframe to an interactive table.\"\n",
              "              style=\"display:none;\">\n",
              "        \n",
              "  <svg xmlns=\"http://www.w3.org/2000/svg\" height=\"24px\"viewBox=\"0 0 24 24\"\n",
              "       width=\"24px\">\n",
              "    <path d=\"M0 0h24v24H0V0z\" fill=\"none\"/>\n",
              "    <path d=\"M18.56 5.44l.94 2.06.94-2.06 2.06-.94-2.06-.94-.94-2.06-.94 2.06-2.06.94zm-11 1L8.5 8.5l.94-2.06 2.06-.94-2.06-.94L8.5 2.5l-.94 2.06-2.06.94zm10 10l.94 2.06.94-2.06 2.06-.94-2.06-.94-.94-2.06-.94 2.06-2.06.94z\"/><path d=\"M17.41 7.96l-1.37-1.37c-.4-.4-.92-.59-1.43-.59-.52 0-1.04.2-1.43.59L10.3 9.45l-7.72 7.72c-.78.78-.78 2.05 0 2.83L4 21.41c.39.39.9.59 1.41.59.51 0 1.02-.2 1.41-.59l7.78-7.78 2.81-2.81c.8-.78.8-2.07 0-2.86zM5.41 20L4 18.59l7.72-7.72 1.47 1.35L5.41 20z\"/>\n",
              "  </svg>\n",
              "      </button>\n",
              "      \n",
              "  <style>\n",
              "    .colab-df-container {\n",
              "      display:flex;\n",
              "      flex-wrap:wrap;\n",
              "      gap: 12px;\n",
              "    }\n",
              "\n",
              "    .colab-df-convert {\n",
              "      background-color: #E8F0FE;\n",
              "      border: none;\n",
              "      border-radius: 50%;\n",
              "      cursor: pointer;\n",
              "      display: none;\n",
              "      fill: #1967D2;\n",
              "      height: 32px;\n",
              "      padding: 0 0 0 0;\n",
              "      width: 32px;\n",
              "    }\n",
              "\n",
              "    .colab-df-convert:hover {\n",
              "      background-color: #E2EBFA;\n",
              "      box-shadow: 0px 1px 2px rgba(60, 64, 67, 0.3), 0px 1px 3px 1px rgba(60, 64, 67, 0.15);\n",
              "      fill: #174EA6;\n",
              "    }\n",
              "\n",
              "    [theme=dark] .colab-df-convert {\n",
              "      background-color: #3B4455;\n",
              "      fill: #D2E3FC;\n",
              "    }\n",
              "\n",
              "    [theme=dark] .colab-df-convert:hover {\n",
              "      background-color: #434B5C;\n",
              "      box-shadow: 0px 1px 3px 1px rgba(0, 0, 0, 0.15);\n",
              "      filter: drop-shadow(0px 1px 2px rgba(0, 0, 0, 0.3));\n",
              "      fill: #FFFFFF;\n",
              "    }\n",
              "  </style>\n",
              "\n",
              "      <script>\n",
              "        const buttonEl =\n",
              "          document.querySelector('#df-acda5156-191f-4043-a5fa-e22587f5d311 button.colab-df-convert');\n",
              "        buttonEl.style.display =\n",
              "          google.colab.kernel.accessAllowed ? 'block' : 'none';\n",
              "\n",
              "        async function convertToInteractive(key) {\n",
              "          const element = document.querySelector('#df-acda5156-191f-4043-a5fa-e22587f5d311');\n",
              "          const dataTable =\n",
              "            await google.colab.kernel.invokeFunction('convertToInteractive',\n",
              "                                                     [key], {});\n",
              "          if (!dataTable) return;\n",
              "\n",
              "          const docLinkHtml = 'Like what you see? Visit the ' +\n",
              "            '<a target=\"_blank\" href=https://colab.research.google.com/notebooks/data_table.ipynb>data table notebook</a>'\n",
              "            + ' to learn more about interactive tables.';\n",
              "          element.innerHTML = '';\n",
              "          dataTable['output_type'] = 'display_data';\n",
              "          await google.colab.output.renderOutput(dataTable, element);\n",
              "          const docLink = document.createElement('div');\n",
              "          docLink.innerHTML = docLinkHtml;\n",
              "          element.appendChild(docLink);\n",
              "        }\n",
              "      </script>\n",
              "    </div>\n",
              "  </div>\n",
              "  "
            ]
          },
          "metadata": {},
          "execution_count": 66
        }
      ]
    },
    {
      "cell_type": "code",
      "source": [
        "fig = px.bar(cat_install, y = 'Total_install', \n",
        "       x = 'Category',\n",
        "       labels = {'Category' : 'App Category', 'Total_install' : 'Total No of Installations'},\n",
        "       color = 'Total_install', \n",
        "       title = 'Distribution frequency by app installation no and category', \n",
        "       text = 'Total_install' ,\n",
        "       color_continuous_scale=px.colors.qualitative.Plotly)\n",
        "fig.update_layout(xaxis={'categoryorder':'total ascending'})\n",
        "fig.show()"
      ],
      "metadata": {
        "colab": {
          "base_uri": "https://localhost:8080/",
          "height": 542
        },
        "id": "ifxVbdnIh-Ad",
        "outputId": "33b99c30-1a77-498e-874e-ed6cbd53e6f0"
      },
      "execution_count": null,
      "outputs": [
        {
          "output_type": "display_data",
          "data": {
            "text/html": [
              "<html>\n",
              "<head><meta charset=\"utf-8\" /></head>\n",
              "<body>\n",
              "    <div>            <script src=\"https://cdnjs.cloudflare.com/ajax/libs/mathjax/2.7.5/MathJax.js?config=TeX-AMS-MML_SVG\"></script><script type=\"text/javascript\">if (window.MathJax) {MathJax.Hub.Config({SVG: {font: \"STIX-Web\"}});}</script>                <script type=\"text/javascript\">window.PlotlyConfig = {MathJaxConfig: 'local'};</script>\n",
              "        <script src=\"https://cdn.plot.ly/plotly-2.8.3.min.js\"></script>                <div id=\"400416cb-f09c-4cc4-95c5-62257cd1db73\" class=\"plotly-graph-div\" style=\"height:525px; width:100%;\"></div>            <script type=\"text/javascript\">                                    window.PLOTLYENV=window.PLOTLYENV || {};                                    if (document.getElementById(\"400416cb-f09c-4cc4-95c5-62257cd1db73\")) {                    Plotly.newPlot(                        \"400416cb-f09c-4cc4-95c5-62257cd1db73\",                        [{\"alignmentgroup\":\"True\",\"hovertemplate\":\"App Category=%{x}<br>Total No of Installations=%{marker.color}<extra></extra>\",\"legendgroup\":\"\",\"marker\":{\"color\":[114338100,53130211,27197050,1665969576,697164865,44981150,11038276251,140926107,352952000,2113660000,15973161,4427941505,455348734,211798751,13878924415,1144022512,97212461,52995910,503823539,503281890,38193177,2369217760,31521110,1532494782,4649147655,5793091369,1400348785,5487867902,1096474498,8001771915,2894887146,3926902720,361100520],\"coloraxis\":\"coloraxis\",\"pattern\":{\"shape\":\"\"}},\"name\":\"\",\"offsetgroup\":\"\",\"orientation\":\"v\",\"showlegend\":false,\"text\":[114338100.0,53130211.0,27197050.0,1665969576.0,697164865.0,44981150.0,11038276251.0,140926107.0,352952000.0,2113660000.0,15973161.0,4427941505.0,455348734.0,211798751.0,13878924415.0,1144022512.0,97212461.0,52995910.0,503823539.0,503281890.0,38193177.0,2369217760.0,31521110.0,1532494782.0,4649147655.0,5793091369.0,1400348785.0,5487867902.0,1096474498.0,8001771915.0,2894887146.0,3926902720.0,361100520.0],\"textposition\":\"auto\",\"x\":[\"ART_AND_DESIGN\",\"AUTO_AND_VEHICLES\",\"BEAUTY\",\"BOOKS_AND_REFERENCE\",\"BUSINESS\",\"COMICS\",\"COMMUNICATION\",\"DATING\",\"EDUCATION\",\"ENTERTAINMENT\",\"EVENTS\",\"FAMILY\",\"FINANCE\",\"FOOD_AND_DRINK\",\"GAME\",\"HEALTH_AND_FITNESS\",\"HOUSE_AND_HOME\",\"LIBRARIES_AND_DEMO\",\"LIFESTYLE\",\"MAPS_AND_NAVIGATION\",\"MEDICAL\",\"NEWS_AND_MAGAZINES\",\"PARENTING\",\"PERSONALIZATION\",\"PHOTOGRAPHY\",\"PRODUCTIVITY\",\"SHOPPING\",\"SOCIAL\",\"SPORTS\",\"TOOLS\",\"TRAVEL_AND_LOCAL\",\"VIDEO_PLAYERS\",\"WEATHER\"],\"xaxis\":\"x\",\"y\":[114338100,53130211,27197050,1665969576,697164865,44981150,11038276251,140926107,352952000,2113660000,15973161,4427941505,455348734,211798751,13878924415,1144022512,97212461,52995910,503823539,503281890,38193177,2369217760,31521110,1532494782,4649147655,5793091369,1400348785,5487867902,1096474498,8001771915,2894887146,3926902720,361100520],\"yaxis\":\"y\",\"type\":\"bar\"}],                        {\"template\":{\"data\":{\"bar\":[{\"error_x\":{\"color\":\"#2a3f5f\"},\"error_y\":{\"color\":\"#2a3f5f\"},\"marker\":{\"line\":{\"color\":\"#E5ECF6\",\"width\":0.5},\"pattern\":{\"fillmode\":\"overlay\",\"size\":10,\"solidity\":0.2}},\"type\":\"bar\"}],\"barpolar\":[{\"marker\":{\"line\":{\"color\":\"#E5ECF6\",\"width\":0.5},\"pattern\":{\"fillmode\":\"overlay\",\"size\":10,\"solidity\":0.2}},\"type\":\"barpolar\"}],\"carpet\":[{\"aaxis\":{\"endlinecolor\":\"#2a3f5f\",\"gridcolor\":\"white\",\"linecolor\":\"white\",\"minorgridcolor\":\"white\",\"startlinecolor\":\"#2a3f5f\"},\"baxis\":{\"endlinecolor\":\"#2a3f5f\",\"gridcolor\":\"white\",\"linecolor\":\"white\",\"minorgridcolor\":\"white\",\"startlinecolor\":\"#2a3f5f\"},\"type\":\"carpet\"}],\"choropleth\":[{\"colorbar\":{\"outlinewidth\":0,\"ticks\":\"\"},\"type\":\"choropleth\"}],\"contour\":[{\"colorbar\":{\"outlinewidth\":0,\"ticks\":\"\"},\"colorscale\":[[0.0,\"#0d0887\"],[0.1111111111111111,\"#46039f\"],[0.2222222222222222,\"#7201a8\"],[0.3333333333333333,\"#9c179e\"],[0.4444444444444444,\"#bd3786\"],[0.5555555555555556,\"#d8576b\"],[0.6666666666666666,\"#ed7953\"],[0.7777777777777778,\"#fb9f3a\"],[0.8888888888888888,\"#fdca26\"],[1.0,\"#f0f921\"]],\"type\":\"contour\"}],\"contourcarpet\":[{\"colorbar\":{\"outlinewidth\":0,\"ticks\":\"\"},\"type\":\"contourcarpet\"}],\"heatmap\":[{\"colorbar\":{\"outlinewidth\":0,\"ticks\":\"\"},\"colorscale\":[[0.0,\"#0d0887\"],[0.1111111111111111,\"#46039f\"],[0.2222222222222222,\"#7201a8\"],[0.3333333333333333,\"#9c179e\"],[0.4444444444444444,\"#bd3786\"],[0.5555555555555556,\"#d8576b\"],[0.6666666666666666,\"#ed7953\"],[0.7777777777777778,\"#fb9f3a\"],[0.8888888888888888,\"#fdca26\"],[1.0,\"#f0f921\"]],\"type\":\"heatmap\"}],\"heatmapgl\":[{\"colorbar\":{\"outlinewidth\":0,\"ticks\":\"\"},\"colorscale\":[[0.0,\"#0d0887\"],[0.1111111111111111,\"#46039f\"],[0.2222222222222222,\"#7201a8\"],[0.3333333333333333,\"#9c179e\"],[0.4444444444444444,\"#bd3786\"],[0.5555555555555556,\"#d8576b\"],[0.6666666666666666,\"#ed7953\"],[0.7777777777777778,\"#fb9f3a\"],[0.8888888888888888,\"#fdca26\"],[1.0,\"#f0f921\"]],\"type\":\"heatmapgl\"}],\"histogram\":[{\"marker\":{\"pattern\":{\"fillmode\":\"overlay\",\"size\":10,\"solidity\":0.2}},\"type\":\"histogram\"}],\"histogram2d\":[{\"colorbar\":{\"outlinewidth\":0,\"ticks\":\"\"},\"colorscale\":[[0.0,\"#0d0887\"],[0.1111111111111111,\"#46039f\"],[0.2222222222222222,\"#7201a8\"],[0.3333333333333333,\"#9c179e\"],[0.4444444444444444,\"#bd3786\"],[0.5555555555555556,\"#d8576b\"],[0.6666666666666666,\"#ed7953\"],[0.7777777777777778,\"#fb9f3a\"],[0.8888888888888888,\"#fdca26\"],[1.0,\"#f0f921\"]],\"type\":\"histogram2d\"}],\"histogram2dcontour\":[{\"colorbar\":{\"outlinewidth\":0,\"ticks\":\"\"},\"colorscale\":[[0.0,\"#0d0887\"],[0.1111111111111111,\"#46039f\"],[0.2222222222222222,\"#7201a8\"],[0.3333333333333333,\"#9c179e\"],[0.4444444444444444,\"#bd3786\"],[0.5555555555555556,\"#d8576b\"],[0.6666666666666666,\"#ed7953\"],[0.7777777777777778,\"#fb9f3a\"],[0.8888888888888888,\"#fdca26\"],[1.0,\"#f0f921\"]],\"type\":\"histogram2dcontour\"}],\"mesh3d\":[{\"colorbar\":{\"outlinewidth\":0,\"ticks\":\"\"},\"type\":\"mesh3d\"}],\"parcoords\":[{\"line\":{\"colorbar\":{\"outlinewidth\":0,\"ticks\":\"\"}},\"type\":\"parcoords\"}],\"pie\":[{\"automargin\":true,\"type\":\"pie\"}],\"scatter\":[{\"marker\":{\"colorbar\":{\"outlinewidth\":0,\"ticks\":\"\"}},\"type\":\"scatter\"}],\"scatter3d\":[{\"line\":{\"colorbar\":{\"outlinewidth\":0,\"ticks\":\"\"}},\"marker\":{\"colorbar\":{\"outlinewidth\":0,\"ticks\":\"\"}},\"type\":\"scatter3d\"}],\"scattercarpet\":[{\"marker\":{\"colorbar\":{\"outlinewidth\":0,\"ticks\":\"\"}},\"type\":\"scattercarpet\"}],\"scattergeo\":[{\"marker\":{\"colorbar\":{\"outlinewidth\":0,\"ticks\":\"\"}},\"type\":\"scattergeo\"}],\"scattergl\":[{\"marker\":{\"colorbar\":{\"outlinewidth\":0,\"ticks\":\"\"}},\"type\":\"scattergl\"}],\"scattermapbox\":[{\"marker\":{\"colorbar\":{\"outlinewidth\":0,\"ticks\":\"\"}},\"type\":\"scattermapbox\"}],\"scatterpolar\":[{\"marker\":{\"colorbar\":{\"outlinewidth\":0,\"ticks\":\"\"}},\"type\":\"scatterpolar\"}],\"scatterpolargl\":[{\"marker\":{\"colorbar\":{\"outlinewidth\":0,\"ticks\":\"\"}},\"type\":\"scatterpolargl\"}],\"scatterternary\":[{\"marker\":{\"colorbar\":{\"outlinewidth\":0,\"ticks\":\"\"}},\"type\":\"scatterternary\"}],\"surface\":[{\"colorbar\":{\"outlinewidth\":0,\"ticks\":\"\"},\"colorscale\":[[0.0,\"#0d0887\"],[0.1111111111111111,\"#46039f\"],[0.2222222222222222,\"#7201a8\"],[0.3333333333333333,\"#9c179e\"],[0.4444444444444444,\"#bd3786\"],[0.5555555555555556,\"#d8576b\"],[0.6666666666666666,\"#ed7953\"],[0.7777777777777778,\"#fb9f3a\"],[0.8888888888888888,\"#fdca26\"],[1.0,\"#f0f921\"]],\"type\":\"surface\"}],\"table\":[{\"cells\":{\"fill\":{\"color\":\"#EBF0F8\"},\"line\":{\"color\":\"white\"}},\"header\":{\"fill\":{\"color\":\"#C8D4E3\"},\"line\":{\"color\":\"white\"}},\"type\":\"table\"}]},\"layout\":{\"annotationdefaults\":{\"arrowcolor\":\"#2a3f5f\",\"arrowhead\":0,\"arrowwidth\":1},\"autotypenumbers\":\"strict\",\"coloraxis\":{\"colorbar\":{\"outlinewidth\":0,\"ticks\":\"\"}},\"colorscale\":{\"diverging\":[[0,\"#8e0152\"],[0.1,\"#c51b7d\"],[0.2,\"#de77ae\"],[0.3,\"#f1b6da\"],[0.4,\"#fde0ef\"],[0.5,\"#f7f7f7\"],[0.6,\"#e6f5d0\"],[0.7,\"#b8e186\"],[0.8,\"#7fbc41\"],[0.9,\"#4d9221\"],[1,\"#276419\"]],\"sequential\":[[0.0,\"#0d0887\"],[0.1111111111111111,\"#46039f\"],[0.2222222222222222,\"#7201a8\"],[0.3333333333333333,\"#9c179e\"],[0.4444444444444444,\"#bd3786\"],[0.5555555555555556,\"#d8576b\"],[0.6666666666666666,\"#ed7953\"],[0.7777777777777778,\"#fb9f3a\"],[0.8888888888888888,\"#fdca26\"],[1.0,\"#f0f921\"]],\"sequentialminus\":[[0.0,\"#0d0887\"],[0.1111111111111111,\"#46039f\"],[0.2222222222222222,\"#7201a8\"],[0.3333333333333333,\"#9c179e\"],[0.4444444444444444,\"#bd3786\"],[0.5555555555555556,\"#d8576b\"],[0.6666666666666666,\"#ed7953\"],[0.7777777777777778,\"#fb9f3a\"],[0.8888888888888888,\"#fdca26\"],[1.0,\"#f0f921\"]]},\"colorway\":[\"#636efa\",\"#EF553B\",\"#00cc96\",\"#ab63fa\",\"#FFA15A\",\"#19d3f3\",\"#FF6692\",\"#B6E880\",\"#FF97FF\",\"#FECB52\"],\"font\":{\"color\":\"#2a3f5f\"},\"geo\":{\"bgcolor\":\"white\",\"lakecolor\":\"white\",\"landcolor\":\"#E5ECF6\",\"showlakes\":true,\"showland\":true,\"subunitcolor\":\"white\"},\"hoverlabel\":{\"align\":\"left\"},\"hovermode\":\"closest\",\"mapbox\":{\"style\":\"light\"},\"paper_bgcolor\":\"white\",\"plot_bgcolor\":\"#E5ECF6\",\"polar\":{\"angularaxis\":{\"gridcolor\":\"white\",\"linecolor\":\"white\",\"ticks\":\"\"},\"bgcolor\":\"#E5ECF6\",\"radialaxis\":{\"gridcolor\":\"white\",\"linecolor\":\"white\",\"ticks\":\"\"}},\"scene\":{\"xaxis\":{\"backgroundcolor\":\"#E5ECF6\",\"gridcolor\":\"white\",\"gridwidth\":2,\"linecolor\":\"white\",\"showbackground\":true,\"ticks\":\"\",\"zerolinecolor\":\"white\"},\"yaxis\":{\"backgroundcolor\":\"#E5ECF6\",\"gridcolor\":\"white\",\"gridwidth\":2,\"linecolor\":\"white\",\"showbackground\":true,\"ticks\":\"\",\"zerolinecolor\":\"white\"},\"zaxis\":{\"backgroundcolor\":\"#E5ECF6\",\"gridcolor\":\"white\",\"gridwidth\":2,\"linecolor\":\"white\",\"showbackground\":true,\"ticks\":\"\",\"zerolinecolor\":\"white\"}},\"shapedefaults\":{\"line\":{\"color\":\"#2a3f5f\"}},\"ternary\":{\"aaxis\":{\"gridcolor\":\"white\",\"linecolor\":\"white\",\"ticks\":\"\"},\"baxis\":{\"gridcolor\":\"white\",\"linecolor\":\"white\",\"ticks\":\"\"},\"bgcolor\":\"#E5ECF6\",\"caxis\":{\"gridcolor\":\"white\",\"linecolor\":\"white\",\"ticks\":\"\"}},\"title\":{\"x\":0.05},\"xaxis\":{\"automargin\":true,\"gridcolor\":\"white\",\"linecolor\":\"white\",\"ticks\":\"\",\"title\":{\"standoff\":15},\"zerolinecolor\":\"white\",\"zerolinewidth\":2},\"yaxis\":{\"automargin\":true,\"gridcolor\":\"white\",\"linecolor\":\"white\",\"ticks\":\"\",\"title\":{\"standoff\":15},\"zerolinecolor\":\"white\",\"zerolinewidth\":2}}},\"xaxis\":{\"anchor\":\"y\",\"domain\":[0.0,1.0],\"title\":{\"text\":\"App Category\"},\"categoryorder\":\"total ascending\"},\"yaxis\":{\"anchor\":\"x\",\"domain\":[0.0,1.0],\"title\":{\"text\":\"Total No of Installations\"}},\"coloraxis\":{\"colorbar\":{\"title\":{\"text\":\"Total No of Installations\"}},\"colorscale\":[[0.0,\"#636EFA\"],[0.1111111111111111,\"#EF553B\"],[0.2222222222222222,\"#00CC96\"],[0.3333333333333333,\"#AB63FA\"],[0.4444444444444444,\"#FFA15A\"],[0.5555555555555556,\"#19D3F3\"],[0.6666666666666666,\"#FF6692\"],[0.7777777777777778,\"#B6E880\"],[0.8888888888888888,\"#FF97FF\"],[1.0,\"#FECB52\"]]},\"legend\":{\"tracegroupgap\":0},\"title\":{\"text\":\"Distribution frequency by app installation no and category\"},\"barmode\":\"relative\"},                        {\"responsive\": true}                    ).then(function(){\n",
              "                            \n",
              "var gd = document.getElementById('400416cb-f09c-4cc4-95c5-62257cd1db73');\n",
              "var x = new MutationObserver(function (mutations, observer) {{\n",
              "        var display = window.getComputedStyle(gd).display;\n",
              "        if (!display || display === 'none') {{\n",
              "            console.log([gd, 'removed!']);\n",
              "            Plotly.purge(gd);\n",
              "            observer.disconnect();\n",
              "        }}\n",
              "}});\n",
              "\n",
              "// Listen for the removal of the full notebook cells\n",
              "var notebookContainer = gd.closest('#notebook-container');\n",
              "if (notebookContainer) {{\n",
              "    x.observe(notebookContainer, {childList: true});\n",
              "}}\n",
              "\n",
              "// Listen for the clearing of the current output cell\n",
              "var outputEl = gd.closest('.output');\n",
              "if (outputEl) {{\n",
              "    x.observe(outputEl, {childList: true});\n",
              "}}\n",
              "\n",
              "                        })                };                            </script>        </div>\n",
              "</body>\n",
              "</html>"
            ]
          },
          "metadata": {}
        }
      ]
    },
    {
      "cell_type": "markdown",
      "source": [
        "##7.Top 10 category with Rating 4.0 and above."
      ],
      "metadata": {
        "id": "-q9K_FB9jHcE"
      }
    },
    {
      "cell_type": "code",
      "source": [
        "rate_cat = data[data['Rating']>=4.0].groupby(['Category'])['Rating'].count().sort_values(ascending=False).head(10).reset_index(name = 'Rating_count')\n",
        "rate_cat"
      ],
      "metadata": {
        "colab": {
          "base_uri": "https://localhost:8080/",
          "height": 363
        },
        "id": "sVy9zQ6njMnI",
        "outputId": "80bf9ebc-9c9a-4842-c736-e8aaa00c6bdb"
      },
      "execution_count": null,
      "outputs": [
        {
          "output_type": "execute_result",
          "data": {
            "text/plain": [
              "          Category  Rating_count\n",
              "0           FAMILY          1430\n",
              "1             GAME           810\n",
              "2            TOOLS           598\n",
              "3  PERSONALIZATION           344\n",
              "4         BUSINESS           342\n",
              "5          MEDICAL           320\n",
              "6     PRODUCTIVITY           315\n",
              "7           SPORTS           273\n",
              "8        LIFESTYLE           272\n",
              "9          FINANCE           267"
            ],
            "text/html": [
              "\n",
              "  <div id=\"df-bf7edf94-a283-4d71-845c-ccd3d145c5fb\">\n",
              "    <div class=\"colab-df-container\">\n",
              "      <div>\n",
              "<style scoped>\n",
              "    .dataframe tbody tr th:only-of-type {\n",
              "        vertical-align: middle;\n",
              "    }\n",
              "\n",
              "    .dataframe tbody tr th {\n",
              "        vertical-align: top;\n",
              "    }\n",
              "\n",
              "    .dataframe thead th {\n",
              "        text-align: right;\n",
              "    }\n",
              "</style>\n",
              "<table border=\"1\" class=\"dataframe\">\n",
              "  <thead>\n",
              "    <tr style=\"text-align: right;\">\n",
              "      <th></th>\n",
              "      <th>Category</th>\n",
              "      <th>Rating_count</th>\n",
              "    </tr>\n",
              "  </thead>\n",
              "  <tbody>\n",
              "    <tr>\n",
              "      <th>0</th>\n",
              "      <td>FAMILY</td>\n",
              "      <td>1430</td>\n",
              "    </tr>\n",
              "    <tr>\n",
              "      <th>1</th>\n",
              "      <td>GAME</td>\n",
              "      <td>810</td>\n",
              "    </tr>\n",
              "    <tr>\n",
              "      <th>2</th>\n",
              "      <td>TOOLS</td>\n",
              "      <td>598</td>\n",
              "    </tr>\n",
              "    <tr>\n",
              "      <th>3</th>\n",
              "      <td>PERSONALIZATION</td>\n",
              "      <td>344</td>\n",
              "    </tr>\n",
              "    <tr>\n",
              "      <th>4</th>\n",
              "      <td>BUSINESS</td>\n",
              "      <td>342</td>\n",
              "    </tr>\n",
              "    <tr>\n",
              "      <th>5</th>\n",
              "      <td>MEDICAL</td>\n",
              "      <td>320</td>\n",
              "    </tr>\n",
              "    <tr>\n",
              "      <th>6</th>\n",
              "      <td>PRODUCTIVITY</td>\n",
              "      <td>315</td>\n",
              "    </tr>\n",
              "    <tr>\n",
              "      <th>7</th>\n",
              "      <td>SPORTS</td>\n",
              "      <td>273</td>\n",
              "    </tr>\n",
              "    <tr>\n",
              "      <th>8</th>\n",
              "      <td>LIFESTYLE</td>\n",
              "      <td>272</td>\n",
              "    </tr>\n",
              "    <tr>\n",
              "      <th>9</th>\n",
              "      <td>FINANCE</td>\n",
              "      <td>267</td>\n",
              "    </tr>\n",
              "  </tbody>\n",
              "</table>\n",
              "</div>\n",
              "      <button class=\"colab-df-convert\" onclick=\"convertToInteractive('df-bf7edf94-a283-4d71-845c-ccd3d145c5fb')\"\n",
              "              title=\"Convert this dataframe to an interactive table.\"\n",
              "              style=\"display:none;\">\n",
              "        \n",
              "  <svg xmlns=\"http://www.w3.org/2000/svg\" height=\"24px\"viewBox=\"0 0 24 24\"\n",
              "       width=\"24px\">\n",
              "    <path d=\"M0 0h24v24H0V0z\" fill=\"none\"/>\n",
              "    <path d=\"M18.56 5.44l.94 2.06.94-2.06 2.06-.94-2.06-.94-.94-2.06-.94 2.06-2.06.94zm-11 1L8.5 8.5l.94-2.06 2.06-.94-2.06-.94L8.5 2.5l-.94 2.06-2.06.94zm10 10l.94 2.06.94-2.06 2.06-.94-2.06-.94-.94-2.06-.94 2.06-2.06.94z\"/><path d=\"M17.41 7.96l-1.37-1.37c-.4-.4-.92-.59-1.43-.59-.52 0-1.04.2-1.43.59L10.3 9.45l-7.72 7.72c-.78.78-.78 2.05 0 2.83L4 21.41c.39.39.9.59 1.41.59.51 0 1.02-.2 1.41-.59l7.78-7.78 2.81-2.81c.8-.78.8-2.07 0-2.86zM5.41 20L4 18.59l7.72-7.72 1.47 1.35L5.41 20z\"/>\n",
              "  </svg>\n",
              "      </button>\n",
              "      \n",
              "  <style>\n",
              "    .colab-df-container {\n",
              "      display:flex;\n",
              "      flex-wrap:wrap;\n",
              "      gap: 12px;\n",
              "    }\n",
              "\n",
              "    .colab-df-convert {\n",
              "      background-color: #E8F0FE;\n",
              "      border: none;\n",
              "      border-radius: 50%;\n",
              "      cursor: pointer;\n",
              "      display: none;\n",
              "      fill: #1967D2;\n",
              "      height: 32px;\n",
              "      padding: 0 0 0 0;\n",
              "      width: 32px;\n",
              "    }\n",
              "\n",
              "    .colab-df-convert:hover {\n",
              "      background-color: #E2EBFA;\n",
              "      box-shadow: 0px 1px 2px rgba(60, 64, 67, 0.3), 0px 1px 3px 1px rgba(60, 64, 67, 0.15);\n",
              "      fill: #174EA6;\n",
              "    }\n",
              "\n",
              "    [theme=dark] .colab-df-convert {\n",
              "      background-color: #3B4455;\n",
              "      fill: #D2E3FC;\n",
              "    }\n",
              "\n",
              "    [theme=dark] .colab-df-convert:hover {\n",
              "      background-color: #434B5C;\n",
              "      box-shadow: 0px 1px 3px 1px rgba(0, 0, 0, 0.15);\n",
              "      filter: drop-shadow(0px 1px 2px rgba(0, 0, 0, 0.3));\n",
              "      fill: #FFFFFF;\n",
              "    }\n",
              "  </style>\n",
              "\n",
              "      <script>\n",
              "        const buttonEl =\n",
              "          document.querySelector('#df-bf7edf94-a283-4d71-845c-ccd3d145c5fb button.colab-df-convert');\n",
              "        buttonEl.style.display =\n",
              "          google.colab.kernel.accessAllowed ? 'block' : 'none';\n",
              "\n",
              "        async function convertToInteractive(key) {\n",
              "          const element = document.querySelector('#df-bf7edf94-a283-4d71-845c-ccd3d145c5fb');\n",
              "          const dataTable =\n",
              "            await google.colab.kernel.invokeFunction('convertToInteractive',\n",
              "                                                     [key], {});\n",
              "          if (!dataTable) return;\n",
              "\n",
              "          const docLinkHtml = 'Like what you see? Visit the ' +\n",
              "            '<a target=\"_blank\" href=https://colab.research.google.com/notebooks/data_table.ipynb>data table notebook</a>'\n",
              "            + ' to learn more about interactive tables.';\n",
              "          element.innerHTML = '';\n",
              "          dataTable['output_type'] = 'display_data';\n",
              "          await google.colab.output.renderOutput(dataTable, element);\n",
              "          const docLink = document.createElement('div');\n",
              "          docLink.innerHTML = docLinkHtml;\n",
              "          element.appendChild(docLink);\n",
              "        }\n",
              "      </script>\n",
              "    </div>\n",
              "  </div>\n",
              "  "
            ]
          },
          "metadata": {},
          "execution_count": 181
        }
      ]
    },
    {
      "cell_type": "code",
      "source": [
        "fig = go.Figure()\n",
        "fig.add_trace(go.Bar(y = rate_cat['Rating_count'], x = rate_cat['Category'], name = 'Histogram Distribution'))\n",
        "fig.add_trace(go.Scatter(y = rate_cat['Rating_count'], x = rate_cat['Category'],name = 'Line Distribution'))\n",
        "fig.update_layout(xaxis_title='App Category', yaxis_title=\"No of Apps with Rating 4+\", title=\"Top 5 category with Rating 4.0 and above\")\n",
        "fig.show()\n"
      ],
      "metadata": {
        "colab": {
          "base_uri": "https://localhost:8080/",
          "height": 542
        },
        "id": "ecmsa70jsxja",
        "outputId": "9a7d52cd-c099-4ec9-cf40-21e3ef6983ed"
      },
      "execution_count": null,
      "outputs": [
        {
          "output_type": "display_data",
          "data": {
            "text/html": [
              "<html>\n",
              "<head><meta charset=\"utf-8\" /></head>\n",
              "<body>\n",
              "    <div>            <script src=\"https://cdnjs.cloudflare.com/ajax/libs/mathjax/2.7.5/MathJax.js?config=TeX-AMS-MML_SVG\"></script><script type=\"text/javascript\">if (window.MathJax) {MathJax.Hub.Config({SVG: {font: \"STIX-Web\"}});}</script>                <script type=\"text/javascript\">window.PlotlyConfig = {MathJaxConfig: 'local'};</script>\n",
              "        <script src=\"https://cdn.plot.ly/plotly-2.8.3.min.js\"></script>                <div id=\"f1f0323a-2d57-456b-8bb2-f6360f1bd60b\" class=\"plotly-graph-div\" style=\"height:525px; width:100%;\"></div>            <script type=\"text/javascript\">                                    window.PLOTLYENV=window.PLOTLYENV || {};                                    if (document.getElementById(\"f1f0323a-2d57-456b-8bb2-f6360f1bd60b\")) {                    Plotly.newPlot(                        \"f1f0323a-2d57-456b-8bb2-f6360f1bd60b\",                        [{\"name\":\"Histogram Distribution\",\"x\":[\"FAMILY\",\"GAME\",\"TOOLS\",\"PERSONALIZATION\",\"BUSINESS\",\"MEDICAL\",\"PRODUCTIVITY\",\"SPORTS\",\"LIFESTYLE\",\"FINANCE\"],\"y\":[1430,810,598,344,342,320,315,273,272,267],\"type\":\"bar\"},{\"name\":\"Line Distribution\",\"x\":[\"FAMILY\",\"GAME\",\"TOOLS\",\"PERSONALIZATION\",\"BUSINESS\",\"MEDICAL\",\"PRODUCTIVITY\",\"SPORTS\",\"LIFESTYLE\",\"FINANCE\"],\"y\":[1430,810,598,344,342,320,315,273,272,267],\"type\":\"scatter\"}],                        {\"template\":{\"data\":{\"bar\":[{\"error_x\":{\"color\":\"#2a3f5f\"},\"error_y\":{\"color\":\"#2a3f5f\"},\"marker\":{\"line\":{\"color\":\"#E5ECF6\",\"width\":0.5},\"pattern\":{\"fillmode\":\"overlay\",\"size\":10,\"solidity\":0.2}},\"type\":\"bar\"}],\"barpolar\":[{\"marker\":{\"line\":{\"color\":\"#E5ECF6\",\"width\":0.5},\"pattern\":{\"fillmode\":\"overlay\",\"size\":10,\"solidity\":0.2}},\"type\":\"barpolar\"}],\"carpet\":[{\"aaxis\":{\"endlinecolor\":\"#2a3f5f\",\"gridcolor\":\"white\",\"linecolor\":\"white\",\"minorgridcolor\":\"white\",\"startlinecolor\":\"#2a3f5f\"},\"baxis\":{\"endlinecolor\":\"#2a3f5f\",\"gridcolor\":\"white\",\"linecolor\":\"white\",\"minorgridcolor\":\"white\",\"startlinecolor\":\"#2a3f5f\"},\"type\":\"carpet\"}],\"choropleth\":[{\"colorbar\":{\"outlinewidth\":0,\"ticks\":\"\"},\"type\":\"choropleth\"}],\"contour\":[{\"colorbar\":{\"outlinewidth\":0,\"ticks\":\"\"},\"colorscale\":[[0.0,\"#0d0887\"],[0.1111111111111111,\"#46039f\"],[0.2222222222222222,\"#7201a8\"],[0.3333333333333333,\"#9c179e\"],[0.4444444444444444,\"#bd3786\"],[0.5555555555555556,\"#d8576b\"],[0.6666666666666666,\"#ed7953\"],[0.7777777777777778,\"#fb9f3a\"],[0.8888888888888888,\"#fdca26\"],[1.0,\"#f0f921\"]],\"type\":\"contour\"}],\"contourcarpet\":[{\"colorbar\":{\"outlinewidth\":0,\"ticks\":\"\"},\"type\":\"contourcarpet\"}],\"heatmap\":[{\"colorbar\":{\"outlinewidth\":0,\"ticks\":\"\"},\"colorscale\":[[0.0,\"#0d0887\"],[0.1111111111111111,\"#46039f\"],[0.2222222222222222,\"#7201a8\"],[0.3333333333333333,\"#9c179e\"],[0.4444444444444444,\"#bd3786\"],[0.5555555555555556,\"#d8576b\"],[0.6666666666666666,\"#ed7953\"],[0.7777777777777778,\"#fb9f3a\"],[0.8888888888888888,\"#fdca26\"],[1.0,\"#f0f921\"]],\"type\":\"heatmap\"}],\"heatmapgl\":[{\"colorbar\":{\"outlinewidth\":0,\"ticks\":\"\"},\"colorscale\":[[0.0,\"#0d0887\"],[0.1111111111111111,\"#46039f\"],[0.2222222222222222,\"#7201a8\"],[0.3333333333333333,\"#9c179e\"],[0.4444444444444444,\"#bd3786\"],[0.5555555555555556,\"#d8576b\"],[0.6666666666666666,\"#ed7953\"],[0.7777777777777778,\"#fb9f3a\"],[0.8888888888888888,\"#fdca26\"],[1.0,\"#f0f921\"]],\"type\":\"heatmapgl\"}],\"histogram\":[{\"marker\":{\"pattern\":{\"fillmode\":\"overlay\",\"size\":10,\"solidity\":0.2}},\"type\":\"histogram\"}],\"histogram2d\":[{\"colorbar\":{\"outlinewidth\":0,\"ticks\":\"\"},\"colorscale\":[[0.0,\"#0d0887\"],[0.1111111111111111,\"#46039f\"],[0.2222222222222222,\"#7201a8\"],[0.3333333333333333,\"#9c179e\"],[0.4444444444444444,\"#bd3786\"],[0.5555555555555556,\"#d8576b\"],[0.6666666666666666,\"#ed7953\"],[0.7777777777777778,\"#fb9f3a\"],[0.8888888888888888,\"#fdca26\"],[1.0,\"#f0f921\"]],\"type\":\"histogram2d\"}],\"histogram2dcontour\":[{\"colorbar\":{\"outlinewidth\":0,\"ticks\":\"\"},\"colorscale\":[[0.0,\"#0d0887\"],[0.1111111111111111,\"#46039f\"],[0.2222222222222222,\"#7201a8\"],[0.3333333333333333,\"#9c179e\"],[0.4444444444444444,\"#bd3786\"],[0.5555555555555556,\"#d8576b\"],[0.6666666666666666,\"#ed7953\"],[0.7777777777777778,\"#fb9f3a\"],[0.8888888888888888,\"#fdca26\"],[1.0,\"#f0f921\"]],\"type\":\"histogram2dcontour\"}],\"mesh3d\":[{\"colorbar\":{\"outlinewidth\":0,\"ticks\":\"\"},\"type\":\"mesh3d\"}],\"parcoords\":[{\"line\":{\"colorbar\":{\"outlinewidth\":0,\"ticks\":\"\"}},\"type\":\"parcoords\"}],\"pie\":[{\"automargin\":true,\"type\":\"pie\"}],\"scatter\":[{\"marker\":{\"colorbar\":{\"outlinewidth\":0,\"ticks\":\"\"}},\"type\":\"scatter\"}],\"scatter3d\":[{\"line\":{\"colorbar\":{\"outlinewidth\":0,\"ticks\":\"\"}},\"marker\":{\"colorbar\":{\"outlinewidth\":0,\"ticks\":\"\"}},\"type\":\"scatter3d\"}],\"scattercarpet\":[{\"marker\":{\"colorbar\":{\"outlinewidth\":0,\"ticks\":\"\"}},\"type\":\"scattercarpet\"}],\"scattergeo\":[{\"marker\":{\"colorbar\":{\"outlinewidth\":0,\"ticks\":\"\"}},\"type\":\"scattergeo\"}],\"scattergl\":[{\"marker\":{\"colorbar\":{\"outlinewidth\":0,\"ticks\":\"\"}},\"type\":\"scattergl\"}],\"scattermapbox\":[{\"marker\":{\"colorbar\":{\"outlinewidth\":0,\"ticks\":\"\"}},\"type\":\"scattermapbox\"}],\"scatterpolar\":[{\"marker\":{\"colorbar\":{\"outlinewidth\":0,\"ticks\":\"\"}},\"type\":\"scatterpolar\"}],\"scatterpolargl\":[{\"marker\":{\"colorbar\":{\"outlinewidth\":0,\"ticks\":\"\"}},\"type\":\"scatterpolargl\"}],\"scatterternary\":[{\"marker\":{\"colorbar\":{\"outlinewidth\":0,\"ticks\":\"\"}},\"type\":\"scatterternary\"}],\"surface\":[{\"colorbar\":{\"outlinewidth\":0,\"ticks\":\"\"},\"colorscale\":[[0.0,\"#0d0887\"],[0.1111111111111111,\"#46039f\"],[0.2222222222222222,\"#7201a8\"],[0.3333333333333333,\"#9c179e\"],[0.4444444444444444,\"#bd3786\"],[0.5555555555555556,\"#d8576b\"],[0.6666666666666666,\"#ed7953\"],[0.7777777777777778,\"#fb9f3a\"],[0.8888888888888888,\"#fdca26\"],[1.0,\"#f0f921\"]],\"type\":\"surface\"}],\"table\":[{\"cells\":{\"fill\":{\"color\":\"#EBF0F8\"},\"line\":{\"color\":\"white\"}},\"header\":{\"fill\":{\"color\":\"#C8D4E3\"},\"line\":{\"color\":\"white\"}},\"type\":\"table\"}]},\"layout\":{\"annotationdefaults\":{\"arrowcolor\":\"#2a3f5f\",\"arrowhead\":0,\"arrowwidth\":1},\"autotypenumbers\":\"strict\",\"coloraxis\":{\"colorbar\":{\"outlinewidth\":0,\"ticks\":\"\"}},\"colorscale\":{\"diverging\":[[0,\"#8e0152\"],[0.1,\"#c51b7d\"],[0.2,\"#de77ae\"],[0.3,\"#f1b6da\"],[0.4,\"#fde0ef\"],[0.5,\"#f7f7f7\"],[0.6,\"#e6f5d0\"],[0.7,\"#b8e186\"],[0.8,\"#7fbc41\"],[0.9,\"#4d9221\"],[1,\"#276419\"]],\"sequential\":[[0.0,\"#0d0887\"],[0.1111111111111111,\"#46039f\"],[0.2222222222222222,\"#7201a8\"],[0.3333333333333333,\"#9c179e\"],[0.4444444444444444,\"#bd3786\"],[0.5555555555555556,\"#d8576b\"],[0.6666666666666666,\"#ed7953\"],[0.7777777777777778,\"#fb9f3a\"],[0.8888888888888888,\"#fdca26\"],[1.0,\"#f0f921\"]],\"sequentialminus\":[[0.0,\"#0d0887\"],[0.1111111111111111,\"#46039f\"],[0.2222222222222222,\"#7201a8\"],[0.3333333333333333,\"#9c179e\"],[0.4444444444444444,\"#bd3786\"],[0.5555555555555556,\"#d8576b\"],[0.6666666666666666,\"#ed7953\"],[0.7777777777777778,\"#fb9f3a\"],[0.8888888888888888,\"#fdca26\"],[1.0,\"#f0f921\"]]},\"colorway\":[\"#636efa\",\"#EF553B\",\"#00cc96\",\"#ab63fa\",\"#FFA15A\",\"#19d3f3\",\"#FF6692\",\"#B6E880\",\"#FF97FF\",\"#FECB52\"],\"font\":{\"color\":\"#2a3f5f\"},\"geo\":{\"bgcolor\":\"white\",\"lakecolor\":\"white\",\"landcolor\":\"#E5ECF6\",\"showlakes\":true,\"showland\":true,\"subunitcolor\":\"white\"},\"hoverlabel\":{\"align\":\"left\"},\"hovermode\":\"closest\",\"mapbox\":{\"style\":\"light\"},\"paper_bgcolor\":\"white\",\"plot_bgcolor\":\"#E5ECF6\",\"polar\":{\"angularaxis\":{\"gridcolor\":\"white\",\"linecolor\":\"white\",\"ticks\":\"\"},\"bgcolor\":\"#E5ECF6\",\"radialaxis\":{\"gridcolor\":\"white\",\"linecolor\":\"white\",\"ticks\":\"\"}},\"scene\":{\"xaxis\":{\"backgroundcolor\":\"#E5ECF6\",\"gridcolor\":\"white\",\"gridwidth\":2,\"linecolor\":\"white\",\"showbackground\":true,\"ticks\":\"\",\"zerolinecolor\":\"white\"},\"yaxis\":{\"backgroundcolor\":\"#E5ECF6\",\"gridcolor\":\"white\",\"gridwidth\":2,\"linecolor\":\"white\",\"showbackground\":true,\"ticks\":\"\",\"zerolinecolor\":\"white\"},\"zaxis\":{\"backgroundcolor\":\"#E5ECF6\",\"gridcolor\":\"white\",\"gridwidth\":2,\"linecolor\":\"white\",\"showbackground\":true,\"ticks\":\"\",\"zerolinecolor\":\"white\"}},\"shapedefaults\":{\"line\":{\"color\":\"#2a3f5f\"}},\"ternary\":{\"aaxis\":{\"gridcolor\":\"white\",\"linecolor\":\"white\",\"ticks\":\"\"},\"baxis\":{\"gridcolor\":\"white\",\"linecolor\":\"white\",\"ticks\":\"\"},\"bgcolor\":\"#E5ECF6\",\"caxis\":{\"gridcolor\":\"white\",\"linecolor\":\"white\",\"ticks\":\"\"}},\"title\":{\"x\":0.05},\"xaxis\":{\"automargin\":true,\"gridcolor\":\"white\",\"linecolor\":\"white\",\"ticks\":\"\",\"title\":{\"standoff\":15},\"zerolinecolor\":\"white\",\"zerolinewidth\":2},\"yaxis\":{\"automargin\":true,\"gridcolor\":\"white\",\"linecolor\":\"white\",\"ticks\":\"\",\"title\":{\"standoff\":15},\"zerolinecolor\":\"white\",\"zerolinewidth\":2}}},\"xaxis\":{\"title\":{\"text\":\"App Category\"}},\"yaxis\":{\"title\":{\"text\":\"No of Apps with Rating 4+\"}},\"title\":{\"text\":\"Top 5 category with Rating 4.0 and above\"}},                        {\"responsive\": true}                    ).then(function(){\n",
              "                            \n",
              "var gd = document.getElementById('f1f0323a-2d57-456b-8bb2-f6360f1bd60b');\n",
              "var x = new MutationObserver(function (mutations, observer) {{\n",
              "        var display = window.getComputedStyle(gd).display;\n",
              "        if (!display || display === 'none') {{\n",
              "            console.log([gd, 'removed!']);\n",
              "            Plotly.purge(gd);\n",
              "            observer.disconnect();\n",
              "        }}\n",
              "}});\n",
              "\n",
              "// Listen for the removal of the full notebook cells\n",
              "var notebookContainer = gd.closest('#notebook-container');\n",
              "if (notebookContainer) {{\n",
              "    x.observe(notebookContainer, {childList: true});\n",
              "}}\n",
              "\n",
              "// Listen for the clearing of the current output cell\n",
              "var outputEl = gd.closest('.output');\n",
              "if (outputEl) {{\n",
              "    x.observe(outputEl, {childList: true});\n",
              "}}\n",
              "\n",
              "                        })                };                            </script>        </div>\n",
              "</body>\n",
              "</html>"
            ]
          },
          "metadata": {}
        }
      ]
    },
    {
      "cell_type": "markdown",
      "source": [
        "##8.Top 10 category with highest avg no of reviews.\n"
      ],
      "metadata": {
        "id": "CEfRf-vq3ndu"
      }
    },
    {
      "cell_type": "code",
      "source": [
        "data.columns"
      ],
      "metadata": {
        "colab": {
          "base_uri": "https://localhost:8080/"
        },
        "id": "fwz_cWvZ-WfA",
        "outputId": "2ce09720-e4cc-4571-e2da-f7a7ab6cb70e"
      },
      "execution_count": null,
      "outputs": [
        {
          "output_type": "execute_result",
          "data": {
            "text/plain": [
              "Index(['App', 'Category', 'Rating', 'Reviews', 'Size', 'Installs', 'Type',\n",
              "       'Price', 'Content_Rating', 'Genres', 'Last_Updated', 'Current_Ver',\n",
              "       'Android_Ver'],\n",
              "      dtype='object')"
            ]
          },
          "metadata": {},
          "execution_count": 183
        }
      ]
    },
    {
      "cell_type": "code",
      "source": [
        "cat_review = data.groupby(['Category'])['Reviews'].mean().astype(int).sort_values(ascending=False).head(10).reset_index(name = 'Avg_reviews')\n",
        "cat_review"
      ],
      "metadata": {
        "colab": {
          "base_uri": "https://localhost:8080/",
          "height": 363
        },
        "id": "331M2M8V3pJD",
        "outputId": "4d761044-9d13-4fc6-881d-2c4c18f81237"
      },
      "execution_count": null,
      "outputs": [
        {
          "output_type": "execute_result",
          "data": {
            "text/plain": [
              "        Category  Avg_reviews\n",
              "0         SOCIAL       953672\n",
              "1  COMMUNICATION       907337\n",
              "2           GAME       648903\n",
              "3  VIDEO_PLAYERS       414015\n",
              "4    PHOTOGRAPHY       374915\n",
              "5  ENTERTAINMENT       340810\n",
              "6          TOOLS       277335\n",
              "7       SHOPPING       220553\n",
              "8        WEATHER       155634\n",
              "9   PRODUCTIVITY       148638"
            ],
            "text/html": [
              "\n",
              "  <div id=\"df-6bc537c9-6f0b-43fb-9d40-e297d9edea72\">\n",
              "    <div class=\"colab-df-container\">\n",
              "      <div>\n",
              "<style scoped>\n",
              "    .dataframe tbody tr th:only-of-type {\n",
              "        vertical-align: middle;\n",
              "    }\n",
              "\n",
              "    .dataframe tbody tr th {\n",
              "        vertical-align: top;\n",
              "    }\n",
              "\n",
              "    .dataframe thead th {\n",
              "        text-align: right;\n",
              "    }\n",
              "</style>\n",
              "<table border=\"1\" class=\"dataframe\">\n",
              "  <thead>\n",
              "    <tr style=\"text-align: right;\">\n",
              "      <th></th>\n",
              "      <th>Category</th>\n",
              "      <th>Avg_reviews</th>\n",
              "    </tr>\n",
              "  </thead>\n",
              "  <tbody>\n",
              "    <tr>\n",
              "      <th>0</th>\n",
              "      <td>SOCIAL</td>\n",
              "      <td>953672</td>\n",
              "    </tr>\n",
              "    <tr>\n",
              "      <th>1</th>\n",
              "      <td>COMMUNICATION</td>\n",
              "      <td>907337</td>\n",
              "    </tr>\n",
              "    <tr>\n",
              "      <th>2</th>\n",
              "      <td>GAME</td>\n",
              "      <td>648903</td>\n",
              "    </tr>\n",
              "    <tr>\n",
              "      <th>3</th>\n",
              "      <td>VIDEO_PLAYERS</td>\n",
              "      <td>414015</td>\n",
              "    </tr>\n",
              "    <tr>\n",
              "      <th>4</th>\n",
              "      <td>PHOTOGRAPHY</td>\n",
              "      <td>374915</td>\n",
              "    </tr>\n",
              "    <tr>\n",
              "      <th>5</th>\n",
              "      <td>ENTERTAINMENT</td>\n",
              "      <td>340810</td>\n",
              "    </tr>\n",
              "    <tr>\n",
              "      <th>6</th>\n",
              "      <td>TOOLS</td>\n",
              "      <td>277335</td>\n",
              "    </tr>\n",
              "    <tr>\n",
              "      <th>7</th>\n",
              "      <td>SHOPPING</td>\n",
              "      <td>220553</td>\n",
              "    </tr>\n",
              "    <tr>\n",
              "      <th>8</th>\n",
              "      <td>WEATHER</td>\n",
              "      <td>155634</td>\n",
              "    </tr>\n",
              "    <tr>\n",
              "      <th>9</th>\n",
              "      <td>PRODUCTIVITY</td>\n",
              "      <td>148638</td>\n",
              "    </tr>\n",
              "  </tbody>\n",
              "</table>\n",
              "</div>\n",
              "      <button class=\"colab-df-convert\" onclick=\"convertToInteractive('df-6bc537c9-6f0b-43fb-9d40-e297d9edea72')\"\n",
              "              title=\"Convert this dataframe to an interactive table.\"\n",
              "              style=\"display:none;\">\n",
              "        \n",
              "  <svg xmlns=\"http://www.w3.org/2000/svg\" height=\"24px\"viewBox=\"0 0 24 24\"\n",
              "       width=\"24px\">\n",
              "    <path d=\"M0 0h24v24H0V0z\" fill=\"none\"/>\n",
              "    <path d=\"M18.56 5.44l.94 2.06.94-2.06 2.06-.94-2.06-.94-.94-2.06-.94 2.06-2.06.94zm-11 1L8.5 8.5l.94-2.06 2.06-.94-2.06-.94L8.5 2.5l-.94 2.06-2.06.94zm10 10l.94 2.06.94-2.06 2.06-.94-2.06-.94-.94-2.06-.94 2.06-2.06.94z\"/><path d=\"M17.41 7.96l-1.37-1.37c-.4-.4-.92-.59-1.43-.59-.52 0-1.04.2-1.43.59L10.3 9.45l-7.72 7.72c-.78.78-.78 2.05 0 2.83L4 21.41c.39.39.9.59 1.41.59.51 0 1.02-.2 1.41-.59l7.78-7.78 2.81-2.81c.8-.78.8-2.07 0-2.86zM5.41 20L4 18.59l7.72-7.72 1.47 1.35L5.41 20z\"/>\n",
              "  </svg>\n",
              "      </button>\n",
              "      \n",
              "  <style>\n",
              "    .colab-df-container {\n",
              "      display:flex;\n",
              "      flex-wrap:wrap;\n",
              "      gap: 12px;\n",
              "    }\n",
              "\n",
              "    .colab-df-convert {\n",
              "      background-color: #E8F0FE;\n",
              "      border: none;\n",
              "      border-radius: 50%;\n",
              "      cursor: pointer;\n",
              "      display: none;\n",
              "      fill: #1967D2;\n",
              "      height: 32px;\n",
              "      padding: 0 0 0 0;\n",
              "      width: 32px;\n",
              "    }\n",
              "\n",
              "    .colab-df-convert:hover {\n",
              "      background-color: #E2EBFA;\n",
              "      box-shadow: 0px 1px 2px rgba(60, 64, 67, 0.3), 0px 1px 3px 1px rgba(60, 64, 67, 0.15);\n",
              "      fill: #174EA6;\n",
              "    }\n",
              "\n",
              "    [theme=dark] .colab-df-convert {\n",
              "      background-color: #3B4455;\n",
              "      fill: #D2E3FC;\n",
              "    }\n",
              "\n",
              "    [theme=dark] .colab-df-convert:hover {\n",
              "      background-color: #434B5C;\n",
              "      box-shadow: 0px 1px 3px 1px rgba(0, 0, 0, 0.15);\n",
              "      filter: drop-shadow(0px 1px 2px rgba(0, 0, 0, 0.3));\n",
              "      fill: #FFFFFF;\n",
              "    }\n",
              "  </style>\n",
              "\n",
              "      <script>\n",
              "        const buttonEl =\n",
              "          document.querySelector('#df-6bc537c9-6f0b-43fb-9d40-e297d9edea72 button.colab-df-convert');\n",
              "        buttonEl.style.display =\n",
              "          google.colab.kernel.accessAllowed ? 'block' : 'none';\n",
              "\n",
              "        async function convertToInteractive(key) {\n",
              "          const element = document.querySelector('#df-6bc537c9-6f0b-43fb-9d40-e297d9edea72');\n",
              "          const dataTable =\n",
              "            await google.colab.kernel.invokeFunction('convertToInteractive',\n",
              "                                                     [key], {});\n",
              "          if (!dataTable) return;\n",
              "\n",
              "          const docLinkHtml = 'Like what you see? Visit the ' +\n",
              "            '<a target=\"_blank\" href=https://colab.research.google.com/notebooks/data_table.ipynb>data table notebook</a>'\n",
              "            + ' to learn more about interactive tables.';\n",
              "          element.innerHTML = '';\n",
              "          dataTable['output_type'] = 'display_data';\n",
              "          await google.colab.output.renderOutput(dataTable, element);\n",
              "          const docLink = document.createElement('div');\n",
              "          docLink.innerHTML = docLinkHtml;\n",
              "          element.appendChild(docLink);\n",
              "        }\n",
              "      </script>\n",
              "    </div>\n",
              "  </div>\n",
              "  "
            ]
          },
          "metadata": {},
          "execution_count": 215
        }
      ]
    },
    {
      "cell_type": "code",
      "source": [
        "fig = px.line(cat_review, y= 'Category', x= 'Avg_reviews')\n",
        "fig.update_layout(yaxis={'categoryorder':'total ascending'})\n",
        "fig.show()"
      ],
      "metadata": {
        "colab": {
          "base_uri": "https://localhost:8080/",
          "height": 542
        },
        "id": "VJGNjs7MDXB3",
        "outputId": "173cc813-db94-499a-89c2-267c0dee105f"
      },
      "execution_count": null,
      "outputs": [
        {
          "output_type": "display_data",
          "data": {
            "text/html": [
              "<html>\n",
              "<head><meta charset=\"utf-8\" /></head>\n",
              "<body>\n",
              "    <div>            <script src=\"https://cdnjs.cloudflare.com/ajax/libs/mathjax/2.7.5/MathJax.js?config=TeX-AMS-MML_SVG\"></script><script type=\"text/javascript\">if (window.MathJax) {MathJax.Hub.Config({SVG: {font: \"STIX-Web\"}});}</script>                <script type=\"text/javascript\">window.PlotlyConfig = {MathJaxConfig: 'local'};</script>\n",
              "        <script src=\"https://cdn.plot.ly/plotly-2.8.3.min.js\"></script>                <div id=\"e0eaf884-98ef-4d12-8af6-12604567d54e\" class=\"plotly-graph-div\" style=\"height:525px; width:100%;\"></div>            <script type=\"text/javascript\">                                    window.PLOTLYENV=window.PLOTLYENV || {};                                    if (document.getElementById(\"e0eaf884-98ef-4d12-8af6-12604567d54e\")) {                    Plotly.newPlot(                        \"e0eaf884-98ef-4d12-8af6-12604567d54e\",                        [{\"hovertemplate\":\"Avg_reviews=%{x}<br>Category=%{y}<extra></extra>\",\"legendgroup\":\"\",\"line\":{\"color\":\"#636efa\",\"dash\":\"solid\"},\"marker\":{\"symbol\":\"circle\"},\"mode\":\"lines\",\"name\":\"\",\"orientation\":\"h\",\"showlegend\":false,\"x\":[953672,907337,648903,414015,374915,340810,277335,220553,155634,148638],\"xaxis\":\"x\",\"y\":[\"SOCIAL\",\"COMMUNICATION\",\"GAME\",\"VIDEO_PLAYERS\",\"PHOTOGRAPHY\",\"ENTERTAINMENT\",\"TOOLS\",\"SHOPPING\",\"WEATHER\",\"PRODUCTIVITY\"],\"yaxis\":\"y\",\"type\":\"scatter\"}],                        {\"template\":{\"data\":{\"bar\":[{\"error_x\":{\"color\":\"#2a3f5f\"},\"error_y\":{\"color\":\"#2a3f5f\"},\"marker\":{\"line\":{\"color\":\"#E5ECF6\",\"width\":0.5},\"pattern\":{\"fillmode\":\"overlay\",\"size\":10,\"solidity\":0.2}},\"type\":\"bar\"}],\"barpolar\":[{\"marker\":{\"line\":{\"color\":\"#E5ECF6\",\"width\":0.5},\"pattern\":{\"fillmode\":\"overlay\",\"size\":10,\"solidity\":0.2}},\"type\":\"barpolar\"}],\"carpet\":[{\"aaxis\":{\"endlinecolor\":\"#2a3f5f\",\"gridcolor\":\"white\",\"linecolor\":\"white\",\"minorgridcolor\":\"white\",\"startlinecolor\":\"#2a3f5f\"},\"baxis\":{\"endlinecolor\":\"#2a3f5f\",\"gridcolor\":\"white\",\"linecolor\":\"white\",\"minorgridcolor\":\"white\",\"startlinecolor\":\"#2a3f5f\"},\"type\":\"carpet\"}],\"choropleth\":[{\"colorbar\":{\"outlinewidth\":0,\"ticks\":\"\"},\"type\":\"choropleth\"}],\"contour\":[{\"colorbar\":{\"outlinewidth\":0,\"ticks\":\"\"},\"colorscale\":[[0.0,\"#0d0887\"],[0.1111111111111111,\"#46039f\"],[0.2222222222222222,\"#7201a8\"],[0.3333333333333333,\"#9c179e\"],[0.4444444444444444,\"#bd3786\"],[0.5555555555555556,\"#d8576b\"],[0.6666666666666666,\"#ed7953\"],[0.7777777777777778,\"#fb9f3a\"],[0.8888888888888888,\"#fdca26\"],[1.0,\"#f0f921\"]],\"type\":\"contour\"}],\"contourcarpet\":[{\"colorbar\":{\"outlinewidth\":0,\"ticks\":\"\"},\"type\":\"contourcarpet\"}],\"heatmap\":[{\"colorbar\":{\"outlinewidth\":0,\"ticks\":\"\"},\"colorscale\":[[0.0,\"#0d0887\"],[0.1111111111111111,\"#46039f\"],[0.2222222222222222,\"#7201a8\"],[0.3333333333333333,\"#9c179e\"],[0.4444444444444444,\"#bd3786\"],[0.5555555555555556,\"#d8576b\"],[0.6666666666666666,\"#ed7953\"],[0.7777777777777778,\"#fb9f3a\"],[0.8888888888888888,\"#fdca26\"],[1.0,\"#f0f921\"]],\"type\":\"heatmap\"}],\"heatmapgl\":[{\"colorbar\":{\"outlinewidth\":0,\"ticks\":\"\"},\"colorscale\":[[0.0,\"#0d0887\"],[0.1111111111111111,\"#46039f\"],[0.2222222222222222,\"#7201a8\"],[0.3333333333333333,\"#9c179e\"],[0.4444444444444444,\"#bd3786\"],[0.5555555555555556,\"#d8576b\"],[0.6666666666666666,\"#ed7953\"],[0.7777777777777778,\"#fb9f3a\"],[0.8888888888888888,\"#fdca26\"],[1.0,\"#f0f921\"]],\"type\":\"heatmapgl\"}],\"histogram\":[{\"marker\":{\"pattern\":{\"fillmode\":\"overlay\",\"size\":10,\"solidity\":0.2}},\"type\":\"histogram\"}],\"histogram2d\":[{\"colorbar\":{\"outlinewidth\":0,\"ticks\":\"\"},\"colorscale\":[[0.0,\"#0d0887\"],[0.1111111111111111,\"#46039f\"],[0.2222222222222222,\"#7201a8\"],[0.3333333333333333,\"#9c179e\"],[0.4444444444444444,\"#bd3786\"],[0.5555555555555556,\"#d8576b\"],[0.6666666666666666,\"#ed7953\"],[0.7777777777777778,\"#fb9f3a\"],[0.8888888888888888,\"#fdca26\"],[1.0,\"#f0f921\"]],\"type\":\"histogram2d\"}],\"histogram2dcontour\":[{\"colorbar\":{\"outlinewidth\":0,\"ticks\":\"\"},\"colorscale\":[[0.0,\"#0d0887\"],[0.1111111111111111,\"#46039f\"],[0.2222222222222222,\"#7201a8\"],[0.3333333333333333,\"#9c179e\"],[0.4444444444444444,\"#bd3786\"],[0.5555555555555556,\"#d8576b\"],[0.6666666666666666,\"#ed7953\"],[0.7777777777777778,\"#fb9f3a\"],[0.8888888888888888,\"#fdca26\"],[1.0,\"#f0f921\"]],\"type\":\"histogram2dcontour\"}],\"mesh3d\":[{\"colorbar\":{\"outlinewidth\":0,\"ticks\":\"\"},\"type\":\"mesh3d\"}],\"parcoords\":[{\"line\":{\"colorbar\":{\"outlinewidth\":0,\"ticks\":\"\"}},\"type\":\"parcoords\"}],\"pie\":[{\"automargin\":true,\"type\":\"pie\"}],\"scatter\":[{\"marker\":{\"colorbar\":{\"outlinewidth\":0,\"ticks\":\"\"}},\"type\":\"scatter\"}],\"scatter3d\":[{\"line\":{\"colorbar\":{\"outlinewidth\":0,\"ticks\":\"\"}},\"marker\":{\"colorbar\":{\"outlinewidth\":0,\"ticks\":\"\"}},\"type\":\"scatter3d\"}],\"scattercarpet\":[{\"marker\":{\"colorbar\":{\"outlinewidth\":0,\"ticks\":\"\"}},\"type\":\"scattercarpet\"}],\"scattergeo\":[{\"marker\":{\"colorbar\":{\"outlinewidth\":0,\"ticks\":\"\"}},\"type\":\"scattergeo\"}],\"scattergl\":[{\"marker\":{\"colorbar\":{\"outlinewidth\":0,\"ticks\":\"\"}},\"type\":\"scattergl\"}],\"scattermapbox\":[{\"marker\":{\"colorbar\":{\"outlinewidth\":0,\"ticks\":\"\"}},\"type\":\"scattermapbox\"}],\"scatterpolar\":[{\"marker\":{\"colorbar\":{\"outlinewidth\":0,\"ticks\":\"\"}},\"type\":\"scatterpolar\"}],\"scatterpolargl\":[{\"marker\":{\"colorbar\":{\"outlinewidth\":0,\"ticks\":\"\"}},\"type\":\"scatterpolargl\"}],\"scatterternary\":[{\"marker\":{\"colorbar\":{\"outlinewidth\":0,\"ticks\":\"\"}},\"type\":\"scatterternary\"}],\"surface\":[{\"colorbar\":{\"outlinewidth\":0,\"ticks\":\"\"},\"colorscale\":[[0.0,\"#0d0887\"],[0.1111111111111111,\"#46039f\"],[0.2222222222222222,\"#7201a8\"],[0.3333333333333333,\"#9c179e\"],[0.4444444444444444,\"#bd3786\"],[0.5555555555555556,\"#d8576b\"],[0.6666666666666666,\"#ed7953\"],[0.7777777777777778,\"#fb9f3a\"],[0.8888888888888888,\"#fdca26\"],[1.0,\"#f0f921\"]],\"type\":\"surface\"}],\"table\":[{\"cells\":{\"fill\":{\"color\":\"#EBF0F8\"},\"line\":{\"color\":\"white\"}},\"header\":{\"fill\":{\"color\":\"#C8D4E3\"},\"line\":{\"color\":\"white\"}},\"type\":\"table\"}]},\"layout\":{\"annotationdefaults\":{\"arrowcolor\":\"#2a3f5f\",\"arrowhead\":0,\"arrowwidth\":1},\"autotypenumbers\":\"strict\",\"coloraxis\":{\"colorbar\":{\"outlinewidth\":0,\"ticks\":\"\"}},\"colorscale\":{\"diverging\":[[0,\"#8e0152\"],[0.1,\"#c51b7d\"],[0.2,\"#de77ae\"],[0.3,\"#f1b6da\"],[0.4,\"#fde0ef\"],[0.5,\"#f7f7f7\"],[0.6,\"#e6f5d0\"],[0.7,\"#b8e186\"],[0.8,\"#7fbc41\"],[0.9,\"#4d9221\"],[1,\"#276419\"]],\"sequential\":[[0.0,\"#0d0887\"],[0.1111111111111111,\"#46039f\"],[0.2222222222222222,\"#7201a8\"],[0.3333333333333333,\"#9c179e\"],[0.4444444444444444,\"#bd3786\"],[0.5555555555555556,\"#d8576b\"],[0.6666666666666666,\"#ed7953\"],[0.7777777777777778,\"#fb9f3a\"],[0.8888888888888888,\"#fdca26\"],[1.0,\"#f0f921\"]],\"sequentialminus\":[[0.0,\"#0d0887\"],[0.1111111111111111,\"#46039f\"],[0.2222222222222222,\"#7201a8\"],[0.3333333333333333,\"#9c179e\"],[0.4444444444444444,\"#bd3786\"],[0.5555555555555556,\"#d8576b\"],[0.6666666666666666,\"#ed7953\"],[0.7777777777777778,\"#fb9f3a\"],[0.8888888888888888,\"#fdca26\"],[1.0,\"#f0f921\"]]},\"colorway\":[\"#636efa\",\"#EF553B\",\"#00cc96\",\"#ab63fa\",\"#FFA15A\",\"#19d3f3\",\"#FF6692\",\"#B6E880\",\"#FF97FF\",\"#FECB52\"],\"font\":{\"color\":\"#2a3f5f\"},\"geo\":{\"bgcolor\":\"white\",\"lakecolor\":\"white\",\"landcolor\":\"#E5ECF6\",\"showlakes\":true,\"showland\":true,\"subunitcolor\":\"white\"},\"hoverlabel\":{\"align\":\"left\"},\"hovermode\":\"closest\",\"mapbox\":{\"style\":\"light\"},\"paper_bgcolor\":\"white\",\"plot_bgcolor\":\"#E5ECF6\",\"polar\":{\"angularaxis\":{\"gridcolor\":\"white\",\"linecolor\":\"white\",\"ticks\":\"\"},\"bgcolor\":\"#E5ECF6\",\"radialaxis\":{\"gridcolor\":\"white\",\"linecolor\":\"white\",\"ticks\":\"\"}},\"scene\":{\"xaxis\":{\"backgroundcolor\":\"#E5ECF6\",\"gridcolor\":\"white\",\"gridwidth\":2,\"linecolor\":\"white\",\"showbackground\":true,\"ticks\":\"\",\"zerolinecolor\":\"white\"},\"yaxis\":{\"backgroundcolor\":\"#E5ECF6\",\"gridcolor\":\"white\",\"gridwidth\":2,\"linecolor\":\"white\",\"showbackground\":true,\"ticks\":\"\",\"zerolinecolor\":\"white\"},\"zaxis\":{\"backgroundcolor\":\"#E5ECF6\",\"gridcolor\":\"white\",\"gridwidth\":2,\"linecolor\":\"white\",\"showbackground\":true,\"ticks\":\"\",\"zerolinecolor\":\"white\"}},\"shapedefaults\":{\"line\":{\"color\":\"#2a3f5f\"}},\"ternary\":{\"aaxis\":{\"gridcolor\":\"white\",\"linecolor\":\"white\",\"ticks\":\"\"},\"baxis\":{\"gridcolor\":\"white\",\"linecolor\":\"white\",\"ticks\":\"\"},\"bgcolor\":\"#E5ECF6\",\"caxis\":{\"gridcolor\":\"white\",\"linecolor\":\"white\",\"ticks\":\"\"}},\"title\":{\"x\":0.05},\"xaxis\":{\"automargin\":true,\"gridcolor\":\"white\",\"linecolor\":\"white\",\"ticks\":\"\",\"title\":{\"standoff\":15},\"zerolinecolor\":\"white\",\"zerolinewidth\":2},\"yaxis\":{\"automargin\":true,\"gridcolor\":\"white\",\"linecolor\":\"white\",\"ticks\":\"\",\"title\":{\"standoff\":15},\"zerolinecolor\":\"white\",\"zerolinewidth\":2}}},\"xaxis\":{\"anchor\":\"y\",\"domain\":[0.0,1.0],\"title\":{\"text\":\"Avg_reviews\"}},\"yaxis\":{\"anchor\":\"x\",\"domain\":[0.0,1.0],\"title\":{\"text\":\"Category\"},\"categoryorder\":\"total ascending\"},\"legend\":{\"tracegroupgap\":0},\"margin\":{\"t\":60}},                        {\"responsive\": true}                    ).then(function(){\n",
              "                            \n",
              "var gd = document.getElementById('e0eaf884-98ef-4d12-8af6-12604567d54e');\n",
              "var x = new MutationObserver(function (mutations, observer) {{\n",
              "        var display = window.getComputedStyle(gd).display;\n",
              "        if (!display || display === 'none') {{\n",
              "            console.log([gd, 'removed!']);\n",
              "            Plotly.purge(gd);\n",
              "            observer.disconnect();\n",
              "        }}\n",
              "}});\n",
              "\n",
              "// Listen for the removal of the full notebook cells\n",
              "var notebookContainer = gd.closest('#notebook-container');\n",
              "if (notebookContainer) {{\n",
              "    x.observe(notebookContainer, {childList: true});\n",
              "}}\n",
              "\n",
              "// Listen for the clearing of the current output cell\n",
              "var outputEl = gd.closest('.output');\n",
              "if (outputEl) {{\n",
              "    x.observe(outputEl, {childList: true});\n",
              "}}\n",
              "\n",
              "                        })                };                            </script>        </div>\n",
              "</body>\n",
              "</html>"
            ]
          },
          "metadata": {}
        }
      ]
    },
    {
      "cell_type": "markdown",
      "source": [
        "##9.Paid app in each category by Price and no of installation."
      ],
      "metadata": {
        "id": "Yw1hDHYF4FKR"
      }
    },
    {
      "cell_type": "code",
      "source": [
        "paid_price_install = data[data['Type'] == 'Paid'].groupby(['Category','Price'])['Installs'].sum().sort_values(ascending=False).reset_index(name = 'Install_count')\n",
        "paid_price_install"
      ],
      "metadata": {
        "colab": {
          "base_uri": "https://localhost:8080/",
          "height": 424
        },
        "id": "rIuEyT7Y4HoI",
        "outputId": "a99ce591-bea9-4b29-b489-e65f847cbd10"
      },
      "execution_count": null,
      "outputs": [
        {
          "output_type": "execute_result",
          "data": {
            "text/plain": [
              "         Category   Price  Install_count\n",
              "0            GAME    0.99       15170914\n",
              "1          FAMILY    6.99       10000000\n",
              "2          FAMILY    2.99        4229361\n",
              "3          FAMILY    0.99        2889601\n",
              "4            GAME    2.99        1820000\n",
              "..            ...     ...            ...\n",
              "268       MEDICAL  200.00              0\n",
              "269       FINANCE  394.99              0\n",
              "270  PRODUCTIVITY  154.99              0\n",
              "271       FINANCE   30.99              0\n",
              "272        SOCIAL   13.99              0\n",
              "\n",
              "[273 rows x 3 columns]"
            ],
            "text/html": [
              "\n",
              "  <div id=\"df-7d98cedb-c2e6-492b-a81b-eb1fd24df415\">\n",
              "    <div class=\"colab-df-container\">\n",
              "      <div>\n",
              "<style scoped>\n",
              "    .dataframe tbody tr th:only-of-type {\n",
              "        vertical-align: middle;\n",
              "    }\n",
              "\n",
              "    .dataframe tbody tr th {\n",
              "        vertical-align: top;\n",
              "    }\n",
              "\n",
              "    .dataframe thead th {\n",
              "        text-align: right;\n",
              "    }\n",
              "</style>\n",
              "<table border=\"1\" class=\"dataframe\">\n",
              "  <thead>\n",
              "    <tr style=\"text-align: right;\">\n",
              "      <th></th>\n",
              "      <th>Category</th>\n",
              "      <th>Price</th>\n",
              "      <th>Install_count</th>\n",
              "    </tr>\n",
              "  </thead>\n",
              "  <tbody>\n",
              "    <tr>\n",
              "      <th>0</th>\n",
              "      <td>GAME</td>\n",
              "      <td>0.99</td>\n",
              "      <td>15170914</td>\n",
              "    </tr>\n",
              "    <tr>\n",
              "      <th>1</th>\n",
              "      <td>FAMILY</td>\n",
              "      <td>6.99</td>\n",
              "      <td>10000000</td>\n",
              "    </tr>\n",
              "    <tr>\n",
              "      <th>2</th>\n",
              "      <td>FAMILY</td>\n",
              "      <td>2.99</td>\n",
              "      <td>4229361</td>\n",
              "    </tr>\n",
              "    <tr>\n",
              "      <th>3</th>\n",
              "      <td>FAMILY</td>\n",
              "      <td>0.99</td>\n",
              "      <td>2889601</td>\n",
              "    </tr>\n",
              "    <tr>\n",
              "      <th>4</th>\n",
              "      <td>GAME</td>\n",
              "      <td>2.99</td>\n",
              "      <td>1820000</td>\n",
              "    </tr>\n",
              "    <tr>\n",
              "      <th>...</th>\n",
              "      <td>...</td>\n",
              "      <td>...</td>\n",
              "      <td>...</td>\n",
              "    </tr>\n",
              "    <tr>\n",
              "      <th>268</th>\n",
              "      <td>MEDICAL</td>\n",
              "      <td>200.00</td>\n",
              "      <td>0</td>\n",
              "    </tr>\n",
              "    <tr>\n",
              "      <th>269</th>\n",
              "      <td>FINANCE</td>\n",
              "      <td>394.99</td>\n",
              "      <td>0</td>\n",
              "    </tr>\n",
              "    <tr>\n",
              "      <th>270</th>\n",
              "      <td>PRODUCTIVITY</td>\n",
              "      <td>154.99</td>\n",
              "      <td>0</td>\n",
              "    </tr>\n",
              "    <tr>\n",
              "      <th>271</th>\n",
              "      <td>FINANCE</td>\n",
              "      <td>30.99</td>\n",
              "      <td>0</td>\n",
              "    </tr>\n",
              "    <tr>\n",
              "      <th>272</th>\n",
              "      <td>SOCIAL</td>\n",
              "      <td>13.99</td>\n",
              "      <td>0</td>\n",
              "    </tr>\n",
              "  </tbody>\n",
              "</table>\n",
              "<p>273 rows × 3 columns</p>\n",
              "</div>\n",
              "      <button class=\"colab-df-convert\" onclick=\"convertToInteractive('df-7d98cedb-c2e6-492b-a81b-eb1fd24df415')\"\n",
              "              title=\"Convert this dataframe to an interactive table.\"\n",
              "              style=\"display:none;\">\n",
              "        \n",
              "  <svg xmlns=\"http://www.w3.org/2000/svg\" height=\"24px\"viewBox=\"0 0 24 24\"\n",
              "       width=\"24px\">\n",
              "    <path d=\"M0 0h24v24H0V0z\" fill=\"none\"/>\n",
              "    <path d=\"M18.56 5.44l.94 2.06.94-2.06 2.06-.94-2.06-.94-.94-2.06-.94 2.06-2.06.94zm-11 1L8.5 8.5l.94-2.06 2.06-.94-2.06-.94L8.5 2.5l-.94 2.06-2.06.94zm10 10l.94 2.06.94-2.06 2.06-.94-2.06-.94-.94-2.06-.94 2.06-2.06.94z\"/><path d=\"M17.41 7.96l-1.37-1.37c-.4-.4-.92-.59-1.43-.59-.52 0-1.04.2-1.43.59L10.3 9.45l-7.72 7.72c-.78.78-.78 2.05 0 2.83L4 21.41c.39.39.9.59 1.41.59.51 0 1.02-.2 1.41-.59l7.78-7.78 2.81-2.81c.8-.78.8-2.07 0-2.86zM5.41 20L4 18.59l7.72-7.72 1.47 1.35L5.41 20z\"/>\n",
              "  </svg>\n",
              "      </button>\n",
              "      \n",
              "  <style>\n",
              "    .colab-df-container {\n",
              "      display:flex;\n",
              "      flex-wrap:wrap;\n",
              "      gap: 12px;\n",
              "    }\n",
              "\n",
              "    .colab-df-convert {\n",
              "      background-color: #E8F0FE;\n",
              "      border: none;\n",
              "      border-radius: 50%;\n",
              "      cursor: pointer;\n",
              "      display: none;\n",
              "      fill: #1967D2;\n",
              "      height: 32px;\n",
              "      padding: 0 0 0 0;\n",
              "      width: 32px;\n",
              "    }\n",
              "\n",
              "    .colab-df-convert:hover {\n",
              "      background-color: #E2EBFA;\n",
              "      box-shadow: 0px 1px 2px rgba(60, 64, 67, 0.3), 0px 1px 3px 1px rgba(60, 64, 67, 0.15);\n",
              "      fill: #174EA6;\n",
              "    }\n",
              "\n",
              "    [theme=dark] .colab-df-convert {\n",
              "      background-color: #3B4455;\n",
              "      fill: #D2E3FC;\n",
              "    }\n",
              "\n",
              "    [theme=dark] .colab-df-convert:hover {\n",
              "      background-color: #434B5C;\n",
              "      box-shadow: 0px 1px 3px 1px rgba(0, 0, 0, 0.15);\n",
              "      filter: drop-shadow(0px 1px 2px rgba(0, 0, 0, 0.3));\n",
              "      fill: #FFFFFF;\n",
              "    }\n",
              "  </style>\n",
              "\n",
              "      <script>\n",
              "        const buttonEl =\n",
              "          document.querySelector('#df-7d98cedb-c2e6-492b-a81b-eb1fd24df415 button.colab-df-convert');\n",
              "        buttonEl.style.display =\n",
              "          google.colab.kernel.accessAllowed ? 'block' : 'none';\n",
              "\n",
              "        async function convertToInteractive(key) {\n",
              "          const element = document.querySelector('#df-7d98cedb-c2e6-492b-a81b-eb1fd24df415');\n",
              "          const dataTable =\n",
              "            await google.colab.kernel.invokeFunction('convertToInteractive',\n",
              "                                                     [key], {});\n",
              "          if (!dataTable) return;\n",
              "\n",
              "          const docLinkHtml = 'Like what you see? Visit the ' +\n",
              "            '<a target=\"_blank\" href=https://colab.research.google.com/notebooks/data_table.ipynb>data table notebook</a>'\n",
              "            + ' to learn more about interactive tables.';\n",
              "          element.innerHTML = '';\n",
              "          dataTable['output_type'] = 'display_data';\n",
              "          await google.colab.output.renderOutput(dataTable, element);\n",
              "          const docLink = document.createElement('div');\n",
              "          docLink.innerHTML = docLinkHtml;\n",
              "          element.appendChild(docLink);\n",
              "        }\n",
              "      </script>\n",
              "    </div>\n",
              "  </div>\n",
              "  "
            ]
          },
          "metadata": {},
          "execution_count": 272
        }
      ]
    },
    {
      "cell_type": "code",
      "source": [
        "px.scatter(paid_price_install, x='Price', y='Install_count', size=\"Install_count\", color=\"Category\",\n",
        "                 hover_name=\"Price\", log_x=True, size_max=60)"
      ],
      "metadata": {
        "colab": {
          "base_uri": "https://localhost:8080/",
          "height": 542
        },
        "id": "jeKUKQ5nJaDL",
        "outputId": "90e502f2-a99e-479c-d0eb-acd14e8bc07c"
      },
      "execution_count": null,
      "outputs": [
        {
          "output_type": "display_data",
          "data": {
            "text/html": [
              "<html>\n",
              "<head><meta charset=\"utf-8\" /></head>\n",
              "<body>\n",
              "    <div>            <script src=\"https://cdnjs.cloudflare.com/ajax/libs/mathjax/2.7.5/MathJax.js?config=TeX-AMS-MML_SVG\"></script><script type=\"text/javascript\">if (window.MathJax) {MathJax.Hub.Config({SVG: {font: \"STIX-Web\"}});}</script>                <script type=\"text/javascript\">window.PlotlyConfig = {MathJaxConfig: 'local'};</script>\n",
              "        <script src=\"https://cdn.plot.ly/plotly-2.8.3.min.js\"></script>                <div id=\"3803dbe2-a10a-43e3-a820-16811ce34c4f\" class=\"plotly-graph-div\" style=\"height:525px; width:100%;\"></div>            <script type=\"text/javascript\">                                    window.PLOTLYENV=window.PLOTLYENV || {};                                    if (document.getElementById(\"3803dbe2-a10a-43e3-a820-16811ce34c4f\")) {                    Plotly.newPlot(                        \"3803dbe2-a10a-43e3-a820-16811ce34c4f\",                        [{\"hovertemplate\":\"<b>%{hovertext}</b><br><br>Category=GAME<br>Price=%{x}<br>Install_count=%{marker.size}<extra></extra>\",\"hovertext\":[0.99,2.99,4.99,6.99,1.99,3.99,5.99,9.99,17.99,16.99,7.99,3.49,2.49,1.61,4.49,14.0,1.49],\"legendgroup\":\"GAME\",\"marker\":{\"color\":\"#636efa\",\"size\":[15170914,1820000,1641100,1106000,917250,111000,100000,100000,10000,10000,10000,1000,1000,1000,600,100,1],\"sizemode\":\"area\",\"sizeref\":4214.142777777778,\"symbol\":\"circle\"},\"mode\":\"markers\",\"name\":\"GAME\",\"orientation\":\"v\",\"showlegend\":true,\"x\":[0.99,2.99,4.99,6.99,1.99,3.99,5.99,9.99,17.99,16.99,7.99,3.49,2.49,1.61,4.49,14.0,1.49],\"xaxis\":\"x\",\"y\":[15170914,1820000,1641100,1106000,917250,111000,100000,100000,10000,10000,10000,1000,1000,1000,600,100,1],\"yaxis\":\"y\",\"type\":\"scatter\"},{\"hovertemplate\":\"<b>%{hovertext}</b><br><br>Category=FAMILY<br>Price=%{x}<br>Install_count=%{marker.size}<extra></extra>\",\"hovertext\":[6.99,2.99,0.99,1.99,4.99,9.99,3.99,14.99,1.49,7.99,13.99,19.99,4.77,399.99,2.49,12.99,1.59,1.2,389.99,4.49,5.99,4.84,7.49,10.0,10.99,19.4,1.26,1.04,2.0,46.99,29.99,39.99],\"legendgroup\":\"FAMILY\",\"marker\":{\"color\":\"#EF553B\",\"size\":[10000000,4229361,2889601,1128366,1106720,360100,316250,120010,115370,100000,100000,50010,50000,15100,13601,10100,10000,10000,10000,5000,5000,1000,1000,1000,1000,1000,100,50,50,10,10,5],\"sizemode\":\"area\",\"sizeref\":4214.142777777778,\"symbol\":\"circle\"},\"mode\":\"markers\",\"name\":\"FAMILY\",\"orientation\":\"v\",\"showlegend\":true,\"x\":[6.99,2.99,0.99,1.99,4.99,9.99,3.99,14.99,1.49,7.99,13.99,19.99,4.77,399.99,2.49,12.99,1.59,1.2,389.99,4.49,5.99,4.84,7.49,10.0,10.99,19.4,1.26,1.04,2.0,46.99,29.99,39.99],\"xaxis\":\"x\",\"y\":[10000000,4229361,2889601,1128366,1106720,360100,316250,120010,115370,100000,100000,50010,50000,15100,13601,10100,10000,10000,10000,5000,5000,1000,1000,1000,1000,1000,100,50,50,10,10,5],\"yaxis\":\"y\",\"type\":\"scatter\"},{\"hovertemplate\":\"<b>%{hovertext}</b><br><br>Category=PERSONALIZATION<br>Price=%{x}<br>Install_count=%{marker.size}<extra></extra>\",\"hovertext\":[2.49,0.99,1.99,2.99,4.99,4.49,9.99,1.49,6.99,1.7,3.99,2.0,4.85],\"legendgroup\":\"PERSONALIZATION\",\"marker\":{\"color\":\"#00cc96\",\"size\":[1551110,1231467,136100,110050,102000,100000,10000,9517,5000,2000,1000,500,50],\"sizemode\":\"area\",\"sizeref\":4214.142777777778,\"symbol\":\"circle\"},\"mode\":\"markers\",\"name\":\"PERSONALIZATION\",\"orientation\":\"v\",\"showlegend\":true,\"x\":[2.49,0.99,1.99,2.99,4.99,4.49,9.99,1.49,6.99,1.7,3.99,2.0,4.85],\"xaxis\":\"x\",\"y\":[1551110,1231467,136100,110050,102000,100000,10000,9517,5000,2000,1000,500,50],\"yaxis\":\"y\",\"type\":\"scatter\"},{\"hovertemplate\":\"<b>%{hovertext}</b><br><br>Category=TOOLS<br>Price=%{x}<br>Install_count=%{marker.size}<extra></extra>\",\"hovertext\":[2.99,3.99,2.49,4.49,3.49,4.99,1.99,0.99,2.5,1.97,2.59,2.95,3.28,3.9,14.99,1.0,1.49,5.99,1.76,25.99,8.99],\"legendgroup\":\"TOOLS\",\"marker\":{\"color\":\"#ab63fa\",\"size\":[1141160,102200,101000,100000,100000,42100,41850,24655,10000,10000,10000,10000,10000,10000,6000,5000,2211,1200,50,10,5],\"sizemode\":\"area\",\"sizeref\":4214.142777777778,\"symbol\":\"circle\"},\"mode\":\"markers\",\"name\":\"TOOLS\",\"orientation\":\"v\",\"showlegend\":true,\"x\":[2.99,3.99,2.49,4.49,3.49,4.99,1.99,0.99,2.5,1.97,2.59,2.95,3.28,3.9,14.99,1.0,1.49,5.99,1.76,25.99,8.99],\"xaxis\":\"x\",\"y\":[1141160,102200,101000,100000,100000,42100,41850,24655,10000,10000,10000,10000,10000,10000,6000,5000,2211,1200,50,10,5],\"yaxis\":\"y\",\"type\":\"scatter\"},{\"hovertemplate\":\"<b>%{hovertext}</b><br><br>Category=COMMUNICATION<br>Price=%{x}<br>Install_count=%{marker.size}<extra></extra>\",\"hovertext\":[2.99,3.99,2.9,0.99,4.99,1.49,2.49,19.99,1.99],\"legendgroup\":\"COMMUNICATION\",\"marker\":{\"color\":\"#FFA15A\",\"size\":[1021000,200500,100000,16620,15500,5400,1010,10,10],\"sizemode\":\"area\",\"sizeref\":4214.142777777778,\"symbol\":\"circle\"},\"mode\":\"markers\",\"name\":\"COMMUNICATION\",\"orientation\":\"v\",\"showlegend\":true,\"x\":[2.99,3.99,2.9,0.99,4.99,1.49,2.49,19.99,1.99],\"xaxis\":\"x\",\"y\":[1021000,200500,100000,16620,15500,5400,1010,10,10],\"yaxis\":\"y\",\"type\":\"scatter\"},{\"hovertemplate\":\"<b>%{hovertext}</b><br><br>Category=SPORTS<br>Price=%{x}<br>Install_count=%{marker.size}<extra></extra>\",\"hovertext\":[1.99,8.99,3.99,29.99,4.99,2.99,0.99,1.0,4.49,2.49,3.02,3.49,3.88,4.8],\"legendgroup\":\"SPORTS\",\"marker\":{\"color\":\"#19d3f3\",\"size\":[1011005,100000,51000,50000,10000,7500,7000,5000,1000,1000,100,100,100,10],\"sizemode\":\"area\",\"sizeref\":4214.142777777778,\"symbol\":\"circle\"},\"mode\":\"markers\",\"name\":\"SPORTS\",\"orientation\":\"v\",\"showlegend\":true,\"x\":[1.99,8.99,3.99,29.99,4.99,2.99,0.99,1.0,4.49,2.49,3.02,3.49,3.88,4.8],\"xaxis\":\"x\",\"y\":[1011005,100000,51000,50000,10000,7500,7000,5000,1000,1000,100,100,100,10],\"yaxis\":\"y\",\"type\":\"scatter\"},{\"hovertemplate\":\"<b>%{hovertext}</b><br><br>Category=PHOTOGRAPHY<br>Price=%{x}<br>Install_count=%{marker.size}<extra></extra>\",\"hovertext\":[5.99,2.99,1.49,3.95,1.99,4.99,9.99,19.99,3.99,2.0,29.99,3.49],\"legendgroup\":\"PHOTOGRAPHY\",\"marker\":{\"color\":\"#FF6692\",\"size\":[1000000,606000,100500,100000,60000,10010,1100,1000,100,10,10,10],\"sizemode\":\"area\",\"sizeref\":4214.142777777778,\"symbol\":\"circle\"},\"mode\":\"markers\",\"name\":\"PHOTOGRAPHY\",\"orientation\":\"v\",\"showlegend\":true,\"x\":[5.99,2.99,1.49,3.95,1.99,4.99,9.99,19.99,3.99,2.0,29.99,3.49],\"xaxis\":\"x\",\"y\":[1000000,606000,100500,100000,60000,10010,1100,1000,100,10,10,10],\"yaxis\":\"y\",\"type\":\"scatter\"},{\"hovertemplate\":\"<b>%{hovertext}</b><br><br>Category=LIFESTYLE<br>Price=%{x}<br>Install_count=%{marker.size}<extra></extra>\",\"hovertext\":[5.99,399.99,2.49,7.99,299.99,400.0,0.99,3.99,2.99,1.99,4.99,379.99,37.99,3.04],\"legendgroup\":\"LIFESTYLE\",\"marker\":{\"color\":\"#B6E880\",\"size\":[1000000,110000,15000,10000,10000,10000,5100,5000,5000,5000,2000,1000,1000,10],\"sizemode\":\"area\",\"sizeref\":4214.142777777778,\"symbol\":\"circle\"},\"mode\":\"markers\",\"name\":\"LIFESTYLE\",\"orientation\":\"v\",\"showlegend\":true,\"x\":[5.99,399.99,2.49,7.99,299.99,400.0,0.99,3.99,2.99,1.99,4.99,379.99,37.99,3.04],\"xaxis\":\"x\",\"y\":[1000000,110000,15000,10000,10000,10000,5100,5000,5000,5000,2000,1000,1000,10],\"yaxis\":\"y\",\"type\":\"scatter\"},{\"hovertemplate\":\"<b>%{hovertext}</b><br><br>Category=EDUCATION<br>Price=%{x}<br>Install_count=%{marker.size}<extra></extra>\",\"hovertext\":[3.99,5.99],\"legendgroup\":\"EDUCATION\",\"marker\":{\"color\":\"#FF97FF\",\"size\":[601000,1000],\"sizemode\":\"area\",\"sizeref\":4214.142777777778,\"symbol\":\"circle\"},\"mode\":\"markers\",\"name\":\"EDUCATION\",\"orientation\":\"v\",\"showlegend\":true,\"x\":[3.99,5.99],\"xaxis\":\"x\",\"y\":[601000,1000],\"yaxis\":\"y\",\"type\":\"scatter\"},{\"hovertemplate\":\"<b>%{hovertext}</b><br><br>Category=PRODUCTIVITY<br>Price=%{x}<br>Install_count=%{marker.size}<extra></extra>\",\"hovertext\":[2.99,1.99,4.99,5.99,4.49,1.49,3.99,0.99,4.29,8.49,7.99,1.29,8.99,6.49,2.6,154.99],\"legendgroup\":\"PRODUCTIVITY\",\"marker\":{\"color\":\"#FECB52\",\"size\":[551130,500050,100100,100000,100000,50000,5000,1125,1000,1000,1000,1000,500,100,50,0],\"sizemode\":\"area\",\"sizeref\":4214.142777777778,\"symbol\":\"circle\"},\"mode\":\"markers\",\"name\":\"PRODUCTIVITY\",\"orientation\":\"v\",\"showlegend\":true,\"x\":[2.99,1.99,4.99,5.99,4.49,1.49,3.99,0.99,4.29,8.49,7.99,1.29,8.99,6.49,2.6,154.99],\"xaxis\":\"x\",\"y\":[551130,500050,100100,100000,100000,50000,5000,1125,1000,1000,1000,1000,500,100,50,0],\"yaxis\":\"y\",\"type\":\"scatter\"},{\"hovertemplate\":\"<b>%{hovertext}</b><br><br>Category=WEATHER<br>Price=%{x}<br>Install_count=%{marker.size}<extra></extra>\",\"hovertext\":[5.99,2.99,4.49,3.99,6.99,1.99],\"legendgroup\":\"WEATHER\",\"marker\":{\"color\":\"#636efa\",\"size\":[500000,110500,100000,100000,1000,500],\"sizemode\":\"area\",\"sizeref\":4214.142777777778,\"symbol\":\"circle\"},\"mode\":\"markers\",\"name\":\"WEATHER\",\"orientation\":\"v\",\"showlegend\":true,\"x\":[5.99,2.99,4.49,3.99,6.99,1.99],\"xaxis\":\"x\",\"y\":[500000,110500,100000,100000,1000,500],\"yaxis\":\"y\",\"type\":\"scatter\"},{\"hovertemplate\":\"<b>%{hovertext}</b><br><br>Category=HEALTH_AND_FITNESS<br>Price=%{x}<br>Install_count=%{marker.size}<extra></extra>\",\"hovertext\":[2.99,1.99,3.49,6.99,3.99,4.99,7.99,5.99,9.99,0.99],\"legendgroup\":\"HEALTH_AND_FITNESS\",\"marker\":{\"color\":\"#EF553B\",\"size\":[250000,101000,100000,10000,10000,2000,1000,50,50,10],\"sizemode\":\"area\",\"sizeref\":4214.142777777778,\"symbol\":\"circle\"},\"mode\":\"markers\",\"name\":\"HEALTH_AND_FITNESS\",\"orientation\":\"v\",\"showlegend\":true,\"x\":[2.99,1.99,3.49,6.99,3.99,4.99,7.99,5.99,9.99,0.99],\"xaxis\":\"x\",\"y\":[250000,101000,100000,10000,10000,2000,1000,50,50,10],\"yaxis\":\"y\",\"type\":\"scatter\"},{\"hovertemplate\":\"<b>%{hovertext}</b><br><br>Category=BUSINESS<br>Price=%{x}<br>Install_count=%{marker.size}<extra></extra>\",\"hovertext\":[4.99,2.99,3.99,17.99,19.9,12.99,8.99,89.99,2.49,0.99],\"legendgroup\":\"BUSINESS\",\"marker\":{\"color\":\"#00cc96\",\"size\":[201000,10000,1000,500,100,100,50,10,10,5],\"sizemode\":\"area\",\"sizeref\":4214.142777777778,\"symbol\":\"circle\"},\"mode\":\"markers\",\"name\":\"BUSINESS\",\"orientation\":\"v\",\"showlegend\":true,\"x\":[4.99,2.99,3.99,17.99,19.9,12.99,8.99,89.99,2.49,0.99],\"xaxis\":\"x\",\"y\":[201000,10000,1000,500,100,100,50,10,10,5],\"yaxis\":\"y\",\"type\":\"scatter\"},{\"hovertemplate\":\"<b>%{hovertext}</b><br><br>Category=MEDICAL<br>Price=%{x}<br>Install_count=%{marker.size}<extra></extra>\",\"hovertext\":[24.99,9.0,3.99,2.99,11.99,0.99,9.99,1.99,5.49,6.99,10.0,7.99,5.99,14.99,2.49,4.99,29.99,79.99,7.49,10.99,15.46,16.99,19.99,33.99,74.99,1.5,15.99,1.0,3.49,5.0,12.99,39.99,200.0],\"legendgroup\":\"MEDICAL\",\"marker\":{\"color\":\"#ab63fa\",\"size\":[110100,100000,88501,87711,60000,16761,13200,11000,11000,10100,10000,10000,6610,6050,5000,2000,2000,1000,1000,1000,1000,1000,1000,1000,1000,1000,500,500,500,100,100,100,0],\"sizemode\":\"area\",\"sizeref\":4214.142777777778,\"symbol\":\"circle\"},\"mode\":\"markers\",\"name\":\"MEDICAL\",\"orientation\":\"v\",\"showlegend\":true,\"x\":[24.99,9.0,3.99,2.99,11.99,0.99,9.99,1.99,5.49,6.99,10.0,7.99,5.99,14.99,2.49,4.99,29.99,79.99,7.49,10.99,15.46,16.99,19.99,33.99,74.99,1.5,15.99,1.0,3.49,5.0,12.99,39.99,200.0],\"xaxis\":\"x\",\"y\":[110100,100000,88501,87711,60000,16761,13200,11000,11000,10100,10000,10000,6610,6050,5000,2000,2000,1000,1000,1000,1000,1000,1000,1000,1000,1000,500,500,500,100,100,100,0],\"yaxis\":\"y\",\"type\":\"scatter\"},{\"hovertemplate\":\"<b>%{hovertext}</b><br><br>Category=FINANCE<br>Price=%{x}<br>Install_count=%{marker.size}<extra></extra>\",\"hovertext\":[2.99,399.99,18.99,3.99,1.99,4.99,5.99,28.99,394.99,30.99],\"legendgroup\":\"FINANCE\",\"marker\":{\"color\":\"#FFA15A\",\"size\":[110000,63000,10000,1500,1000,100,1,1,0,0],\"sizemode\":\"area\",\"sizeref\":4214.142777777778,\"symbol\":\"circle\"},\"mode\":\"markers\",\"name\":\"FINANCE\",\"orientation\":\"v\",\"showlegend\":true,\"x\":[2.99,399.99,18.99,3.99,1.99,4.99,5.99,28.99,394.99,30.99],\"xaxis\":\"x\",\"y\":[110000,63000,10000,1500,1000,100,1,1,0,0],\"yaxis\":\"y\",\"type\":\"scatter\"},{\"hovertemplate\":\"<b>%{hovertext}</b><br><br>Category=TRAVEL_AND_LOCAL<br>Price=%{x}<br>Install_count=%{marker.size}<extra></extra>\",\"hovertext\":[8.99,2.49,1.99,5.99,3.99,2.99,8.49,2.56,4.99,1.49],\"legendgroup\":\"TRAVEL_AND_LOCAL\",\"marker\":{\"color\":\"#19d3f3\",\"size\":[100000,50000,11000,10000,5000,5000,1000,1000,50,10],\"sizemode\":\"area\",\"sizeref\":4214.142777777778,\"symbol\":\"circle\"},\"mode\":\"markers\",\"name\":\"TRAVEL_AND_LOCAL\",\"orientation\":\"v\",\"showlegend\":true,\"x\":[8.99,2.49,1.99,5.99,3.99,2.99,8.49,2.56,4.99,1.49],\"xaxis\":\"x\",\"y\":[100000,50000,11000,10000,5000,5000,1000,1000,50,10],\"yaxis\":\"y\",\"type\":\"scatter\"},{\"hovertemplate\":\"<b>%{hovertext}</b><br><br>Category=MAPS_AND_NAVIGATION<br>Price=%{x}<br>Install_count=%{marker.size}<extra></extra>\",\"hovertext\":[11.99,0.99,2.99,9.99],\"legendgroup\":\"MAPS_AND_NAVIGATION\",\"marker\":{\"color\":\"#FF6692\",\"size\":[100000,11000,10000,100],\"sizemode\":\"area\",\"sizeref\":4214.142777777778,\"symbol\":\"circle\"},\"mode\":\"markers\",\"name\":\"MAPS_AND_NAVIGATION\",\"orientation\":\"v\",\"showlegend\":true,\"x\":[11.99,0.99,2.99,9.99],\"xaxis\":\"x\",\"y\":[100000,11000,10000,100],\"yaxis\":\"y\",\"type\":\"scatter\"},{\"hovertemplate\":\"<b>%{hovertext}</b><br><br>Category=ENTERTAINMENT<br>Price=%{x}<br>Install_count=%{marker.size}<extra></extra>\",\"hovertext\":[4.99,2.99],\"legendgroup\":\"ENTERTAINMENT\",\"marker\":{\"color\":\"#B6E880\",\"size\":[100000,100000],\"sizemode\":\"area\",\"sizeref\":4214.142777777778,\"symbol\":\"circle\"},\"mode\":\"markers\",\"name\":\"ENTERTAINMENT\",\"orientation\":\"v\",\"showlegend\":true,\"x\":[4.99,2.99],\"xaxis\":\"x\",\"y\":[100000,100000],\"yaxis\":\"y\",\"type\":\"scatter\"},{\"hovertemplate\":\"<b>%{hovertext}</b><br><br>Category=FOOD_AND_DRINK<br>Price=%{x}<br>Install_count=%{marker.size}<extra></extra>\",\"hovertext\":[4.99,3.49],\"legendgroup\":\"FOOD_AND_DRINK\",\"marker\":{\"color\":\"#FF97FF\",\"size\":[50000,10000],\"sizemode\":\"area\",\"sizeref\":4214.142777777778,\"symbol\":\"circle\"},\"mode\":\"markers\",\"name\":\"FOOD_AND_DRINK\",\"orientation\":\"v\",\"showlegend\":true,\"x\":[4.99,3.49],\"xaxis\":\"x\",\"y\":[50000,10000],\"yaxis\":\"y\",\"type\":\"scatter\"},{\"hovertemplate\":\"<b>%{hovertext}</b><br><br>Category=PARENTING<br>Price=%{x}<br>Install_count=%{marker.size}<extra></extra>\",\"hovertext\":[4.99,4.59],\"legendgroup\":\"PARENTING\",\"marker\":{\"color\":\"#FECB52\",\"size\":[50000,100],\"sizemode\":\"area\",\"sizeref\":4214.142777777778,\"symbol\":\"circle\"},\"mode\":\"markers\",\"name\":\"PARENTING\",\"orientation\":\"v\",\"showlegend\":true,\"x\":[4.99,4.59],\"xaxis\":\"x\",\"y\":[50000,100],\"yaxis\":\"y\",\"type\":\"scatter\"},{\"hovertemplate\":\"<b>%{hovertext}</b><br><br>Category=VIDEO_PLAYERS<br>Price=%{x}<br>Install_count=%{marker.size}<extra></extra>\",\"hovertext\":[5.99,1.49,1.99,0.99],\"legendgroup\":\"VIDEO_PLAYERS\",\"marker\":{\"color\":\"#636efa\",\"size\":[50000,10000,10000,1000],\"sizemode\":\"area\",\"sizeref\":4214.142777777778,\"symbol\":\"circle\"},\"mode\":\"markers\",\"name\":\"VIDEO_PLAYERS\",\"orientation\":\"v\",\"showlegend\":true,\"x\":[5.99,1.49,1.99,0.99],\"xaxis\":\"x\",\"y\":[50000,10000,10000,1000],\"yaxis\":\"y\",\"type\":\"scatter\"},{\"hovertemplate\":\"<b>%{hovertext}</b><br><br>Category=AUTO_AND_VEHICLES<br>Price=%{x}<br>Install_count=%{marker.size}<extra></extra>\",\"hovertext\":[1.99,1.49,9.99],\"legendgroup\":\"AUTO_AND_VEHICLES\",\"marker\":{\"color\":\"#EF553B\",\"size\":[50000,100,50],\"sizemode\":\"area\",\"sizeref\":4214.142777777778,\"symbol\":\"circle\"},\"mode\":\"markers\",\"name\":\"AUTO_AND_VEHICLES\",\"orientation\":\"v\",\"showlegend\":true,\"x\":[1.99,1.49,9.99],\"xaxis\":\"x\",\"y\":[50000,100,50],\"yaxis\":\"y\",\"type\":\"scatter\"},{\"hovertemplate\":\"<b>%{hovertext}</b><br><br>Category=ART_AND_DESIGN<br>Price=%{x}<br>Install_count=%{marker.size}<extra></extra>\",\"hovertext\":[1.99],\"legendgroup\":\"ART_AND_DESIGN\",\"marker\":{\"color\":\"#00cc96\",\"size\":[16000],\"sizemode\":\"area\",\"sizeref\":4214.142777777778,\"symbol\":\"circle\"},\"mode\":\"markers\",\"name\":\"ART_AND_DESIGN\",\"orientation\":\"v\",\"showlegend\":true,\"x\":[1.99],\"xaxis\":\"x\",\"y\":[16000],\"yaxis\":\"y\",\"type\":\"scatter\"},{\"hovertemplate\":\"<b>%{hovertext}</b><br><br>Category=DATING<br>Price=%{x}<br>Install_count=%{marker.size}<extra></extra>\",\"hovertext\":[3.99,6.99,7.99,2.99,1.49],\"legendgroup\":\"DATING\",\"marker\":{\"color\":\"#ab63fa\",\"size\":[10100,1000,100,100,50],\"sizemode\":\"area\",\"sizeref\":4214.142777777778,\"symbol\":\"circle\"},\"mode\":\"markers\",\"name\":\"DATING\",\"orientation\":\"v\",\"showlegend\":true,\"x\":[3.99,6.99,7.99,2.99,1.49],\"xaxis\":\"x\",\"y\":[10100,1000,100,100,50],\"yaxis\":\"y\",\"type\":\"scatter\"},{\"hovertemplate\":\"<b>%{hovertext}</b><br><br>Category=SHOPPING<br>Price=%{x}<br>Install_count=%{marker.size}<extra></extra>\",\"hovertext\":[2.99,2.49],\"legendgroup\":\"SHOPPING\",\"marker\":{\"color\":\"#FFA15A\",\"size\":[10000,100],\"sizemode\":\"area\",\"sizeref\":4214.142777777778,\"symbol\":\"circle\"},\"mode\":\"markers\",\"name\":\"SHOPPING\",\"orientation\":\"v\",\"showlegend\":true,\"x\":[2.99,2.49],\"xaxis\":\"x\",\"y\":[10000,100],\"yaxis\":\"y\",\"type\":\"scatter\"},{\"hovertemplate\":\"<b>%{hovertext}</b><br><br>Category=BOOKS_AND_REFERENCE<br>Price=%{x}<br>Install_count=%{marker.size}<extra></extra>\",\"hovertext\":[4.49,2.99,4.6,0.99,1.99,3.08,3.99,5.99,1.75,6.49,5.49,1.96,3.61],\"legendgroup\":\"BOOKS_AND_REFERENCE\",\"marker\":{\"color\":\"#19d3f3\",\"size\":[10000,5010,5000,1015,1000,1000,100,51,50,40,30,10,10],\"sizemode\":\"area\",\"sizeref\":4214.142777777778,\"symbol\":\"circle\"},\"mode\":\"markers\",\"name\":\"BOOKS_AND_REFERENCE\",\"orientation\":\"v\",\"showlegend\":true,\"x\":[4.49,2.99,4.6,0.99,1.99,3.08,3.99,5.99,1.75,6.49,5.49,1.96,3.61],\"xaxis\":\"x\",\"y\":[10000,5010,5000,1015,1000,1000,100,51,50,40,30,10,10],\"yaxis\":\"y\",\"type\":\"scatter\"},{\"hovertemplate\":\"<b>%{hovertext}</b><br><br>Category=SOCIAL<br>Price=%{x}<br>Install_count=%{marker.size}<extra></extra>\",\"hovertext\":[0.99,13.99],\"legendgroup\":\"SOCIAL\",\"marker\":{\"color\":\"#FF6692\",\"size\":[6000,0],\"sizemode\":\"area\",\"sizeref\":4214.142777777778,\"symbol\":\"circle\"},\"mode\":\"markers\",\"name\":\"SOCIAL\",\"orientation\":\"v\",\"showlegend\":true,\"x\":[0.99,13.99],\"xaxis\":\"x\",\"y\":[6000,0],\"yaxis\":\"y\",\"type\":\"scatter\"},{\"hovertemplate\":\"<b>%{hovertext}</b><br><br>Category=NEWS_AND_MAGAZINES<br>Price=%{x}<br>Install_count=%{marker.size}<extra></extra>\",\"hovertext\":[0.99,2.99],\"legendgroup\":\"NEWS_AND_MAGAZINES\",\"marker\":{\"color\":\"#B6E880\",\"size\":[5000,500],\"sizemode\":\"area\",\"sizeref\":4214.142777777778,\"symbol\":\"circle\"},\"mode\":\"markers\",\"name\":\"NEWS_AND_MAGAZINES\",\"orientation\":\"v\",\"showlegend\":true,\"x\":[0.99,2.99],\"xaxis\":\"x\",\"y\":[5000,500],\"yaxis\":\"y\",\"type\":\"scatter\"},{\"hovertemplate\":\"<b>%{hovertext}</b><br><br>Category=LIBRARIES_AND_DEMO<br>Price=%{x}<br>Install_count=%{marker.size}<extra></extra>\",\"hovertext\":[0.99],\"legendgroup\":\"LIBRARIES_AND_DEMO\",\"marker\":{\"color\":\"#FF97FF\",\"size\":[100],\"sizemode\":\"area\",\"sizeref\":4214.142777777778,\"symbol\":\"circle\"},\"mode\":\"markers\",\"name\":\"LIBRARIES_AND_DEMO\",\"orientation\":\"v\",\"showlegend\":true,\"x\":[0.99],\"xaxis\":\"x\",\"y\":[100],\"yaxis\":\"y\",\"type\":\"scatter\"},{\"hovertemplate\":\"<b>%{hovertext}</b><br><br>Category=EVENTS<br>Price=%{x}<br>Install_count=%{marker.size}<extra></extra>\",\"hovertext\":[109.99],\"legendgroup\":\"EVENTS\",\"marker\":{\"color\":\"#FECB52\",\"size\":[1],\"sizemode\":\"area\",\"sizeref\":4214.142777777778,\"symbol\":\"circle\"},\"mode\":\"markers\",\"name\":\"EVENTS\",\"orientation\":\"v\",\"showlegend\":true,\"x\":[109.99],\"xaxis\":\"x\",\"y\":[1],\"yaxis\":\"y\",\"type\":\"scatter\"}],                        {\"template\":{\"data\":{\"bar\":[{\"error_x\":{\"color\":\"#2a3f5f\"},\"error_y\":{\"color\":\"#2a3f5f\"},\"marker\":{\"line\":{\"color\":\"#E5ECF6\",\"width\":0.5},\"pattern\":{\"fillmode\":\"overlay\",\"size\":10,\"solidity\":0.2}},\"type\":\"bar\"}],\"barpolar\":[{\"marker\":{\"line\":{\"color\":\"#E5ECF6\",\"width\":0.5},\"pattern\":{\"fillmode\":\"overlay\",\"size\":10,\"solidity\":0.2}},\"type\":\"barpolar\"}],\"carpet\":[{\"aaxis\":{\"endlinecolor\":\"#2a3f5f\",\"gridcolor\":\"white\",\"linecolor\":\"white\",\"minorgridcolor\":\"white\",\"startlinecolor\":\"#2a3f5f\"},\"baxis\":{\"endlinecolor\":\"#2a3f5f\",\"gridcolor\":\"white\",\"linecolor\":\"white\",\"minorgridcolor\":\"white\",\"startlinecolor\":\"#2a3f5f\"},\"type\":\"carpet\"}],\"choropleth\":[{\"colorbar\":{\"outlinewidth\":0,\"ticks\":\"\"},\"type\":\"choropleth\"}],\"contour\":[{\"colorbar\":{\"outlinewidth\":0,\"ticks\":\"\"},\"colorscale\":[[0.0,\"#0d0887\"],[0.1111111111111111,\"#46039f\"],[0.2222222222222222,\"#7201a8\"],[0.3333333333333333,\"#9c179e\"],[0.4444444444444444,\"#bd3786\"],[0.5555555555555556,\"#d8576b\"],[0.6666666666666666,\"#ed7953\"],[0.7777777777777778,\"#fb9f3a\"],[0.8888888888888888,\"#fdca26\"],[1.0,\"#f0f921\"]],\"type\":\"contour\"}],\"contourcarpet\":[{\"colorbar\":{\"outlinewidth\":0,\"ticks\":\"\"},\"type\":\"contourcarpet\"}],\"heatmap\":[{\"colorbar\":{\"outlinewidth\":0,\"ticks\":\"\"},\"colorscale\":[[0.0,\"#0d0887\"],[0.1111111111111111,\"#46039f\"],[0.2222222222222222,\"#7201a8\"],[0.3333333333333333,\"#9c179e\"],[0.4444444444444444,\"#bd3786\"],[0.5555555555555556,\"#d8576b\"],[0.6666666666666666,\"#ed7953\"],[0.7777777777777778,\"#fb9f3a\"],[0.8888888888888888,\"#fdca26\"],[1.0,\"#f0f921\"]],\"type\":\"heatmap\"}],\"heatmapgl\":[{\"colorbar\":{\"outlinewidth\":0,\"ticks\":\"\"},\"colorscale\":[[0.0,\"#0d0887\"],[0.1111111111111111,\"#46039f\"],[0.2222222222222222,\"#7201a8\"],[0.3333333333333333,\"#9c179e\"],[0.4444444444444444,\"#bd3786\"],[0.5555555555555556,\"#d8576b\"],[0.6666666666666666,\"#ed7953\"],[0.7777777777777778,\"#fb9f3a\"],[0.8888888888888888,\"#fdca26\"],[1.0,\"#f0f921\"]],\"type\":\"heatmapgl\"}],\"histogram\":[{\"marker\":{\"pattern\":{\"fillmode\":\"overlay\",\"size\":10,\"solidity\":0.2}},\"type\":\"histogram\"}],\"histogram2d\":[{\"colorbar\":{\"outlinewidth\":0,\"ticks\":\"\"},\"colorscale\":[[0.0,\"#0d0887\"],[0.1111111111111111,\"#46039f\"],[0.2222222222222222,\"#7201a8\"],[0.3333333333333333,\"#9c179e\"],[0.4444444444444444,\"#bd3786\"],[0.5555555555555556,\"#d8576b\"],[0.6666666666666666,\"#ed7953\"],[0.7777777777777778,\"#fb9f3a\"],[0.8888888888888888,\"#fdca26\"],[1.0,\"#f0f921\"]],\"type\":\"histogram2d\"}],\"histogram2dcontour\":[{\"colorbar\":{\"outlinewidth\":0,\"ticks\":\"\"},\"colorscale\":[[0.0,\"#0d0887\"],[0.1111111111111111,\"#46039f\"],[0.2222222222222222,\"#7201a8\"],[0.3333333333333333,\"#9c179e\"],[0.4444444444444444,\"#bd3786\"],[0.5555555555555556,\"#d8576b\"],[0.6666666666666666,\"#ed7953\"],[0.7777777777777778,\"#fb9f3a\"],[0.8888888888888888,\"#fdca26\"],[1.0,\"#f0f921\"]],\"type\":\"histogram2dcontour\"}],\"mesh3d\":[{\"colorbar\":{\"outlinewidth\":0,\"ticks\":\"\"},\"type\":\"mesh3d\"}],\"parcoords\":[{\"line\":{\"colorbar\":{\"outlinewidth\":0,\"ticks\":\"\"}},\"type\":\"parcoords\"}],\"pie\":[{\"automargin\":true,\"type\":\"pie\"}],\"scatter\":[{\"marker\":{\"colorbar\":{\"outlinewidth\":0,\"ticks\":\"\"}},\"type\":\"scatter\"}],\"scatter3d\":[{\"line\":{\"colorbar\":{\"outlinewidth\":0,\"ticks\":\"\"}},\"marker\":{\"colorbar\":{\"outlinewidth\":0,\"ticks\":\"\"}},\"type\":\"scatter3d\"}],\"scattercarpet\":[{\"marker\":{\"colorbar\":{\"outlinewidth\":0,\"ticks\":\"\"}},\"type\":\"scattercarpet\"}],\"scattergeo\":[{\"marker\":{\"colorbar\":{\"outlinewidth\":0,\"ticks\":\"\"}},\"type\":\"scattergeo\"}],\"scattergl\":[{\"marker\":{\"colorbar\":{\"outlinewidth\":0,\"ticks\":\"\"}},\"type\":\"scattergl\"}],\"scattermapbox\":[{\"marker\":{\"colorbar\":{\"outlinewidth\":0,\"ticks\":\"\"}},\"type\":\"scattermapbox\"}],\"scatterpolar\":[{\"marker\":{\"colorbar\":{\"outlinewidth\":0,\"ticks\":\"\"}},\"type\":\"scatterpolar\"}],\"scatterpolargl\":[{\"marker\":{\"colorbar\":{\"outlinewidth\":0,\"ticks\":\"\"}},\"type\":\"scatterpolargl\"}],\"scatterternary\":[{\"marker\":{\"colorbar\":{\"outlinewidth\":0,\"ticks\":\"\"}},\"type\":\"scatterternary\"}],\"surface\":[{\"colorbar\":{\"outlinewidth\":0,\"ticks\":\"\"},\"colorscale\":[[0.0,\"#0d0887\"],[0.1111111111111111,\"#46039f\"],[0.2222222222222222,\"#7201a8\"],[0.3333333333333333,\"#9c179e\"],[0.4444444444444444,\"#bd3786\"],[0.5555555555555556,\"#d8576b\"],[0.6666666666666666,\"#ed7953\"],[0.7777777777777778,\"#fb9f3a\"],[0.8888888888888888,\"#fdca26\"],[1.0,\"#f0f921\"]],\"type\":\"surface\"}],\"table\":[{\"cells\":{\"fill\":{\"color\":\"#EBF0F8\"},\"line\":{\"color\":\"white\"}},\"header\":{\"fill\":{\"color\":\"#C8D4E3\"},\"line\":{\"color\":\"white\"}},\"type\":\"table\"}]},\"layout\":{\"annotationdefaults\":{\"arrowcolor\":\"#2a3f5f\",\"arrowhead\":0,\"arrowwidth\":1},\"autotypenumbers\":\"strict\",\"coloraxis\":{\"colorbar\":{\"outlinewidth\":0,\"ticks\":\"\"}},\"colorscale\":{\"diverging\":[[0,\"#8e0152\"],[0.1,\"#c51b7d\"],[0.2,\"#de77ae\"],[0.3,\"#f1b6da\"],[0.4,\"#fde0ef\"],[0.5,\"#f7f7f7\"],[0.6,\"#e6f5d0\"],[0.7,\"#b8e186\"],[0.8,\"#7fbc41\"],[0.9,\"#4d9221\"],[1,\"#276419\"]],\"sequential\":[[0.0,\"#0d0887\"],[0.1111111111111111,\"#46039f\"],[0.2222222222222222,\"#7201a8\"],[0.3333333333333333,\"#9c179e\"],[0.4444444444444444,\"#bd3786\"],[0.5555555555555556,\"#d8576b\"],[0.6666666666666666,\"#ed7953\"],[0.7777777777777778,\"#fb9f3a\"],[0.8888888888888888,\"#fdca26\"],[1.0,\"#f0f921\"]],\"sequentialminus\":[[0.0,\"#0d0887\"],[0.1111111111111111,\"#46039f\"],[0.2222222222222222,\"#7201a8\"],[0.3333333333333333,\"#9c179e\"],[0.4444444444444444,\"#bd3786\"],[0.5555555555555556,\"#d8576b\"],[0.6666666666666666,\"#ed7953\"],[0.7777777777777778,\"#fb9f3a\"],[0.8888888888888888,\"#fdca26\"],[1.0,\"#f0f921\"]]},\"colorway\":[\"#636efa\",\"#EF553B\",\"#00cc96\",\"#ab63fa\",\"#FFA15A\",\"#19d3f3\",\"#FF6692\",\"#B6E880\",\"#FF97FF\",\"#FECB52\"],\"font\":{\"color\":\"#2a3f5f\"},\"geo\":{\"bgcolor\":\"white\",\"lakecolor\":\"white\",\"landcolor\":\"#E5ECF6\",\"showlakes\":true,\"showland\":true,\"subunitcolor\":\"white\"},\"hoverlabel\":{\"align\":\"left\"},\"hovermode\":\"closest\",\"mapbox\":{\"style\":\"light\"},\"paper_bgcolor\":\"white\",\"plot_bgcolor\":\"#E5ECF6\",\"polar\":{\"angularaxis\":{\"gridcolor\":\"white\",\"linecolor\":\"white\",\"ticks\":\"\"},\"bgcolor\":\"#E5ECF6\",\"radialaxis\":{\"gridcolor\":\"white\",\"linecolor\":\"white\",\"ticks\":\"\"}},\"scene\":{\"xaxis\":{\"backgroundcolor\":\"#E5ECF6\",\"gridcolor\":\"white\",\"gridwidth\":2,\"linecolor\":\"white\",\"showbackground\":true,\"ticks\":\"\",\"zerolinecolor\":\"white\"},\"yaxis\":{\"backgroundcolor\":\"#E5ECF6\",\"gridcolor\":\"white\",\"gridwidth\":2,\"linecolor\":\"white\",\"showbackground\":true,\"ticks\":\"\",\"zerolinecolor\":\"white\"},\"zaxis\":{\"backgroundcolor\":\"#E5ECF6\",\"gridcolor\":\"white\",\"gridwidth\":2,\"linecolor\":\"white\",\"showbackground\":true,\"ticks\":\"\",\"zerolinecolor\":\"white\"}},\"shapedefaults\":{\"line\":{\"color\":\"#2a3f5f\"}},\"ternary\":{\"aaxis\":{\"gridcolor\":\"white\",\"linecolor\":\"white\",\"ticks\":\"\"},\"baxis\":{\"gridcolor\":\"white\",\"linecolor\":\"white\",\"ticks\":\"\"},\"bgcolor\":\"#E5ECF6\",\"caxis\":{\"gridcolor\":\"white\",\"linecolor\":\"white\",\"ticks\":\"\"}},\"title\":{\"x\":0.05},\"xaxis\":{\"automargin\":true,\"gridcolor\":\"white\",\"linecolor\":\"white\",\"ticks\":\"\",\"title\":{\"standoff\":15},\"zerolinecolor\":\"white\",\"zerolinewidth\":2},\"yaxis\":{\"automargin\":true,\"gridcolor\":\"white\",\"linecolor\":\"white\",\"ticks\":\"\",\"title\":{\"standoff\":15},\"zerolinecolor\":\"white\",\"zerolinewidth\":2}}},\"xaxis\":{\"anchor\":\"y\",\"domain\":[0.0,1.0],\"title\":{\"text\":\"Price\"},\"type\":\"log\"},\"yaxis\":{\"anchor\":\"x\",\"domain\":[0.0,1.0],\"title\":{\"text\":\"Install_count\"}},\"legend\":{\"title\":{\"text\":\"Category\"},\"tracegroupgap\":0,\"itemsizing\":\"constant\"},\"margin\":{\"t\":60}},                        {\"responsive\": true}                    ).then(function(){\n",
              "                            \n",
              "var gd = document.getElementById('3803dbe2-a10a-43e3-a820-16811ce34c4f');\n",
              "var x = new MutationObserver(function (mutations, observer) {{\n",
              "        var display = window.getComputedStyle(gd).display;\n",
              "        if (!display || display === 'none') {{\n",
              "            console.log([gd, 'removed!']);\n",
              "            Plotly.purge(gd);\n",
              "            observer.disconnect();\n",
              "        }}\n",
              "}});\n",
              "\n",
              "// Listen for the removal of the full notebook cells\n",
              "var notebookContainer = gd.closest('#notebook-container');\n",
              "if (notebookContainer) {{\n",
              "    x.observe(notebookContainer, {childList: true});\n",
              "}}\n",
              "\n",
              "// Listen for the clearing of the current output cell\n",
              "var outputEl = gd.closest('.output');\n",
              "if (outputEl) {{\n",
              "    x.observe(outputEl, {childList: true});\n",
              "}}\n",
              "\n",
              "                        })                };                            </script>        </div>\n",
              "</body>\n",
              "</html>"
            ]
          },
          "metadata": {}
        }
      ]
    },
    {
      "cell_type": "markdown",
      "source": [
        "##10.App installation and rating by Size. "
      ],
      "metadata": {
        "id": "LYSEqAc44H7L"
      }
    },
    {
      "cell_type": "code",
      "source": [
        "rate_size = data.groupby"
      ],
      "metadata": {
        "id": "j_cfKuHY4KeJ"
      },
      "execution_count": null,
      "outputs": []
    },
    {
      "cell_type": "markdown",
      "source": [
        "##11. "
      ],
      "metadata": {
        "id": "jCGGqOyw4Kwr"
      }
    },
    {
      "cell_type": "code",
      "source": [
        ""
      ],
      "metadata": {
        "id": "ztcqwP-H4Nz9"
      },
      "execution_count": null,
      "outputs": []
    },
    {
      "cell_type": "markdown",
      "source": [
        "##12. "
      ],
      "metadata": {
        "id": "CUh1Q_Gc4OQ_"
      }
    },
    {
      "cell_type": "code",
      "source": [
        ""
      ],
      "metadata": {
        "id": "FhQMIKxv4QJX"
      },
      "execution_count": null,
      "outputs": []
    }
  ]
}